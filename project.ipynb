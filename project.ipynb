{
 "cells": [
  {
   "cell_type": "markdown",
   "metadata": {},
   "source": [
    "## Introduction"
   ]
  },
  {
   "cell_type": "markdown",
   "metadata": {},
   "source": [
    "## Methods and Results"
   ]
  },
  {
   "cell_type": "code",
   "execution_count": 2,
   "metadata": {
    "vscode": {
     "languageId": "r"
    }
   },
   "outputs": [
    {
     "name": "stderr",
     "output_type": "stream",
     "text": [
      "\n",
      "Attaching package: ‘dplyr’\n",
      "\n",
      "\n",
      "The following object is masked from ‘package:gridExtra’:\n",
      "\n",
      "    combine\n",
      "\n",
      "\n",
      "The following objects are masked from ‘package:stats’:\n",
      "\n",
      "    filter, lag\n",
      "\n",
      "\n",
      "The following objects are masked from ‘package:base’:\n",
      "\n",
      "    intersect, setdiff, setequal, union\n",
      "\n",
      "\n",
      "Loading required package: Matrix\n",
      "\n",
      "Loaded glmnet 4.1-8\n",
      "\n",
      "\n",
      "Attaching package: ‘modelr’\n",
      "\n",
      "\n",
      "The following objects are masked from ‘package:mltools’:\n",
      "\n",
      "    mse, rmse\n",
      "\n",
      "\n",
      "The following object is masked from ‘package:broom’:\n",
      "\n",
      "    bootstrap\n",
      "\n",
      "\n",
      "── \u001b[1mAttaching core tidyverse packages\u001b[22m ──────────────────────── tidyverse 2.0.0 ──\n",
      "\u001b[32m✔\u001b[39m \u001b[34mforcats  \u001b[39m 1.0.0     \u001b[32m✔\u001b[39m \u001b[34mreadr    \u001b[39m 2.1.5\n",
      "\u001b[32m✔\u001b[39m \u001b[34mggplot2  \u001b[39m 3.5.1     \u001b[32m✔\u001b[39m \u001b[34mstringr  \u001b[39m 1.5.1\n",
      "\u001b[32m✔\u001b[39m \u001b[34mlubridate\u001b[39m 1.9.3     \u001b[32m✔\u001b[39m \u001b[34mtibble   \u001b[39m 3.2.1\n",
      "\u001b[32m✔\u001b[39m \u001b[34mpurrr    \u001b[39m 1.0.2     \u001b[32m✔\u001b[39m \u001b[34mtidyr    \u001b[39m 1.3.1\n",
      "── \u001b[1mConflicts\u001b[22m ────────────────────────────────────────── tidyverse_conflicts() ──\n",
      "\u001b[31m✖\u001b[39m \u001b[34mmodelr\u001b[39m::\u001b[32mbootstrap()\u001b[39m masks \u001b[34mbroom\u001b[39m::bootstrap()\n",
      "\u001b[31m✖\u001b[39m \u001b[34mdplyr\u001b[39m::\u001b[32mcombine()\u001b[39m    masks \u001b[34mgridExtra\u001b[39m::combine()\n",
      "\u001b[31m✖\u001b[39m \u001b[34mtidyr\u001b[39m::\u001b[32mexpand()\u001b[39m     masks \u001b[34mMatrix\u001b[39m::expand()\n",
      "\u001b[31m✖\u001b[39m \u001b[34mdplyr\u001b[39m::\u001b[32mfilter()\u001b[39m     masks \u001b[34mstats\u001b[39m::filter()\n",
      "\u001b[31m✖\u001b[39m \u001b[34mdplyr\u001b[39m::\u001b[32mlag()\u001b[39m        masks \u001b[34mstats\u001b[39m::lag()\n",
      "\u001b[31m✖\u001b[39m \u001b[34mmodelr\u001b[39m::\u001b[32mmse()\u001b[39m       masks \u001b[34mmltools\u001b[39m::mse()\n",
      "\u001b[31m✖\u001b[39m \u001b[34mtidyr\u001b[39m::\u001b[32mpack()\u001b[39m       masks \u001b[34mMatrix\u001b[39m::pack()\n",
      "\u001b[31m✖\u001b[39m \u001b[34mtidyr\u001b[39m::\u001b[32mreplace_na()\u001b[39m masks \u001b[34mmltools\u001b[39m::replace_na()\n",
      "\u001b[31m✖\u001b[39m \u001b[34mmodelr\u001b[39m::\u001b[32mrmse()\u001b[39m      masks \u001b[34mmltools\u001b[39m::rmse()\n",
      "\u001b[31m✖\u001b[39m \u001b[34mlubridate\u001b[39m::\u001b[32mstamp()\u001b[39m  masks \u001b[34mcowplot\u001b[39m::stamp()\n",
      "\u001b[31m✖\u001b[39m \u001b[34mtidyr\u001b[39m::\u001b[32munpack()\u001b[39m     masks \u001b[34mMatrix\u001b[39m::unpack()\n",
      "\u001b[36mℹ\u001b[39m Use the conflicted package (\u001b[3m\u001b[34m<http://conflicted.r-lib.org/>\u001b[39m\u001b[23m) to force all conflicts to become errors\n",
      "Loading required package: lattice\n",
      "\n",
      "\n",
      "Attaching package: ‘lattice’\n",
      "\n",
      "\n",
      "The following object is masked from ‘package:faraway’:\n",
      "\n",
      "    melanoma\n",
      "\n",
      "\n",
      "\n",
      "Attaching package: ‘caret’\n",
      "\n",
      "\n",
      "The following object is masked from ‘package:purrr’:\n",
      "\n",
      "    lift\n",
      "\n",
      "\n",
      "\n",
      "Attaching package: ‘yardstick’\n",
      "\n",
      "\n",
      "The following objects are masked from ‘package:caret’:\n",
      "\n",
      "    precision, recall, sensitivity, specificity\n",
      "\n",
      "\n",
      "The following object is masked from ‘package:readr’:\n",
      "\n",
      "    spec\n",
      "\n",
      "\n",
      "The following objects are masked from ‘package:modelr’:\n",
      "\n",
      "    mae, mape, rmse\n",
      "\n",
      "\n",
      "The following objects are masked from ‘package:mltools’:\n",
      "\n",
      "    mcc, rmse\n",
      "\n",
      "\n",
      "\u001b[1m\u001b[22mNew names:\n",
      "\u001b[36m•\u001b[39m `` -> `...1`\n",
      "\u001b[1mRows: \u001b[22m\u001b[34m607\u001b[39m \u001b[1mColumns: \u001b[22m\u001b[34m12\u001b[39m\n",
      "\u001b[36m──\u001b[39m \u001b[1mColumn specification\u001b[22m \u001b[36m────────────────────────────────────────────────────────\u001b[39m\n",
      "\u001b[1mDelimiter:\u001b[22m \",\"\n",
      "\u001b[31mchr\u001b[39m (7): experience_level, employment_type, job_title, salary_currency, empl...\n",
      "\u001b[32mdbl\u001b[39m (5): ...1, work_year, salary, salary_in_usd, remote_ratio\n",
      "\n",
      "\u001b[36mℹ\u001b[39m Use `spec()` to retrieve the full column specification for this data.\n",
      "\u001b[36mℹ\u001b[39m Specify the column types or set `show_col_types = FALSE` to quiet this message.\n"
     ]
    }
   ],
   "source": [
    "library(broom)\n",
    "library(repr)\n",
    "library(infer)\n",
    "library(gridExtra)\n",
    "library(faraway)\n",
    "library(mltools)\n",
    "library(leaps)\n",
    "library(dplyr)\n",
    "library(glmnet)\n",
    "library(cowplot)\n",
    "library(modelr)\n",
    "library(tidyverse)\n",
    "library(rsample)\n",
    "library(caret)\n",
    "library(yardstick)\n",
    "\n",
    "salaries <- read_csv(\"data/ds_salaries.csv\")"
   ]
  },
  {
   "cell_type": "markdown",
   "metadata": {
    "vscode": {
     "languageId": "plaintext"
    }
   },
   "source": [
    "### EDA"
   ]
  },
  {
   "cell_type": "markdown",
   "metadata": {},
   "source": [
    "### Methods\n"
   ]
  },
  {
   "cell_type": "code",
   "execution_count": 3,
   "metadata": {
    "vscode": {
     "languageId": "r"
    }
   },
   "outputs": [],
   "source": [
    "# remove unnecessary variables\n",
    "preprocessed_salaries <- salaries |>\n",
    "  select(-c(\"...1\", salary_currency, work_year, salary, employee_residence))"
   ]
  },
  {
   "cell_type": "code",
   "execution_count": 4,
   "metadata": {
    "vscode": {
     "languageId": "r"
    }
   },
   "outputs": [],
   "source": [
    "# feature engineering on company_location, job_title\n",
    "no_am <- c(\"CA\", \"US\", \"MX\", \"HN\")\n",
    "so_am <- c(\"CL\", \"CO\", \"BR\")\n",
    "eur <- c(\"SI\", \"PL\", \"NL\", \"MT\", \"MO\", \"LU\", \"MD\", \"IT\", \"UA\", \n",
    "         \"IE\", \"HU\", \"HR\", \"GR\", \"GB\", \"FR\", \"ES\", \"EE\", \"DK\", \"DE\", \"AT\", \"BE\", \"CH\", \"CZ\", \"RO\", \"PT\")\n",
    "asia <- c(\"MY\", \"VN\", \"SG\", \"RU\", \"JP\", \"CN\", \"IN\", \"PK\", \"IL\", \"IQ\", \"IR\", \"TR\", \"AE\")\n",
    "afr <- c(\"KE\", \"DZ\", \"NG\")\n",
    "oce <- c(\"NZ\", \"AU\", \"AS\")"
   ]
  },
  {
   "cell_type": "code",
   "execution_count": 5,
   "metadata": {
    "vscode": {
     "languageId": "r"
    }
   },
   "outputs": [
    {
     "data": {
      "text/html": [
       "<table class=\"dataframe\">\n",
       "<caption>A tibble: 1 × 8</caption>\n",
       "<thead>\n",
       "\t<tr><th scope=col>experience_level</th><th scope=col>employment_type</th><th scope=col>job_title</th><th scope=col>salary_in_usd</th><th scope=col>remote_ratio</th><th scope=col>company_location</th><th scope=col>company_size</th><th scope=col>cont</th></tr>\n",
       "\t<tr><th scope=col>&lt;chr&gt;</th><th scope=col>&lt;chr&gt;</th><th scope=col>&lt;chr&gt;</th><th scope=col>&lt;dbl&gt;</th><th scope=col>&lt;dbl&gt;</th><th scope=col>&lt;chr&gt;</th><th scope=col>&lt;chr&gt;</th><th scope=col>&lt;chr&gt;</th></tr>\n",
       "</thead>\n",
       "<tbody>\n",
       "\t<tr><td>MI</td><td>FT</td><td>Data Scientist</td><td>79833</td><td>0</td><td>DE</td><td>L</td><td></td></tr>\n",
       "</tbody>\n",
       "</table>\n"
      ],
      "text/latex": [
       "A tibble: 1 × 8\n",
       "\\begin{tabular}{llllllll}\n",
       " experience\\_level & employment\\_type & job\\_title & salary\\_in\\_usd & remote\\_ratio & company\\_location & company\\_size & cont\\\\\n",
       " <chr> & <chr> & <chr> & <dbl> & <dbl> & <chr> & <chr> & <chr>\\\\\n",
       "\\hline\n",
       "\t MI & FT & Data Scientist & 79833 & 0 & DE & L & \\\\\n",
       "\\end{tabular}\n"
      ],
      "text/markdown": [
       "\n",
       "A tibble: 1 × 8\n",
       "\n",
       "| experience_level &lt;chr&gt; | employment_type &lt;chr&gt; | job_title &lt;chr&gt; | salary_in_usd &lt;dbl&gt; | remote_ratio &lt;dbl&gt; | company_location &lt;chr&gt; | company_size &lt;chr&gt; | cont &lt;chr&gt; |\n",
       "|---|---|---|---|---|---|---|---|\n",
       "| MI | FT | Data Scientist | 79833 | 0 | DE | L | <!----> |\n",
       "\n"
      ],
      "text/plain": [
       "  experience_level employment_type job_title      salary_in_usd remote_ratio\n",
       "1 MI               FT              Data Scientist 79833         0           \n",
       "  company_location company_size cont\n",
       "1 DE               L                "
      ]
     },
     "metadata": {},
     "output_type": "display_data"
    }
   ],
   "source": [
    "# cont is the company location in terms of continent\n",
    "preprocessed_salaries <- preprocessed_salaries %>%\n",
    "    mutate(cont = \"\")\n",
    "\n",
    "preprocessed_salaries[1, ]"
   ]
  },
  {
   "cell_type": "code",
   "execution_count": 6,
   "metadata": {
    "vscode": {
     "languageId": "r"
    }
   },
   "outputs": [
    {
     "data": {
      "text/html": [
       "<table class=\"dataframe\">\n",
       "<caption>A tibble: 10 × 2</caption>\n",
       "<thead>\n",
       "\t<tr><th scope=col>company_location</th><th scope=col>cont</th></tr>\n",
       "\t<tr><th scope=col>&lt;chr&gt;</th><th scope=col>&lt;chr&gt;</th></tr>\n",
       "</thead>\n",
       "<tbody>\n",
       "\t<tr><td>DE</td><td>eur  </td></tr>\n",
       "\t<tr><td>JP</td><td>asia </td></tr>\n",
       "\t<tr><td>GB</td><td>eur  </td></tr>\n",
       "\t<tr><td>HN</td><td>no_am</td></tr>\n",
       "\t<tr><td>US</td><td>no_am</td></tr>\n",
       "\t<tr><td>US</td><td>no_am</td></tr>\n",
       "\t<tr><td>US</td><td>no_am</td></tr>\n",
       "\t<tr><td>HU</td><td>eur  </td></tr>\n",
       "\t<tr><td>US</td><td>no_am</td></tr>\n",
       "\t<tr><td>NZ</td><td>oce  </td></tr>\n",
       "</tbody>\n",
       "</table>\n"
      ],
      "text/latex": [
       "A tibble: 10 × 2\n",
       "\\begin{tabular}{ll}\n",
       " company\\_location & cont\\\\\n",
       " <chr> & <chr>\\\\\n",
       "\\hline\n",
       "\t DE & eur  \\\\\n",
       "\t JP & asia \\\\\n",
       "\t GB & eur  \\\\\n",
       "\t HN & no\\_am\\\\\n",
       "\t US & no\\_am\\\\\n",
       "\t US & no\\_am\\\\\n",
       "\t US & no\\_am\\\\\n",
       "\t HU & eur  \\\\\n",
       "\t US & no\\_am\\\\\n",
       "\t NZ & oce  \\\\\n",
       "\\end{tabular}\n"
      ],
      "text/markdown": [
       "\n",
       "A tibble: 10 × 2\n",
       "\n",
       "| company_location &lt;chr&gt; | cont &lt;chr&gt; |\n",
       "|---|---|\n",
       "| DE | eur   |\n",
       "| JP | asia  |\n",
       "| GB | eur   |\n",
       "| HN | no_am |\n",
       "| US | no_am |\n",
       "| US | no_am |\n",
       "| US | no_am |\n",
       "| HU | eur   |\n",
       "| US | no_am |\n",
       "| NZ | oce   |\n",
       "\n"
      ],
      "text/plain": [
       "   company_location cont \n",
       "1  DE               eur  \n",
       "2  JP               asia \n",
       "3  GB               eur  \n",
       "4  HN               no_am\n",
       "5  US               no_am\n",
       "6  US               no_am\n",
       "7  US               no_am\n",
       "8  HU               eur  \n",
       "9  US               no_am\n",
       "10 NZ               oce  "
      ]
     },
     "metadata": {},
     "output_type": "display_data"
    }
   ],
   "source": [
    "for(i in 1:607){\n",
    "    if(preprocessed_salaries[i, ]$company_location %in% no_am){\n",
    "        preprocessed_salaries[i, ]$cont = \"no_am\"\n",
    "    } else if(preprocessed_salaries[i, ]$company_location %in% so_am) {\n",
    "        preprocessed_salaries[i, ]$cont = \"so_am\"\n",
    "    } else if(preprocessed_salaries[i, ]$company_location %in% eur){\n",
    "        preprocessed_salaries[i, ]$cont = \"eur\"\n",
    "    } else if(preprocessed_salaries[i, ]$company_location %in% asia){\n",
    "        preprocessed_salaries[i, ]$cont = \"asia\"\n",
    "    } else if(preprocessed_salaries[i, ]$company_location %in% afr){\n",
    "        preprocessed_salaries[i, ]$cont = \"afr\"\n",
    "    } else if(preprocessed_salaries[i, ]$company_location %in% oce) {\n",
    "        preprocessed_salaries[i, ]$cont = \"oce\"\n",
    "    }\n",
    "}\n",
    "\n",
    "head(select(preprocessed_salaries, company_location, cont), 10)"
   ]
  },
  {
   "cell_type": "code",
   "execution_count": 7,
   "metadata": {
    "vscode": {
     "languageId": "r"
    }
   },
   "outputs": [
    {
     "data": {
      "text/html": [
       "<table class=\"dataframe\">\n",
       "<caption>A tibble: 50 × 2</caption>\n",
       "<thead>\n",
       "\t<tr><th scope=col>job_title</th><th scope=col>counts</th></tr>\n",
       "\t<tr><th scope=col>&lt;chr&gt;</th><th scope=col>&lt;int&gt;</th></tr>\n",
       "</thead>\n",
       "<tbody>\n",
       "\t<tr><td>3D Computer Vision Researcher           </td><td>  1</td></tr>\n",
       "\t<tr><td>AI Scientist                            </td><td>  7</td></tr>\n",
       "\t<tr><td>Analytics Engineer                      </td><td>  4</td></tr>\n",
       "\t<tr><td>Applied Data Scientist                  </td><td>  5</td></tr>\n",
       "\t<tr><td>Applied Machine Learning Scientist      </td><td>  4</td></tr>\n",
       "\t<tr><td>BI Data Analyst                         </td><td>  6</td></tr>\n",
       "\t<tr><td>Big Data Architect                      </td><td>  1</td></tr>\n",
       "\t<tr><td>Big Data Engineer                       </td><td>  8</td></tr>\n",
       "\t<tr><td>Business Data Analyst                   </td><td>  5</td></tr>\n",
       "\t<tr><td>Cloud Data Engineer                     </td><td>  2</td></tr>\n",
       "\t<tr><td>Computer Vision Engineer                </td><td>  6</td></tr>\n",
       "\t<tr><td>Computer Vision Software Engineer       </td><td>  3</td></tr>\n",
       "\t<tr><td>Data Analyst                            </td><td> 97</td></tr>\n",
       "\t<tr><td>Data Analytics Engineer                 </td><td>  4</td></tr>\n",
       "\t<tr><td>Data Analytics Lead                     </td><td>  1</td></tr>\n",
       "\t<tr><td>Data Analytics Manager                  </td><td>  7</td></tr>\n",
       "\t<tr><td>Data Architect                          </td><td> 11</td></tr>\n",
       "\t<tr><td>Data Engineer                           </td><td>132</td></tr>\n",
       "\t<tr><td>Data Engineering Manager                </td><td>  5</td></tr>\n",
       "\t<tr><td>Data Science Consultant                 </td><td>  7</td></tr>\n",
       "\t<tr><td>Data Science Engineer                   </td><td>  3</td></tr>\n",
       "\t<tr><td>Data Science Manager                    </td><td> 12</td></tr>\n",
       "\t<tr><td>Data Scientist                          </td><td>143</td></tr>\n",
       "\t<tr><td>Data Specialist                         </td><td>  1</td></tr>\n",
       "\t<tr><td>Director of Data Engineering            </td><td>  2</td></tr>\n",
       "\t<tr><td>Director of Data Science                </td><td>  7</td></tr>\n",
       "\t<tr><td>ETL Developer                           </td><td>  2</td></tr>\n",
       "\t<tr><td>Finance Data Analyst                    </td><td>  1</td></tr>\n",
       "\t<tr><td>Financial Data Analyst                  </td><td>  2</td></tr>\n",
       "\t<tr><td>Head of Data                            </td><td>  5</td></tr>\n",
       "\t<tr><td>Head of Data Science                    </td><td>  4</td></tr>\n",
       "\t<tr><td>Head of Machine Learning                </td><td>  1</td></tr>\n",
       "\t<tr><td>Lead Data Analyst                       </td><td>  3</td></tr>\n",
       "\t<tr><td>Lead Data Engineer                      </td><td>  6</td></tr>\n",
       "\t<tr><td>Lead Data Scientist                     </td><td>  3</td></tr>\n",
       "\t<tr><td>Lead Machine Learning Engineer          </td><td>  1</td></tr>\n",
       "\t<tr><td>ML Engineer                             </td><td>  6</td></tr>\n",
       "\t<tr><td>Machine Learning Developer              </td><td>  3</td></tr>\n",
       "\t<tr><td>Machine Learning Engineer               </td><td> 41</td></tr>\n",
       "\t<tr><td>Machine Learning Infrastructure Engineer</td><td>  3</td></tr>\n",
       "\t<tr><td>Machine Learning Manager                </td><td>  1</td></tr>\n",
       "\t<tr><td>Machine Learning Scientist              </td><td>  8</td></tr>\n",
       "\t<tr><td>Marketing Data Analyst                  </td><td>  1</td></tr>\n",
       "\t<tr><td>NLP Engineer                            </td><td>  1</td></tr>\n",
       "\t<tr><td>Principal Data Analyst                  </td><td>  2</td></tr>\n",
       "\t<tr><td>Principal Data Engineer                 </td><td>  3</td></tr>\n",
       "\t<tr><td>Principal Data Scientist                </td><td>  7</td></tr>\n",
       "\t<tr><td>Product Data Analyst                    </td><td>  2</td></tr>\n",
       "\t<tr><td>Research Scientist                      </td><td> 16</td></tr>\n",
       "\t<tr><td>Staff Data Scientist                    </td><td>  1</td></tr>\n",
       "</tbody>\n",
       "</table>\n"
      ],
      "text/latex": [
       "A tibble: 50 × 2\n",
       "\\begin{tabular}{ll}\n",
       " job\\_title & counts\\\\\n",
       " <chr> & <int>\\\\\n",
       "\\hline\n",
       "\t 3D Computer Vision Researcher            &   1\\\\\n",
       "\t AI Scientist                             &   7\\\\\n",
       "\t Analytics Engineer                       &   4\\\\\n",
       "\t Applied Data Scientist                   &   5\\\\\n",
       "\t Applied Machine Learning Scientist       &   4\\\\\n",
       "\t BI Data Analyst                          &   6\\\\\n",
       "\t Big Data Architect                       &   1\\\\\n",
       "\t Big Data Engineer                        &   8\\\\\n",
       "\t Business Data Analyst                    &   5\\\\\n",
       "\t Cloud Data Engineer                      &   2\\\\\n",
       "\t Computer Vision Engineer                 &   6\\\\\n",
       "\t Computer Vision Software Engineer        &   3\\\\\n",
       "\t Data Analyst                             &  97\\\\\n",
       "\t Data Analytics Engineer                  &   4\\\\\n",
       "\t Data Analytics Lead                      &   1\\\\\n",
       "\t Data Analytics Manager                   &   7\\\\\n",
       "\t Data Architect                           &  11\\\\\n",
       "\t Data Engineer                            & 132\\\\\n",
       "\t Data Engineering Manager                 &   5\\\\\n",
       "\t Data Science Consultant                  &   7\\\\\n",
       "\t Data Science Engineer                    &   3\\\\\n",
       "\t Data Science Manager                     &  12\\\\\n",
       "\t Data Scientist                           & 143\\\\\n",
       "\t Data Specialist                          &   1\\\\\n",
       "\t Director of Data Engineering             &   2\\\\\n",
       "\t Director of Data Science                 &   7\\\\\n",
       "\t ETL Developer                            &   2\\\\\n",
       "\t Finance Data Analyst                     &   1\\\\\n",
       "\t Financial Data Analyst                   &   2\\\\\n",
       "\t Head of Data                             &   5\\\\\n",
       "\t Head of Data Science                     &   4\\\\\n",
       "\t Head of Machine Learning                 &   1\\\\\n",
       "\t Lead Data Analyst                        &   3\\\\\n",
       "\t Lead Data Engineer                       &   6\\\\\n",
       "\t Lead Data Scientist                      &   3\\\\\n",
       "\t Lead Machine Learning Engineer           &   1\\\\\n",
       "\t ML Engineer                              &   6\\\\\n",
       "\t Machine Learning Developer               &   3\\\\\n",
       "\t Machine Learning Engineer                &  41\\\\\n",
       "\t Machine Learning Infrastructure Engineer &   3\\\\\n",
       "\t Machine Learning Manager                 &   1\\\\\n",
       "\t Machine Learning Scientist               &   8\\\\\n",
       "\t Marketing Data Analyst                   &   1\\\\\n",
       "\t NLP Engineer                             &   1\\\\\n",
       "\t Principal Data Analyst                   &   2\\\\\n",
       "\t Principal Data Engineer                  &   3\\\\\n",
       "\t Principal Data Scientist                 &   7\\\\\n",
       "\t Product Data Analyst                     &   2\\\\\n",
       "\t Research Scientist                       &  16\\\\\n",
       "\t Staff Data Scientist                     &   1\\\\\n",
       "\\end{tabular}\n"
      ],
      "text/markdown": [
       "\n",
       "A tibble: 50 × 2\n",
       "\n",
       "| job_title &lt;chr&gt; | counts &lt;int&gt; |\n",
       "|---|---|\n",
       "| 3D Computer Vision Researcher            |   1 |\n",
       "| AI Scientist                             |   7 |\n",
       "| Analytics Engineer                       |   4 |\n",
       "| Applied Data Scientist                   |   5 |\n",
       "| Applied Machine Learning Scientist       |   4 |\n",
       "| BI Data Analyst                          |   6 |\n",
       "| Big Data Architect                       |   1 |\n",
       "| Big Data Engineer                        |   8 |\n",
       "| Business Data Analyst                    |   5 |\n",
       "| Cloud Data Engineer                      |   2 |\n",
       "| Computer Vision Engineer                 |   6 |\n",
       "| Computer Vision Software Engineer        |   3 |\n",
       "| Data Analyst                             |  97 |\n",
       "| Data Analytics Engineer                  |   4 |\n",
       "| Data Analytics Lead                      |   1 |\n",
       "| Data Analytics Manager                   |   7 |\n",
       "| Data Architect                           |  11 |\n",
       "| Data Engineer                            | 132 |\n",
       "| Data Engineering Manager                 |   5 |\n",
       "| Data Science Consultant                  |   7 |\n",
       "| Data Science Engineer                    |   3 |\n",
       "| Data Science Manager                     |  12 |\n",
       "| Data Scientist                           | 143 |\n",
       "| Data Specialist                          |   1 |\n",
       "| Director of Data Engineering             |   2 |\n",
       "| Director of Data Science                 |   7 |\n",
       "| ETL Developer                            |   2 |\n",
       "| Finance Data Analyst                     |   1 |\n",
       "| Financial Data Analyst                   |   2 |\n",
       "| Head of Data                             |   5 |\n",
       "| Head of Data Science                     |   4 |\n",
       "| Head of Machine Learning                 |   1 |\n",
       "| Lead Data Analyst                        |   3 |\n",
       "| Lead Data Engineer                       |   6 |\n",
       "| Lead Data Scientist                      |   3 |\n",
       "| Lead Machine Learning Engineer           |   1 |\n",
       "| ML Engineer                              |   6 |\n",
       "| Machine Learning Developer               |   3 |\n",
       "| Machine Learning Engineer                |  41 |\n",
       "| Machine Learning Infrastructure Engineer |   3 |\n",
       "| Machine Learning Manager                 |   1 |\n",
       "| Machine Learning Scientist               |   8 |\n",
       "| Marketing Data Analyst                   |   1 |\n",
       "| NLP Engineer                             |   1 |\n",
       "| Principal Data Analyst                   |   2 |\n",
       "| Principal Data Engineer                  |   3 |\n",
       "| Principal Data Scientist                 |   7 |\n",
       "| Product Data Analyst                     |   2 |\n",
       "| Research Scientist                       |  16 |\n",
       "| Staff Data Scientist                     |   1 |\n",
       "\n"
      ],
      "text/plain": [
       "   job_title                                counts\n",
       "1  3D Computer Vision Researcher              1   \n",
       "2  AI Scientist                               7   \n",
       "3  Analytics Engineer                         4   \n",
       "4  Applied Data Scientist                     5   \n",
       "5  Applied Machine Learning Scientist         4   \n",
       "6  BI Data Analyst                            6   \n",
       "7  Big Data Architect                         1   \n",
       "8  Big Data Engineer                          8   \n",
       "9  Business Data Analyst                      5   \n",
       "10 Cloud Data Engineer                        2   \n",
       "11 Computer Vision Engineer                   6   \n",
       "12 Computer Vision Software Engineer          3   \n",
       "13 Data Analyst                              97   \n",
       "14 Data Analytics Engineer                    4   \n",
       "15 Data Analytics Lead                        1   \n",
       "16 Data Analytics Manager                     7   \n",
       "17 Data Architect                            11   \n",
       "18 Data Engineer                            132   \n",
       "19 Data Engineering Manager                   5   \n",
       "20 Data Science Consultant                    7   \n",
       "21 Data Science Engineer                      3   \n",
       "22 Data Science Manager                      12   \n",
       "23 Data Scientist                           143   \n",
       "24 Data Specialist                            1   \n",
       "25 Director of Data Engineering               2   \n",
       "26 Director of Data Science                   7   \n",
       "27 ETL Developer                              2   \n",
       "28 Finance Data Analyst                       1   \n",
       "29 Financial Data Analyst                     2   \n",
       "30 Head of Data                               5   \n",
       "31 Head of Data Science                       4   \n",
       "32 Head of Machine Learning                   1   \n",
       "33 Lead Data Analyst                          3   \n",
       "34 Lead Data Engineer                         6   \n",
       "35 Lead Data Scientist                        3   \n",
       "36 Lead Machine Learning Engineer             1   \n",
       "37 ML Engineer                                6   \n",
       "38 Machine Learning Developer                 3   \n",
       "39 Machine Learning Engineer                 41   \n",
       "40 Machine Learning Infrastructure Engineer   3   \n",
       "41 Machine Learning Manager                   1   \n",
       "42 Machine Learning Scientist                 8   \n",
       "43 Marketing Data Analyst                     1   \n",
       "44 NLP Engineer                               1   \n",
       "45 Principal Data Analyst                     2   \n",
       "46 Principal Data Engineer                    3   \n",
       "47 Principal Data Scientist                   7   \n",
       "48 Product Data Analyst                       2   \n",
       "49 Research Scientist                        16   \n",
       "50 Staff Data Scientist                       1   "
      ]
     },
     "metadata": {},
     "output_type": "display_data"
    }
   ],
   "source": [
    "counts <- preprocessed_salaries %>%\n",
    "    group_by(job_title) %>%\n",
    "    summarize(counts = n())\n",
    "\n",
    "counts"
   ]
  },
  {
   "cell_type": "code",
   "execution_count": 8,
   "metadata": {
    "vscode": {
     "languageId": "r"
    }
   },
   "outputs": [
    {
     "data": {
      "text/html": [
       "<table class=\"dataframe\">\n",
       "<caption>A tibble: 1 × 9</caption>\n",
       "<thead>\n",
       "\t<tr><th scope=col>experience_level</th><th scope=col>employment_type</th><th scope=col>job_title</th><th scope=col>salary_in_usd</th><th scope=col>remote_ratio</th><th scope=col>company_location</th><th scope=col>company_size</th><th scope=col>cont</th><th scope=col>field</th></tr>\n",
       "\t<tr><th scope=col>&lt;chr&gt;</th><th scope=col>&lt;chr&gt;</th><th scope=col>&lt;chr&gt;</th><th scope=col>&lt;dbl&gt;</th><th scope=col>&lt;dbl&gt;</th><th scope=col>&lt;chr&gt;</th><th scope=col>&lt;chr&gt;</th><th scope=col>&lt;chr&gt;</th><th scope=col>&lt;chr&gt;</th></tr>\n",
       "</thead>\n",
       "<tbody>\n",
       "\t<tr><td>MI</td><td>FT</td><td>Data Scientist</td><td>79833</td><td>0</td><td>DE</td><td>L</td><td>eur</td><td></td></tr>\n",
       "</tbody>\n",
       "</table>\n"
      ],
      "text/latex": [
       "A tibble: 1 × 9\n",
       "\\begin{tabular}{lllllllll}\n",
       " experience\\_level & employment\\_type & job\\_title & salary\\_in\\_usd & remote\\_ratio & company\\_location & company\\_size & cont & field\\\\\n",
       " <chr> & <chr> & <chr> & <dbl> & <dbl> & <chr> & <chr> & <chr> & <chr>\\\\\n",
       "\\hline\n",
       "\t MI & FT & Data Scientist & 79833 & 0 & DE & L & eur & \\\\\n",
       "\\end{tabular}\n"
      ],
      "text/markdown": [
       "\n",
       "A tibble: 1 × 9\n",
       "\n",
       "| experience_level &lt;chr&gt; | employment_type &lt;chr&gt; | job_title &lt;chr&gt; | salary_in_usd &lt;dbl&gt; | remote_ratio &lt;dbl&gt; | company_location &lt;chr&gt; | company_size &lt;chr&gt; | cont &lt;chr&gt; | field &lt;chr&gt; |\n",
       "|---|---|---|---|---|---|---|---|---|\n",
       "| MI | FT | Data Scientist | 79833 | 0 | DE | L | eur | <!----> |\n",
       "\n"
      ],
      "text/plain": [
       "  experience_level employment_type job_title      salary_in_usd remote_ratio\n",
       "1 MI               FT              Data Scientist 79833         0           \n",
       "  company_location company_size cont field\n",
       "1 DE               L            eur       "
      ]
     },
     "metadata": {},
     "output_type": "display_data"
    }
   ],
   "source": [
    "# field will contain the job_title groupings\n",
    "preprocessed_salaries <- preprocessed_salaries %>%\n",
    "    mutate(field = \"\")\n",
    "\n",
    "preprocessed_salaries[1, ]"
   ]
  },
  {
   "cell_type": "code",
   "execution_count": 9,
   "metadata": {
    "vscode": {
     "languageId": "r"
    }
   },
   "outputs": [
    {
     "data": {
      "text/html": [
       "<table class=\"dataframe\">\n",
       "<caption>A tibble: 20 × 2</caption>\n",
       "<thead>\n",
       "\t<tr><th scope=col>job_title</th><th scope=col>field</th></tr>\n",
       "\t<tr><th scope=col>&lt;chr&gt;</th><th scope=col>&lt;chr&gt;</th></tr>\n",
       "</thead>\n",
       "<tbody>\n",
       "\t<tr><td>Data Scientist            </td><td>Data Science    </td></tr>\n",
       "\t<tr><td>Machine Learning Scientist</td><td>Machine Learning</td></tr>\n",
       "\t<tr><td>Big Data Engineer         </td><td>Data Engineering</td></tr>\n",
       "\t<tr><td>Product Data Analyst      </td><td>Data Analysis   </td></tr>\n",
       "\t<tr><td>Machine Learning Engineer </td><td>Machine Learning</td></tr>\n",
       "\t<tr><td>Data Analyst              </td><td>Data Analysis   </td></tr>\n",
       "\t<tr><td>Lead Data Scientist       </td><td>Data Science    </td></tr>\n",
       "\t<tr><td>Data Scientist            </td><td>Data Science    </td></tr>\n",
       "\t<tr><td>Business Data Analyst     </td><td>Data Analysis   </td></tr>\n",
       "\t<tr><td>Lead Data Engineer        </td><td>Data Engineering</td></tr>\n",
       "\t<tr><td>Data Scientist            </td><td>Data Science    </td></tr>\n",
       "\t<tr><td>Data Scientist            </td><td>Data Science    </td></tr>\n",
       "\t<tr><td>Data Scientist            </td><td>Data Science    </td></tr>\n",
       "\t<tr><td>Lead Data Analyst         </td><td>Data Analysis   </td></tr>\n",
       "\t<tr><td>Data Analyst              </td><td>Data Analysis   </td></tr>\n",
       "\t<tr><td>Data Analyst              </td><td>Data Analysis   </td></tr>\n",
       "\t<tr><td>Data Engineer             </td><td>Data Engineering</td></tr>\n",
       "\t<tr><td>Big Data Engineer         </td><td>Data Engineering</td></tr>\n",
       "\t<tr><td>Data Science Consultant   </td><td>Data Science    </td></tr>\n",
       "\t<tr><td>Lead Data Engineer        </td><td>Data Engineering</td></tr>\n",
       "</tbody>\n",
       "</table>\n"
      ],
      "text/latex": [
       "A tibble: 20 × 2\n",
       "\\begin{tabular}{ll}\n",
       " job\\_title & field\\\\\n",
       " <chr> & <chr>\\\\\n",
       "\\hline\n",
       "\t Data Scientist             & Data Science    \\\\\n",
       "\t Machine Learning Scientist & Machine Learning\\\\\n",
       "\t Big Data Engineer          & Data Engineering\\\\\n",
       "\t Product Data Analyst       & Data Analysis   \\\\\n",
       "\t Machine Learning Engineer  & Machine Learning\\\\\n",
       "\t Data Analyst               & Data Analysis   \\\\\n",
       "\t Lead Data Scientist        & Data Science    \\\\\n",
       "\t Data Scientist             & Data Science    \\\\\n",
       "\t Business Data Analyst      & Data Analysis   \\\\\n",
       "\t Lead Data Engineer         & Data Engineering\\\\\n",
       "\t Data Scientist             & Data Science    \\\\\n",
       "\t Data Scientist             & Data Science    \\\\\n",
       "\t Data Scientist             & Data Science    \\\\\n",
       "\t Lead Data Analyst          & Data Analysis   \\\\\n",
       "\t Data Analyst               & Data Analysis   \\\\\n",
       "\t Data Analyst               & Data Analysis   \\\\\n",
       "\t Data Engineer              & Data Engineering\\\\\n",
       "\t Big Data Engineer          & Data Engineering\\\\\n",
       "\t Data Science Consultant    & Data Science    \\\\\n",
       "\t Lead Data Engineer         & Data Engineering\\\\\n",
       "\\end{tabular}\n"
      ],
      "text/markdown": [
       "\n",
       "A tibble: 20 × 2\n",
       "\n",
       "| job_title &lt;chr&gt; | field &lt;chr&gt; |\n",
       "|---|---|\n",
       "| Data Scientist             | Data Science     |\n",
       "| Machine Learning Scientist | Machine Learning |\n",
       "| Big Data Engineer          | Data Engineering |\n",
       "| Product Data Analyst       | Data Analysis    |\n",
       "| Machine Learning Engineer  | Machine Learning |\n",
       "| Data Analyst               | Data Analysis    |\n",
       "| Lead Data Scientist        | Data Science     |\n",
       "| Data Scientist             | Data Science     |\n",
       "| Business Data Analyst      | Data Analysis    |\n",
       "| Lead Data Engineer         | Data Engineering |\n",
       "| Data Scientist             | Data Science     |\n",
       "| Data Scientist             | Data Science     |\n",
       "| Data Scientist             | Data Science     |\n",
       "| Lead Data Analyst          | Data Analysis    |\n",
       "| Data Analyst               | Data Analysis    |\n",
       "| Data Analyst               | Data Analysis    |\n",
       "| Data Engineer              | Data Engineering |\n",
       "| Big Data Engineer          | Data Engineering |\n",
       "| Data Science Consultant    | Data Science     |\n",
       "| Lead Data Engineer         | Data Engineering |\n",
       "\n"
      ],
      "text/plain": [
       "   job_title                  field           \n",
       "1  Data Scientist             Data Science    \n",
       "2  Machine Learning Scientist Machine Learning\n",
       "3  Big Data Engineer          Data Engineering\n",
       "4  Product Data Analyst       Data Analysis   \n",
       "5  Machine Learning Engineer  Machine Learning\n",
       "6  Data Analyst               Data Analysis   \n",
       "7  Lead Data Scientist        Data Science    \n",
       "8  Data Scientist             Data Science    \n",
       "9  Business Data Analyst      Data Analysis   \n",
       "10 Lead Data Engineer         Data Engineering\n",
       "11 Data Scientist             Data Science    \n",
       "12 Data Scientist             Data Science    \n",
       "13 Data Scientist             Data Science    \n",
       "14 Lead Data Analyst          Data Analysis   \n",
       "15 Data Analyst               Data Analysis   \n",
       "16 Data Analyst               Data Analysis   \n",
       "17 Data Engineer              Data Engineering\n",
       "18 Big Data Engineer          Data Engineering\n",
       "19 Data Science Consultant    Data Science    \n",
       "20 Lead Data Engineer         Data Engineering"
      ]
     },
     "metadata": {},
     "output_type": "display_data"
    }
   ],
   "source": [
    "for(i in 1:607){\n",
    "    if(str_detect(preprocessed_salaries$job_title[i], \"Data Scien\")) {\n",
    "        preprocessed_salaries$field[i] = \"Data Science\"\n",
    "    } else if(str_detect(preprocessed_salaries$job_title[i], \"Data Analy\")) {\n",
    "        preprocessed_salaries$field[i] = \"Data Analysis\"       \n",
    "    } else if(str_detect(preprocessed_salaries$job_title[i], \"Machine Learning\") || str_detect(preprocessed_salaries$job_title[i], \"ML\")){\n",
    "        preprocessed_salaries$field[i] = \"Machine Learning\"\n",
    "    } else if(str_detect(preprocessed_salaries$job_title[i], \"Data Engineer\")) {\n",
    "        preprocessed_salaries$field[i] = \"Data Engineering\"\n",
    "    } else {\n",
    "        preprocessed_salaries$field[i] = \"Other\"\n",
    "    }\n",
    "}\n",
    "\n",
    "head(select(preprocessed_salaries, job_title, field), 20)"
   ]
  },
  {
   "cell_type": "code",
   "execution_count": 10,
   "metadata": {
    "vscode": {
     "languageId": "r"
    }
   },
   "outputs": [
    {
     "data": {
      "text/html": [
       "<table class=\"dataframe\">\n",
       "<caption>A tibble: 6 × 7</caption>\n",
       "<thead>\n",
       "\t<tr><th scope=col>experience_level</th><th scope=col>employment_type</th><th scope=col>salary_in_usd</th><th scope=col>remote_ratio</th><th scope=col>company_size</th><th scope=col>cont</th><th scope=col>field</th></tr>\n",
       "\t<tr><th scope=col>&lt;fct&gt;</th><th scope=col>&lt;fct&gt;</th><th scope=col>&lt;dbl&gt;</th><th scope=col>&lt;dbl&gt;</th><th scope=col>&lt;fct&gt;</th><th scope=col>&lt;fct&gt;</th><th scope=col>&lt;fct&gt;</th></tr>\n",
       "</thead>\n",
       "<tbody>\n",
       "\t<tr><td>MI</td><td>FT</td><td> 79833</td><td>  0</td><td>L</td><td>eur  </td><td>Data Science    </td></tr>\n",
       "\t<tr><td>SE</td><td>FT</td><td>260000</td><td>  0</td><td>S</td><td>asia </td><td>Machine Learning</td></tr>\n",
       "\t<tr><td>SE</td><td>FT</td><td>109024</td><td> 50</td><td>M</td><td>eur  </td><td>Data Engineering</td></tr>\n",
       "\t<tr><td>MI</td><td>FT</td><td> 20000</td><td>  0</td><td>S</td><td>no_am</td><td>Data Analysis   </td></tr>\n",
       "\t<tr><td>SE</td><td>FT</td><td>150000</td><td> 50</td><td>L</td><td>no_am</td><td>Machine Learning</td></tr>\n",
       "\t<tr><td>EN</td><td>FT</td><td> 72000</td><td>100</td><td>L</td><td>no_am</td><td>Data Analysis   </td></tr>\n",
       "</tbody>\n",
       "</table>\n"
      ],
      "text/latex": [
       "A tibble: 6 × 7\n",
       "\\begin{tabular}{lllllll}\n",
       " experience\\_level & employment\\_type & salary\\_in\\_usd & remote\\_ratio & company\\_size & cont & field\\\\\n",
       " <fct> & <fct> & <dbl> & <dbl> & <fct> & <fct> & <fct>\\\\\n",
       "\\hline\n",
       "\t MI & FT &  79833 &   0 & L & eur   & Data Science    \\\\\n",
       "\t SE & FT & 260000 &   0 & S & asia  & Machine Learning\\\\\n",
       "\t SE & FT & 109024 &  50 & M & eur   & Data Engineering\\\\\n",
       "\t MI & FT &  20000 &   0 & S & no\\_am & Data Analysis   \\\\\n",
       "\t SE & FT & 150000 &  50 & L & no\\_am & Machine Learning\\\\\n",
       "\t EN & FT &  72000 & 100 & L & no\\_am & Data Analysis   \\\\\n",
       "\\end{tabular}\n"
      ],
      "text/markdown": [
       "\n",
       "A tibble: 6 × 7\n",
       "\n",
       "| experience_level &lt;fct&gt; | employment_type &lt;fct&gt; | salary_in_usd &lt;dbl&gt; | remote_ratio &lt;dbl&gt; | company_size &lt;fct&gt; | cont &lt;fct&gt; | field &lt;fct&gt; |\n",
       "|---|---|---|---|---|---|---|\n",
       "| MI | FT |  79833 |   0 | L | eur   | Data Science     |\n",
       "| SE | FT | 260000 |   0 | S | asia  | Machine Learning |\n",
       "| SE | FT | 109024 |  50 | M | eur   | Data Engineering |\n",
       "| MI | FT |  20000 |   0 | S | no_am | Data Analysis    |\n",
       "| SE | FT | 150000 |  50 | L | no_am | Machine Learning |\n",
       "| EN | FT |  72000 | 100 | L | no_am | Data Analysis    |\n",
       "\n"
      ],
      "text/plain": [
       "  experience_level employment_type salary_in_usd remote_ratio company_size\n",
       "1 MI               FT               79833          0          L           \n",
       "2 SE               FT              260000          0          S           \n",
       "3 SE               FT              109024         50          M           \n",
       "4 MI               FT               20000          0          S           \n",
       "5 SE               FT              150000         50          L           \n",
       "6 EN               FT               72000        100          L           \n",
       "  cont  field           \n",
       "1 eur   Data Science    \n",
       "2 asia  Machine Learning\n",
       "3 eur   Data Engineering\n",
       "4 no_am Data Analysis   \n",
       "5 no_am Machine Learning\n",
       "6 no_am Data Analysis   "
      ]
     },
     "metadata": {},
     "output_type": "display_data"
    }
   ],
   "source": [
    "# Remove job_title and company_location\n",
    "feat_salaries <- preprocessed_salaries %>%\n",
    "    select(-job_title, -company_location)\n",
    "\n",
    "# Convert all string parameters to factors\n",
    "feat_salaries$company_size <- as.factor(feat_salaries$company_size)\n",
    "feat_salaries$cont <- as.factor(feat_salaries$cont)\n",
    "feat_salaries$field <- as.factor(feat_salaries$field)\n",
    "feat_salaries$experience_level <- as.factor(feat_salaries$experience_level)\n",
    "feat_salaries$employment_type <- as.factor(feat_salaries$employment_type)\n",
    "\n",
    "head(feat_salaries)"
   ]
  },
  {
   "cell_type": "markdown",
   "metadata": {},
   "source": [
    "## Forward Selection"
   ]
  },
  {
   "cell_type": "code",
   "execution_count": 11,
   "metadata": {
    "vscode": {
     "languageId": "r"
    }
   },
   "outputs": [
    {
     "data": {
      "text/plain": [
       "\n",
       "   Data Analysis Data Engineering     Data Science Machine Learning \n",
       "             131              158              192               68 \n",
       "           Other \n",
       "              58 "
      ]
     },
     "metadata": {},
     "output_type": "display_data"
    }
   ],
   "source": [
    "table(feat_salaries$field)"
   ]
  },
  {
   "cell_type": "code",
   "execution_count": 12,
   "metadata": {
    "vscode": {
     "languageId": "r"
    }
   },
   "outputs": [
    {
     "data": {
      "text/html": [
       "<style>\n",
       ".list-inline {list-style: none; margin:0; padding: 0}\n",
       ".list-inline>li {display: inline-block}\n",
       ".list-inline>li:not(:last-child)::after {content: \"\\00b7\"; padding: 0 .5ex}\n",
       "</style>\n",
       "<ol class=list-inline><li>455</li><li>7</li></ol>\n"
      ],
      "text/latex": [
       "\\begin{enumerate*}\n",
       "\\item 455\n",
       "\\item 7\n",
       "\\end{enumerate*}\n"
      ],
      "text/markdown": [
       "1. 455\n",
       "2. 7\n",
       "\n",
       "\n"
      ],
      "text/plain": [
       "[1] 455   7"
      ]
     },
     "metadata": {},
     "output_type": "display_data"
    },
    {
     "data": {
      "text/html": [
       "<style>\n",
       ".list-inline {list-style: none; margin:0; padding: 0}\n",
       ".list-inline>li {display: inline-block}\n",
       ".list-inline>li:not(:last-child)::after {content: \"\\00b7\"; padding: 0 .5ex}\n",
       "</style>\n",
       "<ol class=list-inline><li>152</li><li>7</li></ol>\n"
      ],
      "text/latex": [
       "\\begin{enumerate*}\n",
       "\\item 152\n",
       "\\item 7\n",
       "\\end{enumerate*}\n"
      ],
      "text/markdown": [
       "1. 152\n",
       "2. 7\n",
       "\n",
       "\n"
      ],
      "text/plain": [
       "[1] 152   7"
      ]
     },
     "metadata": {},
     "output_type": "display_data"
    }
   ],
   "source": [
    "# data splitting\n",
    "set.seed(301)\n",
    "\n",
    "# Perform the initial split (75% training, 25% testing by default,\n",
    "# which is a suitable and common ratio for data splitting)\n",
    "data_split <- initial_split(feat_salaries, prop = 0.75)\n",
    "\n",
    "# Extract training and testing sets\n",
    "train_data <- training(data_split)\n",
    "test_data <- testing(data_split)\n",
    "\n",
    "dim(train_data)\n",
    "dim(test_data)"
   ]
  },
  {
   "cell_type": "code",
   "execution_count": 13,
   "metadata": {
    "vscode": {
     "languageId": "r"
    }
   },
   "outputs": [
    {
     "data": {
      "text/html": [
       "<table class=\"dataframe\">\n",
       "<caption>A tibble: 1 × 7</caption>\n",
       "<thead>\n",
       "\t<tr><th scope=col>experience_level</th><th scope=col>employment_type</th><th scope=col>salary_in_usd</th><th scope=col>remote_ratio</th><th scope=col>company_size</th><th scope=col>cont</th><th scope=col>field</th></tr>\n",
       "\t<tr><th scope=col>&lt;fct&gt;</th><th scope=col>&lt;fct&gt;</th><th scope=col>&lt;dbl&gt;</th><th scope=col>&lt;dbl&gt;</th><th scope=col>&lt;fct&gt;</th><th scope=col>&lt;fct&gt;</th><th scope=col>&lt;fct&gt;</th></tr>\n",
       "</thead>\n",
       "<tbody>\n",
       "\t<tr><td>SE</td><td>FT</td><td>140000</td><td>100</td><td>L</td><td>no_am</td><td>Data Analysis</td></tr>\n",
       "</tbody>\n",
       "</table>\n"
      ],
      "text/latex": [
       "A tibble: 1 × 7\n",
       "\\begin{tabular}{lllllll}\n",
       " experience\\_level & employment\\_type & salary\\_in\\_usd & remote\\_ratio & company\\_size & cont & field\\\\\n",
       " <fct> & <fct> & <dbl> & <dbl> & <fct> & <fct> & <fct>\\\\\n",
       "\\hline\n",
       "\t SE & FT & 140000 & 100 & L & no\\_am & Data Analysis\\\\\n",
       "\\end{tabular}\n"
      ],
      "text/markdown": [
       "\n",
       "A tibble: 1 × 7\n",
       "\n",
       "| experience_level &lt;fct&gt; | employment_type &lt;fct&gt; | salary_in_usd &lt;dbl&gt; | remote_ratio &lt;dbl&gt; | company_size &lt;fct&gt; | cont &lt;fct&gt; | field &lt;fct&gt; |\n",
       "|---|---|---|---|---|---|---|\n",
       "| SE | FT | 140000 | 100 | L | no_am | Data Analysis |\n",
       "\n"
      ],
      "text/plain": [
       "  experience_level employment_type salary_in_usd remote_ratio company_size\n",
       "1 SE               FT              140000        100          L           \n",
       "  cont  field        \n",
       "1 no_am Data Analysis"
      ]
     },
     "metadata": {},
     "output_type": "display_data"
    }
   ],
   "source": [
    "train_data[1, ]"
   ]
  },
  {
   "cell_type": "code",
   "execution_count": 14,
   "metadata": {
    "vscode": {
     "languageId": "r"
    }
   },
   "outputs": [
    {
     "data": {
      "text/html": [
       "<style>\n",
       ".list-inline {list-style: none; margin:0; padding: 0}\n",
       ".list-inline>li {display: inline-block}\n",
       ".list-inline>li:not(:last-child)::after {content: \"\\00b7\"; padding: 0 .5ex}\n",
       "</style>\n",
       "<ol class=list-inline><li>455</li><li>19</li></ol>\n"
      ],
      "text/latex": [
       "\\begin{enumerate*}\n",
       "\\item 455\n",
       "\\item 19\n",
       "\\end{enumerate*}\n"
      ],
      "text/markdown": [
       "1. 455\n",
       "2. 19\n",
       "\n",
       "\n"
      ],
      "text/plain": [
       "[1] 455  19"
      ]
     },
     "metadata": {},
     "output_type": "display_data"
    }
   ],
   "source": [
    "# Determining total number of predictors, including dummy variables\n",
    "model_matrix <- model.matrix(salary_in_usd ~ ., data = train_data)\n",
    "# Display the dimensions of the model matrix\n",
    "dim(model_matrix)"
   ]
  },
  {
   "cell_type": "code",
   "execution_count": 15,
   "metadata": {
    "vscode": {
     "languageId": "r"
    }
   },
   "outputs": [
    {
     "data": {
      "text/html": [
       "<dl>\n",
       "\t<dt>$experience_level</dt>\n",
       "\t\t<dd><style>\n",
       ".list-inline {list-style: none; margin:0; padding: 0}\n",
       ".list-inline>li {display: inline-block}\n",
       ".list-inline>li:not(:last-child)::after {content: \"\\00b7\"; padding: 0 .5ex}\n",
       "</style>\n",
       "<ol class=list-inline><li>'EN'</li><li>'EX'</li><li>'MI'</li><li>'SE'</li></ol>\n",
       "</dd>\n",
       "\t<dt>$employment_type</dt>\n",
       "\t\t<dd><style>\n",
       ".list-inline {list-style: none; margin:0; padding: 0}\n",
       ".list-inline>li {display: inline-block}\n",
       ".list-inline>li:not(:last-child)::after {content: \"\\00b7\"; padding: 0 .5ex}\n",
       "</style>\n",
       "<ol class=list-inline><li>'CT'</li><li>'FL'</li><li>'FT'</li><li>'PT'</li></ol>\n",
       "</dd>\n",
       "\t<dt>$salary_in_usd</dt>\n",
       "\t\t<dd>&lt;NA&gt;</dd>\n",
       "\t<dt>$remote_ratio</dt>\n",
       "\t\t<dd>&lt;NA&gt;</dd>\n",
       "\t<dt>$company_size</dt>\n",
       "\t\t<dd><style>\n",
       ".list-inline {list-style: none; margin:0; padding: 0}\n",
       ".list-inline>li {display: inline-block}\n",
       ".list-inline>li:not(:last-child)::after {content: \"\\00b7\"; padding: 0 .5ex}\n",
       "</style>\n",
       "<ol class=list-inline><li>'L'</li><li>'M'</li><li>'S'</li></ol>\n",
       "</dd>\n",
       "\t<dt>$cont</dt>\n",
       "\t\t<dd><style>\n",
       ".list-inline {list-style: none; margin:0; padding: 0}\n",
       ".list-inline>li {display: inline-block}\n",
       ".list-inline>li:not(:last-child)::after {content: \"\\00b7\"; padding: 0 .5ex}\n",
       "</style>\n",
       "<ol class=list-inline><li>'afr'</li><li>'asia'</li><li>'eur'</li><li>'no_am'</li><li>'oce'</li><li>'so_am'</li></ol>\n",
       "</dd>\n",
       "\t<dt>$field</dt>\n",
       "\t\t<dd><style>\n",
       ".list-inline {list-style: none; margin:0; padding: 0}\n",
       ".list-inline>li {display: inline-block}\n",
       ".list-inline>li:not(:last-child)::after {content: \"\\00b7\"; padding: 0 .5ex}\n",
       "</style>\n",
       "<ol class=list-inline><li>'Data Analysis'</li><li>'Data Engineering'</li><li>'Data Science'</li><li>'Machine Learning'</li><li>'Other'</li></ol>\n",
       "</dd>\n",
       "</dl>\n"
      ],
      "text/latex": [
       "\\begin{description}\n",
       "\\item[\\$experience\\_level] \\begin{enumerate*}\n",
       "\\item 'EN'\n",
       "\\item 'EX'\n",
       "\\item 'MI'\n",
       "\\item 'SE'\n",
       "\\end{enumerate*}\n",
       "\n",
       "\\item[\\$employment\\_type] \\begin{enumerate*}\n",
       "\\item 'CT'\n",
       "\\item 'FL'\n",
       "\\item 'FT'\n",
       "\\item 'PT'\n",
       "\\end{enumerate*}\n",
       "\n",
       "\\item[\\$salary\\_in\\_usd] <NA>\n",
       "\\item[\\$remote\\_ratio] <NA>\n",
       "\\item[\\$company\\_size] \\begin{enumerate*}\n",
       "\\item 'L'\n",
       "\\item 'M'\n",
       "\\item 'S'\n",
       "\\end{enumerate*}\n",
       "\n",
       "\\item[\\$cont] \\begin{enumerate*}\n",
       "\\item 'afr'\n",
       "\\item 'asia'\n",
       "\\item 'eur'\n",
       "\\item 'no\\_am'\n",
       "\\item 'oce'\n",
       "\\item 'so\\_am'\n",
       "\\end{enumerate*}\n",
       "\n",
       "\\item[\\$field] \\begin{enumerate*}\n",
       "\\item 'Data Analysis'\n",
       "\\item 'Data Engineering'\n",
       "\\item 'Data Science'\n",
       "\\item 'Machine Learning'\n",
       "\\item 'Other'\n",
       "\\end{enumerate*}\n",
       "\n",
       "\\end{description}\n"
      ],
      "text/markdown": [
       "$experience_level\n",
       ":   1. 'EN'\n",
       "2. 'EX'\n",
       "3. 'MI'\n",
       "4. 'SE'\n",
       "\n",
       "\n",
       "\n",
       "$employment_type\n",
       ":   1. 'CT'\n",
       "2. 'FL'\n",
       "3. 'FT'\n",
       "4. 'PT'\n",
       "\n",
       "\n",
       "\n",
       "$salary_in_usd\n",
       ":   &lt;NA&gt;\n",
       "$remote_ratio\n",
       ":   &lt;NA&gt;\n",
       "$company_size\n",
       ":   1. 'L'\n",
       "2. 'M'\n",
       "3. 'S'\n",
       "\n",
       "\n",
       "\n",
       "$cont\n",
       ":   1. 'afr'\n",
       "2. 'asia'\n",
       "3. 'eur'\n",
       "4. 'no_am'\n",
       "5. 'oce'\n",
       "6. 'so_am'\n",
       "\n",
       "\n",
       "\n",
       "$field\n",
       ":   1. 'Data Analysis'\n",
       "2. 'Data Engineering'\n",
       "3. 'Data Science'\n",
       "4. 'Machine Learning'\n",
       "5. 'Other'\n",
       "\n",
       "\n",
       "\n",
       "\n",
       "\n"
      ],
      "text/plain": [
       "$experience_level\n",
       "[1] \"EN\" \"EX\" \"MI\" \"SE\"\n",
       "\n",
       "$employment_type\n",
       "[1] \"CT\" \"FL\" \"FT\" \"PT\"\n",
       "\n",
       "$salary_in_usd\n",
       "[1] NA\n",
       "\n",
       "$remote_ratio\n",
       "[1] NA\n",
       "\n",
       "$company_size\n",
       "[1] \"L\" \"M\" \"S\"\n",
       "\n",
       "$cont\n",
       "[1] \"afr\"   \"asia\"  \"eur\"   \"no_am\" \"oce\"   \"so_am\"\n",
       "\n",
       "$field\n",
       "[1] \"Data Analysis\"    \"Data Engineering\" \"Data Science\"     \"Machine Learning\"\n",
       "[5] \"Other\"           \n"
      ]
     },
     "metadata": {},
     "output_type": "display_data"
    },
    {
     "name": "stdout",
     "output_type": "stream",
     "text": [
      "experience_level  employment_type    salary_in_usd     remote_ratio \n",
      "               4                4               NA               NA \n",
      "    company_size             cont            field \n",
      "               3                6                5 \n"
     ]
    }
   ],
   "source": [
    "# Check the levels for each factor variable in the dataset\n",
    "factor_levels <- sapply(train_data, function(x) if(is.factor(x)) levels(x) else NA)\n",
    "factor_levels\n",
    "# Checking the number of levels for each categorical variables\n",
    "factor_levels_count <- sapply(train_data, function(x) if(is.factor(x)) length(levels(x)) else NA)\n",
    "print(factor_levels_count)"
   ]
  },
  {
   "cell_type": "code",
   "execution_count": 16,
   "metadata": {
    "vscode": {
     "languageId": "r"
    }
   },
   "outputs": [
    {
     "data": {
      "text/html": [
       "18"
      ],
      "text/latex": [
       "18"
      ],
      "text/markdown": [
       "18"
      ],
      "text/plain": [
       "[1] 18"
      ]
     },
     "metadata": {},
     "output_type": "display_data"
    }
   ],
   "source": [
    "# Check how many coefficients (betas) you will have\n",
    "num_coefficients <- ncol(model_matrix) - 1 # Subtract 1 to exclude the intercept\n",
    "num_coefficients"
   ]
  },
  {
   "cell_type": "markdown",
   "metadata": {},
   "source": [
    "Number of coefficients explained: each numeric variable gets one column/coefficient, each categorical variable gets (# of levels -1) dummy variables as coefficients (because reference level is not included), and yeah we get rid of the intercept column whuich is all 1. we have from the order of factor_levels: 3+3+1+1+2+5+4-1 = 18 coefficients in total."
   ]
  },
  {
   "cell_type": "code",
   "execution_count": 17,
   "metadata": {
    "vscode": {
     "languageId": "r"
    }
   },
   "outputs": [
    {
     "data": {
      "text/plain": [
       "Subset selection object\n",
       "Call: regsubsets.formula(salary_in_usd ~ ., nvmax = 18, data = train_data, \n",
       "    method = \"forward\")\n",
       "18 Variables  (and intercept)\n",
       "                      Forced in Forced out\n",
       "experience_levelEX        FALSE      FALSE\n",
       "experience_levelMI        FALSE      FALSE\n",
       "experience_levelSE        FALSE      FALSE\n",
       "employment_typeFL         FALSE      FALSE\n",
       "employment_typeFT         FALSE      FALSE\n",
       "employment_typePT         FALSE      FALSE\n",
       "remote_ratio              FALSE      FALSE\n",
       "company_sizeM             FALSE      FALSE\n",
       "company_sizeS             FALSE      FALSE\n",
       "contasia                  FALSE      FALSE\n",
       "conteur                   FALSE      FALSE\n",
       "contno_am                 FALSE      FALSE\n",
       "contoce                   FALSE      FALSE\n",
       "contso_am                 FALSE      FALSE\n",
       "fieldData Engineering     FALSE      FALSE\n",
       "fieldData Science         FALSE      FALSE\n",
       "fieldMachine Learning     FALSE      FALSE\n",
       "fieldOther                FALSE      FALSE\n",
       "1 subsets of each size up to 18\n",
       "Selection Algorithm: forward\n",
       "          experience_levelEX experience_levelMI experience_levelSE\n",
       "1  ( 1 )  \" \"                \" \"                \" \"               \n",
       "2  ( 1 )  \"*\"                \" \"                \" \"               \n",
       "3  ( 1 )  \"*\"                \" \"                \"*\"               \n",
       "4  ( 1 )  \"*\"                \" \"                \"*\"               \n",
       "5  ( 1 )  \"*\"                \" \"                \"*\"               \n",
       "6  ( 1 )  \"*\"                \" \"                \"*\"               \n",
       "7  ( 1 )  \"*\"                \" \"                \"*\"               \n",
       "8  ( 1 )  \"*\"                \" \"                \"*\"               \n",
       "9  ( 1 )  \"*\"                \" \"                \"*\"               \n",
       "10  ( 1 ) \"*\"                \" \"                \"*\"               \n",
       "11  ( 1 ) \"*\"                \"*\"                \"*\"               \n",
       "12  ( 1 ) \"*\"                \"*\"                \"*\"               \n",
       "13  ( 1 ) \"*\"                \"*\"                \"*\"               \n",
       "14  ( 1 ) \"*\"                \"*\"                \"*\"               \n",
       "15  ( 1 ) \"*\"                \"*\"                \"*\"               \n",
       "16  ( 1 ) \"*\"                \"*\"                \"*\"               \n",
       "17  ( 1 ) \"*\"                \"*\"                \"*\"               \n",
       "18  ( 1 ) \"*\"                \"*\"                \"*\"               \n",
       "          employment_typeFL employment_typeFT employment_typePT remote_ratio\n",
       "1  ( 1 )  \" \"               \" \"               \" \"               \" \"         \n",
       "2  ( 1 )  \" \"               \" \"               \" \"               \" \"         \n",
       "3  ( 1 )  \" \"               \" \"               \" \"               \" \"         \n",
       "4  ( 1 )  \" \"               \" \"               \" \"               \" \"         \n",
       "5  ( 1 )  \" \"               \" \"               \" \"               \" \"         \n",
       "6  ( 1 )  \" \"               \" \"               \" \"               \" \"         \n",
       "7  ( 1 )  \" \"               \" \"               \" \"               \" \"         \n",
       "8  ( 1 )  \" \"               \" \"               \" \"               \" \"         \n",
       "9  ( 1 )  \" \"               \" \"               \" \"               \" \"         \n",
       "10  ( 1 ) \"*\"               \" \"               \" \"               \" \"         \n",
       "11  ( 1 ) \"*\"               \" \"               \" \"               \" \"         \n",
       "12  ( 1 ) \"*\"               \" \"               \" \"               \" \"         \n",
       "13  ( 1 ) \"*\"               \" \"               \" \"               \" \"         \n",
       "14  ( 1 ) \"*\"               \" \"               \" \"               \" \"         \n",
       "15  ( 1 ) \"*\"               \" \"               \" \"               \"*\"         \n",
       "16  ( 1 ) \"*\"               \" \"               \"*\"               \"*\"         \n",
       "17  ( 1 ) \"*\"               \"*\"               \"*\"               \"*\"         \n",
       "18  ( 1 ) \"*\"               \"*\"               \"*\"               \"*\"         \n",
       "          company_sizeM company_sizeS contasia conteur contno_am contoce\n",
       "1  ( 1 )  \" \"           \" \"           \" \"      \" \"     \"*\"       \" \"    \n",
       "2  ( 1 )  \" \"           \" \"           \" \"      \" \"     \"*\"       \" \"    \n",
       "3  ( 1 )  \" \"           \" \"           \" \"      \" \"     \"*\"       \" \"    \n",
       "4  ( 1 )  \" \"           \" \"           \" \"      \" \"     \"*\"       \" \"    \n",
       "5  ( 1 )  \" \"           \"*\"           \" \"      \" \"     \"*\"       \" \"    \n",
       "6  ( 1 )  \" \"           \"*\"           \"*\"      \" \"     \"*\"       \" \"    \n",
       "7  ( 1 )  \" \"           \"*\"           \"*\"      \" \"     \"*\"       \" \"    \n",
       "8  ( 1 )  \" \"           \"*\"           \"*\"      \" \"     \"*\"       \" \"    \n",
       "9  ( 1 )  \" \"           \"*\"           \"*\"      \" \"     \"*\"       \" \"    \n",
       "10  ( 1 ) \" \"           \"*\"           \"*\"      \" \"     \"*\"       \" \"    \n",
       "11  ( 1 ) \" \"           \"*\"           \"*\"      \" \"     \"*\"       \" \"    \n",
       "12  ( 1 ) \" \"           \"*\"           \"*\"      \" \"     \"*\"       \" \"    \n",
       "13  ( 1 ) \" \"           \"*\"           \"*\"      \" \"     \"*\"       \"*\"    \n",
       "14  ( 1 ) \"*\"           \"*\"           \"*\"      \" \"     \"*\"       \"*\"    \n",
       "15  ( 1 ) \"*\"           \"*\"           \"*\"      \" \"     \"*\"       \"*\"    \n",
       "16  ( 1 ) \"*\"           \"*\"           \"*\"      \" \"     \"*\"       \"*\"    \n",
       "17  ( 1 ) \"*\"           \"*\"           \"*\"      \" \"     \"*\"       \"*\"    \n",
       "18  ( 1 ) \"*\"           \"*\"           \"*\"      \"*\"     \"*\"       \"*\"    \n",
       "          contso_am fieldData Engineering fieldData Science\n",
       "1  ( 1 )  \" \"       \" \"                   \" \"              \n",
       "2  ( 1 )  \" \"       \" \"                   \" \"              \n",
       "3  ( 1 )  \" \"       \" \"                   \" \"              \n",
       "4  ( 1 )  \" \"       \" \"                   \" \"              \n",
       "5  ( 1 )  \" \"       \" \"                   \" \"              \n",
       "6  ( 1 )  \" \"       \" \"                   \" \"              \n",
       "7  ( 1 )  \" \"       \" \"                   \"*\"              \n",
       "8  ( 1 )  \" \"       \"*\"                   \"*\"              \n",
       "9  ( 1 )  \" \"       \"*\"                   \"*\"              \n",
       "10  ( 1 ) \" \"       \"*\"                   \"*\"              \n",
       "11  ( 1 ) \" \"       \"*\"                   \"*\"              \n",
       "12  ( 1 ) \"*\"       \"*\"                   \"*\"              \n",
       "13  ( 1 ) \"*\"       \"*\"                   \"*\"              \n",
       "14  ( 1 ) \"*\"       \"*\"                   \"*\"              \n",
       "15  ( 1 ) \"*\"       \"*\"                   \"*\"              \n",
       "16  ( 1 ) \"*\"       \"*\"                   \"*\"              \n",
       "17  ( 1 ) \"*\"       \"*\"                   \"*\"              \n",
       "18  ( 1 ) \"*\"       \"*\"                   \"*\"              \n",
       "          fieldMachine Learning fieldOther\n",
       "1  ( 1 )  \" \"                   \" \"       \n",
       "2  ( 1 )  \" \"                   \" \"       \n",
       "3  ( 1 )  \" \"                   \" \"       \n",
       "4  ( 1 )  \"*\"                   \" \"       \n",
       "5  ( 1 )  \"*\"                   \" \"       \n",
       "6  ( 1 )  \"*\"                   \" \"       \n",
       "7  ( 1 )  \"*\"                   \" \"       \n",
       "8  ( 1 )  \"*\"                   \" \"       \n",
       "9  ( 1 )  \"*\"                   \"*\"       \n",
       "10  ( 1 ) \"*\"                   \"*\"       \n",
       "11  ( 1 ) \"*\"                   \"*\"       \n",
       "12  ( 1 ) \"*\"                   \"*\"       \n",
       "13  ( 1 ) \"*\"                   \"*\"       \n",
       "14  ( 1 ) \"*\"                   \"*\"       \n",
       "15  ( 1 ) \"*\"                   \"*\"       \n",
       "16  ( 1 ) \"*\"                   \"*\"       \n",
       "17  ( 1 ) \"*\"                   \"*\"       \n",
       "18  ( 1 ) \"*\"                   \"*\"       "
      ]
     },
     "metadata": {},
     "output_type": "display_data"
    }
   ],
   "source": [
    "# forward selection\n",
    "forward_sel <- regsubsets(salary_in_usd ~ ., nvmax = 18,\n",
    "                          data = train_data,\n",
    "                          method = \"forward\")\n",
    "forward_summary <- summary(forward_sel)\n",
    "forward_summary"
   ]
  },
  {
   "cell_type": "code",
   "execution_count": 18,
   "metadata": {
    "vscode": {
     "languageId": "r"
    }
   },
   "outputs": [
    {
     "data": {
      "text/html": [
       "<table class=\"dataframe\">\n",
       "<caption>A tibble: 18 × 6</caption>\n",
       "<thead>\n",
       "\t<tr><th scope=col>n_input_variables</th><th scope=col>RSQ</th><th scope=col>RSS</th><th scope=col>ADJ_R2</th><th scope=col>Cp</th><th scope=col>BIC</th></tr>\n",
       "\t<tr><th scope=col>&lt;int&gt;</th><th scope=col>&lt;dbl&gt;</th><th scope=col>&lt;dbl&gt;</th><th scope=col>&lt;dbl&gt;</th><th scope=col>&lt;dbl&gt;</th><th scope=col>&lt;dbl&gt;</th></tr>\n",
       "</thead>\n",
       "<tbody>\n",
       "\t<tr><td> 1</td><td>0.2770677</td><td>1.769440e+12</td><td>0.2754718</td><td>137.08252</td><td>-135.3794</td></tr>\n",
       "\t<tr><td> 2</td><td>0.3379894</td><td>1.620328e+12</td><td>0.3350601</td><td> 89.52462</td><td>-169.3146</td></tr>\n",
       "\t<tr><td> 3</td><td>0.3813322</td><td>1.514243e+12</td><td>0.3772169</td><td> 56.26663</td><td>-194.0038</td></tr>\n",
       "\t<tr><td> 4</td><td>0.3898055</td><td>1.493504e+12</td><td>0.3843816</td><td> 51.37383</td><td>-194.1583</td></tr>\n",
       "\t<tr><td> 5</td><td>0.3990691</td><td>1.470831e+12</td><td>0.3923772</td><td> 45.83821</td><td>-194.9985</td></tr>\n",
       "\t<tr><td> 6</td><td>0.4060437</td><td>1.453760e+12</td><td>0.3980889</td><td> 42.16460</td><td>-194.1900</td></tr>\n",
       "\t<tr><td> 7</td><td>0.4131925</td><td>1.436262e+12</td><td>0.4040031</td><td> 38.34928</td><td>-193.5792</td></tr>\n",
       "\t<tr><td> 8</td><td>0.4186709</td><td>1.422854e+12</td><td>0.4082434</td><td> 35.89281</td><td>-191.7267</td></tr>\n",
       "\t<tr><td> 9</td><td>0.4290902</td><td>1.397351e+12</td><td>0.4175437</td><td> 29.41703</td><td>-193.8354</td></tr>\n",
       "\t<tr><td>10</td><td>0.4358326</td><td>1.380849e+12</td><td>0.4231262</td><td> 25.93226</td><td>-193.1207</td></tr>\n",
       "\t<tr><td>11</td><td>0.4429373</td><td>1.363459e+12</td><td>0.4291051</td><td> 22.15282</td><td>-192.7667</td></tr>\n",
       "\t<tr><td>12</td><td>0.4490891</td><td>1.348402e+12</td><td>0.4341322</td><td> 19.14855</td><td>-191.6990</td></tr>\n",
       "\t<tr><td>13</td><td>0.4518603</td><td>1.341620e+12</td><td>0.4357020</td><td> 18.89426</td><td>-187.8732</td></tr>\n",
       "\t<tr><td>14</td><td>0.4544844</td><td>1.335197e+12</td><td>0.4371271</td><td> 18.75964</td><td>-183.9364</td></tr>\n",
       "\t<tr><td>15</td><td>0.4571701</td><td>1.328623e+12</td><td>0.4386224</td><td> 18.57491</td><td>-180.0617</td></tr>\n",
       "\t<tr><td>16</td><td>0.4580901</td><td>1.326372e+12</td><td>0.4382943</td><td> 19.82650</td><td>-174.7132</td></tr>\n",
       "\t<tr><td>17</td><td>0.4635886</td><td>1.312913e+12</td><td>0.4427214</td><td> 17.35363</td><td>-173.2332</td></tr>\n",
       "\t<tr><td>18</td><td>0.4640233</td><td>1.311849e+12</td><td>0.4418959</td><td> 19.00000</td><td>-167.4818</td></tr>\n",
       "</tbody>\n",
       "</table>\n"
      ],
      "text/latex": [
       "A tibble: 18 × 6\n",
       "\\begin{tabular}{llllll}\n",
       " n\\_input\\_variables & RSQ & RSS & ADJ\\_R2 & Cp & BIC\\\\\n",
       " <int> & <dbl> & <dbl> & <dbl> & <dbl> & <dbl>\\\\\n",
       "\\hline\n",
       "\t  1 & 0.2770677 & 1.769440e+12 & 0.2754718 & 137.08252 & -135.3794\\\\\n",
       "\t  2 & 0.3379894 & 1.620328e+12 & 0.3350601 &  89.52462 & -169.3146\\\\\n",
       "\t  3 & 0.3813322 & 1.514243e+12 & 0.3772169 &  56.26663 & -194.0038\\\\\n",
       "\t  4 & 0.3898055 & 1.493504e+12 & 0.3843816 &  51.37383 & -194.1583\\\\\n",
       "\t  5 & 0.3990691 & 1.470831e+12 & 0.3923772 &  45.83821 & -194.9985\\\\\n",
       "\t  6 & 0.4060437 & 1.453760e+12 & 0.3980889 &  42.16460 & -194.1900\\\\\n",
       "\t  7 & 0.4131925 & 1.436262e+12 & 0.4040031 &  38.34928 & -193.5792\\\\\n",
       "\t  8 & 0.4186709 & 1.422854e+12 & 0.4082434 &  35.89281 & -191.7267\\\\\n",
       "\t  9 & 0.4290902 & 1.397351e+12 & 0.4175437 &  29.41703 & -193.8354\\\\\n",
       "\t 10 & 0.4358326 & 1.380849e+12 & 0.4231262 &  25.93226 & -193.1207\\\\\n",
       "\t 11 & 0.4429373 & 1.363459e+12 & 0.4291051 &  22.15282 & -192.7667\\\\\n",
       "\t 12 & 0.4490891 & 1.348402e+12 & 0.4341322 &  19.14855 & -191.6990\\\\\n",
       "\t 13 & 0.4518603 & 1.341620e+12 & 0.4357020 &  18.89426 & -187.8732\\\\\n",
       "\t 14 & 0.4544844 & 1.335197e+12 & 0.4371271 &  18.75964 & -183.9364\\\\\n",
       "\t 15 & 0.4571701 & 1.328623e+12 & 0.4386224 &  18.57491 & -180.0617\\\\\n",
       "\t 16 & 0.4580901 & 1.326372e+12 & 0.4382943 &  19.82650 & -174.7132\\\\\n",
       "\t 17 & 0.4635886 & 1.312913e+12 & 0.4427214 &  17.35363 & -173.2332\\\\\n",
       "\t 18 & 0.4640233 & 1.311849e+12 & 0.4418959 &  19.00000 & -167.4818\\\\\n",
       "\\end{tabular}\n"
      ],
      "text/markdown": [
       "\n",
       "A tibble: 18 × 6\n",
       "\n",
       "| n_input_variables &lt;int&gt; | RSQ &lt;dbl&gt; | RSS &lt;dbl&gt; | ADJ_R2 &lt;dbl&gt; | Cp &lt;dbl&gt; | BIC &lt;dbl&gt; |\n",
       "|---|---|---|---|---|---|\n",
       "|  1 | 0.2770677 | 1.769440e+12 | 0.2754718 | 137.08252 | -135.3794 |\n",
       "|  2 | 0.3379894 | 1.620328e+12 | 0.3350601 |  89.52462 | -169.3146 |\n",
       "|  3 | 0.3813322 | 1.514243e+12 | 0.3772169 |  56.26663 | -194.0038 |\n",
       "|  4 | 0.3898055 | 1.493504e+12 | 0.3843816 |  51.37383 | -194.1583 |\n",
       "|  5 | 0.3990691 | 1.470831e+12 | 0.3923772 |  45.83821 | -194.9985 |\n",
       "|  6 | 0.4060437 | 1.453760e+12 | 0.3980889 |  42.16460 | -194.1900 |\n",
       "|  7 | 0.4131925 | 1.436262e+12 | 0.4040031 |  38.34928 | -193.5792 |\n",
       "|  8 | 0.4186709 | 1.422854e+12 | 0.4082434 |  35.89281 | -191.7267 |\n",
       "|  9 | 0.4290902 | 1.397351e+12 | 0.4175437 |  29.41703 | -193.8354 |\n",
       "| 10 | 0.4358326 | 1.380849e+12 | 0.4231262 |  25.93226 | -193.1207 |\n",
       "| 11 | 0.4429373 | 1.363459e+12 | 0.4291051 |  22.15282 | -192.7667 |\n",
       "| 12 | 0.4490891 | 1.348402e+12 | 0.4341322 |  19.14855 | -191.6990 |\n",
       "| 13 | 0.4518603 | 1.341620e+12 | 0.4357020 |  18.89426 | -187.8732 |\n",
       "| 14 | 0.4544844 | 1.335197e+12 | 0.4371271 |  18.75964 | -183.9364 |\n",
       "| 15 | 0.4571701 | 1.328623e+12 | 0.4386224 |  18.57491 | -180.0617 |\n",
       "| 16 | 0.4580901 | 1.326372e+12 | 0.4382943 |  19.82650 | -174.7132 |\n",
       "| 17 | 0.4635886 | 1.312913e+12 | 0.4427214 |  17.35363 | -173.2332 |\n",
       "| 18 | 0.4640233 | 1.311849e+12 | 0.4418959 |  19.00000 | -167.4818 |\n",
       "\n"
      ],
      "text/plain": [
       "   n_input_variables RSQ       RSS          ADJ_R2    Cp        BIC      \n",
       "1   1                0.2770677 1.769440e+12 0.2754718 137.08252 -135.3794\n",
       "2   2                0.3379894 1.620328e+12 0.3350601  89.52462 -169.3146\n",
       "3   3                0.3813322 1.514243e+12 0.3772169  56.26663 -194.0038\n",
       "4   4                0.3898055 1.493504e+12 0.3843816  51.37383 -194.1583\n",
       "5   5                0.3990691 1.470831e+12 0.3923772  45.83821 -194.9985\n",
       "6   6                0.4060437 1.453760e+12 0.3980889  42.16460 -194.1900\n",
       "7   7                0.4131925 1.436262e+12 0.4040031  38.34928 -193.5792\n",
       "8   8                0.4186709 1.422854e+12 0.4082434  35.89281 -191.7267\n",
       "9   9                0.4290902 1.397351e+12 0.4175437  29.41703 -193.8354\n",
       "10 10                0.4358326 1.380849e+12 0.4231262  25.93226 -193.1207\n",
       "11 11                0.4429373 1.363459e+12 0.4291051  22.15282 -192.7667\n",
       "12 12                0.4490891 1.348402e+12 0.4341322  19.14855 -191.6990\n",
       "13 13                0.4518603 1.341620e+12 0.4357020  18.89426 -187.8732\n",
       "14 14                0.4544844 1.335197e+12 0.4371271  18.75964 -183.9364\n",
       "15 15                0.4571701 1.328623e+12 0.4386224  18.57491 -180.0617\n",
       "16 16                0.4580901 1.326372e+12 0.4382943  19.82650 -174.7132\n",
       "17 17                0.4635886 1.312913e+12 0.4427214  17.35363 -173.2332\n",
       "18 18                0.4640233 1.311849e+12 0.4418959  19.00000 -167.4818"
      ]
     },
     "metadata": {},
     "output_type": "display_data"
    }
   ],
   "source": [
    "forward_summary_df <- tibble(\n",
    "    n_input_variables = 1:18,\n",
    "    RSQ = forward_summary$rsq,\n",
    "    RSS = forward_summary$rss,\n",
    "    ADJ_R2 = forward_summary$adjr2,\n",
    "    Cp = forward_summary$cp,\n",
    "    BIC = forward_summary$bic,\n",
    ")\n",
    "forward_summary_df"
   ]
  },
  {
   "cell_type": "code",
   "execution_count": 19,
   "metadata": {
    "vscode": {
     "languageId": "r"
    }
   },
   "outputs": [
    {
     "data": {
      "text/html": [
       "17"
      ],
      "text/latex": [
       "17"
      ],
      "text/markdown": [
       "17"
      ],
      "text/plain": [
       "[1] 17"
      ]
     },
     "metadata": {},
     "output_type": "display_data"
    },
    {
     "data": {
      "text/html": [
       "<style>\n",
       ".list-inline {list-style: none; margin:0; padding: 0}\n",
       ".list-inline>li {display: inline-block}\n",
       ".list-inline>li:not(:last-child)::after {content: \"\\00b7\"; padding: 0 .5ex}\n",
       "</style>\n",
       "<ol class=list-inline><li>'experience_levelEX'</li><li>'experience_levelMI'</li><li>'experience_levelSE'</li><li>'employment_typeFL'</li><li>'employment_typeFT'</li><li>'employment_typePT'</li><li>'remote_ratio'</li><li>'company_sizeM'</li><li>'company_sizeS'</li><li>'contasia'</li><li>'contno_am'</li><li>'contoce'</li><li>'contso_am'</li><li>'fieldData Engineering'</li><li>'fieldData Science'</li><li>'fieldMachine Learning'</li><li>'fieldOther'</li></ol>\n"
      ],
      "text/latex": [
       "\\begin{enumerate*}\n",
       "\\item 'experience\\_levelEX'\n",
       "\\item 'experience\\_levelMI'\n",
       "\\item 'experience\\_levelSE'\n",
       "\\item 'employment\\_typeFL'\n",
       "\\item 'employment\\_typeFT'\n",
       "\\item 'employment\\_typePT'\n",
       "\\item 'remote\\_ratio'\n",
       "\\item 'company\\_sizeM'\n",
       "\\item 'company\\_sizeS'\n",
       "\\item 'contasia'\n",
       "\\item 'contno\\_am'\n",
       "\\item 'contoce'\n",
       "\\item 'contso\\_am'\n",
       "\\item 'fieldData Engineering'\n",
       "\\item 'fieldData Science'\n",
       "\\item 'fieldMachine Learning'\n",
       "\\item 'fieldOther'\n",
       "\\end{enumerate*}\n"
      ],
      "text/markdown": [
       "1. 'experience_levelEX'\n",
       "2. 'experience_levelMI'\n",
       "3. 'experience_levelSE'\n",
       "4. 'employment_typeFL'\n",
       "5. 'employment_typeFT'\n",
       "6. 'employment_typePT'\n",
       "7. 'remote_ratio'\n",
       "8. 'company_sizeM'\n",
       "9. 'company_sizeS'\n",
       "10. 'contasia'\n",
       "11. 'contno_am'\n",
       "12. 'contoce'\n",
       "13. 'contso_am'\n",
       "14. 'fieldData Engineering'\n",
       "15. 'fieldData Science'\n",
       "16. 'fieldMachine Learning'\n",
       "17. 'fieldOther'\n",
       "\n",
       "\n"
      ],
      "text/plain": [
       " [1] \"experience_levelEX\"    \"experience_levelMI\"    \"experience_levelSE\"   \n",
       " [4] \"employment_typeFL\"     \"employment_typeFT\"     \"employment_typePT\"    \n",
       " [7] \"remote_ratio\"          \"company_sizeM\"         \"company_sizeS\"        \n",
       "[10] \"contasia\"              \"contno_am\"             \"contoce\"              \n",
       "[13] \"contso_am\"             \"fieldData Engineering\" \"fieldData Science\"    \n",
       "[16] \"fieldMachine Learning\" \"fieldOther\"           "
      ]
     },
     "metadata": {},
     "output_type": "display_data"
    }
   ],
   "source": [
    "cp_min = which.min(forward_summary$cp) \n",
    "cp_min\n",
    "\n",
    "selected_var <- names(coef(forward_sel, cp_min))[-1]\n",
    "selected_var"
   ]
  },
  {
   "cell_type": "code",
   "execution_count": 20,
   "metadata": {
    "vscode": {
     "languageId": "r"
    }
   },
   "outputs": [
    {
     "data": {
      "image/png": "[encoded data removed]",
      "text/plain": [
       "Plot with title “Cp for forward selection”"
      ]
     },
     "metadata": {
      "image/png": {
       "height": 420,
       "width": 420
      }
     },
     "output_type": "display_data"
    }
   ],
   "source": [
    "plot(summary(forward_sel)$cp,\n",
    "     main = \"Cp for forward selection\",\n",
    "     xlab = \"Number of Input Variables\", \n",
    "     ylab = \"Rsq\",\n",
    "     type = \"b\",\n",
    "     pch = 18,\n",
    "     col = \"red\"\n",
    ")\n",
    "abline(v = cp_min, col = \"blue\", lty = 2)\n",
    "text(cp_min, max(summary(forward_sel)$cp), \n",
    "     labels = paste(\"cp_min = \", round(cp_min, 2)), \n",
    "     pos = 2,  # Position to the right of the line\n",
    "     col = \"blue\", \n",
    "     cex = 0.8)"
   ]
  },
  {
   "cell_type": "code",
   "execution_count": 21,
   "metadata": {
    "vscode": {
     "languageId": "r"
    }
   },
   "outputs": [
    {
     "data": {
      "text/html": [
       "<style>\n",
       ".list-inline {list-style: none; margin:0; padding: 0}\n",
       ".list-inline>li {display: inline-block}\n",
       ".list-inline>li:not(:last-child)::after {content: \"\\00b7\"; padding: 0 .5ex}\n",
       "</style>\n",
       "<ol class=list-inline><li>455</li><li>18</li></ol>\n"
      ],
      "text/latex": [
       "\\begin{enumerate*}\n",
       "\\item 455\n",
       "\\item 18\n",
       "\\end{enumerate*}\n"
      ],
      "text/markdown": [
       "1. 455\n",
       "2. 18\n",
       "\n",
       "\n"
      ],
      "text/plain": [
       "[1] 455  18"
      ]
     },
     "metadata": {},
     "output_type": "display_data"
    },
    {
     "data": {
      "text/html": [
       "<table class=\"dataframe\">\n",
       "<caption>A data.frame: 6 × 18</caption>\n",
       "<thead>\n",
       "\t<tr><th></th><th scope=col>experience_levelEX</th><th scope=col>experience_levelMI</th><th scope=col>experience_levelSE</th><th scope=col>employment_typeFL</th><th scope=col>employment_typeFT</th><th scope=col>employment_typePT</th><th scope=col>remote_ratio</th><th scope=col>company_sizeM</th><th scope=col>company_sizeS</th><th scope=col>contasia</th><th scope=col>contno_am</th><th scope=col>contoce</th><th scope=col>contso_am</th><th scope=col>fieldData Engineering</th><th scope=col>fieldData Science</th><th scope=col>fieldMachine Learning</th><th scope=col>fieldOther</th><th scope=col>salary_in_usd</th></tr>\n",
       "\t<tr><th></th><th scope=col>&lt;dbl&gt;</th><th scope=col>&lt;dbl&gt;</th><th scope=col>&lt;dbl&gt;</th><th scope=col>&lt;dbl&gt;</th><th scope=col>&lt;dbl&gt;</th><th scope=col>&lt;dbl&gt;</th><th scope=col>&lt;dbl&gt;</th><th scope=col>&lt;dbl&gt;</th><th scope=col>&lt;dbl&gt;</th><th scope=col>&lt;dbl&gt;</th><th scope=col>&lt;dbl&gt;</th><th scope=col>&lt;dbl&gt;</th><th scope=col>&lt;dbl&gt;</th><th scope=col>&lt;dbl&gt;</th><th scope=col>&lt;dbl&gt;</th><th scope=col>&lt;dbl&gt;</th><th scope=col>&lt;dbl&gt;</th><th scope=col>&lt;dbl&gt;</th></tr>\n",
       "</thead>\n",
       "<tbody>\n",
       "\t<tr><th scope=row>1</th><td>0</td><td>0</td><td>1</td><td>0</td><td>1</td><td>0</td><td>100</td><td>0</td><td>0</td><td>0</td><td>1</td><td>0</td><td>0</td><td>0</td><td>0</td><td>0</td><td>0</td><td>140000</td></tr>\n",
       "\t<tr><th scope=row>2</th><td>0</td><td>0</td><td>1</td><td>0</td><td>1</td><td>0</td><td>100</td><td>1</td><td>0</td><td>0</td><td>1</td><td>0</td><td>0</td><td>0</td><td>1</td><td>0</td><td>0</td><td>140000</td></tr>\n",
       "\t<tr><th scope=row>3</th><td>0</td><td>1</td><td>0</td><td>0</td><td>1</td><td>0</td><td>100</td><td>0</td><td>0</td><td>0</td><td>1</td><td>0</td><td>0</td><td>0</td><td>0</td><td>0</td><td>0</td><td>135000</td></tr>\n",
       "\t<tr><th scope=row>4</th><td>0</td><td>1</td><td>0</td><td>0</td><td>1</td><td>0</td><td> 50</td><td>0</td><td>0</td><td>0</td><td>1</td><td>0</td><td>0</td><td>0</td><td>1</td><td>0</td><td>0</td><td>130000</td></tr>\n",
       "\t<tr><th scope=row>5</th><td>0</td><td>1</td><td>0</td><td>0</td><td>1</td><td>0</td><td>  0</td><td>1</td><td>0</td><td>0</td><td>0</td><td>0</td><td>0</td><td>0</td><td>1</td><td>0</td><td>0</td><td> 39263</td></tr>\n",
       "\t<tr><th scope=row>6</th><td>0</td><td>0</td><td>1</td><td>0</td><td>1</td><td>0</td><td>  0</td><td>1</td><td>0</td><td>0</td><td>1</td><td>0</td><td>0</td><td>0</td><td>1</td><td>0</td><td>0</td><td>205300</td></tr>\n",
       "</tbody>\n",
       "</table>\n"
      ],
      "text/latex": [
       "A data.frame: 6 × 18\n",
       "\\begin{tabular}{r|llllllllllllllllll}\n",
       "  & experience\\_levelEX & experience\\_levelMI & experience\\_levelSE & employment\\_typeFL & employment\\_typeFT & employment\\_typePT & remote\\_ratio & company\\_sizeM & company\\_sizeS & contasia & contno\\_am & contoce & contso\\_am & fieldData Engineering & fieldData Science & fieldMachine Learning & fieldOther & salary\\_in\\_usd\\\\\n",
       "  & <dbl> & <dbl> & <dbl> & <dbl> & <dbl> & <dbl> & <dbl> & <dbl> & <dbl> & <dbl> & <dbl> & <dbl> & <dbl> & <dbl> & <dbl> & <dbl> & <dbl> & <dbl>\\\\\n",
       "\\hline\n",
       "\t1 & 0 & 0 & 1 & 0 & 1 & 0 & 100 & 0 & 0 & 0 & 1 & 0 & 0 & 0 & 0 & 0 & 0 & 140000\\\\\n",
       "\t2 & 0 & 0 & 1 & 0 & 1 & 0 & 100 & 1 & 0 & 0 & 1 & 0 & 0 & 0 & 1 & 0 & 0 & 140000\\\\\n",
       "\t3 & 0 & 1 & 0 & 0 & 1 & 0 & 100 & 0 & 0 & 0 & 1 & 0 & 0 & 0 & 0 & 0 & 0 & 135000\\\\\n",
       "\t4 & 0 & 1 & 0 & 0 & 1 & 0 &  50 & 0 & 0 & 0 & 1 & 0 & 0 & 0 & 1 & 0 & 0 & 130000\\\\\n",
       "\t5 & 0 & 1 & 0 & 0 & 1 & 0 &   0 & 1 & 0 & 0 & 0 & 0 & 0 & 0 & 1 & 0 & 0 &  39263\\\\\n",
       "\t6 & 0 & 0 & 1 & 0 & 1 & 0 &   0 & 1 & 0 & 0 & 1 & 0 & 0 & 0 & 1 & 0 & 0 & 205300\\\\\n",
       "\\end{tabular}\n"
      ],
      "text/markdown": [
       "\n",
       "A data.frame: 6 × 18\n",
       "\n",
       "| <!--/--> | experience_levelEX &lt;dbl&gt; | experience_levelMI &lt;dbl&gt; | experience_levelSE &lt;dbl&gt; | employment_typeFL &lt;dbl&gt; | employment_typeFT &lt;dbl&gt; | employment_typePT &lt;dbl&gt; | remote_ratio &lt;dbl&gt; | company_sizeM &lt;dbl&gt; | company_sizeS &lt;dbl&gt; | contasia &lt;dbl&gt; | contno_am &lt;dbl&gt; | contoce &lt;dbl&gt; | contso_am &lt;dbl&gt; | fieldData Engineering &lt;dbl&gt; | fieldData Science &lt;dbl&gt; | fieldMachine Learning &lt;dbl&gt; | fieldOther &lt;dbl&gt; | salary_in_usd &lt;dbl&gt; |\n",
       "|---|---|---|---|---|---|---|---|---|---|---|---|---|---|---|---|---|---|---|\n",
       "| 1 | 0 | 0 | 1 | 0 | 1 | 0 | 100 | 0 | 0 | 0 | 1 | 0 | 0 | 0 | 0 | 0 | 0 | 140000 |\n",
       "| 2 | 0 | 0 | 1 | 0 | 1 | 0 | 100 | 1 | 0 | 0 | 1 | 0 | 0 | 0 | 1 | 0 | 0 | 140000 |\n",
       "| 3 | 0 | 1 | 0 | 0 | 1 | 0 | 100 | 0 | 0 | 0 | 1 | 0 | 0 | 0 | 0 | 0 | 0 | 135000 |\n",
       "| 4 | 0 | 1 | 0 | 0 | 1 | 0 |  50 | 0 | 0 | 0 | 1 | 0 | 0 | 0 | 1 | 0 | 0 | 130000 |\n",
       "| 5 | 0 | 1 | 0 | 0 | 1 | 0 |   0 | 1 | 0 | 0 | 0 | 0 | 0 | 0 | 1 | 0 | 0 |  39263 |\n",
       "| 6 | 0 | 0 | 1 | 0 | 1 | 0 |   0 | 1 | 0 | 0 | 1 | 0 | 0 | 0 | 1 | 0 | 0 | 205300 |\n",
       "\n"
      ],
      "text/plain": [
       "  experience_levelEX experience_levelMI experience_levelSE employment_typeFL\n",
       "1 0                  0                  1                  0                \n",
       "2 0                  0                  1                  0                \n",
       "3 0                  1                  0                  0                \n",
       "4 0                  1                  0                  0                \n",
       "5 0                  1                  0                  0                \n",
       "6 0                  0                  1                  0                \n",
       "  employment_typeFT employment_typePT remote_ratio company_sizeM company_sizeS\n",
       "1 1                 0                 100          0             0            \n",
       "2 1                 0                 100          1             0            \n",
       "3 1                 0                 100          0             0            \n",
       "4 1                 0                  50          0             0            \n",
       "5 1                 0                   0          1             0            \n",
       "6 1                 0                   0          1             0            \n",
       "  contasia contno_am contoce contso_am fieldData Engineering fieldData Science\n",
       "1 0        1         0       0         0                     0                \n",
       "2 0        1         0       0         0                     1                \n",
       "3 0        1         0       0         0                     0                \n",
       "4 0        1         0       0         0                     1                \n",
       "5 0        0         0       0         0                     1                \n",
       "6 0        1         0       0         0                     1                \n",
       "  fieldMachine Learning fieldOther salary_in_usd\n",
       "1 0                     0          140000       \n",
       "2 0                     0          140000       \n",
       "3 0                     0          135000       \n",
       "4 0                     0          130000       \n",
       "5 0                     0           39263       \n",
       "6 0                     0          205300       "
      ]
     },
     "metadata": {},
     "output_type": "display_data"
    }
   ],
   "source": [
    "# Configuring the training data matrix\n",
    "# Remove intercept column (first column in the matrix)\n",
    "train_no_int <- model_matrix[, -1]\n",
    "training_subset <- as.data.frame(train_no_int) %>%\n",
    "    bind_cols(salary_in_usd = train_data$salary_in_usd) %>%\n",
    "    select(all_of(selected_var), salary_in_usd)\n",
    "dim(training_subset)\n",
    "head(training_subset)"
   ]
  },
  {
   "cell_type": "code",
   "execution_count": 22,
   "metadata": {
    "vscode": {
     "languageId": "r"
    }
   },
   "outputs": [],
   "source": [
    "# Fitting the reduced OLS using variables selected\n",
    "forward_OLS <- lm(salary_in_usd ~ ., data = training_subset)"
   ]
  },
  {
   "cell_type": "code",
   "execution_count": 23,
   "metadata": {
    "vscode": {
     "languageId": "r"
    }
   },
   "outputs": [
    {
     "data": {
      "text/html": [
       "<style>\n",
       ".list-inline {list-style: none; margin:0; padding: 0}\n",
       ".list-inline>li {display: inline-block}\n",
       ".list-inline>li:not(:last-child)::after {content: \"\\00b7\"; padding: 0 .5ex}\n",
       "</style>\n",
       "<ol class=list-inline><li>152</li><li>18</li></ol>\n"
      ],
      "text/latex": [
       "\\begin{enumerate*}\n",
       "\\item 152\n",
       "\\item 18\n",
       "\\end{enumerate*}\n"
      ],
      "text/markdown": [
       "1. 152\n",
       "2. 18\n",
       "\n",
       "\n"
      ],
      "text/plain": [
       "[1] 152  18"
      ]
     },
     "metadata": {},
     "output_type": "display_data"
    },
    {
     "data": {
      "text/html": [
       "<table class=\"dataframe\">\n",
       "<caption>A data.frame: 6 × 18</caption>\n",
       "<thead>\n",
       "\t<tr><th></th><th scope=col>experience_levelEX</th><th scope=col>experience_levelMI</th><th scope=col>experience_levelSE</th><th scope=col>employment_typeFL</th><th scope=col>employment_typeFT</th><th scope=col>employment_typePT</th><th scope=col>remote_ratio</th><th scope=col>company_sizeM</th><th scope=col>company_sizeS</th><th scope=col>contasia</th><th scope=col>contno_am</th><th scope=col>contoce</th><th scope=col>contso_am</th><th scope=col>fieldData Engineering</th><th scope=col>fieldData Science</th><th scope=col>fieldMachine Learning</th><th scope=col>fieldOther</th><th scope=col>salary_in_usd</th></tr>\n",
       "\t<tr><th></th><th scope=col>&lt;dbl&gt;</th><th scope=col>&lt;dbl&gt;</th><th scope=col>&lt;dbl&gt;</th><th scope=col>&lt;dbl&gt;</th><th scope=col>&lt;dbl&gt;</th><th scope=col>&lt;dbl&gt;</th><th scope=col>&lt;dbl&gt;</th><th scope=col>&lt;dbl&gt;</th><th scope=col>&lt;dbl&gt;</th><th scope=col>&lt;dbl&gt;</th><th scope=col>&lt;dbl&gt;</th><th scope=col>&lt;dbl&gt;</th><th scope=col>&lt;dbl&gt;</th><th scope=col>&lt;dbl&gt;</th><th scope=col>&lt;dbl&gt;</th><th scope=col>&lt;dbl&gt;</th><th scope=col>&lt;dbl&gt;</th><th scope=col>&lt;dbl&gt;</th></tr>\n",
       "</thead>\n",
       "<tbody>\n",
       "\t<tr><th scope=row>1</th><td>0</td><td>0</td><td>1</td><td>0</td><td>1</td><td>0</td><td>  0</td><td>0</td><td>1</td><td>1</td><td>0</td><td>0</td><td>0</td><td>0</td><td>0</td><td>1</td><td>0</td><td>260000</td></tr>\n",
       "\t<tr><th scope=row>2</th><td>0</td><td>1</td><td>0</td><td>0</td><td>1</td><td>0</td><td>  0</td><td>0</td><td>1</td><td>0</td><td>1</td><td>0</td><td>0</td><td>0</td><td>0</td><td>0</td><td>0</td><td> 20000</td></tr>\n",
       "\t<tr><th scope=row>3</th><td>0</td><td>0</td><td>0</td><td>0</td><td>1</td><td>0</td><td>100</td><td>0</td><td>0</td><td>0</td><td>1</td><td>0</td><td>0</td><td>0</td><td>0</td><td>0</td><td>0</td><td> 72000</td></tr>\n",
       "\t<tr><th scope=row>4</th><td>0</td><td>1</td><td>0</td><td>0</td><td>1</td><td>0</td><td> 50</td><td>0</td><td>0</td><td>0</td><td>0</td><td>0</td><td>0</td><td>0</td><td>1</td><td>0</td><td>0</td><td> 35735</td></tr>\n",
       "\t<tr><th scope=row>5</th><td>0</td><td>1</td><td>0</td><td>0</td><td>1</td><td>0</td><td>100</td><td>0</td><td>0</td><td>0</td><td>1</td><td>0</td><td>0</td><td>0</td><td>0</td><td>0</td><td>0</td><td> 87000</td></tr>\n",
       "\t<tr><th scope=row>6</th><td>0</td><td>0</td><td>0</td><td>0</td><td>1</td><td>0</td><td>100</td><td>0</td><td>1</td><td>1</td><td>0</td><td>0</td><td>0</td><td>1</td><td>0</td><td>0</td><td>0</td><td> 41689</td></tr>\n",
       "</tbody>\n",
       "</table>\n"
      ],
      "text/latex": [
       "A data.frame: 6 × 18\n",
       "\\begin{tabular}{r|llllllllllllllllll}\n",
       "  & experience\\_levelEX & experience\\_levelMI & experience\\_levelSE & employment\\_typeFL & employment\\_typeFT & employment\\_typePT & remote\\_ratio & company\\_sizeM & company\\_sizeS & contasia & contno\\_am & contoce & contso\\_am & fieldData Engineering & fieldData Science & fieldMachine Learning & fieldOther & salary\\_in\\_usd\\\\\n",
       "  & <dbl> & <dbl> & <dbl> & <dbl> & <dbl> & <dbl> & <dbl> & <dbl> & <dbl> & <dbl> & <dbl> & <dbl> & <dbl> & <dbl> & <dbl> & <dbl> & <dbl> & <dbl>\\\\\n",
       "\\hline\n",
       "\t1 & 0 & 0 & 1 & 0 & 1 & 0 &   0 & 0 & 1 & 1 & 0 & 0 & 0 & 0 & 0 & 1 & 0 & 260000\\\\\n",
       "\t2 & 0 & 1 & 0 & 0 & 1 & 0 &   0 & 0 & 1 & 0 & 1 & 0 & 0 & 0 & 0 & 0 & 0 &  20000\\\\\n",
       "\t3 & 0 & 0 & 0 & 0 & 1 & 0 & 100 & 0 & 0 & 0 & 1 & 0 & 0 & 0 & 0 & 0 & 0 &  72000\\\\\n",
       "\t4 & 0 & 1 & 0 & 0 & 1 & 0 &  50 & 0 & 0 & 0 & 0 & 0 & 0 & 0 & 1 & 0 & 0 &  35735\\\\\n",
       "\t5 & 0 & 1 & 0 & 0 & 1 & 0 & 100 & 0 & 0 & 0 & 1 & 0 & 0 & 0 & 0 & 0 & 0 &  87000\\\\\n",
       "\t6 & 0 & 0 & 0 & 0 & 1 & 0 & 100 & 0 & 1 & 1 & 0 & 0 & 0 & 1 & 0 & 0 & 0 &  41689\\\\\n",
       "\\end{tabular}\n"
      ],
      "text/markdown": [
       "\n",
       "A data.frame: 6 × 18\n",
       "\n",
       "| <!--/--> | experience_levelEX &lt;dbl&gt; | experience_levelMI &lt;dbl&gt; | experience_levelSE &lt;dbl&gt; | employment_typeFL &lt;dbl&gt; | employment_typeFT &lt;dbl&gt; | employment_typePT &lt;dbl&gt; | remote_ratio &lt;dbl&gt; | company_sizeM &lt;dbl&gt; | company_sizeS &lt;dbl&gt; | contasia &lt;dbl&gt; | contno_am &lt;dbl&gt; | contoce &lt;dbl&gt; | contso_am &lt;dbl&gt; | fieldData Engineering &lt;dbl&gt; | fieldData Science &lt;dbl&gt; | fieldMachine Learning &lt;dbl&gt; | fieldOther &lt;dbl&gt; | salary_in_usd &lt;dbl&gt; |\n",
       "|---|---|---|---|---|---|---|---|---|---|---|---|---|---|---|---|---|---|---|\n",
       "| 1 | 0 | 0 | 1 | 0 | 1 | 0 |   0 | 0 | 1 | 1 | 0 | 0 | 0 | 0 | 0 | 1 | 0 | 260000 |\n",
       "| 2 | 0 | 1 | 0 | 0 | 1 | 0 |   0 | 0 | 1 | 0 | 1 | 0 | 0 | 0 | 0 | 0 | 0 |  20000 |\n",
       "| 3 | 0 | 0 | 0 | 0 | 1 | 0 | 100 | 0 | 0 | 0 | 1 | 0 | 0 | 0 | 0 | 0 | 0 |  72000 |\n",
       "| 4 | 0 | 1 | 0 | 0 | 1 | 0 |  50 | 0 | 0 | 0 | 0 | 0 | 0 | 0 | 1 | 0 | 0 |  35735 |\n",
       "| 5 | 0 | 1 | 0 | 0 | 1 | 0 | 100 | 0 | 0 | 0 | 1 | 0 | 0 | 0 | 0 | 0 | 0 |  87000 |\n",
       "| 6 | 0 | 0 | 0 | 0 | 1 | 0 | 100 | 0 | 1 | 1 | 0 | 0 | 0 | 1 | 0 | 0 | 0 |  41689 |\n",
       "\n"
      ],
      "text/plain": [
       "  experience_levelEX experience_levelMI experience_levelSE employment_typeFL\n",
       "1 0                  0                  1                  0                \n",
       "2 0                  1                  0                  0                \n",
       "3 0                  0                  0                  0                \n",
       "4 0                  1                  0                  0                \n",
       "5 0                  1                  0                  0                \n",
       "6 0                  0                  0                  0                \n",
       "  employment_typeFT employment_typePT remote_ratio company_sizeM company_sizeS\n",
       "1 1                 0                   0          0             1            \n",
       "2 1                 0                   0          0             1            \n",
       "3 1                 0                 100          0             0            \n",
       "4 1                 0                  50          0             0            \n",
       "5 1                 0                 100          0             0            \n",
       "6 1                 0                 100          0             1            \n",
       "  contasia contno_am contoce contso_am fieldData Engineering fieldData Science\n",
       "1 1        0         0       0         0                     0                \n",
       "2 0        1         0       0         0                     0                \n",
       "3 0        1         0       0         0                     0                \n",
       "4 0        0         0       0         0                     1                \n",
       "5 0        1         0       0         0                     0                \n",
       "6 1        0         0       0         1                     0                \n",
       "  fieldMachine Learning fieldOther salary_in_usd\n",
       "1 1                     0          260000       \n",
       "2 0                     0           20000       \n",
       "3 0                     0           72000       \n",
       "4 0                     0           35735       \n",
       "5 0                     0           87000       \n",
       "6 0                     0           41689       "
      ]
     },
     "metadata": {},
     "output_type": "display_data"
    }
   ],
   "source": [
    "# Preparing the testing matrix (without modifying the content)\n",
    "testing_matrix <- model.matrix(salary_in_usd ~ ., data = test_data)\n",
    "test_no_int <- testing_matrix[, -1]\n",
    "testing_subset <- as.data.frame(test_no_int)\n",
    "missing_vars <- setdiff(selected_var, colnames(testing_subset))\n",
    "if (length(missing_vars) > 0) {\n",
    "  # Add missing columns for selected variables to the test set (set to zero for missing dummies)\n",
    "  testing_subset[missing_vars] <- 0\n",
    "}\n",
    "testing_subset <- testing_subset %>%            \n",
    "    bind_cols(salary_in_usd = test_data$salary_in_usd) %>%\n",
    "    select(all_of(selected_var), salary_in_usd)\n",
    "dim(testing_subset)\n",
    "head(testing_subset)"
   ]
  },
  {
   "cell_type": "code",
   "execution_count": 24,
   "metadata": {
    "vscode": {
     "languageId": "r"
    }
   },
   "outputs": [],
   "source": [
    "test_data_final <- modelr::add_predictions(testing_subset, forward_OLS, var = \"pred_red_OLS\")"
   ]
  },
  {
   "cell_type": "markdown",
   "metadata": {},
   "source": [
    "## OLS selected using Forward Selection, Model Evaluation"
   ]
  },
  {
   "cell_type": "code",
   "execution_count": 25,
   "metadata": {
    "vscode": {
     "languageId": "r"
    }
   },
   "outputs": [
    {
     "data": {
      "text/html": [
       "<table class=\"dataframe\">\n",
       "<caption>A tibble: 3 × 2</caption>\n",
       "<thead>\n",
       "\t<tr><th scope=col>Metric</th><th scope=col>Value</th></tr>\n",
       "\t<tr><th scope=col>&lt;chr&gt;</th><th scope=col>&lt;dbl&gt;</th></tr>\n",
       "</thead>\n",
       "<tbody>\n",
       "\t<tr><td>RMSE              </td><td>48647.0980660</td></tr>\n",
       "\t<tr><td>R-squared         </td><td>    0.4130371</td></tr>\n",
       "\t<tr><td>Adjusted R-squared</td><td>    0.3385716</td></tr>\n",
       "</tbody>\n",
       "</table>\n"
      ],
      "text/latex": [
       "A tibble: 3 × 2\n",
       "\\begin{tabular}{ll}\n",
       " Metric & Value\\\\\n",
       " <chr> & <dbl>\\\\\n",
       "\\hline\n",
       "\t RMSE               & 48647.0980660\\\\\n",
       "\t R-squared          &     0.4130371\\\\\n",
       "\t Adjusted R-squared &     0.3385716\\\\\n",
       "\\end{tabular}\n"
      ],
      "text/markdown": [
       "\n",
       "A tibble: 3 × 2\n",
       "\n",
       "| Metric &lt;chr&gt; | Value &lt;dbl&gt; |\n",
       "|---|---|\n",
       "| RMSE               | 48647.0980660 |\n",
       "| R-squared          |     0.4130371 |\n",
       "| Adjusted R-squared |     0.3385716 |\n",
       "\n"
      ],
      "text/plain": [
       "  Metric             Value        \n",
       "1 RMSE               48647.0980660\n",
       "2 R-squared              0.4130371\n",
       "3 Adjusted R-squared     0.3385716"
      ]
     },
     "metadata": {},
     "output_type": "display_data"
    }
   ],
   "source": [
    "# Prevent scientific notation\n",
    "\n",
    "options(scipen = 999)\n",
    "\n",
    "# Calculate RMSE\n",
    "rmse_test <- test_data_final %>%\n",
    "    metrics(truth = salary_in_usd, estimate = pred_red_OLS) %>%\n",
    "    filter(.metric == \"rmse\") %>%\n",
    "    select(.estimate) %>%\n",
    "    pull()\n",
    "\n",
    "# Calculate R-squared\n",
    "rsq_test <- test_data_final %>%\n",
    "    metrics(truth = salary_in_usd, estimate = pred_red_OLS) %>%\n",
    "    filter(.metric == \"rsq\") %>%\n",
    "    select(.estimate) %>%\n",
    "    pull()\n",
    "\n",
    "n <- nrow(test_data)  \n",
    "p <- length(selected_var)  \n",
    "\n",
    "# Calculate Adjusted R-squared\n",
    "adj_rsq_test <- 1 - ((1 - rsq_test) * (n - 1)) / (n - p - 1)\n",
    "\n",
    "# Print results\n",
    "results_table <- tibble(\n",
    "  Metric = c(\"RMSE\", \"R-squared\", \"Adjusted R-squared\"),\n",
    "  Value = c(rmse_test, rsq_test, adj_rsq_test)\n",
    ")\n",
    "results_table"
   ]
  },
  {
   "cell_type": "code",
   "execution_count": null,
   "metadata": {
    "vscode": {
     "languageId": "r"
    }
   },
   "outputs": [
    {
     "data": {
      "text/html": [
       "<table class=\"dataframe\">\n",
       "<caption>A tibble: 6 × 3</caption>\n",
       "<thead>\n",
       "\t<tr><th scope=col>Metric</th><th scope=col>Value</th><th scope=col>Model</th></tr>\n",
       "\t<tr><th scope=col>&lt;chr&gt;</th><th scope=col>&lt;dbl&gt;</th><th scope=col>&lt;chr&gt;</th></tr>\n",
       "</thead>\n",
       "<tbody>\n",
       "\t<tr><td>RMSE              </td><td>48647.0980660</td><td>Reduced Model</td></tr>\n",
       "\t<tr><td>R-squared         </td><td>    0.4130371</td><td>Reduced Model</td></tr>\n",
       "\t<tr><td>Adjusted R-squared</td><td>    0.3385716</td><td>Reduced Model</td></tr>\n",
       "\t<tr><td>RMSE              </td><td>48660.0508354</td><td>Full Model   </td></tr>\n",
       "\t<tr><td>R-squared         </td><td>    0.4118970</td><td>Full Model   </td></tr>\n",
       "\t<tr><td>Adjusted R-squared</td><td>    0.3833087</td><td>Full Model   </td></tr>\n",
       "</tbody>\n",
       "</table>\n"
      ],
      "text/latex": [
       "A tibble: 6 × 3\n",
       "\\begin{tabular}{lll}\n",
       " Metric & Value & Model\\\\\n",
       " <chr> & <dbl> & <chr>\\\\\n",
       "\\hline\n",
       "\t RMSE               & 48647.0980660 & Reduced Model\\\\\n",
       "\t R-squared          &     0.4130371 & Reduced Model\\\\\n",
       "\t Adjusted R-squared &     0.3385716 & Reduced Model\\\\\n",
       "\t RMSE               & 48660.0508354 & Full Model   \\\\\n",
       "\t R-squared          &     0.4118970 & Full Model   \\\\\n",
       "\t Adjusted R-squared &     0.3833087 & Full Model   \\\\\n",
       "\\end{tabular}\n"
      ],
      "text/markdown": [
       "\n",
       "A tibble: 6 × 3\n",
       "\n",
       "| Metric &lt;chr&gt; | Value &lt;dbl&gt; | Model &lt;chr&gt; |\n",
       "|---|---|---|\n",
       "| RMSE               | 48647.0980660 | Reduced Model |\n",
       "| R-squared          |     0.4130371 | Reduced Model |\n",
       "| Adjusted R-squared |     0.3385716 | Reduced Model |\n",
       "| RMSE               | 48660.0508354 | Full Model    |\n",
       "| R-squared          |     0.4118970 | Full Model    |\n",
       "| Adjusted R-squared |     0.3833087 | Full Model    |\n",
       "\n"
      ],
      "text/plain": [
       "  Metric             Value         Model        \n",
       "1 RMSE               48647.0980660 Reduced Model\n",
       "2 R-squared              0.4130371 Reduced Model\n",
       "3 Adjusted R-squared     0.3385716 Reduced Model\n",
       "4 RMSE               48660.0508354 Full Model   \n",
       "5 R-squared              0.4118970 Full Model   \n",
       "6 Adjusted R-squared     0.3833087 Full Model   "
      ]
     },
     "metadata": {},
     "output_type": "display_data"
    }
   ],
   "source": [
    "# Main Developer: Morgan \n",
    "full_model <- lm(salary_in_usd ~ ., data = train_data)\n",
    "\n",
    "test_data_full <- modelr::add_predictions(test_data, full_model, var = \"pred_full\")\n",
    "\n",
    "# Calculate RMSE for the full model\n",
    "rmse_full <- test_data_full %>%\n",
    "  metrics(truth = salary_in_usd, estimate = pred_full) %>%\n",
    "  filter(.metric == \"rmse\") %>%\n",
    "  select(.estimate) %>%\n",
    "  pull()\n",
    "\n",
    "# Calculate R-squared for the full model\n",
    "rsq_full <- test_data_full %>%\n",
    "  metrics(truth = salary_in_usd, estimate = pred_full) %>%\n",
    "  filter(.metric == \"rsq\") %>%\n",
    "  select(.estimate) %>%\n",
    "  pull()\n",
    "\n",
    "# Calculate Adjusted R-squared for the full model\n",
    "adj_rsq_full <- 1 - ((1 - rsq_full) * (n - 1)) / (n - ncol(train_data) - 1)\n",
    "\n",
    "# Print results for the full model\n",
    "full_model_results <- tibble(\n",
    "  Metric = c(\"RMSE\", \"R-squared\", \"Adjusted R-squared\"),\n",
    "  Value = c(rmse_full, rsq_full, adj_rsq_full)\n",
    ")\n",
    "\n",
    "# Combine results for comparison\n",
    "comparison_results <- bind_rows(\n",
    "  results_table %>% mutate(Model = \"Reduced Model\"),\n",
    "  full_model_results %>% mutate(Model = \"Full Model\")\n",
    ")\n",
    "\n",
    "comparison_results"
   ]
  },
  {
   "cell_type": "markdown",
   "metadata": {},
   "source": [
    "## Discussion"
   ]
  },
  {
   "cell_type": "markdown",
   "metadata": {},
   "source": [
    "## References"
   ]
  }
 ],
 "metadata": {
  "kernelspec": {
   "display_name": "R",
   "language": "R",
   "name": "ir"
  },
  "language_info": {
   "codemirror_mode": "r",
   "file_extension": ".r",
   "mimetype": "text/x-r-source",
   "name": "R",
   "pygments_lexer": "r",
   "version": "4.4.2"
  }
 },
 "nbformat": 4,
 "nbformat_minor": 4
}
