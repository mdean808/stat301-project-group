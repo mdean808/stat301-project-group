{
 "cells": [
  {
   "cell_type": "markdown",
   "metadata": {},
   "source": [
    "## Introduction"
   ]
  },
  {
   "cell_type": "markdown",
   "metadata": {},
   "source": [
    "## Methods and Results"
   ]
  },
  {
   "cell_type": "code",
   "execution_count": 1,
   "metadata": {
    "vscode": {
     "languageId": "r"
    }
   },
   "outputs": [
    {
     "name": "stderr",
     "output_type": "stream",
     "text": [
      "\n",
      "Attaching package: ‘dplyr’\n",
      "\n",
      "\n",
      "The following object is masked from ‘package:gridExtra’:\n",
      "\n",
      "    combine\n",
      "\n",
      "\n",
      "The following objects are masked from ‘package:stats’:\n",
      "\n",
      "    filter, lag\n",
      "\n",
      "\n",
      "The following objects are masked from ‘package:base’:\n",
      "\n",
      "    intersect, setdiff, setequal, union\n",
      "\n",
      "\n",
      "Loading required package: Matrix\n",
      "\n",
      "Loaded glmnet 4.1-8\n",
      "\n",
      "\n",
      "Attaching package: ‘modelr’\n",
      "\n",
      "\n",
      "The following objects are masked from ‘package:mltools’:\n",
      "\n",
      "    mse, rmse\n",
      "\n",
      "\n",
      "The following object is masked from ‘package:broom’:\n",
      "\n",
      "    bootstrap\n",
      "\n",
      "\n",
      "── \u001b[1mAttaching core tidyverse packages\u001b[22m ──────────────────────── tidyverse 2.0.0 ──\n",
      "\u001b[32m✔\u001b[39m \u001b[34mforcats  \u001b[39m 1.0.0     \u001b[32m✔\u001b[39m \u001b[34mreadr    \u001b[39m 2.1.5\n",
      "\u001b[32m✔\u001b[39m \u001b[34mggplot2  \u001b[39m 3.5.1     \u001b[32m✔\u001b[39m \u001b[34mstringr  \u001b[39m 1.5.1\n",
      "\u001b[32m✔\u001b[39m \u001b[34mlubridate\u001b[39m 1.9.3     \u001b[32m✔\u001b[39m \u001b[34mtibble   \u001b[39m 3.2.1\n",
      "\u001b[32m✔\u001b[39m \u001b[34mpurrr    \u001b[39m 1.0.2     \u001b[32m✔\u001b[39m \u001b[34mtidyr    \u001b[39m 1.3.1\n",
      "── \u001b[1mConflicts\u001b[22m ────────────────────────────────────────── tidyverse_conflicts() ──\n",
      "\u001b[31m✖\u001b[39m \u001b[34mmodelr\u001b[39m::\u001b[32mbootstrap()\u001b[39m masks \u001b[34mbroom\u001b[39m::bootstrap()\n",
      "\u001b[31m✖\u001b[39m \u001b[34mdplyr\u001b[39m::\u001b[32mcombine()\u001b[39m    masks \u001b[34mgridExtra\u001b[39m::combine()\n",
      "\u001b[31m✖\u001b[39m \u001b[34mtidyr\u001b[39m::\u001b[32mexpand()\u001b[39m     masks \u001b[34mMatrix\u001b[39m::expand()\n",
      "\u001b[31m✖\u001b[39m \u001b[34mdplyr\u001b[39m::\u001b[32mfilter()\u001b[39m     masks \u001b[34mstats\u001b[39m::filter()\n",
      "\u001b[31m✖\u001b[39m \u001b[34mdplyr\u001b[39m::\u001b[32mlag()\u001b[39m        masks \u001b[34mstats\u001b[39m::lag()\n",
      "\u001b[31m✖\u001b[39m \u001b[34mmodelr\u001b[39m::\u001b[32mmse()\u001b[39m       masks \u001b[34mmltools\u001b[39m::mse()\n",
      "\u001b[31m✖\u001b[39m \u001b[34mtidyr\u001b[39m::\u001b[32mpack()\u001b[39m       masks \u001b[34mMatrix\u001b[39m::pack()\n",
      "\u001b[31m✖\u001b[39m \u001b[34mtidyr\u001b[39m::\u001b[32mreplace_na()\u001b[39m masks \u001b[34mmltools\u001b[39m::replace_na()\n",
      "\u001b[31m✖\u001b[39m \u001b[34mmodelr\u001b[39m::\u001b[32mrmse()\u001b[39m      masks \u001b[34mmltools\u001b[39m::rmse()\n",
      "\u001b[31m✖\u001b[39m \u001b[34mlubridate\u001b[39m::\u001b[32mstamp()\u001b[39m  masks \u001b[34mcowplot\u001b[39m::stamp()\n",
      "\u001b[31m✖\u001b[39m \u001b[34mtidyr\u001b[39m::\u001b[32munpack()\u001b[39m     masks \u001b[34mMatrix\u001b[39m::unpack()\n",
      "\u001b[36mℹ\u001b[39m Use the conflicted package (\u001b[3m\u001b[34m<http://conflicted.r-lib.org/>\u001b[39m\u001b[23m) to force all conflicts to become errors\n",
      "Loading required package: lattice\n",
      "\n",
      "\n",
      "Attaching package: ‘lattice’\n",
      "\n",
      "\n",
      "The following object is masked from ‘package:faraway’:\n",
      "\n",
      "    melanoma\n",
      "\n",
      "\n",
      "\n",
      "Attaching package: ‘caret’\n",
      "\n",
      "\n",
      "The following object is masked from ‘package:purrr’:\n",
      "\n",
      "    lift\n",
      "\n",
      "\n",
      "\u001b[1m\u001b[22mNew names:\n",
      "\u001b[36m•\u001b[39m `` -> `...1`\n",
      "\u001b[1mRows: \u001b[22m\u001b[34m607\u001b[39m \u001b[1mColumns: \u001b[22m\u001b[34m12\u001b[39m\n",
      "\u001b[36m──\u001b[39m \u001b[1mColumn specification\u001b[22m \u001b[36m────────────────────────────────────────────────────────\u001b[39m\n",
      "\u001b[1mDelimiter:\u001b[22m \",\"\n",
      "\u001b[31mchr\u001b[39m (7): experience_level, employment_type, job_title, salary_currency, empl...\n",
      "\u001b[32mdbl\u001b[39m (5): ...1, work_year, salary, salary_in_usd, remote_ratio\n",
      "\n",
      "\u001b[36mℹ\u001b[39m Use `spec()` to retrieve the full column specification for this data.\n",
      "\u001b[36mℹ\u001b[39m Specify the column types or set `show_col_types = FALSE` to quiet this message.\n"
     ]
    }
   ],
   "source": [
    "library(broom)\n",
    "library(repr)\n",
    "library(infer)\n",
    "library(gridExtra)\n",
    "library(faraway)\n",
    "library(mltools)\n",
    "library(leaps)\n",
    "library(dplyr)\n",
    "library(glmnet)\n",
    "library(cowplot)\n",
    "library(modelr)\n",
    "library(tidyverse)\n",
    "library(caret)\n",
    "\n",
    "salaries <- read_csv(\"data/ds_salaries.csv\")"
   ]
  },
  {
   "cell_type": "markdown",
   "metadata": {
    "vscode": {
     "languageId": "plaintext"
    }
   },
   "source": [
    "### EDA"
   ]
  },
  {
   "cell_type": "markdown",
   "metadata": {},
   "source": [
    "### Methods\n"
   ]
  },
  {
   "cell_type": "code",
   "execution_count": 5,
   "metadata": {
    "vscode": {
     "languageId": "r"
    }
   },
   "outputs": [],
   "source": [
    "# remove unnecessary variables\n",
    "preprocessed_salaries <- salaries |>\n",
    "  select(-c(\"...1\", salary_currency, work_year, salary, employee_residence))"
   ]
  },
  {
   "cell_type": "code",
   "execution_count": 6,
   "metadata": {
    "vscode": {
     "languageId": "r"
    }
   },
   "outputs": [],
   "source": [
    "# feature engineering on company_location, job_title\n",
    "no_am <- c(\"CA\", \"US\", \"MX\", \"HN\")\n",
    "so_am <- c(\"CL\", \"CO\", \"BR\")\n",
    "eur <- c(\"SI\", \"PL\", \"NL\", \"MT\", \"MO\", \"LU\", \"MD\", \"IT\", \"UA\", \n",
    "         \"IE\", \"HU\", \"HR\", \"GR\", \"GB\", \"FR\", \"ES\", \"EE\", \"DK\", \"DE\", \"AT\", \"BE\", \"CH\", \"CZ\", \"RO\", \"PT\")\n",
    "asia <- c(\"MY\", \"VN\", \"SG\", \"RU\", \"JP\", \"CN\", \"IN\", \"PK\", \"IL\", \"IQ\", \"IR\", \"TR\", \"AE\")\n",
    "afr <- c(\"KE\", \"DZ\", \"NG\")\n",
    "oce <- c(\"NZ\", \"AU\", \"AS\")"
   ]
  },
  {
   "cell_type": "code",
   "execution_count": 7,
   "metadata": {},
   "outputs": [
    {
     "data": {
      "text/html": [
       "<table class=\"dataframe\">\n",
       "<caption>A tibble: 1 × 8</caption>\n",
       "<thead>\n",
       "\t<tr><th scope=col>experience_level</th><th scope=col>employment_type</th><th scope=col>job_title</th><th scope=col>salary_in_usd</th><th scope=col>remote_ratio</th><th scope=col>company_location</th><th scope=col>company_size</th><th scope=col>cont</th></tr>\n",
       "\t<tr><th scope=col>&lt;chr&gt;</th><th scope=col>&lt;chr&gt;</th><th scope=col>&lt;chr&gt;</th><th scope=col>&lt;dbl&gt;</th><th scope=col>&lt;dbl&gt;</th><th scope=col>&lt;chr&gt;</th><th scope=col>&lt;chr&gt;</th><th scope=col>&lt;chr&gt;</th></tr>\n",
       "</thead>\n",
       "<tbody>\n",
       "\t<tr><td>MI</td><td>FT</td><td>Data Scientist</td><td>79833</td><td>0</td><td>DE</td><td>L</td><td></td></tr>\n",
       "</tbody>\n",
       "</table>\n"
      ],
      "text/latex": [
       "A tibble: 1 × 8\n",
       "\\begin{tabular}{llllllll}\n",
       " experience\\_level & employment\\_type & job\\_title & salary\\_in\\_usd & remote\\_ratio & company\\_location & company\\_size & cont\\\\\n",
       " <chr> & <chr> & <chr> & <dbl> & <dbl> & <chr> & <chr> & <chr>\\\\\n",
       "\\hline\n",
       "\t MI & FT & Data Scientist & 79833 & 0 & DE & L & \\\\\n",
       "\\end{tabular}\n"
      ],
      "text/markdown": [
       "\n",
       "A tibble: 1 × 8\n",
       "\n",
       "| experience_level &lt;chr&gt; | employment_type &lt;chr&gt; | job_title &lt;chr&gt; | salary_in_usd &lt;dbl&gt; | remote_ratio &lt;dbl&gt; | company_location &lt;chr&gt; | company_size &lt;chr&gt; | cont &lt;chr&gt; |\n",
       "|---|---|---|---|---|---|---|---|\n",
       "| MI | FT | Data Scientist | 79833 | 0 | DE | L | <!----> |\n",
       "\n"
      ],
      "text/plain": [
       "  experience_level employment_type job_title      salary_in_usd remote_ratio\n",
       "1 MI               FT              Data Scientist 79833         0           \n",
       "  company_location company_size cont\n",
       "1 DE               L                "
      ]
     },
     "metadata": {},
     "output_type": "display_data"
    }
   ],
   "source": [
    "# cont is the company location in terms of continent\n",
    "preprocessed_salaries <- preprocessed_salaries %>%\n",
    "    mutate(cont = \"\")\n",
    "\n",
    "preprocessed_salaries[1, ]"
   ]
  },
  {
   "cell_type": "code",
   "execution_count": 9,
   "metadata": {},
   "outputs": [
    {
     "data": {
      "text/html": [
       "<table class=\"dataframe\">\n",
       "<caption>A tibble: 10 × 2</caption>\n",
       "<thead>\n",
       "\t<tr><th scope=col>company_location</th><th scope=col>cont</th></tr>\n",
       "\t<tr><th scope=col>&lt;chr&gt;</th><th scope=col>&lt;chr&gt;</th></tr>\n",
       "</thead>\n",
       "<tbody>\n",
       "\t<tr><td>DE</td><td>eur  </td></tr>\n",
       "\t<tr><td>JP</td><td>asia </td></tr>\n",
       "\t<tr><td>GB</td><td>eur  </td></tr>\n",
       "\t<tr><td>HN</td><td>no_am</td></tr>\n",
       "\t<tr><td>US</td><td>no_am</td></tr>\n",
       "\t<tr><td>US</td><td>no_am</td></tr>\n",
       "\t<tr><td>US</td><td>no_am</td></tr>\n",
       "\t<tr><td>HU</td><td>eur  </td></tr>\n",
       "\t<tr><td>US</td><td>no_am</td></tr>\n",
       "\t<tr><td>NZ</td><td>oce  </td></tr>\n",
       "</tbody>\n",
       "</table>\n"
      ],
      "text/latex": [
       "A tibble: 10 × 2\n",
       "\\begin{tabular}{ll}\n",
       " company\\_location & cont\\\\\n",
       " <chr> & <chr>\\\\\n",
       "\\hline\n",
       "\t DE & eur  \\\\\n",
       "\t JP & asia \\\\\n",
       "\t GB & eur  \\\\\n",
       "\t HN & no\\_am\\\\\n",
       "\t US & no\\_am\\\\\n",
       "\t US & no\\_am\\\\\n",
       "\t US & no\\_am\\\\\n",
       "\t HU & eur  \\\\\n",
       "\t US & no\\_am\\\\\n",
       "\t NZ & oce  \\\\\n",
       "\\end{tabular}\n"
      ],
      "text/markdown": [
       "\n",
       "A tibble: 10 × 2\n",
       "\n",
       "| company_location &lt;chr&gt; | cont &lt;chr&gt; |\n",
       "|---|---|\n",
       "| DE | eur   |\n",
       "| JP | asia  |\n",
       "| GB | eur   |\n",
       "| HN | no_am |\n",
       "| US | no_am |\n",
       "| US | no_am |\n",
       "| US | no_am |\n",
       "| HU | eur   |\n",
       "| US | no_am |\n",
       "| NZ | oce   |\n",
       "\n"
      ],
      "text/plain": [
       "   company_location cont \n",
       "1  DE               eur  \n",
       "2  JP               asia \n",
       "3  GB               eur  \n",
       "4  HN               no_am\n",
       "5  US               no_am\n",
       "6  US               no_am\n",
       "7  US               no_am\n",
       "8  HU               eur  \n",
       "9  US               no_am\n",
       "10 NZ               oce  "
      ]
     },
     "metadata": {},
     "output_type": "display_data"
    }
   ],
   "source": [
    "for(i in 1:607){\n",
    "    if(preprocessed_salaries[i, ]$company_location %in% no_am){\n",
    "        preprocessed_salaries[i, ]$cont = \"no_am\"\n",
    "    } else if(preprocessed_salaries[i, ]$company_location %in% so_am) {\n",
    "        preprocessed_salaries[i, ]$cont = \"so_am\"\n",
    "    } else if(preprocessed_salaries[i, ]$company_location %in% eur){\n",
    "        preprocessed_salaries[i, ]$cont = \"eur\"\n",
    "    } else if(preprocessed_salaries[i, ]$company_location %in% asia){\n",
    "        preprocessed_salaries[i, ]$cont = \"asia\"\n",
    "    } else if(preprocessed_salaries[i, ]$company_location %in% afr){\n",
    "        preprocessed_salaries[i, ]$cont = \"afr\"\n",
    "    } else if(preprocessed_salaries[i, ]$company_location %in% oce) {\n",
    "        preprocessed_salaries[i, ]$cont = \"oce\"\n",
    "    }\n",
    "}\n",
    "\n",
    "head(select(preprocessed_salaries, company_location, cont), 10)"
   ]
  },
  {
   "cell_type": "code",
   "execution_count": 14,
   "metadata": {},
   "outputs": [
    {
     "data": {
      "text/html": [
       "<table class=\"dataframe\">\n",
       "<caption>A tibble: 50 × 2</caption>\n",
       "<thead>\n",
       "\t<tr><th scope=col>job_title</th><th scope=col>counts</th></tr>\n",
       "\t<tr><th scope=col>&lt;chr&gt;</th><th scope=col>&lt;int&gt;</th></tr>\n",
       "</thead>\n",
       "<tbody>\n",
       "\t<tr><td>3D Computer Vision Researcher           </td><td>  1</td></tr>\n",
       "\t<tr><td>AI Scientist                            </td><td>  7</td></tr>\n",
       "\t<tr><td>Analytics Engineer                      </td><td>  4</td></tr>\n",
       "\t<tr><td>Applied Data Scientist                  </td><td>  5</td></tr>\n",
       "\t<tr><td>Applied Machine Learning Scientist      </td><td>  4</td></tr>\n",
       "\t<tr><td>BI Data Analyst                         </td><td>  6</td></tr>\n",
       "\t<tr><td>Big Data Architect                      </td><td>  1</td></tr>\n",
       "\t<tr><td>Big Data Engineer                       </td><td>  8</td></tr>\n",
       "\t<tr><td>Business Data Analyst                   </td><td>  5</td></tr>\n",
       "\t<tr><td>Cloud Data Engineer                     </td><td>  2</td></tr>\n",
       "\t<tr><td>Computer Vision Engineer                </td><td>  6</td></tr>\n",
       "\t<tr><td>Computer Vision Software Engineer       </td><td>  3</td></tr>\n",
       "\t<tr><td>Data Analyst                            </td><td> 97</td></tr>\n",
       "\t<tr><td>Data Analytics Engineer                 </td><td>  4</td></tr>\n",
       "\t<tr><td>Data Analytics Lead                     </td><td>  1</td></tr>\n",
       "\t<tr><td>Data Analytics Manager                  </td><td>  7</td></tr>\n",
       "\t<tr><td>Data Architect                          </td><td> 11</td></tr>\n",
       "\t<tr><td>Data Engineer                           </td><td>132</td></tr>\n",
       "\t<tr><td>Data Engineering Manager                </td><td>  5</td></tr>\n",
       "\t<tr><td>Data Science Consultant                 </td><td>  7</td></tr>\n",
       "\t<tr><td>Data Science Engineer                   </td><td>  3</td></tr>\n",
       "\t<tr><td>Data Science Manager                    </td><td> 12</td></tr>\n",
       "\t<tr><td>Data Scientist                          </td><td>143</td></tr>\n",
       "\t<tr><td>Data Specialist                         </td><td>  1</td></tr>\n",
       "\t<tr><td>Director of Data Engineering            </td><td>  2</td></tr>\n",
       "\t<tr><td>Director of Data Science                </td><td>  7</td></tr>\n",
       "\t<tr><td>ETL Developer                           </td><td>  2</td></tr>\n",
       "\t<tr><td>Finance Data Analyst                    </td><td>  1</td></tr>\n",
       "\t<tr><td>Financial Data Analyst                  </td><td>  2</td></tr>\n",
       "\t<tr><td>Head of Data                            </td><td>  5</td></tr>\n",
       "\t<tr><td>Head of Data Science                    </td><td>  4</td></tr>\n",
       "\t<tr><td>Head of Machine Learning                </td><td>  1</td></tr>\n",
       "\t<tr><td>Lead Data Analyst                       </td><td>  3</td></tr>\n",
       "\t<tr><td>Lead Data Engineer                      </td><td>  6</td></tr>\n",
       "\t<tr><td>Lead Data Scientist                     </td><td>  3</td></tr>\n",
       "\t<tr><td>Lead Machine Learning Engineer          </td><td>  1</td></tr>\n",
       "\t<tr><td>ML Engineer                             </td><td>  6</td></tr>\n",
       "\t<tr><td>Machine Learning Developer              </td><td>  3</td></tr>\n",
       "\t<tr><td>Machine Learning Engineer               </td><td> 41</td></tr>\n",
       "\t<tr><td>Machine Learning Infrastructure Engineer</td><td>  3</td></tr>\n",
       "\t<tr><td>Machine Learning Manager                </td><td>  1</td></tr>\n",
       "\t<tr><td>Machine Learning Scientist              </td><td>  8</td></tr>\n",
       "\t<tr><td>Marketing Data Analyst                  </td><td>  1</td></tr>\n",
       "\t<tr><td>NLP Engineer                            </td><td>  1</td></tr>\n",
       "\t<tr><td>Principal Data Analyst                  </td><td>  2</td></tr>\n",
       "\t<tr><td>Principal Data Engineer                 </td><td>  3</td></tr>\n",
       "\t<tr><td>Principal Data Scientist                </td><td>  7</td></tr>\n",
       "\t<tr><td>Product Data Analyst                    </td><td>  2</td></tr>\n",
       "\t<tr><td>Research Scientist                      </td><td> 16</td></tr>\n",
       "\t<tr><td>Staff Data Scientist                    </td><td>  1</td></tr>\n",
       "</tbody>\n",
       "</table>\n"
      ],
      "text/latex": [
       "A tibble: 50 × 2\n",
       "\\begin{tabular}{ll}\n",
       " job\\_title & counts\\\\\n",
       " <chr> & <int>\\\\\n",
       "\\hline\n",
       "\t 3D Computer Vision Researcher            &   1\\\\\n",
       "\t AI Scientist                             &   7\\\\\n",
       "\t Analytics Engineer                       &   4\\\\\n",
       "\t Applied Data Scientist                   &   5\\\\\n",
       "\t Applied Machine Learning Scientist       &   4\\\\\n",
       "\t BI Data Analyst                          &   6\\\\\n",
       "\t Big Data Architect                       &   1\\\\\n",
       "\t Big Data Engineer                        &   8\\\\\n",
       "\t Business Data Analyst                    &   5\\\\\n",
       "\t Cloud Data Engineer                      &   2\\\\\n",
       "\t Computer Vision Engineer                 &   6\\\\\n",
       "\t Computer Vision Software Engineer        &   3\\\\\n",
       "\t Data Analyst                             &  97\\\\\n",
       "\t Data Analytics Engineer                  &   4\\\\\n",
       "\t Data Analytics Lead                      &   1\\\\\n",
       "\t Data Analytics Manager                   &   7\\\\\n",
       "\t Data Architect                           &  11\\\\\n",
       "\t Data Engineer                            & 132\\\\\n",
       "\t Data Engineering Manager                 &   5\\\\\n",
       "\t Data Science Consultant                  &   7\\\\\n",
       "\t Data Science Engineer                    &   3\\\\\n",
       "\t Data Science Manager                     &  12\\\\\n",
       "\t Data Scientist                           & 143\\\\\n",
       "\t Data Specialist                          &   1\\\\\n",
       "\t Director of Data Engineering             &   2\\\\\n",
       "\t Director of Data Science                 &   7\\\\\n",
       "\t ETL Developer                            &   2\\\\\n",
       "\t Finance Data Analyst                     &   1\\\\\n",
       "\t Financial Data Analyst                   &   2\\\\\n",
       "\t Head of Data                             &   5\\\\\n",
       "\t Head of Data Science                     &   4\\\\\n",
       "\t Head of Machine Learning                 &   1\\\\\n",
       "\t Lead Data Analyst                        &   3\\\\\n",
       "\t Lead Data Engineer                       &   6\\\\\n",
       "\t Lead Data Scientist                      &   3\\\\\n",
       "\t Lead Machine Learning Engineer           &   1\\\\\n",
       "\t ML Engineer                              &   6\\\\\n",
       "\t Machine Learning Developer               &   3\\\\\n",
       "\t Machine Learning Engineer                &  41\\\\\n",
       "\t Machine Learning Infrastructure Engineer &   3\\\\\n",
       "\t Machine Learning Manager                 &   1\\\\\n",
       "\t Machine Learning Scientist               &   8\\\\\n",
       "\t Marketing Data Analyst                   &   1\\\\\n",
       "\t NLP Engineer                             &   1\\\\\n",
       "\t Principal Data Analyst                   &   2\\\\\n",
       "\t Principal Data Engineer                  &   3\\\\\n",
       "\t Principal Data Scientist                 &   7\\\\\n",
       "\t Product Data Analyst                     &   2\\\\\n",
       "\t Research Scientist                       &  16\\\\\n",
       "\t Staff Data Scientist                     &   1\\\\\n",
       "\\end{tabular}\n"
      ],
      "text/markdown": [
       "\n",
       "A tibble: 50 × 2\n",
       "\n",
       "| job_title &lt;chr&gt; | counts &lt;int&gt; |\n",
       "|---|---|\n",
       "| 3D Computer Vision Researcher            |   1 |\n",
       "| AI Scientist                             |   7 |\n",
       "| Analytics Engineer                       |   4 |\n",
       "| Applied Data Scientist                   |   5 |\n",
       "| Applied Machine Learning Scientist       |   4 |\n",
       "| BI Data Analyst                          |   6 |\n",
       "| Big Data Architect                       |   1 |\n",
       "| Big Data Engineer                        |   8 |\n",
       "| Business Data Analyst                    |   5 |\n",
       "| Cloud Data Engineer                      |   2 |\n",
       "| Computer Vision Engineer                 |   6 |\n",
       "| Computer Vision Software Engineer        |   3 |\n",
       "| Data Analyst                             |  97 |\n",
       "| Data Analytics Engineer                  |   4 |\n",
       "| Data Analytics Lead                      |   1 |\n",
       "| Data Analytics Manager                   |   7 |\n",
       "| Data Architect                           |  11 |\n",
       "| Data Engineer                            | 132 |\n",
       "| Data Engineering Manager                 |   5 |\n",
       "| Data Science Consultant                  |   7 |\n",
       "| Data Science Engineer                    |   3 |\n",
       "| Data Science Manager                     |  12 |\n",
       "| Data Scientist                           | 143 |\n",
       "| Data Specialist                          |   1 |\n",
       "| Director of Data Engineering             |   2 |\n",
       "| Director of Data Science                 |   7 |\n",
       "| ETL Developer                            |   2 |\n",
       "| Finance Data Analyst                     |   1 |\n",
       "| Financial Data Analyst                   |   2 |\n",
       "| Head of Data                             |   5 |\n",
       "| Head of Data Science                     |   4 |\n",
       "| Head of Machine Learning                 |   1 |\n",
       "| Lead Data Analyst                        |   3 |\n",
       "| Lead Data Engineer                       |   6 |\n",
       "| Lead Data Scientist                      |   3 |\n",
       "| Lead Machine Learning Engineer           |   1 |\n",
       "| ML Engineer                              |   6 |\n",
       "| Machine Learning Developer               |   3 |\n",
       "| Machine Learning Engineer                |  41 |\n",
       "| Machine Learning Infrastructure Engineer |   3 |\n",
       "| Machine Learning Manager                 |   1 |\n",
       "| Machine Learning Scientist               |   8 |\n",
       "| Marketing Data Analyst                   |   1 |\n",
       "| NLP Engineer                             |   1 |\n",
       "| Principal Data Analyst                   |   2 |\n",
       "| Principal Data Engineer                  |   3 |\n",
       "| Principal Data Scientist                 |   7 |\n",
       "| Product Data Analyst                     |   2 |\n",
       "| Research Scientist                       |  16 |\n",
       "| Staff Data Scientist                     |   1 |\n",
       "\n"
      ],
      "text/plain": [
       "   job_title                                counts\n",
       "1  3D Computer Vision Researcher              1   \n",
       "2  AI Scientist                               7   \n",
       "3  Analytics Engineer                         4   \n",
       "4  Applied Data Scientist                     5   \n",
       "5  Applied Machine Learning Scientist         4   \n",
       "6  BI Data Analyst                            6   \n",
       "7  Big Data Architect                         1   \n",
       "8  Big Data Engineer                          8   \n",
       "9  Business Data Analyst                      5   \n",
       "10 Cloud Data Engineer                        2   \n",
       "11 Computer Vision Engineer                   6   \n",
       "12 Computer Vision Software Engineer          3   \n",
       "13 Data Analyst                              97   \n",
       "14 Data Analytics Engineer                    4   \n",
       "15 Data Analytics Lead                        1   \n",
       "16 Data Analytics Manager                     7   \n",
       "17 Data Architect                            11   \n",
       "18 Data Engineer                            132   \n",
       "19 Data Engineering Manager                   5   \n",
       "20 Data Science Consultant                    7   \n",
       "21 Data Science Engineer                      3   \n",
       "22 Data Science Manager                      12   \n",
       "23 Data Scientist                           143   \n",
       "24 Data Specialist                            1   \n",
       "25 Director of Data Engineering               2   \n",
       "26 Director of Data Science                   7   \n",
       "27 ETL Developer                              2   \n",
       "28 Finance Data Analyst                       1   \n",
       "29 Financial Data Analyst                     2   \n",
       "30 Head of Data                               5   \n",
       "31 Head of Data Science                       4   \n",
       "32 Head of Machine Learning                   1   \n",
       "33 Lead Data Analyst                          3   \n",
       "34 Lead Data Engineer                         6   \n",
       "35 Lead Data Scientist                        3   \n",
       "36 Lead Machine Learning Engineer             1   \n",
       "37 ML Engineer                                6   \n",
       "38 Machine Learning Developer                 3   \n",
       "39 Machine Learning Engineer                 41   \n",
       "40 Machine Learning Infrastructure Engineer   3   \n",
       "41 Machine Learning Manager                   1   \n",
       "42 Machine Learning Scientist                 8   \n",
       "43 Marketing Data Analyst                     1   \n",
       "44 NLP Engineer                               1   \n",
       "45 Principal Data Analyst                     2   \n",
       "46 Principal Data Engineer                    3   \n",
       "47 Principal Data Scientist                   7   \n",
       "48 Product Data Analyst                       2   \n",
       "49 Research Scientist                        16   \n",
       "50 Staff Data Scientist                       1   "
      ]
     },
     "metadata": {},
     "output_type": "display_data"
    }
   ],
   "source": [
    "counts <- preprocessed_salaries %>%\n",
    "    group_by(job_title) %>%\n",
    "    summarize(counts = n())\n",
    "\n",
    "counts"
   ]
  },
  {
   "cell_type": "code",
   "execution_count": 35,
   "metadata": {},
   "outputs": [
    {
     "data": {
      "text/html": [
       "<table class=\"dataframe\">\n",
       "<caption>A tibble: 1 × 9</caption>\n",
       "<thead>\n",
       "\t<tr><th scope=col>experience_level</th><th scope=col>employment_type</th><th scope=col>job_title</th><th scope=col>salary_in_usd</th><th scope=col>remote_ratio</th><th scope=col>company_location</th><th scope=col>company_size</th><th scope=col>cont</th><th scope=col>field</th></tr>\n",
       "\t<tr><th scope=col>&lt;chr&gt;</th><th scope=col>&lt;chr&gt;</th><th scope=col>&lt;chr&gt;</th><th scope=col>&lt;dbl&gt;</th><th scope=col>&lt;dbl&gt;</th><th scope=col>&lt;chr&gt;</th><th scope=col>&lt;chr&gt;</th><th scope=col>&lt;chr&gt;</th><th scope=col>&lt;chr&gt;</th></tr>\n",
       "</thead>\n",
       "<tbody>\n",
       "\t<tr><td>MI</td><td>FT</td><td>Data Scientist</td><td>79833</td><td>0</td><td>DE</td><td>L</td><td>eur</td><td></td></tr>\n",
       "</tbody>\n",
       "</table>\n"
      ],
      "text/latex": [
       "A tibble: 1 × 9\n",
       "\\begin{tabular}{lllllllll}\n",
       " experience\\_level & employment\\_type & job\\_title & salary\\_in\\_usd & remote\\_ratio & company\\_location & company\\_size & cont & field\\\\\n",
       " <chr> & <chr> & <chr> & <dbl> & <dbl> & <chr> & <chr> & <chr> & <chr>\\\\\n",
       "\\hline\n",
       "\t MI & FT & Data Scientist & 79833 & 0 & DE & L & eur & \\\\\n",
       "\\end{tabular}\n"
      ],
      "text/markdown": [
       "\n",
       "A tibble: 1 × 9\n",
       "\n",
       "| experience_level &lt;chr&gt; | employment_type &lt;chr&gt; | job_title &lt;chr&gt; | salary_in_usd &lt;dbl&gt; | remote_ratio &lt;dbl&gt; | company_location &lt;chr&gt; | company_size &lt;chr&gt; | cont &lt;chr&gt; | field &lt;chr&gt; |\n",
       "|---|---|---|---|---|---|---|---|---|\n",
       "| MI | FT | Data Scientist | 79833 | 0 | DE | L | eur | <!----> |\n",
       "\n"
      ],
      "text/plain": [
       "  experience_level employment_type job_title      salary_in_usd remote_ratio\n",
       "1 MI               FT              Data Scientist 79833         0           \n",
       "  company_location company_size cont field\n",
       "1 DE               L            eur       "
      ]
     },
     "metadata": {},
     "output_type": "display_data"
    }
   ],
   "source": [
    "# field will contain the job_title groupings\n",
    "preprocessed_salaries <- preprocessed_salaries %>%\n",
    "    mutate(field = \"\")\n",
    "\n",
    "preprocessed_salaries[1, ]"
   ]
  },
  {
   "cell_type": "code",
   "execution_count": 38,
   "metadata": {},
   "outputs": [
    {
     "data": {
      "text/html": [
       "<table class=\"dataframe\">\n",
       "<caption>A tibble: 20 × 2</caption>\n",
       "<thead>\n",
       "\t<tr><th scope=col>job_title</th><th scope=col>field</th></tr>\n",
       "\t<tr><th scope=col>&lt;chr&gt;</th><th scope=col>&lt;chr&gt;</th></tr>\n",
       "</thead>\n",
       "<tbody>\n",
       "\t<tr><td>Data Scientist            </td><td>Data Science    </td></tr>\n",
       "\t<tr><td>Machine Learning Scientist</td><td>Machine Learning</td></tr>\n",
       "\t<tr><td>Big Data Engineer         </td><td>Data Engineering</td></tr>\n",
       "\t<tr><td>Product Data Analyst      </td><td>Data Analysis   </td></tr>\n",
       "\t<tr><td>Machine Learning Engineer </td><td>Machine Learning</td></tr>\n",
       "\t<tr><td>Data Analyst              </td><td>Data Analysis   </td></tr>\n",
       "\t<tr><td>Lead Data Scientist       </td><td>Data Science    </td></tr>\n",
       "\t<tr><td>Data Scientist            </td><td>Data Science    </td></tr>\n",
       "\t<tr><td>Business Data Analyst     </td><td>Data Analysis   </td></tr>\n",
       "\t<tr><td>Lead Data Engineer        </td><td>Data Engineering</td></tr>\n",
       "\t<tr><td>Data Scientist            </td><td>Data Science    </td></tr>\n",
       "\t<tr><td>Data Scientist            </td><td>Data Science    </td></tr>\n",
       "\t<tr><td>Data Scientist            </td><td>Data Science    </td></tr>\n",
       "\t<tr><td>Lead Data Analyst         </td><td>Data Analysis   </td></tr>\n",
       "\t<tr><td>Data Analyst              </td><td>Data Analysis   </td></tr>\n",
       "\t<tr><td>Data Analyst              </td><td>Data Analysis   </td></tr>\n",
       "\t<tr><td>Data Engineer             </td><td>Data Engineering</td></tr>\n",
       "\t<tr><td>Big Data Engineer         </td><td>Data Engineering</td></tr>\n",
       "\t<tr><td>Data Science Consultant   </td><td>Data Science    </td></tr>\n",
       "\t<tr><td>Lead Data Engineer        </td><td>Data Engineering</td></tr>\n",
       "</tbody>\n",
       "</table>\n"
      ],
      "text/latex": [
       "A tibble: 20 × 2\n",
       "\\begin{tabular}{ll}\n",
       " job\\_title & field\\\\\n",
       " <chr> & <chr>\\\\\n",
       "\\hline\n",
       "\t Data Scientist             & Data Science    \\\\\n",
       "\t Machine Learning Scientist & Machine Learning\\\\\n",
       "\t Big Data Engineer          & Data Engineering\\\\\n",
       "\t Product Data Analyst       & Data Analysis   \\\\\n",
       "\t Machine Learning Engineer  & Machine Learning\\\\\n",
       "\t Data Analyst               & Data Analysis   \\\\\n",
       "\t Lead Data Scientist        & Data Science    \\\\\n",
       "\t Data Scientist             & Data Science    \\\\\n",
       "\t Business Data Analyst      & Data Analysis   \\\\\n",
       "\t Lead Data Engineer         & Data Engineering\\\\\n",
       "\t Data Scientist             & Data Science    \\\\\n",
       "\t Data Scientist             & Data Science    \\\\\n",
       "\t Data Scientist             & Data Science    \\\\\n",
       "\t Lead Data Analyst          & Data Analysis   \\\\\n",
       "\t Data Analyst               & Data Analysis   \\\\\n",
       "\t Data Analyst               & Data Analysis   \\\\\n",
       "\t Data Engineer              & Data Engineering\\\\\n",
       "\t Big Data Engineer          & Data Engineering\\\\\n",
       "\t Data Science Consultant    & Data Science    \\\\\n",
       "\t Lead Data Engineer         & Data Engineering\\\\\n",
       "\\end{tabular}\n"
      ],
      "text/markdown": [
       "\n",
       "A tibble: 20 × 2\n",
       "\n",
       "| job_title &lt;chr&gt; | field &lt;chr&gt; |\n",
       "|---|---|\n",
       "| Data Scientist             | Data Science     |\n",
       "| Machine Learning Scientist | Machine Learning |\n",
       "| Big Data Engineer          | Data Engineering |\n",
       "| Product Data Analyst       | Data Analysis    |\n",
       "| Machine Learning Engineer  | Machine Learning |\n",
       "| Data Analyst               | Data Analysis    |\n",
       "| Lead Data Scientist        | Data Science     |\n",
       "| Data Scientist             | Data Science     |\n",
       "| Business Data Analyst      | Data Analysis    |\n",
       "| Lead Data Engineer         | Data Engineering |\n",
       "| Data Scientist             | Data Science     |\n",
       "| Data Scientist             | Data Science     |\n",
       "| Data Scientist             | Data Science     |\n",
       "| Lead Data Analyst          | Data Analysis    |\n",
       "| Data Analyst               | Data Analysis    |\n",
       "| Data Analyst               | Data Analysis    |\n",
       "| Data Engineer              | Data Engineering |\n",
       "| Big Data Engineer          | Data Engineering |\n",
       "| Data Science Consultant    | Data Science     |\n",
       "| Lead Data Engineer         | Data Engineering |\n",
       "\n"
      ],
      "text/plain": [
       "   job_title                  field           \n",
       "1  Data Scientist             Data Science    \n",
       "2  Machine Learning Scientist Machine Learning\n",
       "3  Big Data Engineer          Data Engineering\n",
       "4  Product Data Analyst       Data Analysis   \n",
       "5  Machine Learning Engineer  Machine Learning\n",
       "6  Data Analyst               Data Analysis   \n",
       "7  Lead Data Scientist        Data Science    \n",
       "8  Data Scientist             Data Science    \n",
       "9  Business Data Analyst      Data Analysis   \n",
       "10 Lead Data Engineer         Data Engineering\n",
       "11 Data Scientist             Data Science    \n",
       "12 Data Scientist             Data Science    \n",
       "13 Data Scientist             Data Science    \n",
       "14 Lead Data Analyst          Data Analysis   \n",
       "15 Data Analyst               Data Analysis   \n",
       "16 Data Analyst               Data Analysis   \n",
       "17 Data Engineer              Data Engineering\n",
       "18 Big Data Engineer          Data Engineering\n",
       "19 Data Science Consultant    Data Science    \n",
       "20 Lead Data Engineer         Data Engineering"
      ]
     },
     "metadata": {},
     "output_type": "display_data"
    }
   ],
   "source": [
    "for(i in 1:607){\n",
    "    if(str_detect(preprocessed_salaries$job_title[i], \"Data Scien\")) {\n",
    "        preprocessed_salaries$field[i] = \"Data Science\"\n",
    "    } else if(str_detect(preprocessed_salaries$job_title[i], \"Data Analy\")) {\n",
    "        preprocessed_salaries$field[i] = \"Data Analysis\"       \n",
    "    } else if(str_detect(preprocessed_salaries$job_title[i], \"Machine Learning\") || str_detect(preprocessed_salaries$job_title[i], \"ML\")){\n",
    "        preprocessed_salaries$field[i] = \"Machine Learning\"\n",
    "    } else if(str_detect(preprocessed_salaries$job_title[i], \"Data Engineer\")) {\n",
    "        preprocessed_salaries$field[i] = \"Data Engineering\"\n",
    "    } else {\n",
    "        preprocessed_salaries$field[i] = \"Other\"\n",
    "    }\n",
    "}\n",
    "\n",
    "head(select(preprocessed_salaries, job_title, field), 20)"
   ]
  },
  {
   "cell_type": "code",
   "execution_count": 41,
   "metadata": {},
   "outputs": [
    {
     "data": {
      "text/html": [
       "<table class=\"dataframe\">\n",
       "<caption>A tibble: 6 × 7</caption>\n",
       "<thead>\n",
       "\t<tr><th scope=col>experience_level</th><th scope=col>employment_type</th><th scope=col>salary_in_usd</th><th scope=col>remote_ratio</th><th scope=col>company_size</th><th scope=col>cont</th><th scope=col>field</th></tr>\n",
       "\t<tr><th scope=col>&lt;chr&gt;</th><th scope=col>&lt;chr&gt;</th><th scope=col>&lt;dbl&gt;</th><th scope=col>&lt;dbl&gt;</th><th scope=col>&lt;fct&gt;</th><th scope=col>&lt;fct&gt;</th><th scope=col>&lt;fct&gt;</th></tr>\n",
       "</thead>\n",
       "<tbody>\n",
       "\t<tr><td>MI</td><td>FT</td><td> 79833</td><td>  0</td><td>L</td><td>eur  </td><td>Data Science    </td></tr>\n",
       "\t<tr><td>SE</td><td>FT</td><td>260000</td><td>  0</td><td>S</td><td>asia </td><td>Machine Learning</td></tr>\n",
       "\t<tr><td>SE</td><td>FT</td><td>109024</td><td> 50</td><td>M</td><td>eur  </td><td>Data Engineering</td></tr>\n",
       "\t<tr><td>MI</td><td>FT</td><td> 20000</td><td>  0</td><td>S</td><td>no_am</td><td>Data Analysis   </td></tr>\n",
       "\t<tr><td>SE</td><td>FT</td><td>150000</td><td> 50</td><td>L</td><td>no_am</td><td>Machine Learning</td></tr>\n",
       "\t<tr><td>EN</td><td>FT</td><td> 72000</td><td>100</td><td>L</td><td>no_am</td><td>Data Analysis   </td></tr>\n",
       "</tbody>\n",
       "</table>\n"
      ],
      "text/latex": [
       "A tibble: 6 × 7\n",
       "\\begin{tabular}{lllllll}\n",
       " experience\\_level & employment\\_type & salary\\_in\\_usd & remote\\_ratio & company\\_size & cont & field\\\\\n",
       " <chr> & <chr> & <dbl> & <dbl> & <fct> & <fct> & <fct>\\\\\n",
       "\\hline\n",
       "\t MI & FT &  79833 &   0 & L & eur   & Data Science    \\\\\n",
       "\t SE & FT & 260000 &   0 & S & asia  & Machine Learning\\\\\n",
       "\t SE & FT & 109024 &  50 & M & eur   & Data Engineering\\\\\n",
       "\t MI & FT &  20000 &   0 & S & no\\_am & Data Analysis   \\\\\n",
       "\t SE & FT & 150000 &  50 & L & no\\_am & Machine Learning\\\\\n",
       "\t EN & FT &  72000 & 100 & L & no\\_am & Data Analysis   \\\\\n",
       "\\end{tabular}\n"
      ],
      "text/markdown": [
       "\n",
       "A tibble: 6 × 7\n",
       "\n",
       "| experience_level &lt;chr&gt; | employment_type &lt;chr&gt; | salary_in_usd &lt;dbl&gt; | remote_ratio &lt;dbl&gt; | company_size &lt;fct&gt; | cont &lt;fct&gt; | field &lt;fct&gt; |\n",
       "|---|---|---|---|---|---|---|\n",
       "| MI | FT |  79833 |   0 | L | eur   | Data Science     |\n",
       "| SE | FT | 260000 |   0 | S | asia  | Machine Learning |\n",
       "| SE | FT | 109024 |  50 | M | eur   | Data Engineering |\n",
       "| MI | FT |  20000 |   0 | S | no_am | Data Analysis    |\n",
       "| SE | FT | 150000 |  50 | L | no_am | Machine Learning |\n",
       "| EN | FT |  72000 | 100 | L | no_am | Data Analysis    |\n",
       "\n"
      ],
      "text/plain": [
       "  experience_level employment_type salary_in_usd remote_ratio company_size\n",
       "1 MI               FT               79833          0          L           \n",
       "2 SE               FT              260000          0          S           \n",
       "3 SE               FT              109024         50          M           \n",
       "4 MI               FT               20000          0          S           \n",
       "5 SE               FT              150000         50          L           \n",
       "6 EN               FT               72000        100          L           \n",
       "  cont  field           \n",
       "1 eur   Data Science    \n",
       "2 asia  Machine Learning\n",
       "3 eur   Data Engineering\n",
       "4 no_am Data Analysis   \n",
       "5 no_am Machine Learning\n",
       "6 no_am Data Analysis   "
      ]
     },
     "metadata": {},
     "output_type": "display_data"
    }
   ],
   "source": [
    "# Remove job_title and company_location\n",
    "feat_salaries <- preprocessed_salaries %>%\n",
    "    select(-job_title, -company_location)\n",
    "\n",
    "# Convert all string parameters to factors\n",
    "feat_salaries$company_size <- as.factor(feat_salaries$company_size)\n",
    "feat_salaries$cont <- as.factor(feat_salaries$cont)\n",
    "feat_salaries$field <- as.factor(feat_salaries$field)\n",
    "head(feat_salaries)"
   ]
  },
  {
   "cell_type": "code",
   "execution_count": 6,
   "metadata": {
    "vscode": {
     "languageId": "r"
    }
   },
   "outputs": [],
   "source": [
    "# forward selection"
   ]
  },
  {
   "cell_type": "code",
   "execution_count": 7,
   "metadata": {
    "vscode": {
     "languageId": "r"
    }
   },
   "outputs": [],
   "source": [
    "# model comparison"
   ]
  },
  {
   "cell_type": "markdown",
   "metadata": {},
   "source": [
    "## Discussion"
   ]
  },
  {
   "cell_type": "markdown",
   "metadata": {},
   "source": [
    "## References"
   ]
  }
 ],
 "metadata": {
  "kernelspec": {
   "display_name": "R",
   "language": "R",
   "name": "ir"
  },
  "language_info": {
   "codemirror_mode": "r",
   "file_extension": ".r",
   "mimetype": "text/x-r-source",
   "name": "R",
   "pygments_lexer": "r",
   "version": "4.3.3"
  }
 },
 "nbformat": 4,
 "nbformat_minor": 4
}
