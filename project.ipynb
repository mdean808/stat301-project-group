{
 "cells": [
  {
   "cell_type": "markdown",
   "metadata": {},
   "source": [
    "## Introduction"
   ]
  },
  {
   "cell_type": "markdown",
   "metadata": {},
   "source": [
    "## Methods and Results"
   ]
  },
  {
   "cell_type": "code",
   "execution_count": 70,
   "metadata": {
    "vscode": {
     "languageId": "r"
    }
   },
   "outputs": [
    {
     "name": "stderr",
     "output_type": "stream",
     "text": [
      "\n",
      "Attaching package: ‘yardstick’\n",
      "\n",
      "\n",
      "The following objects are masked from ‘package:caret’:\n",
      "\n",
      "    precision, recall, sensitivity, specificity\n",
      "\n",
      "\n",
      "The following object is masked from ‘package:readr’:\n",
      "\n",
      "    spec\n",
      "\n",
      "\n",
      "The following objects are masked from ‘package:modelr’:\n",
      "\n",
      "    mae, mape, rmse\n",
      "\n",
      "\n",
      "The following objects are masked from ‘package:mltools’:\n",
      "\n",
      "    mcc, rmse\n",
      "\n",
      "\n",
      "\u001b[1m\u001b[22mNew names:\n",
      "\u001b[36m•\u001b[39m `` -> `...1`\n",
      "\u001b[1mRows: \u001b[22m\u001b[34m607\u001b[39m \u001b[1mColumns: \u001b[22m\u001b[34m12\u001b[39m\n",
      "\u001b[36m──\u001b[39m \u001b[1mColumn specification\u001b[22m \u001b[36m────────────────────────────────────────────────────────\u001b[39m\n",
      "\u001b[1mDelimiter:\u001b[22m \",\"\n",
      "\u001b[31mchr\u001b[39m (7): experience_level, employment_type, job_title, salary_currency, empl...\n",
      "\u001b[32mdbl\u001b[39m (5): ...1, work_year, salary, salary_in_usd, remote_ratio\n",
      "\n",
      "\u001b[36mℹ\u001b[39m Use `spec()` to retrieve the full column specification for this data.\n",
      "\u001b[36mℹ\u001b[39m Specify the column types or set `show_col_types = FALSE` to quiet this message.\n"
     ]
    }
   ],
   "source": [
    "library(broom)\n",
    "library(repr)\n",
    "library(infer)\n",
    "library(gridExtra)\n",
    "library(faraway)\n",
    "library(mltools)\n",
    "library(leaps)\n",
    "library(dplyr)\n",
    "library(glmnet)\n",
    "library(cowplot)\n",
    "library(modelr)\n",
    "library(tidyverse)\n",
    "library(rsample)\n",
    "library(caret)\n",
    "library(yardstick)\n",
    "\n",
    "salaries <- read_csv(\"data/ds_salaries.csv\")"
   ]
  },
  {
   "cell_type": "markdown",
   "metadata": {
    "vscode": {
     "languageId": "plaintext"
    }
   },
   "source": [
    "### EDA"
   ]
  },
  {
   "cell_type": "markdown",
   "metadata": {},
   "source": [
    "### Methods\n"
   ]
  },
  {
   "cell_type": "code",
   "execution_count": 2,
   "metadata": {
    "vscode": {
     "languageId": "r"
    }
   },
   "outputs": [],
   "source": [
    "# remove unnecessary variables\n",
    "preprocessed_salaries <- salaries |>\n",
    "  select(-c(\"...1\", salary_currency, work_year, salary, employee_residence))"
   ]
  },
  {
   "cell_type": "code",
   "execution_count": 3,
   "metadata": {
    "vscode": {
     "languageId": "r"
    }
   },
   "outputs": [],
   "source": [
    "# feature engineering on company_location, job_title\n",
    "no_am <- c(\"CA\", \"US\", \"MX\", \"HN\")\n",
    "so_am <- c(\"CL\", \"CO\", \"BR\")\n",
    "eur <- c(\"SI\", \"PL\", \"NL\", \"MT\", \"MO\", \"LU\", \"MD\", \"IT\", \"UA\", \n",
    "         \"IE\", \"HU\", \"HR\", \"GR\", \"GB\", \"FR\", \"ES\", \"EE\", \"DK\", \"DE\", \"AT\", \"BE\", \"CH\", \"CZ\", \"RO\", \"PT\")\n",
    "asia <- c(\"MY\", \"VN\", \"SG\", \"RU\", \"JP\", \"CN\", \"IN\", \"PK\", \"IL\", \"IQ\", \"IR\", \"TR\", \"AE\")\n",
    "afr <- c(\"KE\", \"DZ\", \"NG\")\n",
    "oce <- c(\"NZ\", \"AU\", \"AS\")"
   ]
  },
  {
   "cell_type": "code",
   "execution_count": 4,
   "metadata": {},
   "outputs": [
    {
     "data": {
      "text/html": [
       "<table class=\"dataframe\">\n",
       "<caption>A tibble: 1 × 8</caption>\n",
       "<thead>\n",
       "\t<tr><th scope=col>experience_level</th><th scope=col>employment_type</th><th scope=col>job_title</th><th scope=col>salary_in_usd</th><th scope=col>remote_ratio</th><th scope=col>company_location</th><th scope=col>company_size</th><th scope=col>cont</th></tr>\n",
       "\t<tr><th scope=col>&lt;chr&gt;</th><th scope=col>&lt;chr&gt;</th><th scope=col>&lt;chr&gt;</th><th scope=col>&lt;dbl&gt;</th><th scope=col>&lt;dbl&gt;</th><th scope=col>&lt;chr&gt;</th><th scope=col>&lt;chr&gt;</th><th scope=col>&lt;chr&gt;</th></tr>\n",
       "</thead>\n",
       "<tbody>\n",
       "\t<tr><td>MI</td><td>FT</td><td>Data Scientist</td><td>79833</td><td>0</td><td>DE</td><td>L</td><td></td></tr>\n",
       "</tbody>\n",
       "</table>\n"
      ],
      "text/latex": [
       "A tibble: 1 × 8\n",
       "\\begin{tabular}{llllllll}\n",
       " experience\\_level & employment\\_type & job\\_title & salary\\_in\\_usd & remote\\_ratio & company\\_location & company\\_size & cont\\\\\n",
       " <chr> & <chr> & <chr> & <dbl> & <dbl> & <chr> & <chr> & <chr>\\\\\n",
       "\\hline\n",
       "\t MI & FT & Data Scientist & 79833 & 0 & DE & L & \\\\\n",
       "\\end{tabular}\n"
      ],
      "text/markdown": [
       "\n",
       "A tibble: 1 × 8\n",
       "\n",
       "| experience_level &lt;chr&gt; | employment_type &lt;chr&gt; | job_title &lt;chr&gt; | salary_in_usd &lt;dbl&gt; | remote_ratio &lt;dbl&gt; | company_location &lt;chr&gt; | company_size &lt;chr&gt; | cont &lt;chr&gt; |\n",
       "|---|---|---|---|---|---|---|---|\n",
       "| MI | FT | Data Scientist | 79833 | 0 | DE | L | <!----> |\n",
       "\n"
      ],
      "text/plain": [
       "  experience_level employment_type job_title      salary_in_usd remote_ratio\n",
       "1 MI               FT              Data Scientist 79833         0           \n",
       "  company_location company_size cont\n",
       "1 DE               L                "
      ]
     },
     "metadata": {},
     "output_type": "display_data"
    }
   ],
   "source": [
    "# cont is the company location in terms of continent\n",
    "preprocessed_salaries <- preprocessed_salaries %>%\n",
    "    mutate(cont = \"\")\n",
    "\n",
    "preprocessed_salaries[1, ]"
   ]
  },
  {
   "cell_type": "code",
   "execution_count": 5,
   "metadata": {},
   "outputs": [
    {
     "data": {
      "text/html": [
       "<table class=\"dataframe\">\n",
       "<caption>A tibble: 10 × 2</caption>\n",
       "<thead>\n",
       "\t<tr><th scope=col>company_location</th><th scope=col>cont</th></tr>\n",
       "\t<tr><th scope=col>&lt;chr&gt;</th><th scope=col>&lt;chr&gt;</th></tr>\n",
       "</thead>\n",
       "<tbody>\n",
       "\t<tr><td>DE</td><td>eur  </td></tr>\n",
       "\t<tr><td>JP</td><td>asia </td></tr>\n",
       "\t<tr><td>GB</td><td>eur  </td></tr>\n",
       "\t<tr><td>HN</td><td>no_am</td></tr>\n",
       "\t<tr><td>US</td><td>no_am</td></tr>\n",
       "\t<tr><td>US</td><td>no_am</td></tr>\n",
       "\t<tr><td>US</td><td>no_am</td></tr>\n",
       "\t<tr><td>HU</td><td>eur  </td></tr>\n",
       "\t<tr><td>US</td><td>no_am</td></tr>\n",
       "\t<tr><td>NZ</td><td>oce  </td></tr>\n",
       "</tbody>\n",
       "</table>\n"
      ],
      "text/latex": [
       "A tibble: 10 × 2\n",
       "\\begin{tabular}{ll}\n",
       " company\\_location & cont\\\\\n",
       " <chr> & <chr>\\\\\n",
       "\\hline\n",
       "\t DE & eur  \\\\\n",
       "\t JP & asia \\\\\n",
       "\t GB & eur  \\\\\n",
       "\t HN & no\\_am\\\\\n",
       "\t US & no\\_am\\\\\n",
       "\t US & no\\_am\\\\\n",
       "\t US & no\\_am\\\\\n",
       "\t HU & eur  \\\\\n",
       "\t US & no\\_am\\\\\n",
       "\t NZ & oce  \\\\\n",
       "\\end{tabular}\n"
      ],
      "text/markdown": [
       "\n",
       "A tibble: 10 × 2\n",
       "\n",
       "| company_location &lt;chr&gt; | cont &lt;chr&gt; |\n",
       "|---|---|\n",
       "| DE | eur   |\n",
       "| JP | asia  |\n",
       "| GB | eur   |\n",
       "| HN | no_am |\n",
       "| US | no_am |\n",
       "| US | no_am |\n",
       "| US | no_am |\n",
       "| HU | eur   |\n",
       "| US | no_am |\n",
       "| NZ | oce   |\n",
       "\n"
      ],
      "text/plain": [
       "   company_location cont \n",
       "1  DE               eur  \n",
       "2  JP               asia \n",
       "3  GB               eur  \n",
       "4  HN               no_am\n",
       "5  US               no_am\n",
       "6  US               no_am\n",
       "7  US               no_am\n",
       "8  HU               eur  \n",
       "9  US               no_am\n",
       "10 NZ               oce  "
      ]
     },
     "metadata": {},
     "output_type": "display_data"
    }
   ],
   "source": [
    "for(i in 1:607){\n",
    "    if(preprocessed_salaries[i, ]$company_location %in% no_am){\n",
    "        preprocessed_salaries[i, ]$cont = \"no_am\"\n",
    "    } else if(preprocessed_salaries[i, ]$company_location %in% so_am) {\n",
    "        preprocessed_salaries[i, ]$cont = \"so_am\"\n",
    "    } else if(preprocessed_salaries[i, ]$company_location %in% eur){\n",
    "        preprocessed_salaries[i, ]$cont = \"eur\"\n",
    "    } else if(preprocessed_salaries[i, ]$company_location %in% asia){\n",
    "        preprocessed_salaries[i, ]$cont = \"asia\"\n",
    "    } else if(preprocessed_salaries[i, ]$company_location %in% afr){\n",
    "        preprocessed_salaries[i, ]$cont = \"afr\"\n",
    "    } else if(preprocessed_salaries[i, ]$company_location %in% oce) {\n",
    "        preprocessed_salaries[i, ]$cont = \"oce\"\n",
    "    }\n",
    "}\n",
    "\n",
    "head(select(preprocessed_salaries, company_location, cont), 10)"
   ]
  },
  {
   "cell_type": "code",
   "execution_count": 6,
   "metadata": {},
   "outputs": [
    {
     "data": {
      "text/html": [
       "<table class=\"dataframe\">\n",
       "<caption>A tibble: 50 × 2</caption>\n",
       "<thead>\n",
       "\t<tr><th scope=col>job_title</th><th scope=col>counts</th></tr>\n",
       "\t<tr><th scope=col>&lt;chr&gt;</th><th scope=col>&lt;int&gt;</th></tr>\n",
       "</thead>\n",
       "<tbody>\n",
       "\t<tr><td>3D Computer Vision Researcher           </td><td>  1</td></tr>\n",
       "\t<tr><td>AI Scientist                            </td><td>  7</td></tr>\n",
       "\t<tr><td>Analytics Engineer                      </td><td>  4</td></tr>\n",
       "\t<tr><td>Applied Data Scientist                  </td><td>  5</td></tr>\n",
       "\t<tr><td>Applied Machine Learning Scientist      </td><td>  4</td></tr>\n",
       "\t<tr><td>BI Data Analyst                         </td><td>  6</td></tr>\n",
       "\t<tr><td>Big Data Architect                      </td><td>  1</td></tr>\n",
       "\t<tr><td>Big Data Engineer                       </td><td>  8</td></tr>\n",
       "\t<tr><td>Business Data Analyst                   </td><td>  5</td></tr>\n",
       "\t<tr><td>Cloud Data Engineer                     </td><td>  2</td></tr>\n",
       "\t<tr><td>Computer Vision Engineer                </td><td>  6</td></tr>\n",
       "\t<tr><td>Computer Vision Software Engineer       </td><td>  3</td></tr>\n",
       "\t<tr><td>Data Analyst                            </td><td> 97</td></tr>\n",
       "\t<tr><td>Data Analytics Engineer                 </td><td>  4</td></tr>\n",
       "\t<tr><td>Data Analytics Lead                     </td><td>  1</td></tr>\n",
       "\t<tr><td>Data Analytics Manager                  </td><td>  7</td></tr>\n",
       "\t<tr><td>Data Architect                          </td><td> 11</td></tr>\n",
       "\t<tr><td>Data Engineer                           </td><td>132</td></tr>\n",
       "\t<tr><td>Data Engineering Manager                </td><td>  5</td></tr>\n",
       "\t<tr><td>Data Science Consultant                 </td><td>  7</td></tr>\n",
       "\t<tr><td>Data Science Engineer                   </td><td>  3</td></tr>\n",
       "\t<tr><td>Data Science Manager                    </td><td> 12</td></tr>\n",
       "\t<tr><td>Data Scientist                          </td><td>143</td></tr>\n",
       "\t<tr><td>Data Specialist                         </td><td>  1</td></tr>\n",
       "\t<tr><td>Director of Data Engineering            </td><td>  2</td></tr>\n",
       "\t<tr><td>Director of Data Science                </td><td>  7</td></tr>\n",
       "\t<tr><td>ETL Developer                           </td><td>  2</td></tr>\n",
       "\t<tr><td>Finance Data Analyst                    </td><td>  1</td></tr>\n",
       "\t<tr><td>Financial Data Analyst                  </td><td>  2</td></tr>\n",
       "\t<tr><td>Head of Data                            </td><td>  5</td></tr>\n",
       "\t<tr><td>Head of Data Science                    </td><td>  4</td></tr>\n",
       "\t<tr><td>Head of Machine Learning                </td><td>  1</td></tr>\n",
       "\t<tr><td>Lead Data Analyst                       </td><td>  3</td></tr>\n",
       "\t<tr><td>Lead Data Engineer                      </td><td>  6</td></tr>\n",
       "\t<tr><td>Lead Data Scientist                     </td><td>  3</td></tr>\n",
       "\t<tr><td>Lead Machine Learning Engineer          </td><td>  1</td></tr>\n",
       "\t<tr><td>ML Engineer                             </td><td>  6</td></tr>\n",
       "\t<tr><td>Machine Learning Developer              </td><td>  3</td></tr>\n",
       "\t<tr><td>Machine Learning Engineer               </td><td> 41</td></tr>\n",
       "\t<tr><td>Machine Learning Infrastructure Engineer</td><td>  3</td></tr>\n",
       "\t<tr><td>Machine Learning Manager                </td><td>  1</td></tr>\n",
       "\t<tr><td>Machine Learning Scientist              </td><td>  8</td></tr>\n",
       "\t<tr><td>Marketing Data Analyst                  </td><td>  1</td></tr>\n",
       "\t<tr><td>NLP Engineer                            </td><td>  1</td></tr>\n",
       "\t<tr><td>Principal Data Analyst                  </td><td>  2</td></tr>\n",
       "\t<tr><td>Principal Data Engineer                 </td><td>  3</td></tr>\n",
       "\t<tr><td>Principal Data Scientist                </td><td>  7</td></tr>\n",
       "\t<tr><td>Product Data Analyst                    </td><td>  2</td></tr>\n",
       "\t<tr><td>Research Scientist                      </td><td> 16</td></tr>\n",
       "\t<tr><td>Staff Data Scientist                    </td><td>  1</td></tr>\n",
       "</tbody>\n",
       "</table>\n"
      ],
      "text/latex": [
       "A tibble: 50 × 2\n",
       "\\begin{tabular}{ll}\n",
       " job\\_title & counts\\\\\n",
       " <chr> & <int>\\\\\n",
       "\\hline\n",
       "\t 3D Computer Vision Researcher            &   1\\\\\n",
       "\t AI Scientist                             &   7\\\\\n",
       "\t Analytics Engineer                       &   4\\\\\n",
       "\t Applied Data Scientist                   &   5\\\\\n",
       "\t Applied Machine Learning Scientist       &   4\\\\\n",
       "\t BI Data Analyst                          &   6\\\\\n",
       "\t Big Data Architect                       &   1\\\\\n",
       "\t Big Data Engineer                        &   8\\\\\n",
       "\t Business Data Analyst                    &   5\\\\\n",
       "\t Cloud Data Engineer                      &   2\\\\\n",
       "\t Computer Vision Engineer                 &   6\\\\\n",
       "\t Computer Vision Software Engineer        &   3\\\\\n",
       "\t Data Analyst                             &  97\\\\\n",
       "\t Data Analytics Engineer                  &   4\\\\\n",
       "\t Data Analytics Lead                      &   1\\\\\n",
       "\t Data Analytics Manager                   &   7\\\\\n",
       "\t Data Architect                           &  11\\\\\n",
       "\t Data Engineer                            & 132\\\\\n",
       "\t Data Engineering Manager                 &   5\\\\\n",
       "\t Data Science Consultant                  &   7\\\\\n",
       "\t Data Science Engineer                    &   3\\\\\n",
       "\t Data Science Manager                     &  12\\\\\n",
       "\t Data Scientist                           & 143\\\\\n",
       "\t Data Specialist                          &   1\\\\\n",
       "\t Director of Data Engineering             &   2\\\\\n",
       "\t Director of Data Science                 &   7\\\\\n",
       "\t ETL Developer                            &   2\\\\\n",
       "\t Finance Data Analyst                     &   1\\\\\n",
       "\t Financial Data Analyst                   &   2\\\\\n",
       "\t Head of Data                             &   5\\\\\n",
       "\t Head of Data Science                     &   4\\\\\n",
       "\t Head of Machine Learning                 &   1\\\\\n",
       "\t Lead Data Analyst                        &   3\\\\\n",
       "\t Lead Data Engineer                       &   6\\\\\n",
       "\t Lead Data Scientist                      &   3\\\\\n",
       "\t Lead Machine Learning Engineer           &   1\\\\\n",
       "\t ML Engineer                              &   6\\\\\n",
       "\t Machine Learning Developer               &   3\\\\\n",
       "\t Machine Learning Engineer                &  41\\\\\n",
       "\t Machine Learning Infrastructure Engineer &   3\\\\\n",
       "\t Machine Learning Manager                 &   1\\\\\n",
       "\t Machine Learning Scientist               &   8\\\\\n",
       "\t Marketing Data Analyst                   &   1\\\\\n",
       "\t NLP Engineer                             &   1\\\\\n",
       "\t Principal Data Analyst                   &   2\\\\\n",
       "\t Principal Data Engineer                  &   3\\\\\n",
       "\t Principal Data Scientist                 &   7\\\\\n",
       "\t Product Data Analyst                     &   2\\\\\n",
       "\t Research Scientist                       &  16\\\\\n",
       "\t Staff Data Scientist                     &   1\\\\\n",
       "\\end{tabular}\n"
      ],
      "text/markdown": [
       "\n",
       "A tibble: 50 × 2\n",
       "\n",
       "| job_title &lt;chr&gt; | counts &lt;int&gt; |\n",
       "|---|---|\n",
       "| 3D Computer Vision Researcher            |   1 |\n",
       "| AI Scientist                             |   7 |\n",
       "| Analytics Engineer                       |   4 |\n",
       "| Applied Data Scientist                   |   5 |\n",
       "| Applied Machine Learning Scientist       |   4 |\n",
       "| BI Data Analyst                          |   6 |\n",
       "| Big Data Architect                       |   1 |\n",
       "| Big Data Engineer                        |   8 |\n",
       "| Business Data Analyst                    |   5 |\n",
       "| Cloud Data Engineer                      |   2 |\n",
       "| Computer Vision Engineer                 |   6 |\n",
       "| Computer Vision Software Engineer        |   3 |\n",
       "| Data Analyst                             |  97 |\n",
       "| Data Analytics Engineer                  |   4 |\n",
       "| Data Analytics Lead                      |   1 |\n",
       "| Data Analytics Manager                   |   7 |\n",
       "| Data Architect                           |  11 |\n",
       "| Data Engineer                            | 132 |\n",
       "| Data Engineering Manager                 |   5 |\n",
       "| Data Science Consultant                  |   7 |\n",
       "| Data Science Engineer                    |   3 |\n",
       "| Data Science Manager                     |  12 |\n",
       "| Data Scientist                           | 143 |\n",
       "| Data Specialist                          |   1 |\n",
       "| Director of Data Engineering             |   2 |\n",
       "| Director of Data Science                 |   7 |\n",
       "| ETL Developer                            |   2 |\n",
       "| Finance Data Analyst                     |   1 |\n",
       "| Financial Data Analyst                   |   2 |\n",
       "| Head of Data                             |   5 |\n",
       "| Head of Data Science                     |   4 |\n",
       "| Head of Machine Learning                 |   1 |\n",
       "| Lead Data Analyst                        |   3 |\n",
       "| Lead Data Engineer                       |   6 |\n",
       "| Lead Data Scientist                      |   3 |\n",
       "| Lead Machine Learning Engineer           |   1 |\n",
       "| ML Engineer                              |   6 |\n",
       "| Machine Learning Developer               |   3 |\n",
       "| Machine Learning Engineer                |  41 |\n",
       "| Machine Learning Infrastructure Engineer |   3 |\n",
       "| Machine Learning Manager                 |   1 |\n",
       "| Machine Learning Scientist               |   8 |\n",
       "| Marketing Data Analyst                   |   1 |\n",
       "| NLP Engineer                             |   1 |\n",
       "| Principal Data Analyst                   |   2 |\n",
       "| Principal Data Engineer                  |   3 |\n",
       "| Principal Data Scientist                 |   7 |\n",
       "| Product Data Analyst                     |   2 |\n",
       "| Research Scientist                       |  16 |\n",
       "| Staff Data Scientist                     |   1 |\n",
       "\n"
      ],
      "text/plain": [
       "   job_title                                counts\n",
       "1  3D Computer Vision Researcher              1   \n",
       "2  AI Scientist                               7   \n",
       "3  Analytics Engineer                         4   \n",
       "4  Applied Data Scientist                     5   \n",
       "5  Applied Machine Learning Scientist         4   \n",
       "6  BI Data Analyst                            6   \n",
       "7  Big Data Architect                         1   \n",
       "8  Big Data Engineer                          8   \n",
       "9  Business Data Analyst                      5   \n",
       "10 Cloud Data Engineer                        2   \n",
       "11 Computer Vision Engineer                   6   \n",
       "12 Computer Vision Software Engineer          3   \n",
       "13 Data Analyst                              97   \n",
       "14 Data Analytics Engineer                    4   \n",
       "15 Data Analytics Lead                        1   \n",
       "16 Data Analytics Manager                     7   \n",
       "17 Data Architect                            11   \n",
       "18 Data Engineer                            132   \n",
       "19 Data Engineering Manager                   5   \n",
       "20 Data Science Consultant                    7   \n",
       "21 Data Science Engineer                      3   \n",
       "22 Data Science Manager                      12   \n",
       "23 Data Scientist                           143   \n",
       "24 Data Specialist                            1   \n",
       "25 Director of Data Engineering               2   \n",
       "26 Director of Data Science                   7   \n",
       "27 ETL Developer                              2   \n",
       "28 Finance Data Analyst                       1   \n",
       "29 Financial Data Analyst                     2   \n",
       "30 Head of Data                               5   \n",
       "31 Head of Data Science                       4   \n",
       "32 Head of Machine Learning                   1   \n",
       "33 Lead Data Analyst                          3   \n",
       "34 Lead Data Engineer                         6   \n",
       "35 Lead Data Scientist                        3   \n",
       "36 Lead Machine Learning Engineer             1   \n",
       "37 ML Engineer                                6   \n",
       "38 Machine Learning Developer                 3   \n",
       "39 Machine Learning Engineer                 41   \n",
       "40 Machine Learning Infrastructure Engineer   3   \n",
       "41 Machine Learning Manager                   1   \n",
       "42 Machine Learning Scientist                 8   \n",
       "43 Marketing Data Analyst                     1   \n",
       "44 NLP Engineer                               1   \n",
       "45 Principal Data Analyst                     2   \n",
       "46 Principal Data Engineer                    3   \n",
       "47 Principal Data Scientist                   7   \n",
       "48 Product Data Analyst                       2   \n",
       "49 Research Scientist                        16   \n",
       "50 Staff Data Scientist                       1   "
      ]
     },
     "metadata": {},
     "output_type": "display_data"
    }
   ],
   "source": [
    "counts <- preprocessed_salaries %>%\n",
    "    group_by(job_title) %>%\n",
    "    summarize(counts = n())\n",
    "\n",
    "counts"
   ]
  },
  {
   "cell_type": "code",
   "execution_count": 7,
   "metadata": {},
   "outputs": [
    {
     "data": {
      "text/html": [
       "<table class=\"dataframe\">\n",
       "<caption>A tibble: 1 × 9</caption>\n",
       "<thead>\n",
       "\t<tr><th scope=col>experience_level</th><th scope=col>employment_type</th><th scope=col>job_title</th><th scope=col>salary_in_usd</th><th scope=col>remote_ratio</th><th scope=col>company_location</th><th scope=col>company_size</th><th scope=col>cont</th><th scope=col>field</th></tr>\n",
       "\t<tr><th scope=col>&lt;chr&gt;</th><th scope=col>&lt;chr&gt;</th><th scope=col>&lt;chr&gt;</th><th scope=col>&lt;dbl&gt;</th><th scope=col>&lt;dbl&gt;</th><th scope=col>&lt;chr&gt;</th><th scope=col>&lt;chr&gt;</th><th scope=col>&lt;chr&gt;</th><th scope=col>&lt;chr&gt;</th></tr>\n",
       "</thead>\n",
       "<tbody>\n",
       "\t<tr><td>MI</td><td>FT</td><td>Data Scientist</td><td>79833</td><td>0</td><td>DE</td><td>L</td><td>eur</td><td></td></tr>\n",
       "</tbody>\n",
       "</table>\n"
      ],
      "text/latex": [
       "A tibble: 1 × 9\n",
       "\\begin{tabular}{lllllllll}\n",
       " experience\\_level & employment\\_type & job\\_title & salary\\_in\\_usd & remote\\_ratio & company\\_location & company\\_size & cont & field\\\\\n",
       " <chr> & <chr> & <chr> & <dbl> & <dbl> & <chr> & <chr> & <chr> & <chr>\\\\\n",
       "\\hline\n",
       "\t MI & FT & Data Scientist & 79833 & 0 & DE & L & eur & \\\\\n",
       "\\end{tabular}\n"
      ],
      "text/markdown": [
       "\n",
       "A tibble: 1 × 9\n",
       "\n",
       "| experience_level &lt;chr&gt; | employment_type &lt;chr&gt; | job_title &lt;chr&gt; | salary_in_usd &lt;dbl&gt; | remote_ratio &lt;dbl&gt; | company_location &lt;chr&gt; | company_size &lt;chr&gt; | cont &lt;chr&gt; | field &lt;chr&gt; |\n",
       "|---|---|---|---|---|---|---|---|---|\n",
       "| MI | FT | Data Scientist | 79833 | 0 | DE | L | eur | <!----> |\n",
       "\n"
      ],
      "text/plain": [
       "  experience_level employment_type job_title      salary_in_usd remote_ratio\n",
       "1 MI               FT              Data Scientist 79833         0           \n",
       "  company_location company_size cont field\n",
       "1 DE               L            eur       "
      ]
     },
     "metadata": {},
     "output_type": "display_data"
    }
   ],
   "source": [
    "# field will contain the job_title groupings\n",
    "preprocessed_salaries <- preprocessed_salaries %>%\n",
    "    mutate(field = \"\")\n",
    "\n",
    "preprocessed_salaries[1, ]"
   ]
  },
  {
   "cell_type": "code",
   "execution_count": 8,
   "metadata": {},
   "outputs": [
    {
     "data": {
      "text/html": [
       "<table class=\"dataframe\">\n",
       "<caption>A tibble: 20 × 2</caption>\n",
       "<thead>\n",
       "\t<tr><th scope=col>job_title</th><th scope=col>field</th></tr>\n",
       "\t<tr><th scope=col>&lt;chr&gt;</th><th scope=col>&lt;chr&gt;</th></tr>\n",
       "</thead>\n",
       "<tbody>\n",
       "\t<tr><td>Data Scientist            </td><td>Data Science    </td></tr>\n",
       "\t<tr><td>Machine Learning Scientist</td><td>Machine Learning</td></tr>\n",
       "\t<tr><td>Big Data Engineer         </td><td>Data Engineering</td></tr>\n",
       "\t<tr><td>Product Data Analyst      </td><td>Data Analysis   </td></tr>\n",
       "\t<tr><td>Machine Learning Engineer </td><td>Machine Learning</td></tr>\n",
       "\t<tr><td>Data Analyst              </td><td>Data Analysis   </td></tr>\n",
       "\t<tr><td>Lead Data Scientist       </td><td>Data Science    </td></tr>\n",
       "\t<tr><td>Data Scientist            </td><td>Data Science    </td></tr>\n",
       "\t<tr><td>Business Data Analyst     </td><td>Data Analysis   </td></tr>\n",
       "\t<tr><td>Lead Data Engineer        </td><td>Data Engineering</td></tr>\n",
       "\t<tr><td>Data Scientist            </td><td>Data Science    </td></tr>\n",
       "\t<tr><td>Data Scientist            </td><td>Data Science    </td></tr>\n",
       "\t<tr><td>Data Scientist            </td><td>Data Science    </td></tr>\n",
       "\t<tr><td>Lead Data Analyst         </td><td>Data Analysis   </td></tr>\n",
       "\t<tr><td>Data Analyst              </td><td>Data Analysis   </td></tr>\n",
       "\t<tr><td>Data Analyst              </td><td>Data Analysis   </td></tr>\n",
       "\t<tr><td>Data Engineer             </td><td>Data Engineering</td></tr>\n",
       "\t<tr><td>Big Data Engineer         </td><td>Data Engineering</td></tr>\n",
       "\t<tr><td>Data Science Consultant   </td><td>Data Science    </td></tr>\n",
       "\t<tr><td>Lead Data Engineer        </td><td>Data Engineering</td></tr>\n",
       "</tbody>\n",
       "</table>\n"
      ],
      "text/latex": [
       "A tibble: 20 × 2\n",
       "\\begin{tabular}{ll}\n",
       " job\\_title & field\\\\\n",
       " <chr> & <chr>\\\\\n",
       "\\hline\n",
       "\t Data Scientist             & Data Science    \\\\\n",
       "\t Machine Learning Scientist & Machine Learning\\\\\n",
       "\t Big Data Engineer          & Data Engineering\\\\\n",
       "\t Product Data Analyst       & Data Analysis   \\\\\n",
       "\t Machine Learning Engineer  & Machine Learning\\\\\n",
       "\t Data Analyst               & Data Analysis   \\\\\n",
       "\t Lead Data Scientist        & Data Science    \\\\\n",
       "\t Data Scientist             & Data Science    \\\\\n",
       "\t Business Data Analyst      & Data Analysis   \\\\\n",
       "\t Lead Data Engineer         & Data Engineering\\\\\n",
       "\t Data Scientist             & Data Science    \\\\\n",
       "\t Data Scientist             & Data Science    \\\\\n",
       "\t Data Scientist             & Data Science    \\\\\n",
       "\t Lead Data Analyst          & Data Analysis   \\\\\n",
       "\t Data Analyst               & Data Analysis   \\\\\n",
       "\t Data Analyst               & Data Analysis   \\\\\n",
       "\t Data Engineer              & Data Engineering\\\\\n",
       "\t Big Data Engineer          & Data Engineering\\\\\n",
       "\t Data Science Consultant    & Data Science    \\\\\n",
       "\t Lead Data Engineer         & Data Engineering\\\\\n",
       "\\end{tabular}\n"
      ],
      "text/markdown": [
       "\n",
       "A tibble: 20 × 2\n",
       "\n",
       "| job_title &lt;chr&gt; | field &lt;chr&gt; |\n",
       "|---|---|\n",
       "| Data Scientist             | Data Science     |\n",
       "| Machine Learning Scientist | Machine Learning |\n",
       "| Big Data Engineer          | Data Engineering |\n",
       "| Product Data Analyst       | Data Analysis    |\n",
       "| Machine Learning Engineer  | Machine Learning |\n",
       "| Data Analyst               | Data Analysis    |\n",
       "| Lead Data Scientist        | Data Science     |\n",
       "| Data Scientist             | Data Science     |\n",
       "| Business Data Analyst      | Data Analysis    |\n",
       "| Lead Data Engineer         | Data Engineering |\n",
       "| Data Scientist             | Data Science     |\n",
       "| Data Scientist             | Data Science     |\n",
       "| Data Scientist             | Data Science     |\n",
       "| Lead Data Analyst          | Data Analysis    |\n",
       "| Data Analyst               | Data Analysis    |\n",
       "| Data Analyst               | Data Analysis    |\n",
       "| Data Engineer              | Data Engineering |\n",
       "| Big Data Engineer          | Data Engineering |\n",
       "| Data Science Consultant    | Data Science     |\n",
       "| Lead Data Engineer         | Data Engineering |\n",
       "\n"
      ],
      "text/plain": [
       "   job_title                  field           \n",
       "1  Data Scientist             Data Science    \n",
       "2  Machine Learning Scientist Machine Learning\n",
       "3  Big Data Engineer          Data Engineering\n",
       "4  Product Data Analyst       Data Analysis   \n",
       "5  Machine Learning Engineer  Machine Learning\n",
       "6  Data Analyst               Data Analysis   \n",
       "7  Lead Data Scientist        Data Science    \n",
       "8  Data Scientist             Data Science    \n",
       "9  Business Data Analyst      Data Analysis   \n",
       "10 Lead Data Engineer         Data Engineering\n",
       "11 Data Scientist             Data Science    \n",
       "12 Data Scientist             Data Science    \n",
       "13 Data Scientist             Data Science    \n",
       "14 Lead Data Analyst          Data Analysis   \n",
       "15 Data Analyst               Data Analysis   \n",
       "16 Data Analyst               Data Analysis   \n",
       "17 Data Engineer              Data Engineering\n",
       "18 Big Data Engineer          Data Engineering\n",
       "19 Data Science Consultant    Data Science    \n",
       "20 Lead Data Engineer         Data Engineering"
      ]
     },
     "metadata": {},
     "output_type": "display_data"
    }
   ],
   "source": [
    "for(i in 1:607){\n",
    "    if(str_detect(preprocessed_salaries$job_title[i], \"Data Scien\")) {\n",
    "        preprocessed_salaries$field[i] = \"Data Science\"\n",
    "    } else if(str_detect(preprocessed_salaries$job_title[i], \"Data Analy\")) {\n",
    "        preprocessed_salaries$field[i] = \"Data Analysis\"       \n",
    "    } else if(str_detect(preprocessed_salaries$job_title[i], \"Machine Learning\") || str_detect(preprocessed_salaries$job_title[i], \"ML\")){\n",
    "        preprocessed_salaries$field[i] = \"Machine Learning\"\n",
    "    } else if(str_detect(preprocessed_salaries$job_title[i], \"Data Engineer\")) {\n",
    "        preprocessed_salaries$field[i] = \"Data Engineering\"\n",
    "    } else {\n",
    "        preprocessed_salaries$field[i] = \"Other\"\n",
    "    }\n",
    "}\n",
    "\n",
    "head(select(preprocessed_salaries, job_title, field), 20)"
   ]
  },
  {
   "cell_type": "code",
   "execution_count": 18,
   "metadata": {},
   "outputs": [
    {
     "data": {
      "text/html": [
       "<table class=\"dataframe\">\n",
       "<caption>A tibble: 6 × 7</caption>\n",
       "<thead>\n",
       "\t<tr><th scope=col>experience_level</th><th scope=col>employment_type</th><th scope=col>salary_in_usd</th><th scope=col>remote_ratio</th><th scope=col>company_size</th><th scope=col>cont</th><th scope=col>field</th></tr>\n",
       "\t<tr><th scope=col>&lt;fct&gt;</th><th scope=col>&lt;fct&gt;</th><th scope=col>&lt;dbl&gt;</th><th scope=col>&lt;dbl&gt;</th><th scope=col>&lt;fct&gt;</th><th scope=col>&lt;fct&gt;</th><th scope=col>&lt;fct&gt;</th></tr>\n",
       "</thead>\n",
       "<tbody>\n",
       "\t<tr><td>MI</td><td>FT</td><td> 79833</td><td>  0</td><td>L</td><td>eur  </td><td>Data Science    </td></tr>\n",
       "\t<tr><td>SE</td><td>FT</td><td>260000</td><td>  0</td><td>S</td><td>asia </td><td>Machine Learning</td></tr>\n",
       "\t<tr><td>SE</td><td>FT</td><td>109024</td><td> 50</td><td>M</td><td>eur  </td><td>Data Engineering</td></tr>\n",
       "\t<tr><td>MI</td><td>FT</td><td> 20000</td><td>  0</td><td>S</td><td>no_am</td><td>Data Analysis   </td></tr>\n",
       "\t<tr><td>SE</td><td>FT</td><td>150000</td><td> 50</td><td>L</td><td>no_am</td><td>Machine Learning</td></tr>\n",
       "\t<tr><td>EN</td><td>FT</td><td> 72000</td><td>100</td><td>L</td><td>no_am</td><td>Data Analysis   </td></tr>\n",
       "</tbody>\n",
       "</table>\n"
      ],
      "text/latex": [
       "A tibble: 6 × 7\n",
       "\\begin{tabular}{lllllll}\n",
       " experience\\_level & employment\\_type & salary\\_in\\_usd & remote\\_ratio & company\\_size & cont & field\\\\\n",
       " <fct> & <fct> & <dbl> & <dbl> & <fct> & <fct> & <fct>\\\\\n",
       "\\hline\n",
       "\t MI & FT &  79833 &   0 & L & eur   & Data Science    \\\\\n",
       "\t SE & FT & 260000 &   0 & S & asia  & Machine Learning\\\\\n",
       "\t SE & FT & 109024 &  50 & M & eur   & Data Engineering\\\\\n",
       "\t MI & FT &  20000 &   0 & S & no\\_am & Data Analysis   \\\\\n",
       "\t SE & FT & 150000 &  50 & L & no\\_am & Machine Learning\\\\\n",
       "\t EN & FT &  72000 & 100 & L & no\\_am & Data Analysis   \\\\\n",
       "\\end{tabular}\n"
      ],
      "text/markdown": [
       "\n",
       "A tibble: 6 × 7\n",
       "\n",
       "| experience_level &lt;fct&gt; | employment_type &lt;fct&gt; | salary_in_usd &lt;dbl&gt; | remote_ratio &lt;dbl&gt; | company_size &lt;fct&gt; | cont &lt;fct&gt; | field &lt;fct&gt; |\n",
       "|---|---|---|---|---|---|---|\n",
       "| MI | FT |  79833 |   0 | L | eur   | Data Science     |\n",
       "| SE | FT | 260000 |   0 | S | asia  | Machine Learning |\n",
       "| SE | FT | 109024 |  50 | M | eur   | Data Engineering |\n",
       "| MI | FT |  20000 |   0 | S | no_am | Data Analysis    |\n",
       "| SE | FT | 150000 |  50 | L | no_am | Machine Learning |\n",
       "| EN | FT |  72000 | 100 | L | no_am | Data Analysis    |\n",
       "\n"
      ],
      "text/plain": [
       "  experience_level employment_type salary_in_usd remote_ratio company_size\n",
       "1 MI               FT               79833          0          L           \n",
       "2 SE               FT              260000          0          S           \n",
       "3 SE               FT              109024         50          M           \n",
       "4 MI               FT               20000          0          S           \n",
       "5 SE               FT              150000         50          L           \n",
       "6 EN               FT               72000        100          L           \n",
       "  cont  field           \n",
       "1 eur   Data Science    \n",
       "2 asia  Machine Learning\n",
       "3 eur   Data Engineering\n",
       "4 no_am Data Analysis   \n",
       "5 no_am Machine Learning\n",
       "6 no_am Data Analysis   "
      ]
     },
     "metadata": {},
     "output_type": "display_data"
    }
   ],
   "source": [
    "# Remove job_title and company_location\n",
    "feat_salaries <- preprocessed_salaries %>%\n",
    "    select(-job_title, -company_location)\n",
    "\n",
    "# Convert all string parameters to factors\n",
    "feat_salaries$company_size <- as.factor(feat_salaries$company_size)\n",
    "feat_salaries$cont <- as.factor(feat_salaries$cont)\n",
    "feat_salaries$field <- as.factor(feat_salaries$field)\n",
    "feat_salaries$experience_level <- as.factor(feat_salaries$experience_level)\n",
    "feat_salaries$employment_type <- as.factor(feat_salaries$employment_type)\n",
    "\n",
    "head(feat_salaries)"
   ]
  },
  {
   "cell_type": "markdown",
   "metadata": {},
   "source": [
    "## Forward Selection"
   ]
  },
  {
   "cell_type": "code",
   "execution_count": 20,
   "metadata": {},
   "outputs": [
    {
     "data": {
      "text/plain": [
       "\n",
       "   Data Analysis Data Engineering     Data Science Machine Learning \n",
       "             131              158              192               68 \n",
       "           Other \n",
       "              58 "
      ]
     },
     "metadata": {},
     "output_type": "display_data"
    }
   ],
   "source": [
    "table(feat_salaries$field)"
   ]
  },
  {
   "cell_type": "code",
   "execution_count": 21,
   "metadata": {},
   "outputs": [
    {
     "data": {
      "text/html": [
       "<style>\n",
       ".list-inline {list-style: none; margin:0; padding: 0}\n",
       ".list-inline>li {display: inline-block}\n",
       ".list-inline>li:not(:last-child)::after {content: \"\\00b7\"; padding: 0 .5ex}\n",
       "</style>\n",
       "<ol class=list-inline><li>455</li><li>7</li></ol>\n"
      ],
      "text/latex": [
       "\\begin{enumerate*}\n",
       "\\item 455\n",
       "\\item 7\n",
       "\\end{enumerate*}\n"
      ],
      "text/markdown": [
       "1. 455\n",
       "2. 7\n",
       "\n",
       "\n"
      ],
      "text/plain": [
       "[1] 455   7"
      ]
     },
     "metadata": {},
     "output_type": "display_data"
    },
    {
     "data": {
      "text/html": [
       "<style>\n",
       ".list-inline {list-style: none; margin:0; padding: 0}\n",
       ".list-inline>li {display: inline-block}\n",
       ".list-inline>li:not(:last-child)::after {content: \"\\00b7\"; padding: 0 .5ex}\n",
       "</style>\n",
       "<ol class=list-inline><li>152</li><li>7</li></ol>\n"
      ],
      "text/latex": [
       "\\begin{enumerate*}\n",
       "\\item 152\n",
       "\\item 7\n",
       "\\end{enumerate*}\n"
      ],
      "text/markdown": [
       "1. 152\n",
       "2. 7\n",
       "\n",
       "\n"
      ],
      "text/plain": [
       "[1] 152   7"
      ]
     },
     "metadata": {},
     "output_type": "display_data"
    }
   ],
   "source": [
    "# data splitting\n",
    "set.seed(301)\n",
    "\n",
    "# Perform the initial split (75% training, 25% testing by default,\n",
    "# which is a suitable and common ratio for data splitting)\n",
    "data_split <- initial_split(feat_salaries, prop = 0.75)\n",
    "\n",
    "# Extract training and testing sets\n",
    "train_data <- training(data_split)\n",
    "test_data <- testing(data_split)\n",
    "\n",
    "dim(train_data)\n",
    "dim(test_data)"
   ]
  },
  {
   "cell_type": "code",
   "execution_count": 22,
   "metadata": {},
   "outputs": [
    {
     "data": {
      "text/html": [
       "<table class=\"dataframe\">\n",
       "<caption>A tibble: 1 × 7</caption>\n",
       "<thead>\n",
       "\t<tr><th scope=col>experience_level</th><th scope=col>employment_type</th><th scope=col>salary_in_usd</th><th scope=col>remote_ratio</th><th scope=col>company_size</th><th scope=col>cont</th><th scope=col>field</th></tr>\n",
       "\t<tr><th scope=col>&lt;fct&gt;</th><th scope=col>&lt;fct&gt;</th><th scope=col>&lt;dbl&gt;</th><th scope=col>&lt;dbl&gt;</th><th scope=col>&lt;fct&gt;</th><th scope=col>&lt;fct&gt;</th><th scope=col>&lt;fct&gt;</th></tr>\n",
       "</thead>\n",
       "<tbody>\n",
       "\t<tr><td>SE</td><td>FT</td><td>140000</td><td>100</td><td>L</td><td>no_am</td><td>Data Analysis</td></tr>\n",
       "</tbody>\n",
       "</table>\n"
      ],
      "text/latex": [
       "A tibble: 1 × 7\n",
       "\\begin{tabular}{lllllll}\n",
       " experience\\_level & employment\\_type & salary\\_in\\_usd & remote\\_ratio & company\\_size & cont & field\\\\\n",
       " <fct> & <fct> & <dbl> & <dbl> & <fct> & <fct> & <fct>\\\\\n",
       "\\hline\n",
       "\t SE & FT & 140000 & 100 & L & no\\_am & Data Analysis\\\\\n",
       "\\end{tabular}\n"
      ],
      "text/markdown": [
       "\n",
       "A tibble: 1 × 7\n",
       "\n",
       "| experience_level &lt;fct&gt; | employment_type &lt;fct&gt; | salary_in_usd &lt;dbl&gt; | remote_ratio &lt;dbl&gt; | company_size &lt;fct&gt; | cont &lt;fct&gt; | field &lt;fct&gt; |\n",
       "|---|---|---|---|---|---|---|\n",
       "| SE | FT | 140000 | 100 | L | no_am | Data Analysis |\n",
       "\n"
      ],
      "text/plain": [
       "  experience_level employment_type salary_in_usd remote_ratio company_size\n",
       "1 SE               FT              140000        100          L           \n",
       "  cont  field        \n",
       "1 no_am Data Analysis"
      ]
     },
     "metadata": {},
     "output_type": "display_data"
    }
   ],
   "source": [
    "train_data[1, ]"
   ]
  },
  {
   "cell_type": "code",
   "execution_count": 23,
   "metadata": {},
   "outputs": [
    {
     "data": {
      "text/html": [
       "<style>\n",
       ".list-inline {list-style: none; margin:0; padding: 0}\n",
       ".list-inline>li {display: inline-block}\n",
       ".list-inline>li:not(:last-child)::after {content: \"\\00b7\"; padding: 0 .5ex}\n",
       "</style>\n",
       "<ol class=list-inline><li>455</li><li>19</li></ol>\n"
      ],
      "text/latex": [
       "\\begin{enumerate*}\n",
       "\\item 455\n",
       "\\item 19\n",
       "\\end{enumerate*}\n"
      ],
      "text/markdown": [
       "1. 455\n",
       "2. 19\n",
       "\n",
       "\n"
      ],
      "text/plain": [
       "[1] 455  19"
      ]
     },
     "metadata": {},
     "output_type": "display_data"
    },
    {
     "data": {
      "text/html": [
       "18"
      ],
      "text/latex": [
       "18"
      ],
      "text/markdown": [
       "18"
      ],
      "text/plain": [
       "[1] 18"
      ]
     },
     "metadata": {},
     "output_type": "display_data"
    }
   ],
   "source": [
    "# Determining total number of predictors, including dummy variables\n",
    "model_matrix <- model.matrix(salary_in_usd ~ ., data = train_data)\n",
    "# Display the dimensions of the model matrix\n",
    "dim(model_matrix)"
   ]
  },
  {
   "cell_type": "code",
   "execution_count": 26,
   "metadata": {},
   "outputs": [
    {
     "data": {
      "text/html": [
       "<dl>\n",
       "\t<dt>$experience_level</dt>\n",
       "\t\t<dd><style>\n",
       ".list-inline {list-style: none; margin:0; padding: 0}\n",
       ".list-inline>li {display: inline-block}\n",
       ".list-inline>li:not(:last-child)::after {content: \"\\00b7\"; padding: 0 .5ex}\n",
       "</style>\n",
       "<ol class=list-inline><li>'EN'</li><li>'EX'</li><li>'MI'</li><li>'SE'</li></ol>\n",
       "</dd>\n",
       "\t<dt>$employment_type</dt>\n",
       "\t\t<dd><style>\n",
       ".list-inline {list-style: none; margin:0; padding: 0}\n",
       ".list-inline>li {display: inline-block}\n",
       ".list-inline>li:not(:last-child)::after {content: \"\\00b7\"; padding: 0 .5ex}\n",
       "</style>\n",
       "<ol class=list-inline><li>'CT'</li><li>'FL'</li><li>'FT'</li><li>'PT'</li></ol>\n",
       "</dd>\n",
       "\t<dt>$salary_in_usd</dt>\n",
       "\t\t<dd>&lt;NA&gt;</dd>\n",
       "\t<dt>$remote_ratio</dt>\n",
       "\t\t<dd>&lt;NA&gt;</dd>\n",
       "\t<dt>$company_size</dt>\n",
       "\t\t<dd><style>\n",
       ".list-inline {list-style: none; margin:0; padding: 0}\n",
       ".list-inline>li {display: inline-block}\n",
       ".list-inline>li:not(:last-child)::after {content: \"\\00b7\"; padding: 0 .5ex}\n",
       "</style>\n",
       "<ol class=list-inline><li>'L'</li><li>'M'</li><li>'S'</li></ol>\n",
       "</dd>\n",
       "\t<dt>$cont</dt>\n",
       "\t\t<dd><style>\n",
       ".list-inline {list-style: none; margin:0; padding: 0}\n",
       ".list-inline>li {display: inline-block}\n",
       ".list-inline>li:not(:last-child)::after {content: \"\\00b7\"; padding: 0 .5ex}\n",
       "</style>\n",
       "<ol class=list-inline><li>'afr'</li><li>'asia'</li><li>'eur'</li><li>'no_am'</li><li>'oce'</li><li>'so_am'</li></ol>\n",
       "</dd>\n",
       "\t<dt>$field</dt>\n",
       "\t\t<dd><style>\n",
       ".list-inline {list-style: none; margin:0; padding: 0}\n",
       ".list-inline>li {display: inline-block}\n",
       ".list-inline>li:not(:last-child)::after {content: \"\\00b7\"; padding: 0 .5ex}\n",
       "</style>\n",
       "<ol class=list-inline><li>'Data Analysis'</li><li>'Data Engineering'</li><li>'Data Science'</li><li>'Machine Learning'</li><li>'Other'</li></ol>\n",
       "</dd>\n",
       "</dl>\n"
      ],
      "text/latex": [
       "\\begin{description}\n",
       "\\item[\\$experience\\_level] \\begin{enumerate*}\n",
       "\\item 'EN'\n",
       "\\item 'EX'\n",
       "\\item 'MI'\n",
       "\\item 'SE'\n",
       "\\end{enumerate*}\n",
       "\n",
       "\\item[\\$employment\\_type] \\begin{enumerate*}\n",
       "\\item 'CT'\n",
       "\\item 'FL'\n",
       "\\item 'FT'\n",
       "\\item 'PT'\n",
       "\\end{enumerate*}\n",
       "\n",
       "\\item[\\$salary\\_in\\_usd] <NA>\n",
       "\\item[\\$remote\\_ratio] <NA>\n",
       "\\item[\\$company\\_size] \\begin{enumerate*}\n",
       "\\item 'L'\n",
       "\\item 'M'\n",
       "\\item 'S'\n",
       "\\end{enumerate*}\n",
       "\n",
       "\\item[\\$cont] \\begin{enumerate*}\n",
       "\\item 'afr'\n",
       "\\item 'asia'\n",
       "\\item 'eur'\n",
       "\\item 'no\\_am'\n",
       "\\item 'oce'\n",
       "\\item 'so\\_am'\n",
       "\\end{enumerate*}\n",
       "\n",
       "\\item[\\$field] \\begin{enumerate*}\n",
       "\\item 'Data Analysis'\n",
       "\\item 'Data Engineering'\n",
       "\\item 'Data Science'\n",
       "\\item 'Machine Learning'\n",
       "\\item 'Other'\n",
       "\\end{enumerate*}\n",
       "\n",
       "\\end{description}\n"
      ],
      "text/markdown": [
       "$experience_level\n",
       ":   1. 'EN'\n",
       "2. 'EX'\n",
       "3. 'MI'\n",
       "4. 'SE'\n",
       "\n",
       "\n",
       "\n",
       "$employment_type\n",
       ":   1. 'CT'\n",
       "2. 'FL'\n",
       "3. 'FT'\n",
       "4. 'PT'\n",
       "\n",
       "\n",
       "\n",
       "$salary_in_usd\n",
       ":   &lt;NA&gt;\n",
       "$remote_ratio\n",
       ":   &lt;NA&gt;\n",
       "$company_size\n",
       ":   1. 'L'\n",
       "2. 'M'\n",
       "3. 'S'\n",
       "\n",
       "\n",
       "\n",
       "$cont\n",
       ":   1. 'afr'\n",
       "2. 'asia'\n",
       "3. 'eur'\n",
       "4. 'no_am'\n",
       "5. 'oce'\n",
       "6. 'so_am'\n",
       "\n",
       "\n",
       "\n",
       "$field\n",
       ":   1. 'Data Analysis'\n",
       "2. 'Data Engineering'\n",
       "3. 'Data Science'\n",
       "4. 'Machine Learning'\n",
       "5. 'Other'\n",
       "\n",
       "\n",
       "\n",
       "\n",
       "\n"
      ],
      "text/plain": [
       "$experience_level\n",
       "[1] \"EN\" \"EX\" \"MI\" \"SE\"\n",
       "\n",
       "$employment_type\n",
       "[1] \"CT\" \"FL\" \"FT\" \"PT\"\n",
       "\n",
       "$salary_in_usd\n",
       "[1] NA\n",
       "\n",
       "$remote_ratio\n",
       "[1] NA\n",
       "\n",
       "$company_size\n",
       "[1] \"L\" \"M\" \"S\"\n",
       "\n",
       "$cont\n",
       "[1] \"afr\"   \"asia\"  \"eur\"   \"no_am\" \"oce\"   \"so_am\"\n",
       "\n",
       "$field\n",
       "[1] \"Data Analysis\"    \"Data Engineering\" \"Data Science\"     \"Machine Learning\"\n",
       "[5] \"Other\"           \n"
      ]
     },
     "metadata": {},
     "output_type": "display_data"
    },
    {
     "name": "stdout",
     "output_type": "stream",
     "text": [
      "experience_level  employment_type    salary_in_usd     remote_ratio \n",
      "               4                4               NA               NA \n",
      "    company_size             cont            field \n",
      "               3                6                5 \n"
     ]
    },
    {
     "data": {
      "text/html": [
       "18"
      ],
      "text/latex": [
       "18"
      ],
      "text/markdown": [
       "18"
      ],
      "text/plain": [
       "[1] 18"
      ]
     },
     "metadata": {},
     "output_type": "display_data"
    }
   ],
   "source": [
    "# Check the levels for each factor variable in the dataset\n",
    "factor_levels <- sapply(train_data, function(x) if(is.factor(x)) levels(x) else NA)\n",
    "factor_levels\n",
    "# Checking the number of levels for each categorical variables\n",
    "factor_levels_count <- sapply(train_data, function(x) if(is.factor(x)) length(levels(x)) else NA)\n",
    "print(factor_levels_count)"
   ]
  },
  {
   "cell_type": "code",
   "execution_count": 27,
   "metadata": {},
   "outputs": [
    {
     "data": {
      "text/html": [
       "18"
      ],
      "text/latex": [
       "18"
      ],
      "text/markdown": [
       "18"
      ],
      "text/plain": [
       "[1] 18"
      ]
     },
     "metadata": {},
     "output_type": "display_data"
    }
   ],
   "source": [
    "# Check how many coefficients (betas) you will have\n",
    "num_coefficients <- ncol(model_matrix) - 1 # Subtract 1 to exclude the intercept\n",
    "num_coefficients"
   ]
  },
  {
   "cell_type": "markdown",
   "metadata": {},
   "source": [
    "Number of coefficients explained: each numeric variable gets one column/coefficient, each categorical variable gets (# of levels -1) dummy variables as coefficients (because reference level is not included), and yeah we get rid of the intercept column whuich is all 1. we have from the order of factor_levels: 3+3+1+1+2+5+4-1 = 18 coefficients in total."
   ]
  },
  {
   "cell_type": "code",
   "execution_count": 32,
   "metadata": {},
   "outputs": [
    {
     "data": {
      "text/plain": [
       "Subset selection object\n",
       "Call: regsubsets.formula(salary_in_usd ~ ., nvmax = 18, data = train_data, \n",
       "    method = \"forward\")\n",
       "18 Variables  (and intercept)\n",
       "                      Forced in Forced out\n",
       "experience_levelEX        FALSE      FALSE\n",
       "experience_levelMI        FALSE      FALSE\n",
       "experience_levelSE        FALSE      FALSE\n",
       "employment_typeFL         FALSE      FALSE\n",
       "employment_typeFT         FALSE      FALSE\n",
       "employment_typePT         FALSE      FALSE\n",
       "remote_ratio              FALSE      FALSE\n",
       "company_sizeM             FALSE      FALSE\n",
       "company_sizeS             FALSE      FALSE\n",
       "contasia                  FALSE      FALSE\n",
       "conteur                   FALSE      FALSE\n",
       "contno_am                 FALSE      FALSE\n",
       "contoce                   FALSE      FALSE\n",
       "contso_am                 FALSE      FALSE\n",
       "fieldData Engineering     FALSE      FALSE\n",
       "fieldData Science         FALSE      FALSE\n",
       "fieldMachine Learning     FALSE      FALSE\n",
       "fieldOther                FALSE      FALSE\n",
       "1 subsets of each size up to 18\n",
       "Selection Algorithm: forward\n",
       "          experience_levelEX experience_levelMI experience_levelSE\n",
       "1  ( 1 )  \" \"                \" \"                \" \"               \n",
       "2  ( 1 )  \"*\"                \" \"                \" \"               \n",
       "3  ( 1 )  \"*\"                \" \"                \"*\"               \n",
       "4  ( 1 )  \"*\"                \" \"                \"*\"               \n",
       "5  ( 1 )  \"*\"                \" \"                \"*\"               \n",
       "6  ( 1 )  \"*\"                \" \"                \"*\"               \n",
       "7  ( 1 )  \"*\"                \" \"                \"*\"               \n",
       "8  ( 1 )  \"*\"                \" \"                \"*\"               \n",
       "9  ( 1 )  \"*\"                \" \"                \"*\"               \n",
       "10  ( 1 ) \"*\"                \" \"                \"*\"               \n",
       "11  ( 1 ) \"*\"                \"*\"                \"*\"               \n",
       "12  ( 1 ) \"*\"                \"*\"                \"*\"               \n",
       "13  ( 1 ) \"*\"                \"*\"                \"*\"               \n",
       "14  ( 1 ) \"*\"                \"*\"                \"*\"               \n",
       "15  ( 1 ) \"*\"                \"*\"                \"*\"               \n",
       "16  ( 1 ) \"*\"                \"*\"                \"*\"               \n",
       "17  ( 1 ) \"*\"                \"*\"                \"*\"               \n",
       "18  ( 1 ) \"*\"                \"*\"                \"*\"               \n",
       "          employment_typeFL employment_typeFT employment_typePT remote_ratio\n",
       "1  ( 1 )  \" \"               \" \"               \" \"               \" \"         \n",
       "2  ( 1 )  \" \"               \" \"               \" \"               \" \"         \n",
       "3  ( 1 )  \" \"               \" \"               \" \"               \" \"         \n",
       "4  ( 1 )  \" \"               \" \"               \" \"               \" \"         \n",
       "5  ( 1 )  \" \"               \" \"               \" \"               \" \"         \n",
       "6  ( 1 )  \" \"               \" \"               \" \"               \" \"         \n",
       "7  ( 1 )  \" \"               \" \"               \" \"               \" \"         \n",
       "8  ( 1 )  \" \"               \" \"               \" \"               \" \"         \n",
       "9  ( 1 )  \" \"               \" \"               \" \"               \" \"         \n",
       "10  ( 1 ) \"*\"               \" \"               \" \"               \" \"         \n",
       "11  ( 1 ) \"*\"               \" \"               \" \"               \" \"         \n",
       "12  ( 1 ) \"*\"               \" \"               \" \"               \" \"         \n",
       "13  ( 1 ) \"*\"               \" \"               \" \"               \" \"         \n",
       "14  ( 1 ) \"*\"               \" \"               \" \"               \" \"         \n",
       "15  ( 1 ) \"*\"               \" \"               \" \"               \"*\"         \n",
       "16  ( 1 ) \"*\"               \" \"               \"*\"               \"*\"         \n",
       "17  ( 1 ) \"*\"               \"*\"               \"*\"               \"*\"         \n",
       "18  ( 1 ) \"*\"               \"*\"               \"*\"               \"*\"         \n",
       "          company_sizeM company_sizeS contasia conteur contno_am contoce\n",
       "1  ( 1 )  \" \"           \" \"           \" \"      \" \"     \"*\"       \" \"    \n",
       "2  ( 1 )  \" \"           \" \"           \" \"      \" \"     \"*\"       \" \"    \n",
       "3  ( 1 )  \" \"           \" \"           \" \"      \" \"     \"*\"       \" \"    \n",
       "4  ( 1 )  \" \"           \" \"           \" \"      \" \"     \"*\"       \" \"    \n",
       "5  ( 1 )  \" \"           \"*\"           \" \"      \" \"     \"*\"       \" \"    \n",
       "6  ( 1 )  \" \"           \"*\"           \"*\"      \" \"     \"*\"       \" \"    \n",
       "7  ( 1 )  \" \"           \"*\"           \"*\"      \" \"     \"*\"       \" \"    \n",
       "8  ( 1 )  \" \"           \"*\"           \"*\"      \" \"     \"*\"       \" \"    \n",
       "9  ( 1 )  \" \"           \"*\"           \"*\"      \" \"     \"*\"       \" \"    \n",
       "10  ( 1 ) \" \"           \"*\"           \"*\"      \" \"     \"*\"       \" \"    \n",
       "11  ( 1 ) \" \"           \"*\"           \"*\"      \" \"     \"*\"       \" \"    \n",
       "12  ( 1 ) \" \"           \"*\"           \"*\"      \" \"     \"*\"       \" \"    \n",
       "13  ( 1 ) \" \"           \"*\"           \"*\"      \" \"     \"*\"       \"*\"    \n",
       "14  ( 1 ) \"*\"           \"*\"           \"*\"      \" \"     \"*\"       \"*\"    \n",
       "15  ( 1 ) \"*\"           \"*\"           \"*\"      \" \"     \"*\"       \"*\"    \n",
       "16  ( 1 ) \"*\"           \"*\"           \"*\"      \" \"     \"*\"       \"*\"    \n",
       "17  ( 1 ) \"*\"           \"*\"           \"*\"      \" \"     \"*\"       \"*\"    \n",
       "18  ( 1 ) \"*\"           \"*\"           \"*\"      \"*\"     \"*\"       \"*\"    \n",
       "          contso_am fieldData Engineering fieldData Science\n",
       "1  ( 1 )  \" \"       \" \"                   \" \"              \n",
       "2  ( 1 )  \" \"       \" \"                   \" \"              \n",
       "3  ( 1 )  \" \"       \" \"                   \" \"              \n",
       "4  ( 1 )  \" \"       \" \"                   \" \"              \n",
       "5  ( 1 )  \" \"       \" \"                   \" \"              \n",
       "6  ( 1 )  \" \"       \" \"                   \" \"              \n",
       "7  ( 1 )  \" \"       \" \"                   \"*\"              \n",
       "8  ( 1 )  \" \"       \"*\"                   \"*\"              \n",
       "9  ( 1 )  \" \"       \"*\"                   \"*\"              \n",
       "10  ( 1 ) \" \"       \"*\"                   \"*\"              \n",
       "11  ( 1 ) \" \"       \"*\"                   \"*\"              \n",
       "12  ( 1 ) \"*\"       \"*\"                   \"*\"              \n",
       "13  ( 1 ) \"*\"       \"*\"                   \"*\"              \n",
       "14  ( 1 ) \"*\"       \"*\"                   \"*\"              \n",
       "15  ( 1 ) \"*\"       \"*\"                   \"*\"              \n",
       "16  ( 1 ) \"*\"       \"*\"                   \"*\"              \n",
       "17  ( 1 ) \"*\"       \"*\"                   \"*\"              \n",
       "18  ( 1 ) \"*\"       \"*\"                   \"*\"              \n",
       "          fieldMachine Learning fieldOther\n",
       "1  ( 1 )  \" \"                   \" \"       \n",
       "2  ( 1 )  \" \"                   \" \"       \n",
       "3  ( 1 )  \" \"                   \" \"       \n",
       "4  ( 1 )  \"*\"                   \" \"       \n",
       "5  ( 1 )  \"*\"                   \" \"       \n",
       "6  ( 1 )  \"*\"                   \" \"       \n",
       "7  ( 1 )  \"*\"                   \" \"       \n",
       "8  ( 1 )  \"*\"                   \" \"       \n",
       "9  ( 1 )  \"*\"                   \"*\"       \n",
       "10  ( 1 ) \"*\"                   \"*\"       \n",
       "11  ( 1 ) \"*\"                   \"*\"       \n",
       "12  ( 1 ) \"*\"                   \"*\"       \n",
       "13  ( 1 ) \"*\"                   \"*\"       \n",
       "14  ( 1 ) \"*\"                   \"*\"       \n",
       "15  ( 1 ) \"*\"                   \"*\"       \n",
       "16  ( 1 ) \"*\"                   \"*\"       \n",
       "17  ( 1 ) \"*\"                   \"*\"       \n",
       "18  ( 1 ) \"*\"                   \"*\"       "
      ]
     },
     "metadata": {},
     "output_type": "display_data"
    }
   ],
   "source": [
    "# forward selection\n",
    "forward_sel <- regsubsets(salary_in_usd ~ ., nvmax = 18,\n",
    "                          data = train_data,\n",
    "                          method = \"forward\")\n",
    "forward_summary <- summary(forward_sel)\n",
    "forward_summary"
   ]
  },
  {
   "cell_type": "code",
   "execution_count": 34,
   "metadata": {},
   "outputs": [
    {
     "data": {
      "text/html": [
       "<table class=\"dataframe\">\n",
       "<caption>A tibble: 18 × 6</caption>\n",
       "<thead>\n",
       "\t<tr><th scope=col>n_input_variables</th><th scope=col>RSQ</th><th scope=col>RSS</th><th scope=col>ADJ_R2</th><th scope=col>Cp</th><th scope=col>BIC</th></tr>\n",
       "\t<tr><th scope=col>&lt;int&gt;</th><th scope=col>&lt;dbl&gt;</th><th scope=col>&lt;dbl&gt;</th><th scope=col>&lt;dbl&gt;</th><th scope=col>&lt;dbl&gt;</th><th scope=col>&lt;dbl&gt;</th></tr>\n",
       "</thead>\n",
       "<tbody>\n",
       "\t<tr><td> 1</td><td>0.2770677</td><td>1.769440e+12</td><td>0.2754718</td><td>137.08252</td><td>-135.3794</td></tr>\n",
       "\t<tr><td> 2</td><td>0.3379894</td><td>1.620328e+12</td><td>0.3350601</td><td> 89.52462</td><td>-169.3146</td></tr>\n",
       "\t<tr><td> 3</td><td>0.3813322</td><td>1.514243e+12</td><td>0.3772169</td><td> 56.26663</td><td>-194.0038</td></tr>\n",
       "\t<tr><td> 4</td><td>0.3898055</td><td>1.493504e+12</td><td>0.3843816</td><td> 51.37383</td><td>-194.1583</td></tr>\n",
       "\t<tr><td> 5</td><td>0.3990691</td><td>1.470831e+12</td><td>0.3923772</td><td> 45.83821</td><td>-194.9985</td></tr>\n",
       "\t<tr><td> 6</td><td>0.4060437</td><td>1.453760e+12</td><td>0.3980889</td><td> 42.16460</td><td>-194.1900</td></tr>\n",
       "\t<tr><td> 7</td><td>0.4131925</td><td>1.436262e+12</td><td>0.4040031</td><td> 38.34928</td><td>-193.5792</td></tr>\n",
       "\t<tr><td> 8</td><td>0.4186709</td><td>1.422854e+12</td><td>0.4082434</td><td> 35.89281</td><td>-191.7267</td></tr>\n",
       "\t<tr><td> 9</td><td>0.4290902</td><td>1.397351e+12</td><td>0.4175437</td><td> 29.41703</td><td>-193.8354</td></tr>\n",
       "\t<tr><td>10</td><td>0.4358326</td><td>1.380849e+12</td><td>0.4231262</td><td> 25.93226</td><td>-193.1207</td></tr>\n",
       "\t<tr><td>11</td><td>0.4429373</td><td>1.363459e+12</td><td>0.4291051</td><td> 22.15282</td><td>-192.7667</td></tr>\n",
       "\t<tr><td>12</td><td>0.4490891</td><td>1.348402e+12</td><td>0.4341322</td><td> 19.14855</td><td>-191.6990</td></tr>\n",
       "\t<tr><td>13</td><td>0.4518603</td><td>1.341620e+12</td><td>0.4357020</td><td> 18.89426</td><td>-187.8732</td></tr>\n",
       "\t<tr><td>14</td><td>0.4544844</td><td>1.335197e+12</td><td>0.4371271</td><td> 18.75964</td><td>-183.9364</td></tr>\n",
       "\t<tr><td>15</td><td>0.4571701</td><td>1.328623e+12</td><td>0.4386224</td><td> 18.57491</td><td>-180.0617</td></tr>\n",
       "\t<tr><td>16</td><td>0.4580901</td><td>1.326372e+12</td><td>0.4382943</td><td> 19.82650</td><td>-174.7132</td></tr>\n",
       "\t<tr><td>17</td><td>0.4635886</td><td>1.312913e+12</td><td>0.4427214</td><td> 17.35363</td><td>-173.2332</td></tr>\n",
       "\t<tr><td>18</td><td>0.4640233</td><td>1.311849e+12</td><td>0.4418959</td><td> 19.00000</td><td>-167.4818</td></tr>\n",
       "</tbody>\n",
       "</table>\n"
      ],
      "text/latex": [
       "A tibble: 18 × 6\n",
       "\\begin{tabular}{llllll}\n",
       " n\\_input\\_variables & RSQ & RSS & ADJ\\_R2 & Cp & BIC\\\\\n",
       " <int> & <dbl> & <dbl> & <dbl> & <dbl> & <dbl>\\\\\n",
       "\\hline\n",
       "\t  1 & 0.2770677 & 1.769440e+12 & 0.2754718 & 137.08252 & -135.3794\\\\\n",
       "\t  2 & 0.3379894 & 1.620328e+12 & 0.3350601 &  89.52462 & -169.3146\\\\\n",
       "\t  3 & 0.3813322 & 1.514243e+12 & 0.3772169 &  56.26663 & -194.0038\\\\\n",
       "\t  4 & 0.3898055 & 1.493504e+12 & 0.3843816 &  51.37383 & -194.1583\\\\\n",
       "\t  5 & 0.3990691 & 1.470831e+12 & 0.3923772 &  45.83821 & -194.9985\\\\\n",
       "\t  6 & 0.4060437 & 1.453760e+12 & 0.3980889 &  42.16460 & -194.1900\\\\\n",
       "\t  7 & 0.4131925 & 1.436262e+12 & 0.4040031 &  38.34928 & -193.5792\\\\\n",
       "\t  8 & 0.4186709 & 1.422854e+12 & 0.4082434 &  35.89281 & -191.7267\\\\\n",
       "\t  9 & 0.4290902 & 1.397351e+12 & 0.4175437 &  29.41703 & -193.8354\\\\\n",
       "\t 10 & 0.4358326 & 1.380849e+12 & 0.4231262 &  25.93226 & -193.1207\\\\\n",
       "\t 11 & 0.4429373 & 1.363459e+12 & 0.4291051 &  22.15282 & -192.7667\\\\\n",
       "\t 12 & 0.4490891 & 1.348402e+12 & 0.4341322 &  19.14855 & -191.6990\\\\\n",
       "\t 13 & 0.4518603 & 1.341620e+12 & 0.4357020 &  18.89426 & -187.8732\\\\\n",
       "\t 14 & 0.4544844 & 1.335197e+12 & 0.4371271 &  18.75964 & -183.9364\\\\\n",
       "\t 15 & 0.4571701 & 1.328623e+12 & 0.4386224 &  18.57491 & -180.0617\\\\\n",
       "\t 16 & 0.4580901 & 1.326372e+12 & 0.4382943 &  19.82650 & -174.7132\\\\\n",
       "\t 17 & 0.4635886 & 1.312913e+12 & 0.4427214 &  17.35363 & -173.2332\\\\\n",
       "\t 18 & 0.4640233 & 1.311849e+12 & 0.4418959 &  19.00000 & -167.4818\\\\\n",
       "\\end{tabular}\n"
      ],
      "text/markdown": [
       "\n",
       "A tibble: 18 × 6\n",
       "\n",
       "| n_input_variables &lt;int&gt; | RSQ &lt;dbl&gt; | RSS &lt;dbl&gt; | ADJ_R2 &lt;dbl&gt; | Cp &lt;dbl&gt; | BIC &lt;dbl&gt; |\n",
       "|---|---|---|---|---|---|\n",
       "|  1 | 0.2770677 | 1.769440e+12 | 0.2754718 | 137.08252 | -135.3794 |\n",
       "|  2 | 0.3379894 | 1.620328e+12 | 0.3350601 |  89.52462 | -169.3146 |\n",
       "|  3 | 0.3813322 | 1.514243e+12 | 0.3772169 |  56.26663 | -194.0038 |\n",
       "|  4 | 0.3898055 | 1.493504e+12 | 0.3843816 |  51.37383 | -194.1583 |\n",
       "|  5 | 0.3990691 | 1.470831e+12 | 0.3923772 |  45.83821 | -194.9985 |\n",
       "|  6 | 0.4060437 | 1.453760e+12 | 0.3980889 |  42.16460 | -194.1900 |\n",
       "|  7 | 0.4131925 | 1.436262e+12 | 0.4040031 |  38.34928 | -193.5792 |\n",
       "|  8 | 0.4186709 | 1.422854e+12 | 0.4082434 |  35.89281 | -191.7267 |\n",
       "|  9 | 0.4290902 | 1.397351e+12 | 0.4175437 |  29.41703 | -193.8354 |\n",
       "| 10 | 0.4358326 | 1.380849e+12 | 0.4231262 |  25.93226 | -193.1207 |\n",
       "| 11 | 0.4429373 | 1.363459e+12 | 0.4291051 |  22.15282 | -192.7667 |\n",
       "| 12 | 0.4490891 | 1.348402e+12 | 0.4341322 |  19.14855 | -191.6990 |\n",
       "| 13 | 0.4518603 | 1.341620e+12 | 0.4357020 |  18.89426 | -187.8732 |\n",
       "| 14 | 0.4544844 | 1.335197e+12 | 0.4371271 |  18.75964 | -183.9364 |\n",
       "| 15 | 0.4571701 | 1.328623e+12 | 0.4386224 |  18.57491 | -180.0617 |\n",
       "| 16 | 0.4580901 | 1.326372e+12 | 0.4382943 |  19.82650 | -174.7132 |\n",
       "| 17 | 0.4635886 | 1.312913e+12 | 0.4427214 |  17.35363 | -173.2332 |\n",
       "| 18 | 0.4640233 | 1.311849e+12 | 0.4418959 |  19.00000 | -167.4818 |\n",
       "\n"
      ],
      "text/plain": [
       "   n_input_variables RSQ       RSS          ADJ_R2    Cp        BIC      \n",
       "1   1                0.2770677 1.769440e+12 0.2754718 137.08252 -135.3794\n",
       "2   2                0.3379894 1.620328e+12 0.3350601  89.52462 -169.3146\n",
       "3   3                0.3813322 1.514243e+12 0.3772169  56.26663 -194.0038\n",
       "4   4                0.3898055 1.493504e+12 0.3843816  51.37383 -194.1583\n",
       "5   5                0.3990691 1.470831e+12 0.3923772  45.83821 -194.9985\n",
       "6   6                0.4060437 1.453760e+12 0.3980889  42.16460 -194.1900\n",
       "7   7                0.4131925 1.436262e+12 0.4040031  38.34928 -193.5792\n",
       "8   8                0.4186709 1.422854e+12 0.4082434  35.89281 -191.7267\n",
       "9   9                0.4290902 1.397351e+12 0.4175437  29.41703 -193.8354\n",
       "10 10                0.4358326 1.380849e+12 0.4231262  25.93226 -193.1207\n",
       "11 11                0.4429373 1.363459e+12 0.4291051  22.15282 -192.7667\n",
       "12 12                0.4490891 1.348402e+12 0.4341322  19.14855 -191.6990\n",
       "13 13                0.4518603 1.341620e+12 0.4357020  18.89426 -187.8732\n",
       "14 14                0.4544844 1.335197e+12 0.4371271  18.75964 -183.9364\n",
       "15 15                0.4571701 1.328623e+12 0.4386224  18.57491 -180.0617\n",
       "16 16                0.4580901 1.326372e+12 0.4382943  19.82650 -174.7132\n",
       "17 17                0.4635886 1.312913e+12 0.4427214  17.35363 -173.2332\n",
       "18 18                0.4640233 1.311849e+12 0.4418959  19.00000 -167.4818"
      ]
     },
     "metadata": {},
     "output_type": "display_data"
    }
   ],
   "source": [
    "forward_summary_df <- tibble(\n",
    "    n_input_variables = 1:18,\n",
    "    RSQ = forward_summary$rsq,\n",
    "    RSS = forward_summary$rss,\n",
    "    ADJ_R2 = forward_summary$adjr2,\n",
    "    Cp = forward_summary$cp,\n",
    "    BIC = forward_summary$bic,\n",
    ")\n",
    "forward_summary_df"
   ]
  },
  {
   "cell_type": "code",
   "execution_count": 39,
   "metadata": {},
   "outputs": [
    {
     "data": {
      "text/html": [
       "17"
      ],
      "text/latex": [
       "17"
      ],
      "text/markdown": [
       "17"
      ],
      "text/plain": [
       "[1] 17"
      ]
     },
     "metadata": {},
     "output_type": "display_data"
    },
    {
     "data": {
      "text/html": [
       "<style>\n",
       ".list-inline {list-style: none; margin:0; padding: 0}\n",
       ".list-inline>li {display: inline-block}\n",
       ".list-inline>li:not(:last-child)::after {content: \"\\00b7\"; padding: 0 .5ex}\n",
       "</style>\n",
       "<ol class=list-inline><li>'experience_levelEX'</li><li>'experience_levelMI'</li><li>'experience_levelSE'</li><li>'employment_typeFL'</li><li>'employment_typeFT'</li><li>'employment_typePT'</li><li>'remote_ratio'</li><li>'company_sizeM'</li><li>'company_sizeS'</li><li>'contasia'</li><li>'contno_am'</li><li>'contoce'</li><li>'contso_am'</li><li>'fieldData Engineering'</li><li>'fieldData Science'</li><li>'fieldMachine Learning'</li><li>'fieldOther'</li></ol>\n"
      ],
      "text/latex": [
       "\\begin{enumerate*}\n",
       "\\item 'experience\\_levelEX'\n",
       "\\item 'experience\\_levelMI'\n",
       "\\item 'experience\\_levelSE'\n",
       "\\item 'employment\\_typeFL'\n",
       "\\item 'employment\\_typeFT'\n",
       "\\item 'employment\\_typePT'\n",
       "\\item 'remote\\_ratio'\n",
       "\\item 'company\\_sizeM'\n",
       "\\item 'company\\_sizeS'\n",
       "\\item 'contasia'\n",
       "\\item 'contno\\_am'\n",
       "\\item 'contoce'\n",
       "\\item 'contso\\_am'\n",
       "\\item 'fieldData Engineering'\n",
       "\\item 'fieldData Science'\n",
       "\\item 'fieldMachine Learning'\n",
       "\\item 'fieldOther'\n",
       "\\end{enumerate*}\n"
      ],
      "text/markdown": [
       "1. 'experience_levelEX'\n",
       "2. 'experience_levelMI'\n",
       "3. 'experience_levelSE'\n",
       "4. 'employment_typeFL'\n",
       "5. 'employment_typeFT'\n",
       "6. 'employment_typePT'\n",
       "7. 'remote_ratio'\n",
       "8. 'company_sizeM'\n",
       "9. 'company_sizeS'\n",
       "10. 'contasia'\n",
       "11. 'contno_am'\n",
       "12. 'contoce'\n",
       "13. 'contso_am'\n",
       "14. 'fieldData Engineering'\n",
       "15. 'fieldData Science'\n",
       "16. 'fieldMachine Learning'\n",
       "17. 'fieldOther'\n",
       "\n",
       "\n"
      ],
      "text/plain": [
       " [1] \"experience_levelEX\"    \"experience_levelMI\"    \"experience_levelSE\"   \n",
       " [4] \"employment_typeFL\"     \"employment_typeFT\"     \"employment_typePT\"    \n",
       " [7] \"remote_ratio\"          \"company_sizeM\"         \"company_sizeS\"        \n",
       "[10] \"contasia\"              \"contno_am\"             \"contoce\"              \n",
       "[13] \"contso_am\"             \"fieldData Engineering\" \"fieldData Science\"    \n",
       "[16] \"fieldMachine Learning\" \"fieldOther\"           "
      ]
     },
     "metadata": {},
     "output_type": "display_data"
    }
   ],
   "source": [
    "cp_min = which.min(forward_summary$cp) \n",
    "cp_min\n",
    "\n",
    "selected_var <- names(coef(forward_sel, cp_min))[-1]\n",
    "selected_var"
   ]
  },
  {
   "cell_type": "code",
   "execution_count": 68,
   "metadata": {},
   "outputs": [
    {
     "data": {
      "application/pdf": "[encoded data removed]",
      "image/jpeg": "[encoded data removed]",
      "image/png": "[encoded data removed]",
      "image/svg+xml": [
       "<?xml version=\"1.0\" encoding=\"UTF-8\"?>\n",
       "<svg xmlns=\"http://www.w3.org/2000/svg\" xmlns:xlink=\"http://www.w3.org/1999/xlink\" width=\"504\" height=\"504\" viewBox=\"0 0 504 504\">\n",
       "<defs>\n",
       "<g>\n",
       "<g id=\"glyph-0-0\">\n",
       "<path d=\"M 6.171875 -2.6875 C 6.171875 -2.269531 6.109375 -1.890625 5.984375 -1.546875 C 5.859375 -1.203125 5.671875 -0.90625 5.421875 -0.65625 C 5.179688 -0.414062 4.878906 -0.222656 4.515625 -0.078125 C 4.148438 0.0546875 3.722656 0.125 3.234375 0.125 C 2.804688 0.125 2.429688 0.0703125 2.109375 -0.03125 C 1.785156 -0.132812 1.507812 -0.273438 1.28125 -0.453125 C 1.0625 -0.628906 0.882812 -0.835938 0.75 -1.078125 C 0.625 -1.316406 0.535156 -1.570312 0.484375 -1.84375 L 1.546875 -1.96875 C 1.585938 -1.8125 1.644531 -1.660156 1.71875 -1.515625 C 1.800781 -1.367188 1.910156 -1.238281 2.046875 -1.125 C 2.179688 -1.007812 2.347656 -0.914062 2.546875 -0.84375 C 2.742188 -0.78125 2.984375 -0.75 3.265625 -0.75 C 3.535156 -0.75 3.78125 -0.789062 4 -0.875 C 4.226562 -0.957031 4.421875 -1.078125 4.578125 -1.234375 C 4.734375 -1.398438 4.851562 -1.601562 4.9375 -1.84375 C 5.03125 -2.082031 5.078125 -2.359375 5.078125 -2.671875 C 5.078125 -2.921875 5.035156 -3.148438 4.953125 -3.359375 C 4.867188 -3.578125 4.75 -3.765625 4.59375 -3.921875 C 4.445312 -4.078125 4.257812 -4.195312 4.03125 -4.28125 C 3.8125 -4.363281 3.5625 -4.40625 3.28125 -4.40625 C 3.113281 -4.40625 2.953125 -4.390625 2.796875 -4.359375 C 2.648438 -4.328125 2.515625 -4.285156 2.390625 -4.234375 C 2.265625 -4.179688 2.148438 -4.117188 2.046875 -4.046875 C 1.941406 -3.972656 1.84375 -3.894531 1.75 -3.8125 L 0.71875 -3.8125 L 1 -8.25 L 5.6875 -8.25 L 5.6875 -7.359375 L 1.953125 -7.359375 L 1.796875 -4.734375 C 1.984375 -4.878906 2.21875 -5.003906 2.5 -5.109375 C 2.78125 -5.210938 3.113281 -5.265625 3.5 -5.265625 C 3.914062 -5.265625 4.285156 -5.203125 4.609375 -5.078125 C 4.941406 -4.953125 5.222656 -4.773438 5.453125 -4.546875 C 5.679688 -4.316406 5.859375 -4.046875 5.984375 -3.734375 C 6.109375 -3.421875 6.171875 -3.070312 6.171875 -2.6875 Z M 6.171875 -2.6875 \"/>\n",
       "</g>\n",
       "<g id=\"glyph-0-1\">\n",
       "<path d=\"M 0.921875 0 L 0.921875 -0.890625 L 3.015625 -0.890625 L 3.015625 -7.25 L 1.15625 -5.921875 L 1.15625 -6.921875 L 3.109375 -8.25 L 4.078125 -8.25 L 4.078125 -0.890625 L 6.09375 -0.890625 L 6.09375 0 Z M 0.921875 0 \"/>\n",
       "</g>\n",
       "<g id=\"glyph-0-2\">\n",
       "<path d=\"M 6.203125 -4.125 C 6.203125 -3.332031 6.125 -2.664062 5.96875 -2.125 C 5.820312 -1.582031 5.617188 -1.144531 5.359375 -0.8125 C 5.097656 -0.476562 4.789062 -0.238281 4.4375 -0.09375 C 4.09375 0.0507812 3.722656 0.125 3.328125 0.125 C 2.921875 0.125 2.539062 0.0507812 2.1875 -0.09375 C 1.84375 -0.238281 1.539062 -0.476562 1.28125 -0.8125 C 1.03125 -1.144531 0.832031 -1.582031 0.6875 -2.125 C 0.539062 -2.664062 0.46875 -3.332031 0.46875 -4.125 C 0.46875 -4.957031 0.539062 -5.644531 0.6875 -6.1875 C 0.832031 -6.738281 1.035156 -7.175781 1.296875 -7.5 C 1.554688 -7.820312 1.859375 -8.046875 2.203125 -8.171875 C 2.554688 -8.304688 2.941406 -8.375 3.359375 -8.375 C 3.753906 -8.375 4.125 -8.304688 4.46875 -8.171875 C 4.8125 -8.046875 5.113281 -7.820312 5.375 -7.5 C 5.632812 -7.175781 5.835938 -6.738281 5.984375 -6.1875 C 6.128906 -5.644531 6.203125 -4.957031 6.203125 -4.125 Z M 5.140625 -4.125 C 5.140625 -4.78125 5.097656 -5.328125 5.015625 -5.765625 C 4.941406 -6.203125 4.828125 -6.550781 4.671875 -6.8125 C 4.515625 -7.070312 4.328125 -7.253906 4.109375 -7.359375 C 3.890625 -7.472656 3.640625 -7.53125 3.359375 -7.53125 C 3.054688 -7.53125 2.789062 -7.472656 2.5625 -7.359375 C 2.34375 -7.253906 2.15625 -7.070312 2 -6.8125 C 1.84375 -6.550781 1.722656 -6.203125 1.640625 -5.765625 C 1.566406 -5.328125 1.53125 -4.78125 1.53125 -4.125 C 1.53125 -3.5 1.570312 -2.96875 1.65625 -2.53125 C 1.738281 -2.09375 1.851562 -1.742188 2 -1.484375 C 2.15625 -1.222656 2.34375 -1.035156 2.5625 -0.921875 C 2.789062 -0.804688 3.046875 -0.75 3.328125 -0.75 C 3.609375 -0.75 3.859375 -0.804688 4.078125 -0.921875 C 4.304688 -1.035156 4.492188 -1.222656 4.640625 -1.484375 C 4.796875 -1.742188 4.914062 -2.09375 5 -2.53125 C 5.09375 -2.96875 5.140625 -3.5 5.140625 -4.125 Z M 5.140625 -4.125 \"/>\n",
       "</g>\n",
       "<g id=\"glyph-0-3\">\n",
       "<path d=\"M 6.34375 0 L 1.921875 -7.03125 C 1.929688 -6.84375 1.941406 -6.65625 1.953125 -6.46875 C 1.960938 -6.300781 1.96875 -6.128906 1.96875 -5.953125 C 1.976562 -5.773438 1.984375 -5.617188 1.984375 -5.484375 L 1.984375 0 L 0.984375 0 L 0.984375 -8.25 L 2.28125 -8.25 L 6.75 -1.171875 C 6.738281 -1.367188 6.726562 -1.5625 6.71875 -1.75 C 6.707031 -1.914062 6.695312 -2.09375 6.6875 -2.28125 C 6.6875 -2.476562 6.6875 -2.664062 6.6875 -2.84375 L 6.6875 -8.25 L 7.6875 -8.25 L 7.6875 0 Z M 6.34375 0 \"/>\n",
       "</g>\n",
       "<g id=\"glyph-0-4\">\n",
       "<path d=\"M 1.84375 -6.34375 L 1.84375 -2.328125 C 1.84375 -2.015625 1.863281 -1.753906 1.90625 -1.546875 C 1.945312 -1.335938 2.019531 -1.171875 2.125 -1.046875 C 2.226562 -0.921875 2.363281 -0.832031 2.53125 -0.78125 C 2.695312 -0.726562 2.898438 -0.703125 3.140625 -0.703125 C 3.390625 -0.703125 3.613281 -0.742188 3.8125 -0.828125 C 4.019531 -0.921875 4.191406 -1.046875 4.328125 -1.203125 C 4.472656 -1.367188 4.582031 -1.570312 4.65625 -1.8125 C 4.738281 -2.0625 4.78125 -2.347656 4.78125 -2.671875 L 4.78125 -6.34375 L 5.84375 -6.34375 L 5.84375 -1.359375 C 5.84375 -1.222656 5.84375 -1.082031 5.84375 -0.9375 C 5.84375 -0.789062 5.84375 -0.648438 5.84375 -0.515625 C 5.851562 -0.390625 5.859375 -0.28125 5.859375 -0.1875 C 5.867188 -0.09375 5.875 -0.03125 5.875 0 L 4.875 0 C 4.875 -0.0195312 4.867188 -0.0703125 4.859375 -0.15625 C 4.859375 -0.238281 4.851562 -0.335938 4.84375 -0.453125 C 4.84375 -0.566406 4.835938 -0.679688 4.828125 -0.796875 C 4.828125 -0.910156 4.828125 -1.003906 4.828125 -1.078125 L 4.8125 -1.078125 C 4.71875 -0.898438 4.609375 -0.734375 4.484375 -0.578125 C 4.359375 -0.429688 4.21875 -0.304688 4.0625 -0.203125 C 3.90625 -0.0976562 3.722656 -0.0195312 3.515625 0.03125 C 3.304688 0.09375 3.066406 0.125 2.796875 0.125 C 2.441406 0.125 2.132812 0.0820312 1.875 0 C 1.625 -0.09375 1.414062 -0.226562 1.25 -0.40625 C 1.09375 -0.59375 0.972656 -0.828125 0.890625 -1.109375 C 0.816406 -1.390625 0.78125 -1.722656 0.78125 -2.109375 L 0.78125 -6.34375 Z M 1.84375 -6.34375 \"/>\n",
       "</g>\n",
       "<g id=\"glyph-0-5\">\n",
       "<path d=\"M 4.5 0 L 4.5 -4.015625 C 4.5 -4.328125 4.476562 -4.585938 4.4375 -4.796875 C 4.40625 -5.003906 4.34375 -5.171875 4.25 -5.296875 C 4.15625 -5.421875 4.03125 -5.507812 3.875 -5.5625 C 3.726562 -5.613281 3.550781 -5.640625 3.34375 -5.640625 C 3.113281 -5.640625 2.910156 -5.59375 2.734375 -5.5 C 2.554688 -5.414062 2.40625 -5.289062 2.28125 -5.125 C 2.15625 -4.957031 2.054688 -4.753906 1.984375 -4.515625 C 1.910156 -4.273438 1.875 -3.992188 1.875 -3.671875 L 1.875 0 L 0.828125 0 L 0.828125 -4.984375 C 0.828125 -5.117188 0.828125 -5.257812 0.828125 -5.40625 C 0.828125 -5.550781 0.820312 -5.6875 0.8125 -5.8125 C 0.8125 -5.945312 0.804688 -6.0625 0.796875 -6.15625 C 0.796875 -6.25 0.796875 -6.3125 0.796875 -6.34375 L 1.796875 -6.34375 C 1.796875 -6.320312 1.796875 -6.265625 1.796875 -6.171875 C 1.804688 -6.085938 1.8125 -5.988281 1.8125 -5.875 C 1.820312 -5.769531 1.828125 -5.660156 1.828125 -5.546875 C 1.835938 -5.429688 1.84375 -5.332031 1.84375 -5.25 L 1.859375 -5.25 C 1.953125 -5.4375 2.050781 -5.601562 2.15625 -5.75 C 2.269531 -5.90625 2.398438 -6.03125 2.546875 -6.125 C 2.691406 -6.226562 2.859375 -6.304688 3.046875 -6.359375 C 3.234375 -6.421875 3.453125 -6.453125 3.703125 -6.453125 C 4.191406 -6.453125 4.570312 -6.359375 4.84375 -6.171875 C 5.125 -5.984375 5.320312 -5.675781 5.4375 -5.25 L 5.453125 -5.25 C 5.546875 -5.4375 5.648438 -5.601562 5.765625 -5.75 C 5.878906 -5.90625 6.015625 -6.03125 6.171875 -6.125 C 6.328125 -6.226562 6.503906 -6.304688 6.703125 -6.359375 C 6.898438 -6.421875 7.125 -6.453125 7.375 -6.453125 C 7.695312 -6.453125 7.972656 -6.410156 8.203125 -6.328125 C 8.429688 -6.242188 8.617188 -6.109375 8.765625 -5.921875 C 8.921875 -5.742188 9.03125 -5.515625 9.09375 -5.234375 C 9.164062 -4.953125 9.203125 -4.613281 9.203125 -4.21875 L 9.203125 0 L 8.15625 0 L 8.15625 -4.015625 C 8.15625 -4.328125 8.132812 -4.585938 8.09375 -4.796875 C 8.0625 -5.003906 8 -5.171875 7.90625 -5.296875 C 7.8125 -5.421875 7.691406 -5.507812 7.546875 -5.5625 C 7.398438 -5.613281 7.21875 -5.640625 7 -5.640625 C 6.78125 -5.640625 6.578125 -5.597656 6.390625 -5.515625 C 6.210938 -5.429688 6.0625 -5.304688 5.9375 -5.140625 C 5.8125 -4.984375 5.710938 -4.78125 5.640625 -4.53125 C 5.578125 -4.28125 5.546875 -3.992188 5.546875 -3.671875 L 5.546875 0 Z M 4.5 0 \"/>\n",
       "</g>\n",
       "<g id=\"glyph-0-6\">\n",
       "<path d=\"M 6.171875 -3.203125 C 6.171875 -0.984375 5.394531 0.125 3.84375 0.125 C 3.363281 0.125 2.960938 0.0351562 2.640625 -0.140625 C 2.316406 -0.316406 2.054688 -0.597656 1.859375 -0.984375 C 1.859375 -0.878906 1.851562 -0.769531 1.84375 -0.65625 C 1.832031 -0.550781 1.820312 -0.453125 1.8125 -0.359375 C 1.8125 -0.265625 1.804688 -0.1875 1.796875 -0.125 C 1.796875 -0.0625 1.796875 -0.0195312 1.796875 0 L 0.78125 0 C 0.78125 -0.03125 0.78125 -0.0859375 0.78125 -0.171875 C 0.789062 -0.265625 0.796875 -0.367188 0.796875 -0.484375 C 0.796875 -0.597656 0.796875 -0.722656 0.796875 -0.859375 C 0.804688 -1.003906 0.8125 -1.15625 0.8125 -1.3125 L 0.8125 -8.703125 L 1.859375 -8.703125 L 1.859375 -6.21875 C 1.859375 -6.101562 1.859375 -5.988281 1.859375 -5.875 C 1.859375 -5.769531 1.859375 -5.675781 1.859375 -5.59375 C 1.847656 -5.5 1.84375 -5.410156 1.84375 -5.328125 L 1.859375 -5.328125 C 2.054688 -5.734375 2.316406 -6.019531 2.640625 -6.1875 C 2.960938 -6.363281 3.363281 -6.453125 3.84375 -6.453125 C 4.644531 -6.453125 5.234375 -6.179688 5.609375 -5.640625 C 5.984375 -5.109375 6.171875 -4.296875 6.171875 -3.203125 Z M 5.0625 -3.171875 C 5.0625 -3.609375 5.035156 -3.984375 4.984375 -4.296875 C 4.929688 -4.609375 4.84375 -4.863281 4.71875 -5.0625 C 4.59375 -5.257812 4.4375 -5.40625 4.25 -5.5 C 4.0625 -5.59375 3.832031 -5.640625 3.5625 -5.640625 C 3.289062 -5.640625 3.046875 -5.59375 2.828125 -5.5 C 2.617188 -5.414062 2.441406 -5.273438 2.296875 -5.078125 C 2.160156 -4.878906 2.050781 -4.613281 1.96875 -4.28125 C 1.894531 -3.957031 1.859375 -3.5625 1.859375 -3.09375 C 1.859375 -2.644531 1.894531 -2.265625 1.96875 -1.953125 C 2.050781 -1.648438 2.160156 -1.398438 2.296875 -1.203125 C 2.441406 -1.015625 2.617188 -0.875 2.828125 -0.78125 C 3.035156 -0.695312 3.28125 -0.65625 3.5625 -0.65625 C 3.8125 -0.65625 4.03125 -0.703125 4.21875 -0.796875 C 4.40625 -0.890625 4.5625 -1.035156 4.6875 -1.234375 C 4.8125 -1.429688 4.90625 -1.6875 4.96875 -2 C 5.03125 -2.320312 5.0625 -2.710938 5.0625 -3.171875 Z M 5.0625 -3.171875 \"/>\n",
       "</g>\n",
       "<g id=\"glyph-0-7\">\n",
       "<path d=\"M 1.625 -2.953125 C 1.625 -2.617188 1.65625 -2.3125 1.71875 -2.03125 C 1.789062 -1.75 1.894531 -1.507812 2.03125 -1.3125 C 2.175781 -1.113281 2.359375 -0.957031 2.578125 -0.84375 C 2.804688 -0.726562 3.078125 -0.671875 3.390625 -0.671875 C 3.847656 -0.671875 4.210938 -0.757812 4.484375 -0.9375 C 4.765625 -1.125 4.953125 -1.359375 5.046875 -1.640625 L 5.96875 -1.390625 C 5.90625 -1.210938 5.8125 -1.035156 5.6875 -0.859375 C 5.570312 -0.679688 5.414062 -0.519531 5.21875 -0.375 C 5.019531 -0.226562 4.769531 -0.109375 4.46875 -0.015625 C 4.164062 0.078125 3.804688 0.125 3.390625 0.125 C 2.453125 0.125 1.738281 -0.15625 1.25 -0.71875 C 0.757812 -1.28125 0.515625 -2.113281 0.515625 -3.21875 C 0.515625 -3.8125 0.585938 -4.3125 0.734375 -4.71875 C 0.878906 -5.132812 1.082031 -5.46875 1.34375 -5.71875 C 1.601562 -5.976562 1.90625 -6.164062 2.25 -6.28125 C 2.59375 -6.394531 2.957031 -6.453125 3.34375 -6.453125 C 3.875 -6.453125 4.316406 -6.363281 4.671875 -6.1875 C 5.035156 -6.019531 5.320312 -5.785156 5.53125 -5.484375 C 5.75 -5.179688 5.90625 -4.820312 6 -4.40625 C 6.09375 -4 6.140625 -3.5625 6.140625 -3.09375 L 6.140625 -2.953125 Z M 5.046875 -3.75 C 4.992188 -4.425781 4.828125 -4.914062 4.546875 -5.21875 C 4.265625 -5.519531 3.859375 -5.671875 3.328125 -5.671875 C 3.148438 -5.671875 2.960938 -5.644531 2.765625 -5.59375 C 2.578125 -5.539062 2.398438 -5.441406 2.234375 -5.296875 C 2.078125 -5.148438 1.941406 -4.953125 1.828125 -4.703125 C 1.710938 -4.453125 1.644531 -4.132812 1.625 -3.75 Z M 5.046875 -3.75 \"/>\n",
       "</g>\n",
       "<g id=\"glyph-0-8\">\n",
       "<path d=\"M 0.828125 0 L 0.828125 -4.859375 C 0.828125 -4.992188 0.828125 -5.128906 0.828125 -5.265625 C 0.828125 -5.410156 0.820312 -5.546875 0.8125 -5.671875 C 0.8125 -5.796875 0.804688 -5.914062 0.796875 -6.03125 C 0.796875 -6.144531 0.796875 -6.25 0.796875 -6.34375 L 1.796875 -6.34375 C 1.796875 -6.25 1.796875 -6.144531 1.796875 -6.03125 C 1.804688 -5.914062 1.8125 -5.796875 1.8125 -5.671875 C 1.820312 -5.554688 1.828125 -5.441406 1.828125 -5.328125 C 1.835938 -5.210938 1.84375 -5.117188 1.84375 -5.046875 L 1.859375 -5.046875 C 1.929688 -5.285156 2.007812 -5.492188 2.09375 -5.671875 C 2.1875 -5.847656 2.285156 -5.992188 2.390625 -6.109375 C 2.503906 -6.222656 2.640625 -6.304688 2.796875 -6.359375 C 2.953125 -6.421875 3.144531 -6.453125 3.375 -6.453125 C 3.457031 -6.453125 3.535156 -6.445312 3.609375 -6.4375 C 3.691406 -6.425781 3.753906 -6.414062 3.796875 -6.40625 L 3.796875 -5.4375 C 3.722656 -5.457031 3.640625 -5.46875 3.546875 -5.46875 C 3.453125 -5.476562 3.347656 -5.484375 3.234375 -5.484375 C 2.992188 -5.484375 2.785156 -5.425781 2.609375 -5.3125 C 2.441406 -5.207031 2.304688 -5.054688 2.203125 -4.859375 C 2.097656 -4.671875 2.019531 -4.441406 1.96875 -4.171875 C 1.914062 -3.910156 1.890625 -3.625 1.890625 -3.3125 L 1.890625 0 Z M 0.828125 0 \"/>\n",
       "</g>\n",
       "<g id=\"glyph-0-9\">\n",
       "</g>\n",
       "<g id=\"glyph-0-10\">\n",
       "<path d=\"M 6.171875 -3.171875 C 6.171875 -2.066406 5.925781 -1.238281 5.4375 -0.6875 C 4.945312 -0.144531 4.238281 0.125 3.3125 0.125 C 2.875 0.125 2.476562 0.0546875 2.125 -0.078125 C 1.78125 -0.210938 1.488281 -0.414062 1.25 -0.6875 C 1.007812 -0.96875 0.820312 -1.3125 0.6875 -1.71875 C 0.5625 -2.132812 0.5 -2.617188 0.5 -3.171875 C 0.5 -5.359375 1.445312 -6.453125 3.34375 -6.453125 C 3.832031 -6.453125 4.253906 -6.382812 4.609375 -6.25 C 4.972656 -6.113281 5.269531 -5.910156 5.5 -5.640625 C 5.726562 -5.367188 5.894531 -5.023438 6 -4.609375 C 6.113281 -4.203125 6.171875 -3.722656 6.171875 -3.171875 Z M 5.0625 -3.171875 C 5.0625 -3.671875 5.019531 -4.078125 4.9375 -4.390625 C 4.863281 -4.710938 4.753906 -4.96875 4.609375 -5.15625 C 4.460938 -5.351562 4.285156 -5.488281 4.078125 -5.5625 C 3.867188 -5.632812 3.628906 -5.671875 3.359375 -5.671875 C 3.085938 -5.671875 2.84375 -5.628906 2.625 -5.546875 C 2.414062 -5.472656 2.234375 -5.335938 2.078125 -5.140625 C 1.929688 -4.953125 1.816406 -4.695312 1.734375 -4.375 C 1.648438 -4.050781 1.609375 -3.648438 1.609375 -3.171875 C 1.609375 -2.679688 1.648438 -2.273438 1.734375 -1.953125 C 1.828125 -1.628906 1.945312 -1.367188 2.09375 -1.171875 C 2.25 -0.984375 2.425781 -0.847656 2.625 -0.765625 C 2.832031 -0.691406 3.054688 -0.65625 3.296875 -0.65625 C 3.566406 -0.65625 3.8125 -0.691406 4.03125 -0.765625 C 4.25 -0.847656 4.429688 -0.984375 4.578125 -1.171875 C 4.734375 -1.367188 4.851562 -1.628906 4.9375 -1.953125 C 5.019531 -2.273438 5.0625 -2.679688 5.0625 -3.171875 Z M 5.0625 -3.171875 \"/>\n",
       "</g>\n",
       "<g id=\"glyph-0-11\">\n",
       "<path d=\"M 2.109375 -5.578125 L 2.109375 0 L 1.0625 0 L 1.0625 -5.578125 L 0.171875 -5.578125 L 0.171875 -6.34375 L 1.0625 -6.34375 L 1.0625 -7.0625 C 1.0625 -7.289062 1.082031 -7.503906 1.125 -7.703125 C 1.164062 -7.898438 1.242188 -8.070312 1.359375 -8.21875 C 1.472656 -8.363281 1.628906 -8.476562 1.828125 -8.5625 C 2.035156 -8.644531 2.296875 -8.6875 2.609375 -8.6875 C 2.734375 -8.6875 2.863281 -8.679688 3 -8.671875 C 3.132812 -8.660156 3.253906 -8.640625 3.359375 -8.609375 L 3.359375 -7.8125 C 3.285156 -7.820312 3.203125 -7.832031 3.109375 -7.84375 C 3.023438 -7.851562 2.953125 -7.859375 2.890625 -7.859375 C 2.734375 -7.859375 2.601562 -7.835938 2.5 -7.796875 C 2.394531 -7.753906 2.316406 -7.691406 2.265625 -7.609375 C 2.210938 -7.523438 2.171875 -7.425781 2.140625 -7.3125 C 2.117188 -7.195312 2.109375 -7.0625 2.109375 -6.90625 L 2.109375 -6.34375 L 3.359375 -6.34375 L 3.359375 -5.578125 Z M 2.109375 -5.578125 \"/>\n",
       "</g>\n",
       "<g id=\"glyph-0-12\">\n",
       "<path d=\"M 1.109375 0 L 1.109375 -8.25 L 2.234375 -8.25 L 2.234375 0 Z M 1.109375 0 \"/>\n",
       "</g>\n",
       "<g id=\"glyph-0-13\">\n",
       "<path d=\"M 4.828125 0 L 4.828125 -4.015625 C 4.828125 -4.328125 4.804688 -4.585938 4.765625 -4.796875 C 4.722656 -5.003906 4.648438 -5.171875 4.546875 -5.296875 C 4.441406 -5.421875 4.304688 -5.507812 4.140625 -5.5625 C 3.972656 -5.613281 3.769531 -5.640625 3.53125 -5.640625 C 3.28125 -5.640625 3.050781 -5.59375 2.84375 -5.5 C 2.644531 -5.414062 2.472656 -5.289062 2.328125 -5.125 C 2.191406 -4.957031 2.082031 -4.753906 2 -4.515625 C 1.925781 -4.273438 1.890625 -3.992188 1.890625 -3.671875 L 1.890625 0 L 0.828125 0 L 0.828125 -4.984375 C 0.828125 -5.117188 0.828125 -5.257812 0.828125 -5.40625 C 0.828125 -5.550781 0.820312 -5.6875 0.8125 -5.8125 C 0.8125 -5.945312 0.804688 -6.0625 0.796875 -6.15625 C 0.796875 -6.25 0.796875 -6.3125 0.796875 -6.34375 L 1.796875 -6.34375 C 1.796875 -6.320312 1.796875 -6.265625 1.796875 -6.171875 C 1.804688 -6.085938 1.8125 -5.988281 1.8125 -5.875 C 1.820312 -5.769531 1.828125 -5.660156 1.828125 -5.546875 C 1.835938 -5.429688 1.84375 -5.332031 1.84375 -5.25 L 1.859375 -5.25 C 1.960938 -5.4375 2.070312 -5.601562 2.1875 -5.75 C 2.3125 -5.90625 2.453125 -6.03125 2.609375 -6.125 C 2.773438 -6.226562 2.957031 -6.304688 3.15625 -6.359375 C 3.363281 -6.421875 3.609375 -6.453125 3.890625 -6.453125 C 4.234375 -6.453125 4.53125 -6.410156 4.78125 -6.328125 C 5.039062 -6.242188 5.253906 -6.109375 5.421875 -5.921875 C 5.585938 -5.742188 5.707031 -5.515625 5.78125 -5.234375 C 5.851562 -4.953125 5.890625 -4.613281 5.890625 -4.21875 L 5.890625 0 Z M 4.828125 0 \"/>\n",
       "</g>\n",
       "<g id=\"glyph-0-14\">\n",
       "<path d=\"M 6.171875 -3.203125 C 6.171875 -2.722656 6.128906 -2.28125 6.046875 -1.875 C 5.972656 -1.46875 5.84375 -1.113281 5.65625 -0.8125 C 5.476562 -0.519531 5.238281 -0.289062 4.9375 -0.125 C 4.644531 0.0390625 4.28125 0.125 3.84375 0.125 C 3.382812 0.125 2.984375 0.0351562 2.640625 -0.140625 C 2.304688 -0.316406 2.050781 -0.597656 1.875 -0.984375 L 1.84375 -0.984375 C 1.84375 -0.972656 1.84375 -0.9375 1.84375 -0.875 C 1.851562 -0.8125 1.859375 -0.734375 1.859375 -0.640625 C 1.859375 -0.546875 1.859375 -0.441406 1.859375 -0.328125 C 1.859375 -0.210938 1.859375 -0.0976562 1.859375 0.015625 L 1.859375 2.484375 L 0.8125 2.484375 L 0.8125 -5.046875 C 0.8125 -5.203125 0.804688 -5.347656 0.796875 -5.484375 C 0.796875 -5.628906 0.796875 -5.757812 0.796875 -5.875 C 0.796875 -5.988281 0.789062 -6.082031 0.78125 -6.15625 C 0.78125 -6.238281 0.78125 -6.300781 0.78125 -6.34375 L 1.796875 -6.34375 C 1.796875 -6.332031 1.796875 -6.289062 1.796875 -6.21875 C 1.804688 -6.144531 1.8125 -6.054688 1.8125 -5.953125 C 1.820312 -5.859375 1.832031 -5.753906 1.84375 -5.640625 C 1.851562 -5.523438 1.859375 -5.421875 1.859375 -5.328125 L 1.875 -5.328125 C 1.96875 -5.523438 2.078125 -5.691406 2.203125 -5.828125 C 2.328125 -5.972656 2.46875 -6.09375 2.625 -6.1875 C 2.789062 -6.28125 2.972656 -6.347656 3.171875 -6.390625 C 3.367188 -6.429688 3.59375 -6.453125 3.84375 -6.453125 C 4.28125 -6.453125 4.644531 -6.375 4.9375 -6.21875 C 5.238281 -6.0625 5.476562 -5.84375 5.65625 -5.5625 C 5.84375 -5.28125 5.972656 -4.9375 6.046875 -4.53125 C 6.128906 -4.132812 6.171875 -3.691406 6.171875 -3.203125 Z M 5.0625 -3.171875 C 5.0625 -3.566406 5.035156 -3.914062 4.984375 -4.21875 C 4.941406 -4.519531 4.863281 -4.773438 4.75 -4.984375 C 4.632812 -5.203125 4.476562 -5.363281 4.28125 -5.46875 C 4.09375 -5.582031 3.851562 -5.640625 3.5625 -5.640625 C 3.332031 -5.640625 3.113281 -5.601562 2.90625 -5.53125 C 2.695312 -5.46875 2.515625 -5.34375 2.359375 -5.15625 C 2.210938 -4.96875 2.09375 -4.707031 2 -4.375 C 1.90625 -4.050781 1.859375 -3.625 1.859375 -3.09375 C 1.859375 -2.644531 1.894531 -2.265625 1.96875 -1.953125 C 2.050781 -1.640625 2.160156 -1.390625 2.296875 -1.203125 C 2.441406 -1.015625 2.617188 -0.875 2.828125 -0.78125 C 3.035156 -0.695312 3.28125 -0.65625 3.5625 -0.65625 C 3.851562 -0.65625 4.09375 -0.710938 4.28125 -0.828125 C 4.476562 -0.941406 4.632812 -1.101562 4.75 -1.3125 C 4.863281 -1.53125 4.941406 -1.796875 4.984375 -2.109375 C 5.035156 -2.421875 5.0625 -2.773438 5.0625 -3.171875 Z M 5.0625 -3.171875 \"/>\n",
       "</g>\n",
       "<g id=\"glyph-0-15\">\n",
       "<path d=\"M 3.25 -0.046875 C 3.082031 -0.00390625 2.914062 0.0234375 2.75 0.046875 C 2.59375 0.078125 2.40625 0.09375 2.1875 0.09375 C 1.34375 0.09375 0.921875 -0.382812 0.921875 -1.34375 L 0.921875 -5.578125 L 0.1875 -5.578125 L 0.1875 -6.34375 L 0.953125 -6.34375 L 1.265625 -7.765625 L 1.96875 -7.765625 L 1.96875 -6.34375 L 3.140625 -6.34375 L 3.140625 -5.578125 L 1.96875 -5.578125 L 1.96875 -1.578125 C 1.96875 -1.265625 2.015625 -1.046875 2.109375 -0.921875 C 2.210938 -0.804688 2.390625 -0.75 2.640625 -0.75 C 2.742188 -0.75 2.84375 -0.753906 2.9375 -0.765625 C 3.03125 -0.785156 3.132812 -0.804688 3.25 -0.828125 Z M 3.25 -0.046875 \"/>\n",
       "</g>\n",
       "<g id=\"glyph-0-16\">\n",
       "<path d=\"M 4.578125 0 L 3.421875 0 L 0.046875 -8.25 L 1.234375 -8.25 L 3.515625 -2.4375 C 3.578125 -2.269531 3.632812 -2.097656 3.6875 -1.921875 C 3.75 -1.742188 3.800781 -1.585938 3.84375 -1.453125 C 3.90625 -1.296875 3.960938 -1.140625 4.015625 -0.984375 C 4.054688 -1.128906 4.101562 -1.28125 4.15625 -1.4375 C 4.207031 -1.570312 4.257812 -1.722656 4.3125 -1.890625 C 4.375 -2.066406 4.4375 -2.25 4.5 -2.4375 L 6.78125 -8.25 L 7.953125 -8.25 Z M 4.578125 0 \"/>\n",
       "</g>\n",
       "<g id=\"glyph-0-17\">\n",
       "<path d=\"M 2.421875 0.125 C 1.785156 0.125 1.304688 -0.0390625 0.984375 -0.375 C 0.671875 -0.71875 0.515625 -1.179688 0.515625 -1.765625 C 0.515625 -2.179688 0.59375 -2.523438 0.75 -2.796875 C 0.90625 -3.066406 1.109375 -3.273438 1.359375 -3.421875 C 1.617188 -3.578125 1.910156 -3.679688 2.234375 -3.734375 C 2.566406 -3.796875 2.90625 -3.832031 3.25 -3.84375 L 4.671875 -3.875 L 4.671875 -4.21875 C 4.671875 -4.476562 4.640625 -4.695312 4.578125 -4.875 C 4.523438 -5.0625 4.441406 -5.210938 4.328125 -5.328125 C 4.222656 -5.441406 4.082031 -5.523438 3.90625 -5.578125 C 3.738281 -5.628906 3.539062 -5.65625 3.3125 -5.65625 C 3.101562 -5.65625 2.914062 -5.640625 2.75 -5.609375 C 2.59375 -5.578125 2.453125 -5.523438 2.328125 -5.453125 C 2.210938 -5.378906 2.113281 -5.273438 2.03125 -5.140625 C 1.957031 -5.015625 1.910156 -4.847656 1.890625 -4.640625 L 0.796875 -4.75 C 0.828125 -5 0.894531 -5.226562 1 -5.4375 C 1.113281 -5.644531 1.269531 -5.820312 1.46875 -5.96875 C 1.675781 -6.125 1.929688 -6.242188 2.234375 -6.328125 C 2.535156 -6.410156 2.898438 -6.453125 3.328125 -6.453125 C 4.128906 -6.453125 4.726562 -6.269531 5.125 -5.90625 C 5.53125 -5.539062 5.734375 -5.015625 5.734375 -4.328125 L 5.734375 -1.59375 C 5.734375 -1.28125 5.773438 -1.046875 5.859375 -0.890625 C 5.941406 -0.734375 6.097656 -0.65625 6.328125 -0.65625 C 6.390625 -0.65625 6.445312 -0.65625 6.5 -0.65625 C 6.5625 -0.664062 6.617188 -0.675781 6.671875 -0.6875 L 6.671875 -0.03125 C 6.535156 0 6.398438 0.0195312 6.265625 0.03125 C 6.140625 0.0507812 6.003906 0.0625 5.859375 0.0625 C 5.660156 0.0625 5.488281 0.0351562 5.34375 -0.015625 C 5.207031 -0.0664062 5.09375 -0.144531 5 -0.25 C 4.90625 -0.363281 4.832031 -0.5 4.78125 -0.65625 C 4.738281 -0.8125 4.710938 -1 4.703125 -1.21875 L 4.671875 -1.21875 C 4.554688 -1.007812 4.429688 -0.820312 4.296875 -0.65625 C 4.160156 -0.5 4.003906 -0.363281 3.828125 -0.25 C 3.648438 -0.132812 3.445312 -0.046875 3.21875 0.015625 C 2.988281 0.0859375 2.722656 0.125 2.421875 0.125 Z M 2.671875 -0.671875 C 3.003906 -0.671875 3.296875 -0.734375 3.546875 -0.859375 C 3.796875 -0.984375 4.003906 -1.140625 4.171875 -1.328125 C 4.335938 -1.523438 4.460938 -1.734375 4.546875 -1.953125 C 4.628906 -2.179688 4.671875 -2.398438 4.671875 -2.609375 L 4.671875 -3.125 L 3.515625 -3.109375 C 3.253906 -3.097656 3.007812 -3.078125 2.78125 -3.046875 C 2.550781 -3.015625 2.347656 -2.945312 2.171875 -2.84375 C 1.992188 -2.75 1.851562 -2.613281 1.75 -2.4375 C 1.644531 -2.269531 1.59375 -2.039062 1.59375 -1.75 C 1.59375 -1.40625 1.6875 -1.140625 1.875 -0.953125 C 2.0625 -0.765625 2.328125 -0.671875 2.671875 -0.671875 Z M 2.671875 -0.671875 \"/>\n",
       "</g>\n",
       "<g id=\"glyph-0-18\">\n",
       "<path d=\"M 0.796875 -7.6875 L 0.796875 -8.703125 L 1.859375 -8.703125 L 1.859375 -7.6875 Z M 0.796875 0 L 0.796875 -6.34375 L 1.859375 -6.34375 L 1.859375 0 Z M 0.796875 0 \"/>\n",
       "</g>\n",
       "<g id=\"glyph-0-19\">\n",
       "<path d=\"M 0.8125 0 L 0.8125 -8.703125 L 1.859375 -8.703125 L 1.859375 0 Z M 0.8125 0 \"/>\n",
       "</g>\n",
       "<g id=\"glyph-0-20\">\n",
       "<path d=\"M 5.5625 -1.75 C 5.5625 -1.457031 5.503906 -1.191406 5.390625 -0.953125 C 5.273438 -0.722656 5.109375 -0.53125 4.890625 -0.375 C 4.671875 -0.21875 4.398438 -0.09375 4.078125 0 C 3.765625 0.0820312 3.40625 0.125 3 0.125 C 2.625 0.125 2.289062 0.09375 2 0.03125 C 1.707031 -0.0195312 1.445312 -0.109375 1.21875 -0.234375 C 1 -0.359375 0.8125 -0.523438 0.65625 -0.734375 C 0.507812 -0.941406 0.398438 -1.191406 0.328125 -1.484375 L 1.265625 -1.671875 C 1.359375 -1.328125 1.546875 -1.078125 1.828125 -0.921875 C 2.109375 -0.765625 2.5 -0.6875 3 -0.6875 C 3.21875 -0.6875 3.421875 -0.703125 3.609375 -0.734375 C 3.804688 -0.765625 3.972656 -0.816406 4.109375 -0.890625 C 4.242188 -0.972656 4.347656 -1.078125 4.421875 -1.203125 C 4.503906 -1.328125 4.546875 -1.484375 4.546875 -1.671875 C 4.546875 -1.859375 4.5 -2.015625 4.40625 -2.140625 C 4.3125 -2.265625 4.1875 -2.367188 4.03125 -2.453125 C 3.875 -2.535156 3.679688 -2.601562 3.453125 -2.65625 C 3.222656 -2.71875 2.972656 -2.785156 2.703125 -2.859375 C 2.441406 -2.929688 2.1875 -3.007812 1.9375 -3.09375 C 1.6875 -3.175781 1.460938 -3.28125 1.265625 -3.40625 C 1.066406 -3.539062 0.90625 -3.707031 0.78125 -3.90625 C 0.65625 -4.113281 0.59375 -4.367188 0.59375 -4.671875 C 0.59375 -5.242188 0.796875 -5.679688 1.203125 -5.984375 C 1.617188 -6.285156 2.21875 -6.4375 3 -6.4375 C 3.707031 -6.4375 4.265625 -6.3125 4.671875 -6.0625 C 5.085938 -5.820312 5.347656 -5.429688 5.453125 -4.890625 L 4.5 -4.765625 C 4.46875 -4.929688 4.40625 -5.066406 4.3125 -5.171875 C 4.21875 -5.285156 4.101562 -5.378906 3.96875 -5.453125 C 3.84375 -5.523438 3.695312 -5.570312 3.53125 -5.59375 C 3.363281 -5.625 3.1875 -5.640625 3 -5.640625 C 2.53125 -5.640625 2.179688 -5.566406 1.953125 -5.421875 C 1.722656 -5.273438 1.609375 -5.054688 1.609375 -4.765625 C 1.609375 -4.597656 1.648438 -4.457031 1.734375 -4.34375 C 1.816406 -4.226562 1.929688 -4.132812 2.078125 -4.0625 C 2.234375 -3.988281 2.414062 -3.921875 2.625 -3.859375 C 2.84375 -3.804688 3.078125 -3.75 3.328125 -3.6875 C 3.492188 -3.644531 3.664062 -3.597656 3.84375 -3.546875 C 4.019531 -3.492188 4.191406 -3.429688 4.359375 -3.359375 C 4.523438 -3.296875 4.679688 -3.21875 4.828125 -3.125 C 4.972656 -3.039062 5.097656 -2.929688 5.203125 -2.796875 C 5.316406 -2.671875 5.40625 -2.519531 5.46875 -2.34375 C 5.53125 -2.175781 5.5625 -1.976562 5.5625 -1.75 Z M 5.5625 -1.75 \"/>\n",
       "</g>\n",
       "<g id=\"glyph-1-0\">\n",
       "<path d=\"M 0 -0.609375 L -0.75 -0.609375 C -1.207031 -0.804688 -1.609375 -1.046875 -1.953125 -1.328125 C -2.304688 -1.617188 -2.625 -1.921875 -2.90625 -2.234375 C -3.1875 -2.554688 -3.445312 -2.867188 -3.6875 -3.171875 C -3.9375 -3.484375 -4.179688 -3.765625 -4.421875 -4.015625 C -4.660156 -4.265625 -4.910156 -4.46875 -5.171875 -4.625 C -5.441406 -4.78125 -5.742188 -4.859375 -6.078125 -4.859375 C -6.316406 -4.859375 -6.523438 -4.820312 -6.703125 -4.75 C -6.878906 -4.675781 -7.023438 -4.570312 -7.140625 -4.4375 C -7.265625 -4.3125 -7.359375 -4.15625 -7.421875 -3.96875 C -7.484375 -3.78125 -7.515625 -3.578125 -7.515625 -3.359375 C -7.515625 -3.140625 -7.484375 -2.9375 -7.421875 -2.75 C -7.367188 -2.570312 -7.28125 -2.410156 -7.15625 -2.265625 C -7.039062 -2.117188 -6.894531 -2 -6.71875 -1.90625 C -6.550781 -1.8125 -6.351562 -1.753906 -6.125 -1.734375 L -6.21875 -0.65625 C -6.507812 -0.6875 -6.785156 -0.765625 -7.046875 -0.890625 C -7.316406 -1.023438 -7.550781 -1.203125 -7.75 -1.421875 C -7.945312 -1.648438 -8.097656 -1.921875 -8.203125 -2.234375 C -8.316406 -2.554688 -8.375 -2.929688 -8.375 -3.359375 C -8.375 -3.765625 -8.328125 -4.125 -8.234375 -4.4375 C -8.140625 -4.757812 -7.992188 -5.03125 -7.796875 -5.25 C -7.609375 -5.476562 -7.375 -5.648438 -7.09375 -5.765625 C -6.8125 -5.878906 -6.488281 -5.9375 -6.125 -5.9375 C -5.84375 -5.9375 -5.578125 -5.882812 -5.328125 -5.78125 C -5.078125 -5.6875 -4.835938 -5.554688 -4.609375 -5.390625 C -4.378906 -5.222656 -4.160156 -5.03125 -3.953125 -4.8125 C -3.742188 -4.59375 -3.535156 -4.363281 -3.328125 -4.125 C -3.128906 -3.894531 -2.929688 -3.65625 -2.734375 -3.40625 C -2.535156 -3.164062 -2.335938 -2.9375 -2.140625 -2.71875 C -1.941406 -2.507812 -1.738281 -2.320312 -1.53125 -2.15625 C -1.332031 -1.988281 -1.117188 -1.859375 -0.890625 -1.765625 L -0.890625 -6.078125 L 0 -6.078125 Z M 0 -0.609375 \"/>\n",
       "</g>\n",
       "<g id=\"glyph-1-1\">\n",
       "<path d=\"M -4.125 -6.203125 C -3.332031 -6.203125 -2.664062 -6.125 -2.125 -5.96875 C -1.582031 -5.820312 -1.144531 -5.617188 -0.8125 -5.359375 C -0.476562 -5.097656 -0.238281 -4.789062 -0.09375 -4.4375 C 0.0507812 -4.09375 0.125 -3.722656 0.125 -3.328125 C 0.125 -2.921875 0.0507812 -2.539062 -0.09375 -2.1875 C -0.238281 -1.84375 -0.476562 -1.539062 -0.8125 -1.28125 C -1.144531 -1.03125 -1.582031 -0.832031 -2.125 -0.6875 C -2.664062 -0.539062 -3.332031 -0.46875 -4.125 -0.46875 C -4.957031 -0.46875 -5.644531 -0.539062 -6.1875 -0.6875 C -6.738281 -0.832031 -7.175781 -1.035156 -7.5 -1.296875 C -7.820312 -1.554688 -8.046875 -1.859375 -8.171875 -2.203125 C -8.304688 -2.554688 -8.375 -2.941406 -8.375 -3.359375 C -8.375 -3.753906 -8.304688 -4.125 -8.171875 -4.46875 C -8.046875 -4.8125 -7.820312 -5.113281 -7.5 -5.375 C -7.175781 -5.632812 -6.738281 -5.835938 -6.1875 -5.984375 C -5.644531 -6.128906 -4.957031 -6.203125 -4.125 -6.203125 Z M -4.125 -5.140625 C -4.78125 -5.140625 -5.328125 -5.097656 -5.765625 -5.015625 C -6.203125 -4.941406 -6.550781 -4.828125 -6.8125 -4.671875 C -7.070312 -4.515625 -7.253906 -4.328125 -7.359375 -4.109375 C -7.472656 -3.890625 -7.53125 -3.640625 -7.53125 -3.359375 C -7.53125 -3.054688 -7.472656 -2.789062 -7.359375 -2.5625 C -7.253906 -2.34375 -7.070312 -2.15625 -6.8125 -2 C -6.550781 -1.84375 -6.203125 -1.722656 -5.765625 -1.640625 C -5.328125 -1.566406 -4.78125 -1.53125 -4.125 -1.53125 C -3.5 -1.53125 -2.96875 -1.570312 -2.53125 -1.65625 C -2.09375 -1.738281 -1.742188 -1.851562 -1.484375 -2 C -1.222656 -2.15625 -1.035156 -2.34375 -0.921875 -2.5625 C -0.804688 -2.789062 -0.75 -3.046875 -0.75 -3.328125 C -0.75 -3.609375 -0.804688 -3.859375 -0.921875 -4.078125 C -1.035156 -4.304688 -1.222656 -4.492188 -1.484375 -4.640625 C -1.742188 -4.796875 -2.09375 -4.914062 -2.53125 -5 C -2.96875 -5.09375 -3.5 -5.140625 -4.125 -5.140625 Z M -4.125 -5.140625 \"/>\n",
       "</g>\n",
       "<g id=\"glyph-1-2\">\n",
       "<path d=\"M -1.875 -5.15625 L 0 -5.15625 L 0 -4.171875 L -1.875 -4.171875 L -1.875 -0.28125 L -2.6875 -0.28125 L -8.25 -4.0625 L -8.25 -5.15625 L -2.703125 -5.15625 L -2.703125 -6.328125 L -1.875 -6.328125 Z M -7.0625 -4.171875 C -7.039062 -4.160156 -7.003906 -4.140625 -6.953125 -4.109375 C -6.898438 -4.078125 -6.835938 -4.039062 -6.765625 -4 C -6.691406 -3.957031 -6.617188 -3.914062 -6.546875 -3.875 C -6.472656 -3.84375 -6.414062 -3.8125 -6.375 -3.78125 L -3.25 -1.65625 C -3.21875 -1.632812 -3.175781 -1.601562 -3.125 -1.5625 C -3.070312 -1.53125 -3.019531 -1.492188 -2.96875 -1.453125 C -2.914062 -1.421875 -2.863281 -1.382812 -2.8125 -1.34375 C -2.769531 -1.300781 -2.734375 -1.269531 -2.703125 -1.25 L -2.703125 -4.171875 Z M -7.0625 -4.171875 \"/>\n",
       "</g>\n",
       "<g id=\"glyph-1-3\">\n",
       "<path d=\"M -2.703125 -6.140625 C -2.285156 -6.140625 -1.90625 -6.082031 -1.5625 -5.96875 C -1.21875 -5.851562 -0.921875 -5.679688 -0.671875 -5.453125 C -0.421875 -5.234375 -0.222656 -4.957031 -0.078125 -4.625 C 0.0546875 -4.289062 0.125 -3.910156 0.125 -3.484375 C 0.125 -3.003906 0.03125 -2.582031 -0.15625 -2.21875 C -0.34375 -1.863281 -0.609375 -1.566406 -0.953125 -1.328125 C -1.296875 -1.085938 -1.71875 -0.90625 -2.21875 -0.78125 C -2.726562 -0.664062 -3.300781 -0.609375 -3.9375 -0.609375 C -4.675781 -0.609375 -5.320312 -0.675781 -5.875 -0.8125 C -6.425781 -0.945312 -6.882812 -1.140625 -7.25 -1.390625 C -7.625 -1.648438 -7.90625 -1.960938 -8.09375 -2.328125 C -8.28125 -2.691406 -8.375 -3.101562 -8.375 -3.5625 C -8.375 -3.84375 -8.34375 -4.101562 -8.28125 -4.34375 C -8.226562 -4.59375 -8.132812 -4.816406 -8 -5.015625 C -7.875 -5.222656 -7.703125 -5.398438 -7.484375 -5.546875 C -7.273438 -5.703125 -7.015625 -5.828125 -6.703125 -5.921875 L -6.515625 -4.90625 C -6.867188 -4.800781 -7.125 -4.628906 -7.28125 -4.390625 C -7.445312 -4.148438 -7.53125 -3.867188 -7.53125 -3.546875 C -7.53125 -3.265625 -7.457031 -3.003906 -7.3125 -2.765625 C -7.175781 -2.535156 -6.972656 -2.335938 -6.703125 -2.171875 C -6.429688 -2.003906 -6.085938 -1.875 -5.671875 -1.78125 C -5.265625 -1.695312 -4.789062 -1.65625 -4.25 -1.65625 C -4.601562 -1.851562 -4.875 -2.125 -5.0625 -2.46875 C -5.25 -2.8125 -5.34375 -3.207031 -5.34375 -3.65625 C -5.34375 -4.03125 -5.28125 -4.367188 -5.15625 -4.671875 C -5.03125 -4.984375 -4.851562 -5.25 -4.625 -5.46875 C -4.40625 -5.6875 -4.128906 -5.851562 -3.796875 -5.96875 C -3.472656 -6.082031 -3.109375 -6.140625 -2.703125 -6.140625 Z M -2.65625 -5.078125 C -2.9375 -5.078125 -3.191406 -5.039062 -3.421875 -4.96875 C -3.660156 -4.894531 -3.859375 -4.785156 -4.015625 -4.640625 C -4.179688 -4.503906 -4.304688 -4.332031 -4.390625 -4.125 C -4.484375 -3.925781 -4.53125 -3.6875 -4.53125 -3.40625 C -4.53125 -3.21875 -4.5 -3.023438 -4.4375 -2.828125 C -4.382812 -2.628906 -4.289062 -2.453125 -4.15625 -2.296875 C -4.03125 -2.140625 -3.863281 -2.007812 -3.65625 -1.90625 C -3.457031 -1.8125 -3.207031 -1.765625 -2.90625 -1.765625 C -2.601562 -1.765625 -2.316406 -1.800781 -2.046875 -1.875 C -1.785156 -1.957031 -1.554688 -2.070312 -1.359375 -2.21875 C -1.171875 -2.363281 -1.019531 -2.539062 -0.90625 -2.75 C -0.789062 -2.957031 -0.734375 -3.191406 -0.734375 -3.453125 C -0.734375 -3.703125 -0.773438 -3.925781 -0.859375 -4.125 C -0.953125 -4.332031 -1.082031 -4.503906 -1.25 -4.640625 C -1.414062 -4.785156 -1.613281 -4.894531 -1.84375 -4.96875 C -2.082031 -5.039062 -2.351562 -5.078125 -2.65625 -5.078125 Z M -2.65625 -5.078125 \"/>\n",
       "</g>\n",
       "<g id=\"glyph-1-4\">\n",
       "<path d=\"M -2.296875 -6.15625 C -1.953125 -6.15625 -1.628906 -6.097656 -1.328125 -5.984375 C -1.035156 -5.867188 -0.78125 -5.695312 -0.5625 -5.46875 C -0.351562 -5.25 -0.1875 -4.957031 -0.0625 -4.59375 C 0.0625 -4.238281 0.125 -3.820312 0.125 -3.34375 C 0.125 -2.851562 0.0625 -2.429688 -0.0625 -2.078125 C -0.1875 -1.722656 -0.351562 -1.429688 -0.5625 -1.203125 C -0.78125 -0.972656 -1.035156 -0.800781 -1.328125 -0.6875 C -1.617188 -0.570312 -1.941406 -0.515625 -2.296875 -0.515625 C -2.597656 -0.515625 -2.863281 -0.5625 -3.09375 -0.65625 C -3.332031 -0.75 -3.535156 -0.875 -3.703125 -1.03125 C -3.867188 -1.1875 -4.003906 -1.363281 -4.109375 -1.5625 C -4.210938 -1.757812 -4.28125 -1.960938 -4.3125 -2.171875 L -4.34375 -2.171875 C -4.394531 -1.941406 -4.476562 -1.734375 -4.59375 -1.546875 C -4.71875 -1.367188 -4.863281 -1.21875 -5.03125 -1.09375 C -5.207031 -0.96875 -5.398438 -0.875 -5.609375 -0.8125 C -5.816406 -0.75 -6.035156 -0.71875 -6.265625 -0.71875 C -6.554688 -0.71875 -6.828125 -0.769531 -7.078125 -0.875 C -7.335938 -0.988281 -7.5625 -1.15625 -7.75 -1.375 C -7.945312 -1.59375 -8.097656 -1.863281 -8.203125 -2.1875 C -8.316406 -2.507812 -8.375 -2.882812 -8.375 -3.3125 C -8.375 -3.757812 -8.316406 -4.148438 -8.203125 -4.484375 C -8.097656 -4.816406 -7.945312 -5.085938 -7.75 -5.296875 C -7.550781 -5.515625 -7.320312 -5.675781 -7.0625 -5.78125 C -6.8125 -5.894531 -6.539062 -5.953125 -6.25 -5.953125 C -6.019531 -5.953125 -5.800781 -5.914062 -5.59375 -5.84375 C -5.394531 -5.78125 -5.207031 -5.6875 -5.03125 -5.5625 C -4.863281 -5.445312 -4.71875 -5.296875 -4.59375 -5.109375 C -4.476562 -4.929688 -4.398438 -4.722656 -4.359375 -4.484375 L -4.328125 -4.484375 C -4.285156 -4.722656 -4.210938 -4.941406 -4.109375 -5.140625 C -4.015625 -5.347656 -3.878906 -5.523438 -3.703125 -5.671875 C -3.535156 -5.816406 -3.332031 -5.929688 -3.09375 -6.015625 C -2.863281 -6.109375 -2.597656 -6.15625 -2.296875 -6.15625 Z M -6.1875 -4.859375 C -6.394531 -4.859375 -6.582031 -4.828125 -6.75 -4.765625 C -6.925781 -4.710938 -7.078125 -4.625 -7.203125 -4.5 C -7.328125 -4.382812 -7.421875 -4.226562 -7.484375 -4.03125 C -7.554688 -3.84375 -7.59375 -3.601562 -7.59375 -3.3125 C -7.59375 -3.039062 -7.554688 -2.804688 -7.484375 -2.609375 C -7.421875 -2.421875 -7.328125 -2.265625 -7.203125 -2.140625 C -7.078125 -2.015625 -6.925781 -1.925781 -6.75 -1.875 C -6.582031 -1.820312 -6.394531 -1.796875 -6.1875 -1.796875 C -6.03125 -1.796875 -5.863281 -1.816406 -5.6875 -1.859375 C -5.519531 -1.898438 -5.363281 -1.976562 -5.21875 -2.09375 C -5.082031 -2.207031 -4.96875 -2.363281 -4.875 -2.5625 C -4.78125 -2.757812 -4.734375 -3.015625 -4.734375 -3.328125 C -4.734375 -3.660156 -4.78125 -3.925781 -4.875 -4.125 C -4.96875 -4.332031 -5.082031 -4.488281 -5.21875 -4.59375 C -5.363281 -4.695312 -5.519531 -4.765625 -5.6875 -4.796875 C -5.863281 -4.835938 -6.03125 -4.859375 -6.1875 -4.859375 Z M -2.40625 -5.0625 C -2.601562 -5.0625 -2.796875 -5.03125 -2.984375 -4.96875 C -3.171875 -4.914062 -3.332031 -4.820312 -3.46875 -4.6875 C -3.613281 -4.5625 -3.726562 -4.382812 -3.8125 -4.15625 C -3.90625 -3.9375 -3.953125 -3.65625 -3.953125 -3.3125 C -3.953125 -3.007812 -3.90625 -2.75 -3.8125 -2.53125 C -3.726562 -2.3125 -3.613281 -2.132812 -3.46875 -2 C -3.320312 -1.863281 -3.15625 -1.765625 -2.96875 -1.703125 C -2.78125 -1.640625 -2.582031 -1.609375 -2.375 -1.609375 C -2.125 -1.609375 -1.894531 -1.640625 -1.6875 -1.703125 C -1.476562 -1.765625 -1.296875 -1.863281 -1.140625 -2 C -0.992188 -2.132812 -0.878906 -2.3125 -0.796875 -2.53125 C -0.710938 -2.757812 -0.671875 -3.035156 -0.671875 -3.359375 C -0.671875 -3.671875 -0.710938 -3.9375 -0.796875 -4.15625 C -0.878906 -4.375 -0.992188 -4.550781 -1.140625 -4.6875 C -1.296875 -4.820312 -1.476562 -4.914062 -1.6875 -4.96875 C -1.90625 -5.03125 -2.144531 -5.0625 -2.40625 -5.0625 Z M -2.40625 -5.0625 \"/>\n",
       "</g>\n",
       "<g id=\"glyph-1-5\">\n",
       "<path d=\"M 0 -0.921875 L -0.890625 -0.921875 L -0.890625 -3.015625 L -7.25 -3.015625 L -5.921875 -1.15625 L -6.921875 -1.15625 L -8.25 -3.109375 L -8.25 -4.078125 L -0.890625 -4.078125 L -0.890625 -6.09375 L 0 -6.09375 Z M 0 -0.921875 \"/>\n",
       "</g>\n",
       "<g id=\"glyph-1-6\">\n",
       "<path d=\"M 0 -6.828125 L -3.421875 -4.671875 L -3.421875 -2.109375 L 0 -2.109375 L 0 -0.984375 L -8.25 -0.984375 L -8.25 -4.875 C -8.25 -5.34375 -8.195312 -5.753906 -8.09375 -6.109375 C -7.988281 -6.472656 -7.832031 -6.773438 -7.625 -7.015625 C -7.425781 -7.265625 -7.179688 -7.453125 -6.890625 -7.578125 C -6.597656 -7.710938 -6.265625 -7.78125 -5.890625 -7.78125 C -5.628906 -7.78125 -5.367188 -7.738281 -5.109375 -7.65625 C -4.859375 -7.582031 -4.628906 -7.460938 -4.421875 -7.296875 C -4.210938 -7.140625 -4.03125 -6.929688 -3.875 -6.671875 C -3.726562 -6.421875 -3.625 -6.117188 -3.5625 -5.765625 L 0 -8.109375 Z M -5.890625 -6.65625 C -6.140625 -6.65625 -6.351562 -6.613281 -6.53125 -6.53125 C -6.71875 -6.445312 -6.867188 -6.320312 -6.984375 -6.15625 C -7.109375 -5.988281 -7.203125 -5.785156 -7.265625 -5.546875 C -7.328125 -5.316406 -7.359375 -5.054688 -7.359375 -4.765625 L -7.359375 -2.109375 L -4.3125 -2.109375 L -4.3125 -4.8125 C -4.3125 -5.125 -4.347656 -5.394531 -4.421875 -5.625 C -4.503906 -5.863281 -4.613281 -6.054688 -4.75 -6.203125 C -4.894531 -6.359375 -5.0625 -6.472656 -5.25 -6.546875 C -5.445312 -6.617188 -5.660156 -6.65625 -5.890625 -6.65625 Z M -5.890625 -6.65625 \"/>\n",
       "</g>\n",
       "<g id=\"glyph-1-7\">\n",
       "<path d=\"M -1.75 -5.5625 C -1.457031 -5.5625 -1.191406 -5.503906 -0.953125 -5.390625 C -0.722656 -5.273438 -0.53125 -5.109375 -0.375 -4.890625 C -0.21875 -4.671875 -0.09375 -4.398438 0 -4.078125 C 0.0820312 -3.765625 0.125 -3.40625 0.125 -3 C 0.125 -2.625 0.09375 -2.289062 0.03125 -2 C -0.0195312 -1.707031 -0.109375 -1.445312 -0.234375 -1.21875 C -0.359375 -1 -0.523438 -0.8125 -0.734375 -0.65625 C -0.941406 -0.507812 -1.191406 -0.398438 -1.484375 -0.328125 L -1.671875 -1.265625 C -1.328125 -1.359375 -1.078125 -1.546875 -0.921875 -1.828125 C -0.765625 -2.109375 -0.6875 -2.5 -0.6875 -3 C -0.6875 -3.21875 -0.703125 -3.421875 -0.734375 -3.609375 C -0.765625 -3.804688 -0.816406 -3.972656 -0.890625 -4.109375 C -0.972656 -4.242188 -1.078125 -4.347656 -1.203125 -4.421875 C -1.328125 -4.503906 -1.484375 -4.546875 -1.671875 -4.546875 C -1.859375 -4.546875 -2.015625 -4.5 -2.140625 -4.40625 C -2.265625 -4.3125 -2.367188 -4.1875 -2.453125 -4.03125 C -2.535156 -3.875 -2.601562 -3.679688 -2.65625 -3.453125 C -2.71875 -3.222656 -2.785156 -2.972656 -2.859375 -2.703125 C -2.929688 -2.441406 -3.007812 -2.1875 -3.09375 -1.9375 C -3.175781 -1.6875 -3.28125 -1.460938 -3.40625 -1.265625 C -3.539062 -1.066406 -3.707031 -0.90625 -3.90625 -0.78125 C -4.113281 -0.65625 -4.367188 -0.59375 -4.671875 -0.59375 C -5.242188 -0.59375 -5.679688 -0.796875 -5.984375 -1.203125 C -6.285156 -1.617188 -6.4375 -2.21875 -6.4375 -3 C -6.4375 -3.707031 -6.3125 -4.265625 -6.0625 -4.671875 C -5.820312 -5.085938 -5.429688 -5.347656 -4.890625 -5.453125 L -4.765625 -4.5 C -4.929688 -4.46875 -5.066406 -4.40625 -5.171875 -4.3125 C -5.285156 -4.21875 -5.378906 -4.101562 -5.453125 -3.96875 C -5.523438 -3.84375 -5.570312 -3.695312 -5.59375 -3.53125 C -5.625 -3.363281 -5.640625 -3.1875 -5.640625 -3 C -5.640625 -2.53125 -5.566406 -2.179688 -5.421875 -1.953125 C -5.273438 -1.722656 -5.054688 -1.609375 -4.765625 -1.609375 C -4.597656 -1.609375 -4.457031 -1.648438 -4.34375 -1.734375 C -4.226562 -1.816406 -4.132812 -1.929688 -4.0625 -2.078125 C -3.988281 -2.234375 -3.921875 -2.414062 -3.859375 -2.625 C -3.804688 -2.84375 -3.75 -3.078125 -3.6875 -3.328125 C -3.644531 -3.492188 -3.597656 -3.664062 -3.546875 -3.84375 C -3.492188 -4.019531 -3.429688 -4.191406 -3.359375 -4.359375 C -3.296875 -4.523438 -3.21875 -4.679688 -3.125 -4.828125 C -3.039062 -4.972656 -2.929688 -5.097656 -2.796875 -5.203125 C -2.671875 -5.316406 -2.519531 -5.40625 -2.34375 -5.46875 C -2.175781 -5.53125 -1.976562 -5.5625 -1.75 -5.5625 Z M -1.75 -5.5625 \"/>\n",
       "</g>\n",
       "<g id=\"glyph-1-8\">\n",
       "<path d=\"M 0.125 -2.84375 C 0.125 -2.03125 -0.144531 -1.4375 -0.6875 -1.0625 C -1.238281 -0.6875 -2.054688 -0.5 -3.140625 -0.5 C -4.242188 -0.5 -5.070312 -0.691406 -5.625 -1.078125 C -6.175781 -1.460938 -6.453125 -2.050781 -6.453125 -2.84375 C -6.453125 -3.101562 -6.425781 -3.332031 -6.375 -3.53125 C -6.332031 -3.726562 -6.265625 -3.90625 -6.171875 -4.0625 C -6.085938 -4.226562 -5.972656 -4.367188 -5.828125 -4.484375 C -5.691406 -4.609375 -5.535156 -4.71875 -5.359375 -4.8125 L -5.359375 -4.828125 C -5.453125 -4.828125 -5.554688 -4.828125 -5.671875 -4.828125 C -5.796875 -4.835938 -5.910156 -4.84375 -6.015625 -4.84375 C -6.117188 -4.851562 -6.207031 -4.859375 -6.28125 -4.859375 C -6.363281 -4.867188 -6.410156 -4.878906 -6.421875 -4.890625 L -6.421875 -5.90625 C -6.359375 -5.894531 -6.1875 -5.882812 -5.90625 -5.875 C -5.625 -5.863281 -5.21875 -5.859375 -4.6875 -5.859375 L 2.484375 -5.859375 L 2.484375 -4.8125 L -0.078125 -4.8125 C -0.179688 -4.8125 -0.285156 -4.8125 -0.390625 -4.8125 C -0.503906 -4.8125 -0.609375 -4.816406 -0.703125 -4.828125 C -0.816406 -4.828125 -0.929688 -4.828125 -1.046875 -4.828125 C -0.847656 -4.722656 -0.675781 -4.609375 -0.53125 -4.484375 C -0.382812 -4.359375 -0.257812 -4.21875 -0.15625 -4.0625 C -0.0625 -3.90625 0.00390625 -3.722656 0.046875 -3.515625 C 0.0976562 -3.316406 0.125 -3.09375 0.125 -2.84375 Z M -3.25 -4.8125 C -3.707031 -4.8125 -4.09375 -4.769531 -4.40625 -4.6875 C -4.71875 -4.613281 -4.96875 -4.5 -5.15625 -4.34375 C -5.34375 -4.195312 -5.472656 -4.019531 -5.546875 -3.8125 C -5.628906 -3.601562 -5.671875 -3.375 -5.671875 -3.125 C -5.671875 -2.851562 -5.617188 -2.617188 -5.515625 -2.421875 C -5.421875 -2.234375 -5.269531 -2.078125 -5.0625 -1.953125 C -4.863281 -1.835938 -4.609375 -1.75 -4.296875 -1.6875 C -3.984375 -1.632812 -3.609375 -1.609375 -3.171875 -1.609375 C -2.753906 -1.609375 -2.390625 -1.632812 -2.078125 -1.6875 C -1.765625 -1.738281 -1.503906 -1.820312 -1.296875 -1.9375 C -1.097656 -2.0625 -0.945312 -2.21875 -0.84375 -2.40625 C -0.75 -2.601562 -0.703125 -2.835938 -0.703125 -3.109375 C -0.703125 -3.335938 -0.738281 -3.554688 -0.8125 -3.765625 C -0.882812 -3.972656 -1.015625 -4.15625 -1.203125 -4.3125 C -1.390625 -4.46875 -1.644531 -4.585938 -1.96875 -4.671875 C -2.300781 -4.765625 -2.726562 -4.8125 -3.25 -4.8125 Z M -3.25 -4.8125 \"/>\n",
       "</g>\n",
       "<g id=\"glyph-2-0\">\n",
       "<path d=\"M 5.59375 -1.484375 C 5.976562 -1.484375 6.3125 -1.539062 6.59375 -1.65625 C 6.882812 -1.769531 7.132812 -1.914062 7.34375 -2.09375 C 7.550781 -2.269531 7.722656 -2.46875 7.859375 -2.6875 C 7.992188 -2.914062 8.109375 -3.144531 8.203125 -3.375 L 10.015625 -2.6875 C 9.867188 -2.332031 9.675781 -1.984375 9.4375 -1.640625 C 9.207031 -1.296875 8.914062 -0.992188 8.5625 -0.734375 C 8.207031 -0.472656 7.785156 -0.257812 7.296875 -0.09375 C 6.816406 0.0625 6.25 0.140625 5.59375 0.140625 C 4.738281 0.140625 3.992188 0.015625 3.359375 -0.234375 C 2.734375 -0.492188 2.210938 -0.851562 1.796875 -1.3125 C 1.390625 -1.769531 1.085938 -2.3125 0.890625 -2.9375 C 0.691406 -3.570312 0.59375 -4.257812 0.59375 -5 C 0.59375 -5.769531 0.691406 -6.46875 0.890625 -7.09375 C 1.085938 -7.71875 1.390625 -8.25 1.796875 -8.6875 C 2.203125 -9.125 2.710938 -9.460938 3.328125 -9.703125 C 3.941406 -9.941406 4.664062 -10.0625 5.5 -10.0625 C 6.144531 -10.0625 6.707031 -9.992188 7.1875 -9.859375 C 7.675781 -9.722656 8.097656 -9.53125 8.453125 -9.28125 C 8.804688 -9.03125 9.097656 -8.738281 9.328125 -8.40625 C 9.566406 -8.070312 9.753906 -7.703125 9.890625 -7.296875 L 8.046875 -6.796875 C 7.984375 -7.015625 7.882812 -7.21875 7.75 -7.40625 C 7.613281 -7.601562 7.441406 -7.773438 7.234375 -7.921875 C 7.023438 -8.078125 6.78125 -8.195312 6.5 -8.28125 C 6.21875 -8.375 5.898438 -8.421875 5.546875 -8.421875 C 5.046875 -8.421875 4.613281 -8.335938 4.25 -8.171875 C 3.882812 -8.015625 3.585938 -7.785156 3.359375 -7.484375 C 3.128906 -7.191406 2.957031 -6.832031 2.84375 -6.40625 C 2.738281 -5.988281 2.6875 -5.519531 2.6875 -5 C 2.6875 -4.488281 2.738281 -4.015625 2.84375 -3.578125 C 2.957031 -3.148438 3.128906 -2.78125 3.359375 -2.46875 C 3.597656 -2.164062 3.898438 -1.925781 4.265625 -1.75 C 4.628906 -1.570312 5.070312 -1.484375 5.59375 -1.484375 Z M 5.59375 -1.484375 \"/>\n",
       "</g>\n",
       "<g id=\"glyph-2-1\">\n",
       "<path d=\"M 8.203125 -3.84375 C 8.203125 -3.257812 8.144531 -2.722656 8.03125 -2.234375 C 7.914062 -1.753906 7.738281 -1.335938 7.5 -0.984375 C 7.257812 -0.628906 6.957031 -0.351562 6.59375 -0.15625 C 6.226562 0.0390625 5.796875 0.140625 5.296875 0.140625 C 5.066406 0.140625 4.835938 0.113281 4.609375 0.0625 C 4.390625 0.0195312 4.175781 -0.0507812 3.96875 -0.15625 C 3.769531 -0.257812 3.585938 -0.394531 3.421875 -0.5625 C 3.253906 -0.738281 3.109375 -0.953125 2.984375 -1.203125 L 2.9375 -1.203125 C 2.945312 -1.179688 2.953125 -1.125 2.953125 -1.03125 C 2.960938 -0.9375 2.96875 -0.828125 2.96875 -0.703125 C 2.96875 -0.578125 2.96875 -0.445312 2.96875 -0.3125 C 2.976562 -0.175781 2.984375 -0.046875 2.984375 0.078125 L 2.984375 2.984375 L 1 2.984375 L 1 -5.859375 C 1 -6.242188 0.992188 -6.585938 0.984375 -6.890625 C 0.972656 -7.203125 0.960938 -7.441406 0.953125 -7.609375 L 2.875 -7.609375 C 2.882812 -7.578125 2.894531 -7.515625 2.90625 -7.421875 C 2.914062 -7.328125 2.921875 -7.21875 2.921875 -7.09375 C 2.929688 -6.976562 2.9375 -6.851562 2.9375 -6.71875 C 2.945312 -6.582031 2.953125 -6.46875 2.953125 -6.375 L 2.984375 -6.375 C 3.222656 -6.875 3.550781 -7.226562 3.96875 -7.4375 C 4.382812 -7.65625 4.867188 -7.765625 5.421875 -7.765625 C 5.898438 -7.765625 6.316406 -7.664062 6.671875 -7.46875 C 7.023438 -7.28125 7.3125 -7.007812 7.53125 -6.65625 C 7.757812 -6.3125 7.925781 -5.898438 8.03125 -5.421875 C 8.144531 -4.941406 8.203125 -4.414062 8.203125 -3.84375 Z M 6.140625 -3.84375 C 6.140625 -4.707031 6.007812 -5.347656 5.75 -5.765625 C 5.488281 -6.191406 5.097656 -6.40625 4.578125 -6.40625 C 4.378906 -6.40625 4.179688 -6.363281 3.984375 -6.28125 C 3.796875 -6.195312 3.625 -6.054688 3.46875 -5.859375 C 3.320312 -5.660156 3.195312 -5.390625 3.09375 -5.046875 C 3 -4.710938 2.953125 -4.289062 2.953125 -3.78125 C 2.953125 -3.28125 3 -2.863281 3.09375 -2.53125 C 3.1875 -2.207031 3.304688 -1.945312 3.453125 -1.75 C 3.609375 -1.550781 3.78125 -1.410156 3.96875 -1.328125 C 4.164062 -1.242188 4.363281 -1.203125 4.5625 -1.203125 C 4.8125 -1.203125 5.035156 -1.253906 5.234375 -1.359375 C 5.429688 -1.460938 5.597656 -1.617188 5.734375 -1.828125 C 5.867188 -2.046875 5.96875 -2.320312 6.03125 -2.65625 C 6.101562 -2.988281 6.140625 -3.382812 6.140625 -3.84375 Z M 6.140625 -3.84375 \"/>\n",
       "</g>\n",
       "<g id=\"glyph-2-2\">\n",
       "</g>\n",
       "<g id=\"glyph-2-3\">\n",
       "<path d=\"M 3.328125 -6.28125 L 3.328125 0 L 1.359375 0 L 1.359375 -6.28125 L 0.25 -6.28125 L 0.25 -7.609375 L 1.359375 -7.609375 L 1.359375 -8.40625 C 1.359375 -8.695312 1.390625 -8.960938 1.453125 -9.203125 C 1.523438 -9.453125 1.644531 -9.664062 1.8125 -9.84375 C 1.988281 -10.03125 2.21875 -10.175781 2.5 -10.28125 C 2.789062 -10.382812 3.148438 -10.4375 3.578125 -10.4375 C 3.796875 -10.4375 4.015625 -10.425781 4.234375 -10.40625 C 4.453125 -10.382812 4.648438 -10.359375 4.828125 -10.328125 L 4.828125 -9.046875 C 4.742188 -9.066406 4.644531 -9.082031 4.53125 -9.09375 C 4.425781 -9.101562 4.332031 -9.109375 4.25 -9.109375 C 4.0625 -9.109375 3.90625 -9.085938 3.78125 -9.046875 C 3.664062 -9.015625 3.570312 -8.960938 3.5 -8.890625 C 3.4375 -8.816406 3.390625 -8.722656 3.359375 -8.609375 C 3.335938 -8.492188 3.328125 -8.359375 3.328125 -8.203125 L 3.328125 -7.609375 L 4.828125 -7.609375 L 4.828125 -6.28125 Z M 3.328125 -6.28125 \"/>\n",
       "</g>\n",
       "<g id=\"glyph-2-4\">\n",
       "<path d=\"M 8.234375 -3.8125 C 8.234375 -3.226562 8.148438 -2.691406 7.984375 -2.203125 C 7.828125 -1.722656 7.585938 -1.304688 7.265625 -0.953125 C 6.941406 -0.609375 6.535156 -0.335938 6.046875 -0.140625 C 5.566406 0.046875 5.007812 0.140625 4.375 0.140625 C 3.75 0.140625 3.195312 0.046875 2.71875 -0.140625 C 2.25 -0.335938 1.851562 -0.609375 1.53125 -0.953125 C 1.21875 -1.304688 0.976562 -1.722656 0.8125 -2.203125 C 0.644531 -2.691406 0.5625 -3.226562 0.5625 -3.8125 C 0.5625 -4.375 0.640625 -4.894531 0.796875 -5.375 C 0.953125 -5.863281 1.1875 -6.28125 1.5 -6.625 C 1.820312 -6.976562 2.222656 -7.253906 2.703125 -7.453125 C 3.191406 -7.648438 3.757812 -7.75 4.40625 -7.75 C 5.09375 -7.75 5.675781 -7.648438 6.15625 -7.453125 C 6.644531 -7.253906 7.039062 -6.976562 7.34375 -6.625 C 7.65625 -6.28125 7.878906 -5.867188 8.015625 -5.390625 C 8.160156 -4.910156 8.234375 -4.382812 8.234375 -3.8125 Z M 6.171875 -3.8125 C 6.171875 -4.71875 6.019531 -5.375 5.71875 -5.78125 C 5.425781 -6.1875 5 -6.390625 4.4375 -6.390625 C 3.851562 -6.390625 3.40625 -6.179688 3.09375 -5.765625 C 2.789062 -5.359375 2.640625 -4.707031 2.640625 -3.8125 C 2.640625 -3.351562 2.679688 -2.957031 2.765625 -2.625 C 2.847656 -2.300781 2.960938 -2.035156 3.109375 -1.828125 C 3.253906 -1.617188 3.429688 -1.460938 3.640625 -1.359375 C 3.859375 -1.253906 4.09375 -1.203125 4.34375 -1.203125 C 4.632812 -1.203125 4.894531 -1.253906 5.125 -1.359375 C 5.351562 -1.460938 5.546875 -1.617188 5.703125 -1.828125 C 5.859375 -2.035156 5.972656 -2.300781 6.046875 -2.625 C 6.128906 -2.957031 6.171875 -3.351562 6.171875 -3.8125 Z M 6.171875 -3.8125 \"/>\n",
       "</g>\n",
       "<g id=\"glyph-2-5\">\n",
       "<path d=\"M 1 0 L 1 -5.828125 C 1 -5.992188 1 -6.164062 1 -6.34375 C 1 -6.53125 0.992188 -6.707031 0.984375 -6.875 C 0.984375 -7.039062 0.976562 -7.1875 0.96875 -7.3125 C 0.96875 -7.445312 0.960938 -7.546875 0.953125 -7.609375 L 2.828125 -7.609375 C 2.835938 -7.554688 2.847656 -7.457031 2.859375 -7.3125 C 2.867188 -7.175781 2.878906 -7.023438 2.890625 -6.859375 C 2.898438 -6.703125 2.90625 -6.539062 2.90625 -6.375 C 2.914062 -6.21875 2.921875 -6.085938 2.921875 -5.984375 L 2.953125 -5.984375 C 3.054688 -6.265625 3.15625 -6.515625 3.25 -6.734375 C 3.34375 -6.953125 3.457031 -7.132812 3.59375 -7.28125 C 3.726562 -7.4375 3.890625 -7.554688 4.078125 -7.640625 C 4.265625 -7.722656 4.5 -7.765625 4.78125 -7.765625 C 4.894531 -7.765625 5.007812 -7.753906 5.125 -7.734375 C 5.238281 -7.710938 5.328125 -7.6875 5.390625 -7.65625 L 5.390625 -6 C 5.265625 -6.03125 5.132812 -6.054688 5 -6.078125 C 4.875 -6.097656 4.722656 -6.109375 4.546875 -6.109375 C 4.054688 -6.109375 3.671875 -5.90625 3.390625 -5.5 C 3.117188 -5.101562 2.984375 -4.515625 2.984375 -3.734375 L 2.984375 0 Z M 1 0 \"/>\n",
       "</g>\n",
       "<g id=\"glyph-2-6\">\n",
       "<path d=\"M 3.0625 -1.796875 L 4.53125 -7.609375 L 6.65625 -7.609375 L 8.109375 -1.796875 L 9.40625 -7.609375 L 11.234375 -7.609375 L 9.234375 0 L 7.140625 0 L 5.609375 -6.203125 L 4.015625 0 L 1.921875 0 L -0.046875 -7.609375 L 1.8125 -7.609375 Z M 3.0625 -1.796875 \"/>\n",
       "</g>\n",
       "<g id=\"glyph-2-7\">\n",
       "<path d=\"M 2.765625 0.140625 C 2.398438 0.140625 2.070312 0.09375 1.78125 0 C 1.488281 -0.101562 1.242188 -0.253906 1.046875 -0.453125 C 0.847656 -0.648438 0.691406 -0.890625 0.578125 -1.171875 C 0.472656 -1.460938 0.421875 -1.789062 0.421875 -2.15625 C 0.421875 -2.601562 0.5 -2.976562 0.65625 -3.28125 C 0.8125 -3.59375 1.023438 -3.84375 1.296875 -4.03125 C 1.566406 -4.21875 1.882812 -4.351562 2.25 -4.4375 C 2.625 -4.53125 3.015625 -4.582031 3.421875 -4.59375 L 5.0625 -4.609375 L 5.0625 -5 C 5.0625 -5.28125 5.035156 -5.507812 4.984375 -5.6875 C 4.941406 -5.875 4.875 -6.023438 4.78125 -6.140625 C 4.6875 -6.265625 4.566406 -6.347656 4.421875 -6.390625 C 4.285156 -6.441406 4.128906 -6.46875 3.953125 -6.46875 C 3.785156 -6.46875 3.632812 -6.453125 3.5 -6.421875 C 3.375 -6.390625 3.265625 -6.332031 3.171875 -6.25 C 3.078125 -6.164062 3 -6.054688 2.9375 -5.921875 C 2.882812 -5.785156 2.847656 -5.609375 2.828125 -5.390625 L 0.765625 -5.5 C 0.816406 -5.832031 0.914062 -6.132812 1.0625 -6.40625 C 1.21875 -6.675781 1.425781 -6.910156 1.6875 -7.109375 C 1.957031 -7.316406 2.285156 -7.472656 2.671875 -7.578125 C 3.054688 -7.691406 3.507812 -7.75 4.03125 -7.75 C 4.507812 -7.75 4.929688 -7.691406 5.296875 -7.578125 C 5.671875 -7.460938 5.988281 -7.285156 6.25 -7.046875 C 6.507812 -6.816406 6.707031 -6.53125 6.84375 -6.1875 C 6.976562 -5.851562 7.046875 -5.460938 7.046875 -5.015625 L 7.046875 -2.25 C 7.046875 -2.070312 7.050781 -1.910156 7.0625 -1.765625 C 7.082031 -1.628906 7.113281 -1.507812 7.15625 -1.40625 C 7.195312 -1.3125 7.257812 -1.238281 7.34375 -1.1875 C 7.425781 -1.144531 7.535156 -1.125 7.671875 -1.125 C 7.816406 -1.125 7.960938 -1.140625 8.109375 -1.171875 L 8.109375 -0.09375 C 7.984375 -0.0703125 7.875 -0.046875 7.78125 -0.015625 C 7.6875 0.00390625 7.59375 0.0195312 7.5 0.03125 C 7.40625 0.0507812 7.304688 0.0625 7.203125 0.0625 C 7.097656 0.0703125 6.976562 0.078125 6.84375 0.078125 C 6.34375 0.078125 5.972656 -0.0390625 5.734375 -0.28125 C 5.492188 -0.519531 5.351562 -0.878906 5.3125 -1.359375 L 5.265625 -1.359375 C 5.003906 -0.878906 4.664062 -0.507812 4.25 -0.25 C 3.84375 0.0078125 3.347656 0.140625 2.765625 0.140625 Z M 5.0625 -3.53125 L 4.046875 -3.515625 C 3.835938 -3.503906 3.640625 -3.484375 3.453125 -3.453125 C 3.265625 -3.429688 3.097656 -3.378906 2.953125 -3.296875 C 2.804688 -3.210938 2.691406 -3.09375 2.609375 -2.9375 C 2.523438 -2.78125 2.484375 -2.570312 2.484375 -2.3125 C 2.484375 -1.945312 2.566406 -1.675781 2.734375 -1.5 C 2.898438 -1.320312 3.117188 -1.234375 3.390625 -1.234375 C 3.648438 -1.234375 3.878906 -1.285156 4.078125 -1.390625 C 4.285156 -1.503906 4.460938 -1.648438 4.609375 -1.828125 C 4.753906 -2.003906 4.863281 -2.207031 4.9375 -2.4375 C 5.019531 -2.664062 5.0625 -2.898438 5.0625 -3.140625 Z M 5.0625 -3.53125 \"/>\n",
       "</g>\n",
       "<g id=\"glyph-2-8\">\n",
       "<path d=\"M 5.9375 0 C 5.925781 -0.0390625 5.914062 -0.109375 5.90625 -0.203125 C 5.894531 -0.296875 5.882812 -0.398438 5.875 -0.515625 C 5.863281 -0.640625 5.851562 -0.765625 5.84375 -0.890625 C 5.832031 -1.023438 5.828125 -1.140625 5.828125 -1.234375 L 5.796875 -1.234375 C 5.566406 -0.742188 5.25 -0.390625 4.84375 -0.171875 C 4.4375 0.0351562 3.945312 0.140625 3.375 0.140625 C 2.894531 0.140625 2.476562 0.0390625 2.125 -0.15625 C 1.78125 -0.351562 1.492188 -0.625 1.265625 -0.96875 C 1.035156 -1.320312 0.863281 -1.738281 0.75 -2.21875 C 0.644531 -2.707031 0.59375 -3.234375 0.59375 -3.796875 C 0.59375 -4.367188 0.648438 -4.894531 0.765625 -5.375 C 0.878906 -5.863281 1.054688 -6.28125 1.296875 -6.625 C 1.535156 -6.976562 1.835938 -7.253906 2.203125 -7.453125 C 2.566406 -7.648438 3.003906 -7.75 3.515625 -7.75 C 3.765625 -7.75 4.003906 -7.722656 4.234375 -7.671875 C 4.460938 -7.617188 4.675781 -7.539062 4.875 -7.4375 C 5.070312 -7.332031 5.25 -7.191406 5.40625 -7.015625 C 5.570312 -6.847656 5.707031 -6.644531 5.8125 -6.40625 L 5.828125 -6.40625 C 5.828125 -6.457031 5.828125 -6.523438 5.828125 -6.609375 C 5.828125 -6.703125 5.828125 -6.804688 5.828125 -6.921875 C 5.828125 -7.046875 5.820312 -7.171875 5.8125 -7.296875 C 5.8125 -7.421875 5.8125 -7.539062 5.8125 -7.65625 L 5.8125 -10.4375 L 7.796875 -10.4375 L 7.796875 -1.65625 C 7.796875 -1.289062 7.800781 -0.960938 7.8125 -0.671875 C 7.832031 -0.378906 7.84375 -0.15625 7.84375 0 Z M 5.84375 -3.84375 C 5.84375 -4.34375 5.796875 -4.757812 5.703125 -5.09375 C 5.609375 -5.425781 5.484375 -5.6875 5.328125 -5.875 C 5.179688 -6.070312 5.007812 -6.207031 4.8125 -6.28125 C 4.613281 -6.363281 4.414062 -6.40625 4.21875 -6.40625 C 3.96875 -6.40625 3.742188 -6.351562 3.546875 -6.25 C 3.347656 -6.15625 3.179688 -6.003906 3.046875 -5.796875 C 2.921875 -5.585938 2.820312 -5.316406 2.75 -4.984375 C 2.6875 -4.660156 2.65625 -4.265625 2.65625 -3.796875 C 2.65625 -2.066406 3.171875 -1.203125 4.203125 -1.203125 C 4.398438 -1.203125 4.597656 -1.242188 4.796875 -1.328125 C 4.992188 -1.421875 5.171875 -1.566406 5.328125 -1.765625 C 5.484375 -1.960938 5.609375 -2.234375 5.703125 -2.578125 C 5.796875 -2.921875 5.84375 -3.34375 5.84375 -3.84375 Z M 5.84375 -3.84375 \"/>\n",
       "</g>\n",
       "<g id=\"glyph-2-9\">\n",
       "<path d=\"M 7.421875 -2.21875 C 7.421875 -1.851562 7.34375 -1.523438 7.1875 -1.234375 C 7.039062 -0.941406 6.820312 -0.691406 6.53125 -0.484375 C 6.238281 -0.285156 5.878906 -0.128906 5.453125 -0.015625 C 5.035156 0.0859375 4.554688 0.140625 4.015625 0.140625 C 3.535156 0.140625 3.097656 0.101562 2.703125 0.03125 C 2.316406 -0.0390625 1.976562 -0.15625 1.6875 -0.3125 C 1.394531 -0.476562 1.148438 -0.6875 0.953125 -0.9375 C 0.753906 -1.195312 0.601562 -1.519531 0.5 -1.90625 L 2.25 -2.15625 C 2.300781 -1.945312 2.375 -1.773438 2.46875 -1.640625 C 2.570312 -1.515625 2.695312 -1.414062 2.84375 -1.34375 C 2.988281 -1.269531 3.15625 -1.222656 3.34375 -1.203125 C 3.539062 -1.179688 3.765625 -1.171875 4.015625 -1.171875 C 4.242188 -1.171875 4.453125 -1.179688 4.640625 -1.203125 C 4.835938 -1.234375 5.003906 -1.28125 5.140625 -1.34375 C 5.285156 -1.40625 5.398438 -1.492188 5.484375 -1.609375 C 5.566406 -1.722656 5.609375 -1.867188 5.609375 -2.046875 C 5.609375 -2.234375 5.550781 -2.382812 5.4375 -2.5 C 5.320312 -2.625 5.160156 -2.71875 4.953125 -2.78125 C 4.753906 -2.851562 4.519531 -2.914062 4.25 -2.96875 C 3.988281 -3.03125 3.703125 -3.097656 3.390625 -3.171875 C 3.078125 -3.234375 2.765625 -3.3125 2.453125 -3.40625 C 2.140625 -3.507812 1.863281 -3.644531 1.625 -3.8125 C 1.382812 -3.988281 1.1875 -4.207031 1.03125 -4.46875 C 0.882812 -4.726562 0.8125 -5.054688 0.8125 -5.453125 C 0.8125 -5.816406 0.878906 -6.140625 1.015625 -6.421875 C 1.160156 -6.703125 1.367188 -6.941406 1.640625 -7.140625 C 1.910156 -7.335938 2.242188 -7.488281 2.640625 -7.59375 C 3.046875 -7.707031 3.507812 -7.765625 4.03125 -7.765625 C 4.445312 -7.765625 4.832031 -7.722656 5.1875 -7.640625 C 5.539062 -7.566406 5.859375 -7.445312 6.140625 -7.28125 C 6.421875 -7.113281 6.65625 -6.898438 6.84375 -6.640625 C 7.03125 -6.378906 7.164062 -6.066406 7.25 -5.703125 L 5.5 -5.515625 C 5.457031 -5.703125 5.394531 -5.851562 5.3125 -5.96875 C 5.226562 -6.09375 5.125 -6.1875 5 -6.25 C 4.875 -6.320312 4.726562 -6.367188 4.5625 -6.390625 C 4.40625 -6.421875 4.226562 -6.4375 4.03125 -6.4375 C 3.5625 -6.4375 3.207031 -6.375 2.96875 -6.25 C 2.738281 -6.132812 2.625 -5.9375 2.625 -5.65625 C 2.625 -5.488281 2.671875 -5.351562 2.765625 -5.25 C 2.859375 -5.144531 2.992188 -5.054688 3.171875 -4.984375 C 3.347656 -4.921875 3.554688 -4.863281 3.796875 -4.8125 C 4.046875 -4.757812 4.3125 -4.703125 4.59375 -4.640625 C 4.945312 -4.554688 5.289062 -4.460938 5.625 -4.359375 C 5.96875 -4.265625 6.269531 -4.128906 6.53125 -3.953125 C 6.800781 -3.773438 7.015625 -3.546875 7.171875 -3.265625 C 7.335938 -2.992188 7.421875 -2.644531 7.421875 -2.21875 Z M 7.421875 -2.21875 \"/>\n",
       "</g>\n",
       "<g id=\"glyph-2-10\">\n",
       "<path d=\"M 4.125 0.140625 C 3.570312 0.140625 3.078125 0.0625 2.640625 -0.09375 C 2.203125 -0.257812 1.828125 -0.507812 1.515625 -0.84375 C 1.210938 -1.175781 0.976562 -1.585938 0.8125 -2.078125 C 0.644531 -2.578125 0.5625 -3.164062 0.5625 -3.84375 C 0.5625 -4.570312 0.65625 -5.179688 0.84375 -5.671875 C 1.039062 -6.171875 1.304688 -6.570312 1.640625 -6.875 C 1.972656 -7.1875 2.351562 -7.410156 2.78125 -7.546875 C 3.21875 -7.679688 3.675781 -7.75 4.15625 -7.75 C 4.75 -7.75 5.257812 -7.644531 5.6875 -7.4375 C 6.113281 -7.226562 6.460938 -6.9375 6.734375 -6.5625 C 7.003906 -6.1875 7.203125 -5.738281 7.328125 -5.21875 C 7.453125 -4.695312 7.515625 -4.117188 7.515625 -3.484375 L 7.515625 -3.421875 L 2.640625 -3.421875 C 2.640625 -3.109375 2.664062 -2.8125 2.71875 -2.53125 C 2.78125 -2.257812 2.875 -2.023438 3 -1.828125 C 3.125 -1.628906 3.285156 -1.472656 3.484375 -1.359375 C 3.691406 -1.242188 3.9375 -1.1875 4.21875 -1.1875 C 4.5625 -1.1875 4.84375 -1.257812 5.0625 -1.40625 C 5.289062 -1.550781 5.453125 -1.78125 5.546875 -2.09375 L 7.40625 -1.921875 C 7.320312 -1.710938 7.203125 -1.484375 7.046875 -1.234375 C 6.898438 -0.992188 6.695312 -0.769531 6.4375 -0.5625 C 6.1875 -0.363281 5.875 -0.195312 5.5 -0.0625 C 5.125 0.0703125 4.664062 0.140625 4.125 0.140625 Z M 4.125 -6.5 C 3.914062 -6.5 3.722656 -6.460938 3.546875 -6.390625 C 3.378906 -6.328125 3.226562 -6.222656 3.09375 -6.078125 C 2.96875 -5.929688 2.863281 -5.738281 2.78125 -5.5 C 2.707031 -5.269531 2.664062 -4.988281 2.65625 -4.65625 L 5.609375 -4.65625 C 5.566406 -5.269531 5.414062 -5.726562 5.15625 -6.03125 C 4.90625 -6.34375 4.5625 -6.5 4.125 -6.5 Z M 4.125 -6.5 \"/>\n",
       "</g>\n",
       "<g id=\"glyph-2-11\">\n",
       "<path d=\"M 1 0 L 1 -10.4375 L 2.984375 -10.4375 L 2.984375 0 Z M 1 0 \"/>\n",
       "</g>\n",
       "<g id=\"glyph-2-12\">\n",
       "<path d=\"M 4.171875 0.140625 C 3.566406 0.140625 3.035156 0.046875 2.578125 -0.140625 C 2.128906 -0.328125 1.753906 -0.59375 1.453125 -0.9375 C 1.160156 -1.28125 0.9375 -1.691406 0.78125 -2.171875 C 0.632812 -2.648438 0.5625 -3.179688 0.5625 -3.765625 C 0.5625 -4.398438 0.644531 -4.960938 0.8125 -5.453125 C 0.976562 -5.953125 1.210938 -6.367188 1.515625 -6.703125 C 1.828125 -7.046875 2.207031 -7.304688 2.65625 -7.484375 C 3.113281 -7.660156 3.628906 -7.75 4.203125 -7.75 C 4.691406 -7.75 5.128906 -7.679688 5.515625 -7.546875 C 5.898438 -7.421875 6.226562 -7.242188 6.5 -7.015625 C 6.78125 -6.785156 7.003906 -6.515625 7.171875 -6.203125 C 7.347656 -5.898438 7.46875 -5.570312 7.53125 -5.21875 L 5.546875 -5.109375 C 5.484375 -5.503906 5.335938 -5.816406 5.109375 -6.046875 C 4.890625 -6.273438 4.578125 -6.390625 4.171875 -6.390625 C 3.640625 -6.390625 3.25 -6.171875 3 -5.734375 C 2.757812 -5.296875 2.640625 -4.664062 2.640625 -3.84375 C 2.640625 -2.082031 3.15625 -1.203125 4.1875 -1.203125 C 4.5625 -1.203125 4.875 -1.320312 5.125 -1.5625 C 5.382812 -1.800781 5.546875 -2.15625 5.609375 -2.625 L 7.59375 -2.53125 C 7.539062 -2.175781 7.429688 -1.835938 7.265625 -1.515625 C 7.097656 -1.203125 6.875 -0.921875 6.59375 -0.671875 C 6.3125 -0.421875 5.96875 -0.222656 5.5625 -0.078125 C 5.15625 0.0664062 4.691406 0.140625 4.171875 0.140625 Z M 4.171875 0.140625 \"/>\n",
       "</g>\n",
       "<g id=\"glyph-2-13\">\n",
       "<path d=\"M 2.953125 0.125 C 2.367188 0.125 1.921875 -0.03125 1.609375 -0.34375 C 1.296875 -0.664062 1.140625 -1.144531 1.140625 -1.78125 L 1.140625 -6.28125 L 0.171875 -6.28125 L 0.171875 -7.609375 L 1.234375 -7.609375 L 1.859375 -9.390625 L 3.09375 -9.390625 L 3.09375 -7.609375 L 4.53125 -7.609375 L 4.53125 -6.28125 L 3.09375 -6.28125 L 3.09375 -2.328125 C 3.09375 -1.953125 3.160156 -1.675781 3.296875 -1.5 C 3.441406 -1.320312 3.660156 -1.234375 3.953125 -1.234375 C 4.078125 -1.234375 4.1875 -1.242188 4.28125 -1.265625 C 4.382812 -1.285156 4.5 -1.3125 4.625 -1.34375 L 4.625 -0.109375 C 4.375 -0.0351562 4.113281 0.0195312 3.84375 0.0625 C 3.570312 0.101562 3.273438 0.125 2.953125 0.125 Z M 2.953125 0.125 \"/>\n",
       "</g>\n",
       "<g id=\"glyph-2-14\">\n",
       "<path d=\"M 1 -8.984375 L 1 -10.4375 L 2.984375 -10.4375 L 2.984375 -8.984375 Z M 1 0 L 1 -7.609375 L 2.984375 -7.609375 L 2.984375 0 Z M 1 0 \"/>\n",
       "</g>\n",
       "<g id=\"glyph-2-15\">\n",
       "<path d=\"M 5.9375 0 L 5.9375 -4.265625 C 5.9375 -4.566406 5.910156 -4.835938 5.859375 -5.078125 C 5.816406 -5.328125 5.738281 -5.539062 5.625 -5.71875 C 5.519531 -5.894531 5.378906 -6.03125 5.203125 -6.125 C 5.035156 -6.226562 4.828125 -6.28125 4.578125 -6.28125 C 4.335938 -6.28125 4.117188 -6.222656 3.921875 -6.109375 C 3.734375 -6.003906 3.566406 -5.851562 3.421875 -5.65625 C 3.285156 -5.46875 3.175781 -5.238281 3.09375 -4.96875 C 3.019531 -4.695312 2.984375 -4.398438 2.984375 -4.078125 L 2.984375 0 L 1 0 L 1 -5.90625 C 1 -6.070312 1 -6.238281 1 -6.40625 C 1 -6.582031 0.992188 -6.75 0.984375 -6.90625 C 0.984375 -7.0625 0.976562 -7.203125 0.96875 -7.328125 C 0.96875 -7.453125 0.960938 -7.546875 0.953125 -7.609375 L 2.828125 -7.609375 C 2.835938 -7.554688 2.847656 -7.46875 2.859375 -7.34375 C 2.867188 -7.21875 2.878906 -7.078125 2.890625 -6.921875 C 2.898438 -6.773438 2.90625 -6.625 2.90625 -6.46875 C 2.914062 -6.320312 2.921875 -6.195312 2.921875 -6.09375 L 2.953125 -6.09375 C 3.222656 -6.675781 3.554688 -7.097656 3.953125 -7.359375 C 4.359375 -7.628906 4.84375 -7.765625 5.40625 -7.765625 C 5.863281 -7.765625 6.25 -7.6875 6.5625 -7.53125 C 6.882812 -7.382812 7.144531 -7.175781 7.34375 -6.90625 C 7.539062 -6.644531 7.679688 -6.335938 7.765625 -5.984375 C 7.859375 -5.628906 7.90625 -5.242188 7.90625 -4.828125 L 7.90625 0 Z M 5.9375 0 \"/>\n",
       "</g>\n",
       "<g id=\"glyph-3-0\">\n",
       "<path d=\"M 1.28125 -2.5625 C 1.28125 -2.269531 1.300781 -2 1.34375 -1.75 C 1.394531 -1.507812 1.46875 -1.300781 1.5625 -1.125 C 1.664062 -0.945312 1.796875 -0.8125 1.953125 -0.71875 C 2.117188 -0.625 2.320312 -0.578125 2.5625 -0.578125 C 2.863281 -0.578125 3.113281 -0.65625 3.3125 -0.8125 C 3.519531 -0.976562 3.644531 -1.226562 3.6875 -1.5625 L 4.546875 -1.515625 C 4.515625 -1.296875 4.453125 -1.085938 4.359375 -0.890625 C 4.265625 -0.703125 4.132812 -0.535156 3.96875 -0.390625 C 3.8125 -0.242188 3.617188 -0.125 3.390625 -0.03125 C 3.160156 0.0507812 2.894531 0.09375 2.59375 0.09375 C 2.195312 0.09375 1.859375 0.0234375 1.578125 -0.109375 C 1.296875 -0.242188 1.066406 -0.425781 0.890625 -0.65625 C 0.722656 -0.894531 0.597656 -1.175781 0.515625 -1.5 C 0.441406 -1.820312 0.40625 -2.164062 0.40625 -2.53125 C 0.40625 -2.875 0.429688 -3.175781 0.484375 -3.4375 C 0.546875 -3.695312 0.625 -3.925781 0.71875 -4.125 C 0.820312 -4.320312 0.941406 -4.484375 1.078125 -4.609375 C 1.222656 -4.742188 1.375 -4.847656 1.53125 -4.921875 C 1.695312 -5.003906 1.867188 -5.0625 2.046875 -5.09375 C 2.222656 -5.132812 2.398438 -5.15625 2.578125 -5.15625 C 2.859375 -5.15625 3.109375 -5.113281 3.328125 -5.03125 C 3.554688 -4.957031 3.75 -4.851562 3.90625 -4.71875 C 4.070312 -4.582031 4.203125 -4.421875 4.296875 -4.234375 C 4.398438 -4.054688 4.472656 -3.863281 4.515625 -3.65625 L 3.65625 -3.578125 C 3.601562 -3.859375 3.488281 -4.082031 3.3125 -4.25 C 3.132812 -4.414062 2.882812 -4.5 2.5625 -4.5 C 2.320312 -4.5 2.117188 -4.457031 1.953125 -4.375 C 1.796875 -4.300781 1.664062 -4.179688 1.5625 -4.015625 C 1.46875 -3.859375 1.394531 -3.65625 1.34375 -3.40625 C 1.300781 -3.164062 1.28125 -2.882812 1.28125 -2.5625 Z M 1.28125 -2.5625 \"/>\n",
       "</g>\n",
       "<g id=\"glyph-3-1\">\n",
       "<path d=\"M 4.9375 -2.5625 C 4.9375 -2.175781 4.90625 -1.816406 4.84375 -1.484375 C 4.78125 -1.160156 4.675781 -0.878906 4.53125 -0.640625 C 4.382812 -0.410156 4.191406 -0.226562 3.953125 -0.09375 C 3.710938 0.03125 3.414062 0.09375 3.0625 0.09375 C 2.707031 0.09375 2.390625 0.0234375 2.109375 -0.109375 C 1.835938 -0.242188 1.632812 -0.46875 1.5 -0.78125 L 1.46875 -0.78125 C 1.46875 -0.78125 1.46875 -0.753906 1.46875 -0.703125 C 1.476562 -0.648438 1.484375 -0.585938 1.484375 -0.515625 C 1.484375 -0.441406 1.484375 -0.359375 1.484375 -0.265625 C 1.484375 -0.171875 1.484375 -0.078125 1.484375 0.015625 L 1.484375 1.984375 L 0.640625 1.984375 L 0.640625 -4.03125 C 0.640625 -4.15625 0.640625 -4.269531 0.640625 -4.375 C 0.640625 -4.488281 0.632812 -4.59375 0.625 -4.6875 C 0.625 -4.78125 0.625 -4.859375 0.625 -4.921875 C 0.625 -4.992188 0.625 -5.039062 0.625 -5.0625 L 1.4375 -5.0625 C 1.4375 -5.050781 1.4375 -5.019531 1.4375 -4.96875 C 1.445312 -4.914062 1.453125 -4.847656 1.453125 -4.765625 C 1.460938 -4.679688 1.46875 -4.59375 1.46875 -4.5 C 1.476562 -4.414062 1.484375 -4.332031 1.484375 -4.25 L 1.5 -4.25 C 1.570312 -4.414062 1.660156 -4.554688 1.765625 -4.671875 C 1.867188 -4.785156 1.984375 -4.878906 2.109375 -4.953125 C 2.234375 -5.023438 2.375 -5.078125 2.53125 -5.109375 C 2.6875 -5.140625 2.863281 -5.15625 3.0625 -5.15625 C 3.414062 -5.15625 3.710938 -5.09375 3.953125 -4.96875 C 4.191406 -4.84375 4.382812 -4.664062 4.53125 -4.4375 C 4.675781 -4.21875 4.78125 -3.945312 4.84375 -3.625 C 4.90625 -3.300781 4.9375 -2.945312 4.9375 -2.5625 Z M 4.046875 -2.53125 C 4.046875 -2.84375 4.023438 -3.117188 3.984375 -3.359375 C 3.953125 -3.609375 3.890625 -3.816406 3.796875 -3.984375 C 3.703125 -4.160156 3.578125 -4.289062 3.421875 -4.375 C 3.273438 -4.457031 3.085938 -4.5 2.859375 -4.5 C 2.671875 -4.5 2.492188 -4.472656 2.328125 -4.421875 C 2.160156 -4.367188 2.015625 -4.265625 1.890625 -4.109375 C 1.765625 -3.960938 1.664062 -3.757812 1.59375 -3.5 C 1.519531 -3.238281 1.484375 -2.894531 1.484375 -2.46875 C 1.484375 -2.113281 1.515625 -1.8125 1.578125 -1.5625 C 1.640625 -1.3125 1.726562 -1.109375 1.84375 -0.953125 C 1.957031 -0.804688 2.097656 -0.695312 2.265625 -0.625 C 2.429688 -0.5625 2.625 -0.53125 2.84375 -0.53125 C 3.070312 -0.53125 3.265625 -0.570312 3.421875 -0.65625 C 3.578125 -0.75 3.703125 -0.878906 3.796875 -1.046875 C 3.890625 -1.222656 3.953125 -1.4375 3.984375 -1.6875 C 4.023438 -1.9375 4.046875 -2.21875 4.046875 -2.53125 Z M 4.046875 -2.53125 \"/>\n",
       "</g>\n",
       "<g id=\"glyph-3-2\">\n",
       "<path d=\"M -0.140625 1.90625 L -0.140625 1.296875 L 5.4375 1.296875 L 5.4375 1.90625 Z M -0.140625 1.90625 \"/>\n",
       "</g>\n",
       "<g id=\"glyph-3-3\">\n",
       "<path d=\"M 3.59375 0 L 3.59375 -3.21875 C 3.59375 -3.457031 3.578125 -3.660156 3.546875 -3.828125 C 3.515625 -3.992188 3.460938 -4.128906 3.390625 -4.234375 C 3.316406 -4.335938 3.21875 -4.410156 3.09375 -4.453125 C 2.976562 -4.492188 2.835938 -4.515625 2.671875 -4.515625 C 2.492188 -4.515625 2.332031 -4.476562 2.1875 -4.40625 C 2.039062 -4.332031 1.914062 -4.226562 1.8125 -4.09375 C 1.71875 -3.96875 1.640625 -3.804688 1.578125 -3.609375 C 1.523438 -3.410156 1.5 -3.1875 1.5 -2.9375 L 1.5 0 L 0.671875 0 L 0.671875 -3.984375 C 0.671875 -4.085938 0.664062 -4.195312 0.65625 -4.3125 C 0.65625 -4.4375 0.65625 -4.550781 0.65625 -4.65625 C 0.65625 -4.757812 0.648438 -4.847656 0.640625 -4.921875 C 0.640625 -4.992188 0.640625 -5.039062 0.640625 -5.0625 L 1.4375 -5.0625 C 1.4375 -5.050781 1.4375 -5.007812 1.4375 -4.9375 C 1.445312 -4.875 1.453125 -4.796875 1.453125 -4.703125 C 1.460938 -4.617188 1.46875 -4.53125 1.46875 -4.4375 C 1.46875 -4.34375 1.46875 -4.265625 1.46875 -4.203125 L 1.484375 -4.203125 C 1.554688 -4.347656 1.632812 -4.476562 1.71875 -4.59375 C 1.8125 -4.71875 1.914062 -4.820312 2.03125 -4.90625 C 2.15625 -4.988281 2.289062 -5.050781 2.4375 -5.09375 C 2.59375 -5.132812 2.769531 -5.15625 2.96875 -5.15625 C 3.351562 -5.15625 3.65625 -5.078125 3.875 -4.921875 C 4.101562 -4.773438 4.257812 -4.535156 4.34375 -4.203125 L 4.359375 -4.203125 C 4.429688 -4.347656 4.515625 -4.476562 4.609375 -4.59375 C 4.703125 -4.71875 4.8125 -4.820312 4.9375 -4.90625 C 5.0625 -4.988281 5.203125 -5.050781 5.359375 -5.09375 C 5.515625 -5.132812 5.691406 -5.15625 5.890625 -5.15625 C 6.148438 -5.15625 6.367188 -5.117188 6.546875 -5.046875 C 6.734375 -4.984375 6.882812 -4.878906 7 -4.734375 C 7.125 -4.597656 7.210938 -4.414062 7.265625 -4.1875 C 7.328125 -3.957031 7.359375 -3.6875 7.359375 -3.375 L 7.359375 0 L 6.53125 0 L 6.53125 -3.21875 C 6.53125 -3.457031 6.515625 -3.660156 6.484375 -3.828125 C 6.453125 -3.992188 6.398438 -4.128906 6.328125 -4.234375 C 6.253906 -4.335938 6.15625 -4.410156 6.03125 -4.453125 C 5.914062 -4.492188 5.769531 -4.515625 5.59375 -4.515625 C 5.414062 -4.515625 5.253906 -4.476562 5.109375 -4.40625 C 4.972656 -4.34375 4.851562 -4.242188 4.75 -4.109375 C 4.644531 -3.984375 4.566406 -3.820312 4.515625 -3.625 C 4.460938 -3.425781 4.4375 -3.195312 4.4375 -2.9375 L 4.4375 0 Z M 3.59375 0 \"/>\n",
       "</g>\n",
       "<g id=\"glyph-3-4\">\n",
       "<path d=\"M 0.640625 -6.140625 L 0.640625 -6.953125 L 1.484375 -6.953125 L 1.484375 -6.140625 Z M 0.640625 0 L 0.640625 -5.0625 L 1.484375 -5.0625 L 1.484375 0 Z M 0.640625 0 \"/>\n",
       "</g>\n",
       "<g id=\"glyph-3-5\">\n",
       "<path d=\"M 3.859375 0 L 3.859375 -3.21875 C 3.859375 -3.457031 3.835938 -3.660156 3.796875 -3.828125 C 3.765625 -3.992188 3.707031 -4.128906 3.625 -4.234375 C 3.550781 -4.335938 3.445312 -4.410156 3.3125 -4.453125 C 3.175781 -4.492188 3.007812 -4.515625 2.8125 -4.515625 C 2.613281 -4.515625 2.429688 -4.476562 2.265625 -4.40625 C 2.109375 -4.332031 1.972656 -4.226562 1.859375 -4.09375 C 1.753906 -3.96875 1.671875 -3.804688 1.609375 -3.609375 C 1.546875 -3.410156 1.515625 -3.1875 1.515625 -2.9375 L 1.515625 0 L 0.671875 0 L 0.671875 -3.984375 C 0.671875 -4.085938 0.664062 -4.195312 0.65625 -4.3125 C 0.65625 -4.4375 0.65625 -4.550781 0.65625 -4.65625 C 0.65625 -4.757812 0.648438 -4.847656 0.640625 -4.921875 C 0.640625 -4.992188 0.640625 -5.039062 0.640625 -5.0625 L 1.4375 -5.0625 C 1.4375 -5.050781 1.4375 -5.007812 1.4375 -4.9375 C 1.445312 -4.875 1.453125 -4.796875 1.453125 -4.703125 C 1.460938 -4.617188 1.46875 -4.53125 1.46875 -4.4375 C 1.46875 -4.34375 1.46875 -4.265625 1.46875 -4.203125 L 1.484375 -4.203125 C 1.566406 -4.347656 1.65625 -4.476562 1.75 -4.59375 C 1.84375 -4.71875 1.953125 -4.820312 2.078125 -4.90625 C 2.210938 -4.988281 2.363281 -5.050781 2.53125 -5.09375 C 2.695312 -5.132812 2.890625 -5.15625 3.109375 -5.15625 C 3.390625 -5.15625 3.628906 -5.117188 3.828125 -5.046875 C 4.035156 -4.984375 4.203125 -4.878906 4.328125 -4.734375 C 4.460938 -4.597656 4.5625 -4.414062 4.625 -4.1875 C 4.6875 -3.957031 4.71875 -3.6875 4.71875 -3.375 L 4.71875 0 Z M 3.859375 0 \"/>\n",
       "</g>\n",
       "<g id=\"glyph-3-6\">\n",
       "</g>\n",
       "<g id=\"glyph-3-7\">\n",
       "<path d=\"M 0.46875 -4.015625 L 0.46875 -4.703125 L 5.125 -4.703125 L 5.125 -4.015625 Z M 0.46875 -1.609375 L 0.46875 -2.3125 L 5.125 -2.3125 L 5.125 -1.609375 Z M 0.46875 -1.609375 \"/>\n",
       "</g>\n",
       "<g id=\"glyph-3-8\">\n",
       "<path d=\"M 0.734375 0 L 0.734375 -0.71875 L 2.40625 -0.71875 L 2.40625 -5.796875 L 0.921875 -4.734375 L 0.921875 -5.53125 L 2.484375 -6.59375 L 3.265625 -6.59375 L 3.265625 -0.71875 L 4.859375 -0.71875 L 4.859375 0 Z M 0.734375 0 \"/>\n",
       "</g>\n",
       "<g id=\"glyph-3-9\">\n",
       "<path d=\"M 4.859375 -5.921875 C 4.523438 -5.410156 4.21875 -4.921875 3.9375 -4.453125 C 3.65625 -3.984375 3.414062 -3.515625 3.21875 -3.046875 C 3.019531 -2.578125 2.863281 -2.09375 2.75 -1.59375 C 2.644531 -1.09375 2.59375 -0.5625 2.59375 0 L 1.703125 0 C 1.703125 -0.53125 1.765625 -1.046875 1.890625 -1.546875 C 2.015625 -2.054688 2.179688 -2.554688 2.390625 -3.046875 C 2.609375 -3.535156 2.859375 -4.015625 3.140625 -4.484375 C 3.421875 -4.953125 3.71875 -5.421875 4.03125 -5.890625 L 0.484375 -5.890625 L 0.484375 -6.59375 L 4.859375 -6.59375 Z M 4.859375 -5.921875 \"/>\n",
       "</g>\n",
       "</g>\n",
       "<clipPath id=\"clip-0\">\n",
       "<path clip-rule=\"nonzero\" d=\"M 435 59.039062 L 437 59.039062 L 437 430.558594 L 435 430.558594 Z M 435 59.039062 \"/>\n",
       "</clipPath>\n",
       "</defs>\n",
       "<rect x=\"-50.4\" y=\"-50.4\" width=\"604.8\" height=\"604.8\" fill=\"rgb(100%, 100%, 100%)\" fill-opacity=\"1\"/>\n",
       "<path fill=\"none\" stroke-width=\"0.75\" stroke-linecap=\"round\" stroke-linejoin=\"round\" stroke=\"rgb(100%, 0%, 0%)\" stroke-opacity=\"1\" stroke-miterlimit=\"10\" d=\"M 75.574219 79.902344 L 95.8125 202.335938 \"/>\n",
       "<path fill=\"none\" stroke-width=\"0.75\" stroke-linecap=\"round\" stroke-linejoin=\"round\" stroke=\"rgb(100%, 0%, 0%)\" stroke-opacity=\"1\" stroke-miterlimit=\"10\" d=\"M 98.644531 216.449219 L 117.921875 297.988281 \"/>\n",
       "<path fill=\"none\" stroke-width=\"0.75\" stroke-linecap=\"round\" stroke-linejoin=\"round\" stroke=\"rgb(100%, 0%, 0%)\" stroke-opacity=\"1\" stroke-miterlimit=\"10\" d=\"M 125.6875 308.800781 L 136.050781 315.25 \"/>\n",
       "<path fill=\"none\" stroke-width=\"0.75\" stroke-linecap=\"round\" stroke-linejoin=\"round\" stroke=\"rgb(100%, 0%, 0%)\" stroke-opacity=\"1\" stroke-miterlimit=\"10\" d=\"M 148.050781 323.199219 L 158.867188 330.8125 \"/>\n",
       "<path fill=\"none\" stroke-width=\"0.75\" stroke-linecap=\"round\" stroke-linejoin=\"round\" stroke=\"rgb(100%, 0%, 0%)\" stroke-opacity=\"1\" stroke-miterlimit=\"10\" d=\"M 171.277344 338.007812 L 180.816406 342.464844 \"/>\n",
       "<path fill=\"none\" stroke-width=\"0.75\" stroke-linecap=\"round\" stroke-linejoin=\"round\" stroke=\"rgb(100%, 0%, 0%)\" stroke-opacity=\"1\" stroke-miterlimit=\"10\" d=\"M 193.820312 348.65625 L 203.453125 353.332031 \"/>\n",
       "<path fill=\"none\" stroke-width=\"0.75\" stroke-linecap=\"round\" stroke-linejoin=\"round\" stroke=\"rgb(100%, 0%, 0%)\" stroke-opacity=\"1\" stroke-miterlimit=\"10\" d=\"M 216.800781 358.625 L 225.644531 361.386719 \"/>\n",
       "<path fill=\"none\" stroke-width=\"0.75\" stroke-linecap=\"round\" stroke-linejoin=\"round\" stroke=\"rgb(100%, 0%, 0%)\" stroke-opacity=\"1\" stroke-miterlimit=\"10\" d=\"M 238.074219 368.113281 L 249.546875 377.5625 \"/>\n",
       "<path fill=\"none\" stroke-width=\"0.75\" stroke-linecap=\"round\" stroke-linejoin=\"round\" stroke=\"rgb(100%, 0%, 0%)\" stroke-opacity=\"1\" stroke-miterlimit=\"10\" d=\"M 261.6875 385.058594 L 271.113281 389.234375 \"/>\n",
       "<path fill=\"none\" stroke-width=\"0.75\" stroke-linecap=\"round\" stroke-linejoin=\"round\" stroke=\"rgb(100%, 0%, 0%)\" stroke-opacity=\"1\" stroke-miterlimit=\"10\" d=\"M 284.183594 395.273438 L 293.792969 399.890625 \"/>\n",
       "<path fill=\"none\" stroke-width=\"0.75\" stroke-linecap=\"round\" stroke-linejoin=\"round\" stroke=\"rgb(100%, 0%, 0%)\" stroke-opacity=\"1\" stroke-miterlimit=\"10\" d=\"M 307.007812 405.582031 L 316.144531 409.074219 \"/>\n",
       "<path fill=\"none\" stroke-width=\"0.75\" stroke-linecap=\"round\" stroke-linejoin=\"round\" stroke=\"rgb(100%, 0%, 0%)\" stroke-opacity=\"1\" stroke-miterlimit=\"10\" d=\"M 330.066406 411.875 L 338.261719 412.140625 \"/>\n",
       "<path fill=\"none\" stroke-width=\"0.75\" stroke-linecap=\"round\" stroke-linejoin=\"round\" stroke=\"rgb(100%, 0%, 0%)\" stroke-opacity=\"1\" stroke-miterlimit=\"10\" d=\"M 352.65625 412.496094 L 360.847656 412.636719 \"/>\n",
       "<path fill=\"none\" stroke-width=\"0.75\" stroke-linecap=\"round\" stroke-linejoin=\"round\" stroke=\"rgb(100%, 0%, 0%)\" stroke-opacity=\"1\" stroke-miterlimit=\"10\" d=\"M 375.246094 412.929688 L 383.4375 413.121094 \"/>\n",
       "<path fill=\"none\" stroke-width=\"0.75\" stroke-linecap=\"round\" stroke-linejoin=\"round\" stroke=\"rgb(100%, 0%, 0%)\" stroke-opacity=\"1\" stroke-miterlimit=\"10\" d=\"M 397.746094 412.160156 L 406.113281 410.828125 \"/>\n",
       "<path fill=\"none\" stroke-width=\"0.75\" stroke-linecap=\"round\" stroke-linejoin=\"round\" stroke=\"rgb(100%, 0%, 0%)\" stroke-opacity=\"1\" stroke-miterlimit=\"10\" d=\"M 420.089844 411.855469 L 428.945312 414.640625 \"/>\n",
       "<path fill=\"none\" stroke-width=\"0.75\" stroke-linecap=\"round\" stroke-linejoin=\"round\" stroke=\"rgb(100%, 0%, 0%)\" stroke-opacity=\"1\" stroke-miterlimit=\"10\" d=\"M 442.859375 415.324219 L 451.351562 413.546875 \"/>\n",
       "<path fill-rule=\"nonzero\" fill=\"rgb(100%, 0%, 0%)\" fill-opacity=\"1\" d=\"M 71.699219 72.800781 L 74.398438 70.101562 L 77.101562 72.800781 L 74.398438 75.5 Z M 71.699219 72.800781 \"/>\n",
       "<path fill-rule=\"nonzero\" fill=\"rgb(100%, 0%, 0%)\" fill-opacity=\"1\" d=\"M 94.289062 209.441406 L 96.988281 206.742188 L 99.6875 209.441406 L 96.988281 212.140625 Z M 94.289062 209.441406 \"/>\n",
       "<path fill-rule=\"nonzero\" fill=\"rgb(100%, 0%, 0%)\" fill-opacity=\"1\" d=\"M 116.875 304.996094 L 119.578125 302.296875 L 122.277344 304.996094 L 119.578125 307.695312 Z M 116.875 304.996094 \"/>\n",
       "<path fill-rule=\"nonzero\" fill=\"rgb(100%, 0%, 0%)\" fill-opacity=\"1\" d=\"M 139.464844 319.054688 L 142.164062 316.355469 L 144.863281 319.054688 L 142.164062 321.753906 Z M 139.464844 319.054688 \"/>\n",
       "<path fill-rule=\"nonzero\" fill=\"rgb(100%, 0%, 0%)\" fill-opacity=\"1\" d=\"M 162.054688 334.960938 L 164.753906 332.257812 L 167.453125 334.960938 L 164.753906 337.660156 Z M 162.054688 334.960938 \"/>\n",
       "<path fill-rule=\"nonzero\" fill=\"rgb(100%, 0%, 0%)\" fill-opacity=\"1\" d=\"M 184.640625 345.515625 L 187.339844 342.8125 L 190.042969 345.515625 L 187.339844 348.214844 Z M 184.640625 345.515625 \"/>\n",
       "<path fill-rule=\"nonzero\" fill=\"rgb(100%, 0%, 0%)\" fill-opacity=\"1\" d=\"M 207.230469 356.476562 L 209.929688 353.777344 L 212.628906 356.476562 L 209.929688 359.175781 Z M 207.230469 356.476562 \"/>\n",
       "<path fill-rule=\"nonzero\" fill=\"rgb(100%, 0%, 0%)\" fill-opacity=\"1\" d=\"M 229.816406 363.535156 L 232.519531 360.835938 L 235.21875 363.535156 L 232.519531 366.234375 Z M 229.816406 363.535156 \"/>\n",
       "<path fill-rule=\"nonzero\" fill=\"rgb(100%, 0%, 0%)\" fill-opacity=\"1\" d=\"M 252.40625 382.140625 L 255.105469 379.441406 L 257.804688 382.140625 L 255.105469 384.839844 Z M 252.40625 382.140625 \"/>\n",
       "<path fill-rule=\"nonzero\" fill=\"rgb(100%, 0%, 0%)\" fill-opacity=\"1\" d=\"M 274.992188 392.152344 L 277.695312 389.453125 L 280.394531 392.152344 L 277.695312 394.851562 Z M 274.992188 392.152344 \"/>\n",
       "<path fill-rule=\"nonzero\" fill=\"rgb(100%, 0%, 0%)\" fill-opacity=\"1\" d=\"M 297.582031 403.011719 L 300.28125 400.3125 L 302.980469 403.011719 L 300.28125 405.710938 Z M 297.582031 403.011719 \"/>\n",
       "<path fill-rule=\"nonzero\" fill=\"rgb(100%, 0%, 0%)\" fill-opacity=\"1\" d=\"M 320.171875 411.644531 L 322.871094 408.941406 L 325.570312 411.644531 L 322.871094 414.34375 Z M 320.171875 411.644531 \"/>\n",
       "<path fill-rule=\"nonzero\" fill=\"rgb(100%, 0%, 0%)\" fill-opacity=\"1\" d=\"M 342.757812 412.375 L 345.457031 409.671875 L 348.160156 412.375 L 345.457031 415.074219 Z M 342.757812 412.375 \"/>\n",
       "<path fill-rule=\"nonzero\" fill=\"rgb(100%, 0%, 0%)\" fill-opacity=\"1\" d=\"M 365.347656 412.761719 L 368.046875 410.058594 L 370.746094 412.761719 L 368.046875 415.460938 Z M 365.347656 412.761719 \"/>\n",
       "<path fill-rule=\"nonzero\" fill=\"rgb(100%, 0%, 0%)\" fill-opacity=\"1\" d=\"M 387.933594 413.292969 L 390.636719 410.589844 L 393.335938 413.292969 L 390.636719 415.992188 Z M 387.933594 413.292969 \"/>\n",
       "<path fill-rule=\"nonzero\" fill=\"rgb(100%, 0%, 0%)\" fill-opacity=\"1\" d=\"M 410.523438 409.695312 L 413.222656 406.996094 L 415.921875 409.695312 L 413.222656 412.394531 Z M 410.523438 409.695312 \"/>\n",
       "<path fill-rule=\"nonzero\" fill=\"rgb(100%, 0%, 0%)\" fill-opacity=\"1\" d=\"M 433.113281 416.800781 L 435.8125 414.101562 L 438.511719 416.800781 L 435.8125 419.5 Z M 433.113281 416.800781 \"/>\n",
       "<path fill-rule=\"nonzero\" fill=\"rgb(100%, 0%, 0%)\" fill-opacity=\"1\" d=\"M 455.699219 412.070312 L 458.398438 409.371094 L 461.101562 412.070312 L 458.398438 414.769531 Z M 455.699219 412.070312 \"/>\n",
       "<path fill=\"none\" stroke-width=\"0.75\" stroke-linecap=\"round\" stroke-linejoin=\"round\" stroke=\"rgb(0%, 0%, 0%)\" stroke-opacity=\"1\" stroke-miterlimit=\"10\" d=\"M 164.753906 430.558594 L 390.636719 430.558594 \"/>\n",
       "<path fill=\"none\" stroke-width=\"0.75\" stroke-linecap=\"round\" stroke-linejoin=\"round\" stroke=\"rgb(0%, 0%, 0%)\" stroke-opacity=\"1\" stroke-miterlimit=\"10\" d=\"M 164.753906 430.558594 L 164.753906 437.761719 \"/>\n",
       "<path fill=\"none\" stroke-width=\"0.75\" stroke-linecap=\"round\" stroke-linejoin=\"round\" stroke=\"rgb(0%, 0%, 0%)\" stroke-opacity=\"1\" stroke-miterlimit=\"10\" d=\"M 277.695312 430.558594 L 277.695312 437.761719 \"/>\n",
       "<path fill=\"none\" stroke-width=\"0.75\" stroke-linecap=\"round\" stroke-linejoin=\"round\" stroke=\"rgb(0%, 0%, 0%)\" stroke-opacity=\"1\" stroke-miterlimit=\"10\" d=\"M 390.636719 430.558594 L 390.636719 437.761719 \"/>\n",
       "<g fill=\"rgb(0%, 0%, 0%)\" fill-opacity=\"1\">\n",
       "<use xlink:href=\"#glyph-0-0\" x=\"161.253906\" y=\"456.34375\"/>\n",
       "</g>\n",
       "<g fill=\"rgb(0%, 0%, 0%)\" fill-opacity=\"1\">\n",
       "<use xlink:href=\"#glyph-0-1\" x=\"270.695312\" y=\"456.34375\"/>\n",
       "<use xlink:href=\"#glyph-0-2\" x=\"277.695312\" y=\"456.34375\"/>\n",
       "</g>\n",
       "<g fill=\"rgb(0%, 0%, 0%)\" fill-opacity=\"1\">\n",
       "<use xlink:href=\"#glyph-0-1\" x=\"383.636719\" y=\"456.34375\"/>\n",
       "<use xlink:href=\"#glyph-0-0\" x=\"390.636719\" y=\"456.34375\"/>\n",
       "</g>\n",
       "<path fill=\"none\" stroke-width=\"0.75\" stroke-linecap=\"round\" stroke-linejoin=\"round\" stroke=\"rgb(0%, 0%, 0%)\" stroke-opacity=\"1\" stroke-miterlimit=\"10\" d=\"M 59.039062 409.195312 L 59.039062 64.417969 \"/>\n",
       "<path fill=\"none\" stroke-width=\"0.75\" stroke-linecap=\"round\" stroke-linejoin=\"round\" stroke=\"rgb(0%, 0%, 0%)\" stroke-opacity=\"1\" stroke-miterlimit=\"10\" d=\"M 59.039062 409.195312 L 51.839844 409.195312 \"/>\n",
       "<path fill=\"none\" stroke-width=\"0.75\" stroke-linecap=\"round\" stroke-linejoin=\"round\" stroke=\"rgb(0%, 0%, 0%)\" stroke-opacity=\"1\" stroke-miterlimit=\"10\" d=\"M 59.039062 351.734375 L 51.839844 351.734375 \"/>\n",
       "<path fill=\"none\" stroke-width=\"0.75\" stroke-linecap=\"round\" stroke-linejoin=\"round\" stroke=\"rgb(0%, 0%, 0%)\" stroke-opacity=\"1\" stroke-miterlimit=\"10\" d=\"M 59.039062 294.269531 L 51.839844 294.269531 \"/>\n",
       "<path fill=\"none\" stroke-width=\"0.75\" stroke-linecap=\"round\" stroke-linejoin=\"round\" stroke=\"rgb(0%, 0%, 0%)\" stroke-opacity=\"1\" stroke-miterlimit=\"10\" d=\"M 59.039062 236.808594 L 51.839844 236.808594 \"/>\n",
       "<path fill=\"none\" stroke-width=\"0.75\" stroke-linecap=\"round\" stroke-linejoin=\"round\" stroke=\"rgb(0%, 0%, 0%)\" stroke-opacity=\"1\" stroke-miterlimit=\"10\" d=\"M 59.039062 179.34375 L 51.839844 179.34375 \"/>\n",
       "<path fill=\"none\" stroke-width=\"0.75\" stroke-linecap=\"round\" stroke-linejoin=\"round\" stroke=\"rgb(0%, 0%, 0%)\" stroke-opacity=\"1\" stroke-miterlimit=\"10\" d=\"M 59.039062 121.878906 L 51.839844 121.878906 \"/>\n",
       "<path fill=\"none\" stroke-width=\"0.75\" stroke-linecap=\"round\" stroke-linejoin=\"round\" stroke=\"rgb(0%, 0%, 0%)\" stroke-opacity=\"1\" stroke-miterlimit=\"10\" d=\"M 59.039062 64.417969 L 51.839844 64.417969 \"/>\n",
       "<g fill=\"rgb(0%, 0%, 0%)\" fill-opacity=\"1\">\n",
       "<use xlink:href=\"#glyph-1-0\" x=\"41.625\" y=\"416.195312\"/>\n",
       "<use xlink:href=\"#glyph-1-1\" x=\"41.625\" y=\"409.195312\"/>\n",
       "</g>\n",
       "<g fill=\"rgb(0%, 0%, 0%)\" fill-opacity=\"1\">\n",
       "<use xlink:href=\"#glyph-1-2\" x=\"41.625\" y=\"358.734375\"/>\n",
       "<use xlink:href=\"#glyph-1-1\" x=\"41.625\" y=\"351.734375\"/>\n",
       "</g>\n",
       "<g fill=\"rgb(0%, 0%, 0%)\" fill-opacity=\"1\">\n",
       "<use xlink:href=\"#glyph-1-3\" x=\"41.625\" y=\"301.269531\"/>\n",
       "<use xlink:href=\"#glyph-1-1\" x=\"41.625\" y=\"294.269531\"/>\n",
       "</g>\n",
       "<g fill=\"rgb(0%, 0%, 0%)\" fill-opacity=\"1\">\n",
       "<use xlink:href=\"#glyph-1-4\" x=\"41.625\" y=\"243.808594\"/>\n",
       "<use xlink:href=\"#glyph-1-1\" x=\"41.625\" y=\"236.808594\"/>\n",
       "</g>\n",
       "<g fill=\"rgb(0%, 0%, 0%)\" fill-opacity=\"1\">\n",
       "<use xlink:href=\"#glyph-1-5\" x=\"41.625\" y=\"189.84375\"/>\n",
       "<use xlink:href=\"#glyph-1-1\" x=\"41.625\" y=\"182.84375\"/>\n",
       "<use xlink:href=\"#glyph-1-1\" x=\"41.625\" y=\"175.84375\"/>\n",
       "</g>\n",
       "<g fill=\"rgb(0%, 0%, 0%)\" fill-opacity=\"1\">\n",
       "<use xlink:href=\"#glyph-1-5\" x=\"41.625\" y=\"132.378906\"/>\n",
       "<use xlink:href=\"#glyph-1-0\" x=\"41.625\" y=\"125.378906\"/>\n",
       "<use xlink:href=\"#glyph-1-1\" x=\"41.625\" y=\"118.378906\"/>\n",
       "</g>\n",
       "<g fill=\"rgb(0%, 0%, 0%)\" fill-opacity=\"1\">\n",
       "<use xlink:href=\"#glyph-1-5\" x=\"41.625\" y=\"74.917969\"/>\n",
       "<use xlink:href=\"#glyph-1-2\" x=\"41.625\" y=\"67.917969\"/>\n",
       "<use xlink:href=\"#glyph-1-1\" x=\"41.625\" y=\"60.917969\"/>\n",
       "</g>\n",
       "<path fill=\"none\" stroke-width=\"0.75\" stroke-linecap=\"round\" stroke-linejoin=\"round\" stroke=\"rgb(0%, 0%, 0%)\" stroke-opacity=\"1\" stroke-miterlimit=\"10\" d=\"M 59.039062 430.558594 L 473.761719 430.558594 L 473.761719 59.039062 L 59.039062 59.039062 Z M 59.039062 430.558594 \"/>\n",
       "<g fill=\"rgb(0%, 0%, 0%)\" fill-opacity=\"1\">\n",
       "<use xlink:href=\"#glyph-2-0\" x=\"182.398438\" y=\"33.554688\"/>\n",
       "<use xlink:href=\"#glyph-2-1\" x=\"192.398438\" y=\"33.554688\"/>\n",
       "<use xlink:href=\"#glyph-2-2\" x=\"201.398438\" y=\"33.554688\"/>\n",
       "<use xlink:href=\"#glyph-2-3\" x=\"205.398438\" y=\"33.554688\"/>\n",
       "<use xlink:href=\"#glyph-2-4\" x=\"210.398438\" y=\"33.554688\"/>\n",
       "<use xlink:href=\"#glyph-2-5\" x=\"219.398438\" y=\"33.554688\"/>\n",
       "<use xlink:href=\"#glyph-2-2\" x=\"225.398438\" y=\"33.554688\"/>\n",
       "<use xlink:href=\"#glyph-2-3\" x=\"229.398438\" y=\"33.554688\"/>\n",
       "<use xlink:href=\"#glyph-2-4\" x=\"234.398438\" y=\"33.554688\"/>\n",
       "<use xlink:href=\"#glyph-2-5\" x=\"243.398438\" y=\"33.554688\"/>\n",
       "<use xlink:href=\"#glyph-2-6\" x=\"249.398438\" y=\"33.554688\"/>\n",
       "<use xlink:href=\"#glyph-2-7\" x=\"260.398438\" y=\"33.554688\"/>\n",
       "<use xlink:href=\"#glyph-2-5\" x=\"268.398438\" y=\"33.554688\"/>\n",
       "<use xlink:href=\"#glyph-2-8\" x=\"274.398438\" y=\"33.554688\"/>\n",
       "<use xlink:href=\"#glyph-2-2\" x=\"283.398438\" y=\"33.554688\"/>\n",
       "<use xlink:href=\"#glyph-2-9\" x=\"287.398438\" y=\"33.554688\"/>\n",
       "<use xlink:href=\"#glyph-2-10\" x=\"295.398438\" y=\"33.554688\"/>\n",
       "<use xlink:href=\"#glyph-2-11\" x=\"303.398438\" y=\"33.554688\"/>\n",
       "<use xlink:href=\"#glyph-2-10\" x=\"307.398438\" y=\"33.554688\"/>\n",
       "<use xlink:href=\"#glyph-2-12\" x=\"315.398438\" y=\"33.554688\"/>\n",
       "<use xlink:href=\"#glyph-2-13\" x=\"323.398438\" y=\"33.554688\"/>\n",
       "<use xlink:href=\"#glyph-2-14\" x=\"328.398438\" y=\"33.554688\"/>\n",
       "<use xlink:href=\"#glyph-2-4\" x=\"332.398438\" y=\"33.554688\"/>\n",
       "<use xlink:href=\"#glyph-2-15\" x=\"341.398438\" y=\"33.554688\"/>\n",
       "</g>\n",
       "<g fill=\"rgb(0%, 0%, 0%)\" fill-opacity=\"1\">\n",
       "<use xlink:href=\"#glyph-0-3\" x=\"195.898438\" y=\"485.144531\"/>\n",
       "<use xlink:href=\"#glyph-0-4\" x=\"204.898438\" y=\"485.144531\"/>\n",
       "<use xlink:href=\"#glyph-0-5\" x=\"211.898438\" y=\"485.144531\"/>\n",
       "<use xlink:href=\"#glyph-0-6\" x=\"221.898438\" y=\"485.144531\"/>\n",
       "<use xlink:href=\"#glyph-0-7\" x=\"228.898438\" y=\"485.144531\"/>\n",
       "<use xlink:href=\"#glyph-0-8\" x=\"235.898438\" y=\"485.144531\"/>\n",
       "<use xlink:href=\"#glyph-0-9\" x=\"239.898438\" y=\"485.144531\"/>\n",
       "<use xlink:href=\"#glyph-0-10\" x=\"242.898438\" y=\"485.144531\"/>\n",
       "<use xlink:href=\"#glyph-0-11\" x=\"249.898438\" y=\"485.144531\"/>\n",
       "<use xlink:href=\"#glyph-0-9\" x=\"252.898438\" y=\"485.144531\"/>\n",
       "<use xlink:href=\"#glyph-0-12\" x=\"255.898438\" y=\"485.144531\"/>\n",
       "<use xlink:href=\"#glyph-0-13\" x=\"258.898438\" y=\"485.144531\"/>\n",
       "<use xlink:href=\"#glyph-0-14\" x=\"265.898438\" y=\"485.144531\"/>\n",
       "<use xlink:href=\"#glyph-0-4\" x=\"272.898438\" y=\"485.144531\"/>\n",
       "<use xlink:href=\"#glyph-0-15\" x=\"279.898438\" y=\"485.144531\"/>\n",
       "<use xlink:href=\"#glyph-0-9\" x=\"282.898438\" y=\"485.144531\"/>\n",
       "<use xlink:href=\"#glyph-0-16\" x=\"285.898438\" y=\"485.144531\"/>\n",
       "<use xlink:href=\"#glyph-0-17\" x=\"292.898438\" y=\"485.144531\"/>\n",
       "<use xlink:href=\"#glyph-0-8\" x=\"299.898438\" y=\"485.144531\"/>\n",
       "<use xlink:href=\"#glyph-0-18\" x=\"303.898438\" y=\"485.144531\"/>\n",
       "<use xlink:href=\"#glyph-0-17\" x=\"306.898438\" y=\"485.144531\"/>\n",
       "<use xlink:href=\"#glyph-0-6\" x=\"313.898438\" y=\"485.144531\"/>\n",
       "<use xlink:href=\"#glyph-0-19\" x=\"320.898438\" y=\"485.144531\"/>\n",
       "<use xlink:href=\"#glyph-0-7\" x=\"323.898438\" y=\"485.144531\"/>\n",
       "<use xlink:href=\"#glyph-0-20\" x=\"330.898438\" y=\"485.144531\"/>\n",
       "</g>\n",
       "<g fill=\"rgb(0%, 0%, 0%)\" fill-opacity=\"1\">\n",
       "<use xlink:href=\"#glyph-1-6\" x=\"12.824219\" y=\"255.800781\"/>\n",
       "<use xlink:href=\"#glyph-1-7\" x=\"12.824219\" y=\"246.800781\"/>\n",
       "<use xlink:href=\"#glyph-1-8\" x=\"12.824219\" y=\"240.800781\"/>\n",
       "</g>\n",
       "<g clip-path=\"url(#clip-0)\">\n",
       "<path fill=\"none\" stroke-width=\"0.75\" stroke-linecap=\"round\" stroke-linejoin=\"round\" stroke=\"rgb(0%, 0%, 100%)\" stroke-opacity=\"1\" stroke-dasharray=\"3 3\" stroke-miterlimit=\"10\" d=\"M 435.8125 430.558594 L 435.8125 59.039062 \"/>\n",
       "</g>\n",
       "<g fill=\"rgb(0%, 0%, 100%)\" fill-opacity=\"1\">\n",
       "<use xlink:href=\"#glyph-3-0\" x=\"373.613281\" y=\"74.822266\"/>\n",
       "<use xlink:href=\"#glyph-3-1\" x=\"378.613281\" y=\"74.822266\"/>\n",
       "<use xlink:href=\"#glyph-3-2\" x=\"383.613281\" y=\"74.822266\"/>\n",
       "<use xlink:href=\"#glyph-3-3\" x=\"388.613281\" y=\"74.822266\"/>\n",
       "<use xlink:href=\"#glyph-3-4\" x=\"396.613281\" y=\"74.822266\"/>\n",
       "<use xlink:href=\"#glyph-3-5\" x=\"398.613281\" y=\"74.822266\"/>\n",
       "<use xlink:href=\"#glyph-3-6\" x=\"403.613281\" y=\"74.822266\"/>\n",
       "<use xlink:href=\"#glyph-3-7\" x=\"406.613281\" y=\"74.822266\"/>\n",
       "<use xlink:href=\"#glyph-3-6\" x=\"412.613281\" y=\"74.822266\"/>\n",
       "<use xlink:href=\"#glyph-3-6\" x=\"415.613281\" y=\"74.822266\"/>\n",
       "<use xlink:href=\"#glyph-3-8\" x=\"418.613281\" y=\"74.822266\"/>\n",
       "<use xlink:href=\"#glyph-3-9\" x=\"423.613281\" y=\"74.822266\"/>\n",
       "</g>\n",
       "</svg>\n"
      ],
      "text/plain": [
       "Plot with title “Cp for forward selection”"
      ]
     },
     "metadata": {
      "application/pdf": {
       "height": 420,
       "width": 420
      },
      "image/jpeg": {
       "height": 420,
       "width": 420
      },
      "image/png": {
       "height": 420,
       "width": 420
      },
      "image/svg+xml": {
       "height": 420,
       "isolated": true,
       "width": 420
      }
     },
     "output_type": "display_data"
    }
   ],
   "source": [
    "plot(summary(forward_sel)$cp,\n",
    "     main = \"Cp for forward selection\",\n",
    "     xlab = \"Number of Input Variables\", \n",
    "     ylab = \"Rsq\",\n",
    "     type = \"b\",\n",
    "     pch = 18,\n",
    "     col = \"red\"\n",
    ")\n",
    "abline(v = cp_min, col = \"blue\", lty = 2)\n",
    "text(cp_min, max(summary(forward_sel)$cp), \n",
    "     labels = paste(\"cp_min = \", round(cp_min, 2)), \n",
    "     pos = 2,  # Position to the right of the line\n",
    "     col = \"blue\", \n",
    "     cex = 0.8)"
   ]
  },
  {
   "cell_type": "code",
   "execution_count": 67,
   "metadata": {},
   "outputs": [
    {
     "data": {
      "text/html": [
       "<style>\n",
       ".list-inline {list-style: none; margin:0; padding: 0}\n",
       ".list-inline>li {display: inline-block}\n",
       ".list-inline>li:not(:last-child)::after {content: \"\\00b7\"; padding: 0 .5ex}\n",
       "</style>\n",
       "<ol class=list-inline><li>455</li><li>18</li></ol>\n"
      ],
      "text/latex": [
       "\\begin{enumerate*}\n",
       "\\item 455\n",
       "\\item 18\n",
       "\\end{enumerate*}\n"
      ],
      "text/markdown": [
       "1. 455\n",
       "2. 18\n",
       "\n",
       "\n"
      ],
      "text/plain": [
       "[1] 455  18"
      ]
     },
     "metadata": {},
     "output_type": "display_data"
    },
    {
     "data": {
      "text/html": [
       "<table class=\"dataframe\">\n",
       "<caption>A data.frame: 6 × 18</caption>\n",
       "<thead>\n",
       "\t<tr><th></th><th scope=col>experience_levelEX</th><th scope=col>experience_levelMI</th><th scope=col>experience_levelSE</th><th scope=col>employment_typeFL</th><th scope=col>employment_typeFT</th><th scope=col>employment_typePT</th><th scope=col>remote_ratio</th><th scope=col>company_sizeM</th><th scope=col>company_sizeS</th><th scope=col>contasia</th><th scope=col>contno_am</th><th scope=col>contoce</th><th scope=col>contso_am</th><th scope=col>fieldData Engineering</th><th scope=col>fieldData Science</th><th scope=col>fieldMachine Learning</th><th scope=col>fieldOther</th><th scope=col>salary_in_usd</th></tr>\n",
       "\t<tr><th></th><th scope=col>&lt;dbl&gt;</th><th scope=col>&lt;dbl&gt;</th><th scope=col>&lt;dbl&gt;</th><th scope=col>&lt;dbl&gt;</th><th scope=col>&lt;dbl&gt;</th><th scope=col>&lt;dbl&gt;</th><th scope=col>&lt;dbl&gt;</th><th scope=col>&lt;dbl&gt;</th><th scope=col>&lt;dbl&gt;</th><th scope=col>&lt;dbl&gt;</th><th scope=col>&lt;dbl&gt;</th><th scope=col>&lt;dbl&gt;</th><th scope=col>&lt;dbl&gt;</th><th scope=col>&lt;dbl&gt;</th><th scope=col>&lt;dbl&gt;</th><th scope=col>&lt;dbl&gt;</th><th scope=col>&lt;dbl&gt;</th><th scope=col>&lt;dbl&gt;</th></tr>\n",
       "</thead>\n",
       "<tbody>\n",
       "\t<tr><th scope=row>1</th><td>0</td><td>0</td><td>1</td><td>0</td><td>1</td><td>0</td><td>100</td><td>0</td><td>0</td><td>0</td><td>1</td><td>0</td><td>0</td><td>0</td><td>0</td><td>0</td><td>0</td><td>140000</td></tr>\n",
       "\t<tr><th scope=row>2</th><td>0</td><td>0</td><td>1</td><td>0</td><td>1</td><td>0</td><td>100</td><td>1</td><td>0</td><td>0</td><td>1</td><td>0</td><td>0</td><td>0</td><td>1</td><td>0</td><td>0</td><td>140000</td></tr>\n",
       "\t<tr><th scope=row>3</th><td>0</td><td>1</td><td>0</td><td>0</td><td>1</td><td>0</td><td>100</td><td>0</td><td>0</td><td>0</td><td>1</td><td>0</td><td>0</td><td>0</td><td>0</td><td>0</td><td>0</td><td>135000</td></tr>\n",
       "\t<tr><th scope=row>4</th><td>0</td><td>1</td><td>0</td><td>0</td><td>1</td><td>0</td><td> 50</td><td>0</td><td>0</td><td>0</td><td>1</td><td>0</td><td>0</td><td>0</td><td>1</td><td>0</td><td>0</td><td>130000</td></tr>\n",
       "\t<tr><th scope=row>5</th><td>0</td><td>1</td><td>0</td><td>0</td><td>1</td><td>0</td><td>  0</td><td>1</td><td>0</td><td>0</td><td>0</td><td>0</td><td>0</td><td>0</td><td>1</td><td>0</td><td>0</td><td> 39263</td></tr>\n",
       "\t<tr><th scope=row>6</th><td>0</td><td>0</td><td>1</td><td>0</td><td>1</td><td>0</td><td>  0</td><td>1</td><td>0</td><td>0</td><td>1</td><td>0</td><td>0</td><td>0</td><td>1</td><td>0</td><td>0</td><td>205300</td></tr>\n",
       "</tbody>\n",
       "</table>\n"
      ],
      "text/latex": [
       "A data.frame: 6 × 18\n",
       "\\begin{tabular}{r|llllllllllllllllll}\n",
       "  & experience\\_levelEX & experience\\_levelMI & experience\\_levelSE & employment\\_typeFL & employment\\_typeFT & employment\\_typePT & remote\\_ratio & company\\_sizeM & company\\_sizeS & contasia & contno\\_am & contoce & contso\\_am & fieldData Engineering & fieldData Science & fieldMachine Learning & fieldOther & salary\\_in\\_usd\\\\\n",
       "  & <dbl> & <dbl> & <dbl> & <dbl> & <dbl> & <dbl> & <dbl> & <dbl> & <dbl> & <dbl> & <dbl> & <dbl> & <dbl> & <dbl> & <dbl> & <dbl> & <dbl> & <dbl>\\\\\n",
       "\\hline\n",
       "\t1 & 0 & 0 & 1 & 0 & 1 & 0 & 100 & 0 & 0 & 0 & 1 & 0 & 0 & 0 & 0 & 0 & 0 & 140000\\\\\n",
       "\t2 & 0 & 0 & 1 & 0 & 1 & 0 & 100 & 1 & 0 & 0 & 1 & 0 & 0 & 0 & 1 & 0 & 0 & 140000\\\\\n",
       "\t3 & 0 & 1 & 0 & 0 & 1 & 0 & 100 & 0 & 0 & 0 & 1 & 0 & 0 & 0 & 0 & 0 & 0 & 135000\\\\\n",
       "\t4 & 0 & 1 & 0 & 0 & 1 & 0 &  50 & 0 & 0 & 0 & 1 & 0 & 0 & 0 & 1 & 0 & 0 & 130000\\\\\n",
       "\t5 & 0 & 1 & 0 & 0 & 1 & 0 &   0 & 1 & 0 & 0 & 0 & 0 & 0 & 0 & 1 & 0 & 0 &  39263\\\\\n",
       "\t6 & 0 & 0 & 1 & 0 & 1 & 0 &   0 & 1 & 0 & 0 & 1 & 0 & 0 & 0 & 1 & 0 & 0 & 205300\\\\\n",
       "\\end{tabular}\n"
      ],
      "text/markdown": [
       "\n",
       "A data.frame: 6 × 18\n",
       "\n",
       "| <!--/--> | experience_levelEX &lt;dbl&gt; | experience_levelMI &lt;dbl&gt; | experience_levelSE &lt;dbl&gt; | employment_typeFL &lt;dbl&gt; | employment_typeFT &lt;dbl&gt; | employment_typePT &lt;dbl&gt; | remote_ratio &lt;dbl&gt; | company_sizeM &lt;dbl&gt; | company_sizeS &lt;dbl&gt; | contasia &lt;dbl&gt; | contno_am &lt;dbl&gt; | contoce &lt;dbl&gt; | contso_am &lt;dbl&gt; | fieldData Engineering &lt;dbl&gt; | fieldData Science &lt;dbl&gt; | fieldMachine Learning &lt;dbl&gt; | fieldOther &lt;dbl&gt; | salary_in_usd &lt;dbl&gt; |\n",
       "|---|---|---|---|---|---|---|---|---|---|---|---|---|---|---|---|---|---|---|\n",
       "| 1 | 0 | 0 | 1 | 0 | 1 | 0 | 100 | 0 | 0 | 0 | 1 | 0 | 0 | 0 | 0 | 0 | 0 | 140000 |\n",
       "| 2 | 0 | 0 | 1 | 0 | 1 | 0 | 100 | 1 | 0 | 0 | 1 | 0 | 0 | 0 | 1 | 0 | 0 | 140000 |\n",
       "| 3 | 0 | 1 | 0 | 0 | 1 | 0 | 100 | 0 | 0 | 0 | 1 | 0 | 0 | 0 | 0 | 0 | 0 | 135000 |\n",
       "| 4 | 0 | 1 | 0 | 0 | 1 | 0 |  50 | 0 | 0 | 0 | 1 | 0 | 0 | 0 | 1 | 0 | 0 | 130000 |\n",
       "| 5 | 0 | 1 | 0 | 0 | 1 | 0 |   0 | 1 | 0 | 0 | 0 | 0 | 0 | 0 | 1 | 0 | 0 |  39263 |\n",
       "| 6 | 0 | 0 | 1 | 0 | 1 | 0 |   0 | 1 | 0 | 0 | 1 | 0 | 0 | 0 | 1 | 0 | 0 | 205300 |\n",
       "\n"
      ],
      "text/plain": [
       "  experience_levelEX experience_levelMI experience_levelSE employment_typeFL\n",
       "1 0                  0                  1                  0                \n",
       "2 0                  0                  1                  0                \n",
       "3 0                  1                  0                  0                \n",
       "4 0                  1                  0                  0                \n",
       "5 0                  1                  0                  0                \n",
       "6 0                  0                  1                  0                \n",
       "  employment_typeFT employment_typePT remote_ratio company_sizeM company_sizeS\n",
       "1 1                 0                 100          0             0            \n",
       "2 1                 0                 100          1             0            \n",
       "3 1                 0                 100          0             0            \n",
       "4 1                 0                  50          0             0            \n",
       "5 1                 0                   0          1             0            \n",
       "6 1                 0                   0          1             0            \n",
       "  contasia contno_am contoce contso_am fieldData Engineering fieldData Science\n",
       "1 0        1         0       0         0                     0                \n",
       "2 0        1         0       0         0                     1                \n",
       "3 0        1         0       0         0                     0                \n",
       "4 0        1         0       0         0                     1                \n",
       "5 0        0         0       0         0                     1                \n",
       "6 0        1         0       0         0                     1                \n",
       "  fieldMachine Learning fieldOther salary_in_usd\n",
       "1 0                     0          140000       \n",
       "2 0                     0          140000       \n",
       "3 0                     0          135000       \n",
       "4 0                     0          130000       \n",
       "5 0                     0           39263       \n",
       "6 0                     0          205300       "
      ]
     },
     "metadata": {},
     "output_type": "display_data"
    }
   ],
   "source": [
    "# Configuring the training data matrix\n",
    "# Remove intercept column (first column in the matrix)\n",
    "train_no_int <- model_matrix[, -1]\n",
    "training_subset <- as.data.frame(train_no_int) %>%\n",
    "    bind_cols(salary_in_usd = train_data$salary_in_usd) %>%\n",
    "    select(all_of(selected_var), salary_in_usd)\n",
    "dim(training_subset)\n",
    "head(training_subset)"
   ]
  },
  {
   "cell_type": "code",
   "execution_count": 48,
   "metadata": {},
   "outputs": [],
   "source": [
    "# Fitting the reduced OLS using variables selected\n",
    "forward_OLS <- lm(salary_in_usd ~ ., data = training_subset)"
   ]
  },
  {
   "cell_type": "code",
   "execution_count": 51,
   "metadata": {},
   "outputs": [
    {
     "data": {
      "text/html": [
       "<style>\n",
       ".list-inline {list-style: none; margin:0; padding: 0}\n",
       ".list-inline>li {display: inline-block}\n",
       ".list-inline>li:not(:last-child)::after {content: \"\\00b7\"; padding: 0 .5ex}\n",
       "</style>\n",
       "<ol class=list-inline><li>152</li><li>18</li></ol>\n"
      ],
      "text/latex": [
       "\\begin{enumerate*}\n",
       "\\item 152\n",
       "\\item 18\n",
       "\\end{enumerate*}\n"
      ],
      "text/markdown": [
       "1. 152\n",
       "2. 18\n",
       "\n",
       "\n"
      ],
      "text/plain": [
       "[1] 152  18"
      ]
     },
     "metadata": {},
     "output_type": "display_data"
    },
    {
     "data": {
      "text/html": [
       "<table class=\"dataframe\">\n",
       "<caption>A data.frame: 6 × 18</caption>\n",
       "<thead>\n",
       "\t<tr><th></th><th scope=col>experience_levelEX</th><th scope=col>experience_levelMI</th><th scope=col>experience_levelSE</th><th scope=col>employment_typeFL</th><th scope=col>employment_typeFT</th><th scope=col>employment_typePT</th><th scope=col>remote_ratio</th><th scope=col>company_sizeM</th><th scope=col>company_sizeS</th><th scope=col>contasia</th><th scope=col>contno_am</th><th scope=col>contoce</th><th scope=col>contso_am</th><th scope=col>fieldData Engineering</th><th scope=col>fieldData Science</th><th scope=col>fieldMachine Learning</th><th scope=col>fieldOther</th><th scope=col>salary_in_usd</th></tr>\n",
       "\t<tr><th></th><th scope=col>&lt;dbl&gt;</th><th scope=col>&lt;dbl&gt;</th><th scope=col>&lt;dbl&gt;</th><th scope=col>&lt;dbl&gt;</th><th scope=col>&lt;dbl&gt;</th><th scope=col>&lt;dbl&gt;</th><th scope=col>&lt;dbl&gt;</th><th scope=col>&lt;dbl&gt;</th><th scope=col>&lt;dbl&gt;</th><th scope=col>&lt;dbl&gt;</th><th scope=col>&lt;dbl&gt;</th><th scope=col>&lt;dbl&gt;</th><th scope=col>&lt;dbl&gt;</th><th scope=col>&lt;dbl&gt;</th><th scope=col>&lt;dbl&gt;</th><th scope=col>&lt;dbl&gt;</th><th scope=col>&lt;dbl&gt;</th><th scope=col>&lt;dbl&gt;</th></tr>\n",
       "</thead>\n",
       "<tbody>\n",
       "\t<tr><th scope=row>1</th><td>0</td><td>0</td><td>1</td><td>0</td><td>1</td><td>0</td><td>  0</td><td>0</td><td>1</td><td>1</td><td>0</td><td>0</td><td>0</td><td>0</td><td>0</td><td>1</td><td>0</td><td>260000</td></tr>\n",
       "\t<tr><th scope=row>2</th><td>0</td><td>1</td><td>0</td><td>0</td><td>1</td><td>0</td><td>  0</td><td>0</td><td>1</td><td>0</td><td>1</td><td>0</td><td>0</td><td>0</td><td>0</td><td>0</td><td>0</td><td> 20000</td></tr>\n",
       "\t<tr><th scope=row>3</th><td>0</td><td>0</td><td>0</td><td>0</td><td>1</td><td>0</td><td>100</td><td>0</td><td>0</td><td>0</td><td>1</td><td>0</td><td>0</td><td>0</td><td>0</td><td>0</td><td>0</td><td> 72000</td></tr>\n",
       "\t<tr><th scope=row>4</th><td>0</td><td>1</td><td>0</td><td>0</td><td>1</td><td>0</td><td> 50</td><td>0</td><td>0</td><td>0</td><td>0</td><td>0</td><td>0</td><td>0</td><td>1</td><td>0</td><td>0</td><td> 35735</td></tr>\n",
       "\t<tr><th scope=row>5</th><td>0</td><td>1</td><td>0</td><td>0</td><td>1</td><td>0</td><td>100</td><td>0</td><td>0</td><td>0</td><td>1</td><td>0</td><td>0</td><td>0</td><td>0</td><td>0</td><td>0</td><td> 87000</td></tr>\n",
       "\t<tr><th scope=row>6</th><td>0</td><td>0</td><td>0</td><td>0</td><td>1</td><td>0</td><td>100</td><td>0</td><td>1</td><td>1</td><td>0</td><td>0</td><td>0</td><td>1</td><td>0</td><td>0</td><td>0</td><td> 41689</td></tr>\n",
       "</tbody>\n",
       "</table>\n"
      ],
      "text/latex": [
       "A data.frame: 6 × 18\n",
       "\\begin{tabular}{r|llllllllllllllllll}\n",
       "  & experience\\_levelEX & experience\\_levelMI & experience\\_levelSE & employment\\_typeFL & employment\\_typeFT & employment\\_typePT & remote\\_ratio & company\\_sizeM & company\\_sizeS & contasia & contno\\_am & contoce & contso\\_am & fieldData Engineering & fieldData Science & fieldMachine Learning & fieldOther & salary\\_in\\_usd\\\\\n",
       "  & <dbl> & <dbl> & <dbl> & <dbl> & <dbl> & <dbl> & <dbl> & <dbl> & <dbl> & <dbl> & <dbl> & <dbl> & <dbl> & <dbl> & <dbl> & <dbl> & <dbl> & <dbl>\\\\\n",
       "\\hline\n",
       "\t1 & 0 & 0 & 1 & 0 & 1 & 0 &   0 & 0 & 1 & 1 & 0 & 0 & 0 & 0 & 0 & 1 & 0 & 260000\\\\\n",
       "\t2 & 0 & 1 & 0 & 0 & 1 & 0 &   0 & 0 & 1 & 0 & 1 & 0 & 0 & 0 & 0 & 0 & 0 &  20000\\\\\n",
       "\t3 & 0 & 0 & 0 & 0 & 1 & 0 & 100 & 0 & 0 & 0 & 1 & 0 & 0 & 0 & 0 & 0 & 0 &  72000\\\\\n",
       "\t4 & 0 & 1 & 0 & 0 & 1 & 0 &  50 & 0 & 0 & 0 & 0 & 0 & 0 & 0 & 1 & 0 & 0 &  35735\\\\\n",
       "\t5 & 0 & 1 & 0 & 0 & 1 & 0 & 100 & 0 & 0 & 0 & 1 & 0 & 0 & 0 & 0 & 0 & 0 &  87000\\\\\n",
       "\t6 & 0 & 0 & 0 & 0 & 1 & 0 & 100 & 0 & 1 & 1 & 0 & 0 & 0 & 1 & 0 & 0 & 0 &  41689\\\\\n",
       "\\end{tabular}\n"
      ],
      "text/markdown": [
       "\n",
       "A data.frame: 6 × 18\n",
       "\n",
       "| <!--/--> | experience_levelEX &lt;dbl&gt; | experience_levelMI &lt;dbl&gt; | experience_levelSE &lt;dbl&gt; | employment_typeFL &lt;dbl&gt; | employment_typeFT &lt;dbl&gt; | employment_typePT &lt;dbl&gt; | remote_ratio &lt;dbl&gt; | company_sizeM &lt;dbl&gt; | company_sizeS &lt;dbl&gt; | contasia &lt;dbl&gt; | contno_am &lt;dbl&gt; | contoce &lt;dbl&gt; | contso_am &lt;dbl&gt; | fieldData Engineering &lt;dbl&gt; | fieldData Science &lt;dbl&gt; | fieldMachine Learning &lt;dbl&gt; | fieldOther &lt;dbl&gt; | salary_in_usd &lt;dbl&gt; |\n",
       "|---|---|---|---|---|---|---|---|---|---|---|---|---|---|---|---|---|---|---|\n",
       "| 1 | 0 | 0 | 1 | 0 | 1 | 0 |   0 | 0 | 1 | 1 | 0 | 0 | 0 | 0 | 0 | 1 | 0 | 260000 |\n",
       "| 2 | 0 | 1 | 0 | 0 | 1 | 0 |   0 | 0 | 1 | 0 | 1 | 0 | 0 | 0 | 0 | 0 | 0 |  20000 |\n",
       "| 3 | 0 | 0 | 0 | 0 | 1 | 0 | 100 | 0 | 0 | 0 | 1 | 0 | 0 | 0 | 0 | 0 | 0 |  72000 |\n",
       "| 4 | 0 | 1 | 0 | 0 | 1 | 0 |  50 | 0 | 0 | 0 | 0 | 0 | 0 | 0 | 1 | 0 | 0 |  35735 |\n",
       "| 5 | 0 | 1 | 0 | 0 | 1 | 0 | 100 | 0 | 0 | 0 | 1 | 0 | 0 | 0 | 0 | 0 | 0 |  87000 |\n",
       "| 6 | 0 | 0 | 0 | 0 | 1 | 0 | 100 | 0 | 1 | 1 | 0 | 0 | 0 | 1 | 0 | 0 | 0 |  41689 |\n",
       "\n"
      ],
      "text/plain": [
       "  experience_levelEX experience_levelMI experience_levelSE employment_typeFL\n",
       "1 0                  0                  1                  0                \n",
       "2 0                  1                  0                  0                \n",
       "3 0                  0                  0                  0                \n",
       "4 0                  1                  0                  0                \n",
       "5 0                  1                  0                  0                \n",
       "6 0                  0                  0                  0                \n",
       "  employment_typeFT employment_typePT remote_ratio company_sizeM company_sizeS\n",
       "1 1                 0                   0          0             1            \n",
       "2 1                 0                   0          0             1            \n",
       "3 1                 0                 100          0             0            \n",
       "4 1                 0                  50          0             0            \n",
       "5 1                 0                 100          0             0            \n",
       "6 1                 0                 100          0             1            \n",
       "  contasia contno_am contoce contso_am fieldData Engineering fieldData Science\n",
       "1 1        0         0       0         0                     0                \n",
       "2 0        1         0       0         0                     0                \n",
       "3 0        1         0       0         0                     0                \n",
       "4 0        0         0       0         0                     1                \n",
       "5 0        1         0       0         0                     0                \n",
       "6 1        0         0       0         1                     0                \n",
       "  fieldMachine Learning fieldOther salary_in_usd\n",
       "1 1                     0          260000       \n",
       "2 0                     0           20000       \n",
       "3 0                     0           72000       \n",
       "4 0                     0           35735       \n",
       "5 0                     0           87000       \n",
       "6 0                     0           41689       "
      ]
     },
     "metadata": {},
     "output_type": "display_data"
    }
   ],
   "source": [
    "# Preparing the testing matrix (without modifying the content)\n",
    "testing_matrix <- model.matrix(salary_in_usd ~ ., data = test_data)\n",
    "test_no_int <- testing_matrix[, -1]\n",
    "testing_subset <- as.data.frame(test_no_int)\n",
    "missing_vars <- setdiff(selected_var, colnames(testing_subset))\n",
    "if (length(missing_vars) > 0) {\n",
    "  # Add missing columns for selected variables to the test set (set to zero for missing dummies)\n",
    "  testing_subset[missing_vars] <- 0\n",
    "}\n",
    "testing_subset <- testing_subset %>%            \n",
    "    bind_cols(salary_in_usd = test_data$salary_in_usd) %>%\n",
    "    select(all_of(selected_var), salary_in_usd)\n",
    "dim(testing_subset)\n",
    "head(testing_subset)"
   ]
  },
  {
   "cell_type": "code",
   "execution_count": 54,
   "metadata": {},
   "outputs": [],
   "source": [
    "test_data_final <- modelr::add_predictions(testing_subset, forward_OLS, var = \"pred_red_OLS\")"
   ]
  },
  {
   "cell_type": "markdown",
   "metadata": {},
   "source": [
    "## OLS selected using Forward Selection, Model Evaluation"
   ]
  },
  {
   "cell_type": "code",
   "execution_count": 74,
   "metadata": {},
   "outputs": [
    {
     "data": {
      "text/html": [
       "<table class=\"dataframe\">\n",
       "<caption>A tibble: 3 × 2</caption>\n",
       "<thead>\n",
       "\t<tr><th scope=col>Metric</th><th scope=col>Value</th></tr>\n",
       "\t<tr><th scope=col>&lt;chr&gt;</th><th scope=col>&lt;dbl&gt;</th></tr>\n",
       "</thead>\n",
       "<tbody>\n",
       "\t<tr><td>RMSE              </td><td>48647.0980660</td></tr>\n",
       "\t<tr><td>R-squared         </td><td>    0.4130371</td></tr>\n",
       "\t<tr><td>Adjusted R-squared</td><td>    0.3385716</td></tr>\n",
       "</tbody>\n",
       "</table>\n"
      ],
      "text/latex": [
       "A tibble: 3 × 2\n",
       "\\begin{tabular}{ll}\n",
       " Metric & Value\\\\\n",
       " <chr> & <dbl>\\\\\n",
       "\\hline\n",
       "\t RMSE               & 48647.0980660\\\\\n",
       "\t R-squared          &     0.4130371\\\\\n",
       "\t Adjusted R-squared &     0.3385716\\\\\n",
       "\\end{tabular}\n"
      ],
      "text/markdown": [
       "\n",
       "A tibble: 3 × 2\n",
       "\n",
       "| Metric &lt;chr&gt; | Value &lt;dbl&gt; |\n",
       "|---|---|\n",
       "| RMSE               | 48647.0980660 |\n",
       "| R-squared          |     0.4130371 |\n",
       "| Adjusted R-squared |     0.3385716 |\n",
       "\n"
      ],
      "text/plain": [
       "  Metric             Value        \n",
       "1 RMSE               48647.0980660\n",
       "2 R-squared              0.4130371\n",
       "3 Adjusted R-squared     0.3385716"
      ]
     },
     "metadata": {},
     "output_type": "display_data"
    }
   ],
   "source": [
    "# Prevent scientific notation\n",
    "\n",
    "options(scipen = 999)\n",
    "\n",
    "# Calculate RMSE\n",
    "rmse_test <- test_data_final %>%\n",
    "    metrics(truth = salary_in_usd, estimate = pred_red_OLS) %>%\n",
    "    filter(.metric == \"rmse\") %>%\n",
    "    select(.estimate) %>%\n",
    "    pull()\n",
    "\n",
    "# Calculate R-squared\n",
    "rsq_test <- test_data_final %>%\n",
    "    metrics(truth = salary_in_usd, estimate = pred_red_OLS) %>%\n",
    "    filter(.metric == \"rsq\") %>%\n",
    "    select(.estimate) %>%\n",
    "    pull()\n",
    "\n",
    "n <- nrow(test_data)  \n",
    "p <- length(selected_var)  \n",
    "\n",
    "# Calculate Adjusted R-squared\n",
    "adj_rsq_test <- 1 - ((1 - rsq_test) * (n - 1)) / (n - p - 1)\n",
    "\n",
    "# Print results\n",
    "results_table <- tibble(\n",
    "  Metric = c(\"RMSE\", \"R-squared\", \"Adjusted R-squared\"),\n",
    "  Value = c(rmse_test, rsq_test, adj_rsq_test)\n",
    ")\n",
    "results_table"
   ]
  },
  {
   "cell_type": "code",
   "execution_count": 76,
   "metadata": {
    "vscode": {
     "languageId": "r"
    }
   },
   "outputs": [],
   "source": [
    "# model comparison    (feel free to edit the table above or add on as needed)"
   ]
  },
  {
   "cell_type": "markdown",
   "metadata": {},
   "source": [
    "## Discussion"
   ]
  },
  {
   "cell_type": "markdown",
   "metadata": {},
   "source": [
    "## References"
   ]
  }
 ],
 "metadata": {
  "kernelspec": {
   "display_name": "R",
   "language": "R",
   "name": "ir"
  },
  "language_info": {
   "codemirror_mode": "r",
   "file_extension": ".r",
   "mimetype": "text/x-r-source",
   "name": "R",
   "pygments_lexer": "r",
   "version": "4.3.3"
  }
 },
 "nbformat": 4,
 "nbformat_minor": 4
}
